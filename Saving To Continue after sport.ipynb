{
  "nbformat": 4,
  "nbformat_minor": 0,
  "metadata": {
    "colab": {
      "name": "UNSW_NB15_Unsupervised.ipynb",
      "provenance": [],
      "collapsed_sections": [],
      "include_colab_link": true
    },
    "kernelspec": {
      "display_name": "Python 3",
      "language": "python",
      "name": "python3"
    },
    "language_info": {
      "codemirror_mode": {
        "name": "ipython",
        "version": 3
      },
      "file_extension": ".py",
      "mimetype": "text/x-python",
      "name": "python",
      "nbconvert_exporter": "python",
      "pygments_lexer": "ipython3",
      "version": "3.7.6"
    }
  },
  "cells": [
    {
      "cell_type": "markdown",
      "metadata": {
        "id": "view-in-github",
        "colab_type": "text"
      },
      "source": [
        "<a href=\"https://colab.research.google.com/github/abdelkadergelany/Intrusion-Detection-in-IoT-Based-Network/blob/main/Saving%20To%20Continue%20after%20sport.ipynb\" target=\"_parent\"><img src=\"https://colab.research.google.com/assets/colab-badge.svg\" alt=\"Open In Colab\"/></a>"
      ]
    },
    {
      "cell_type": "markdown",
      "metadata": {
        "id": "Fl-cPhNxn6QU"
      },
      "source": [
        " ## References \n",
        "\n",
        " * Data source: https://www.unsw.adfa.edu.au/unsw-canberra-cyber/cybersecurity/ADFA-NB15-Datasets/\n",
        " * Sample/starter code: https://github.com/Nir-J/ML-Projects/blob/master/UNSW-Network_Packet_Classification/unsw.py"
      ]
    },
    {
      "cell_type": "code",
      "metadata": {
        "id": "Lx1Zh6UUU-ov"
      },
      "source": [
        "%config IPCompleter.greedy=True\n",
        "import pandas as pd\n",
        "import seaborn as sns\n",
        "import numpy as np\n",
        "\n",
        "import matplotlib as matplot\n",
        "import matplotlib.pyplot as plt\n",
        "%matplotlib inline\n",
        "\n",
        "from IPython.core.interactiveshell import InteractiveShell\n",
        "InteractiveShell.ast_node_interactivity = \"all\"\n",
        "\n",
        "import warnings\n",
        "warnings.filterwarnings(\"ignore\")\n",
        "\n",
        "from keras import Sequential\n",
        "from keras.models import Model, load_model\n",
        "from keras.layers import *\n",
        "from keras.callbacks import ModelCheckpoint\n",
        "from keras import regularizers\n",
        "\n",
        "from sklearn.metrics import *\n",
        "from sklearn.tree import DecisionTreeClassifier\n",
        "from sklearn.ensemble import RandomForestClassifier, ExtraTreesClassifier, VotingClassifier\n",
        "from sklearn.model_selection import train_test_split\n",
        "from sklearn.preprocessing import LabelEncoder,normalize,StandardScaler\n",
        "\n",
        "import xgboost, lightgbm\n",
        "from mlxtend.classifier import EnsembleVoteClassifier"
      ],
      "execution_count": 1,
      "outputs": []
    },
    {
      "cell_type": "markdown",
      "metadata": {
        "id": "h2Kvca3apvAc"
      },
      "source": [
        "# Preprocessing (transformation/scaling) "
      ]
    },
    {
      "cell_type": "code",
      "metadata": {
        "id": "vjw9JrARVJ23"
      },
      "source": [
        "train = pd.read_csv('https://raw.githubusercontent.com/Nir-J/ML-Projects/master/UNSW-Network_Packet_Classification/UNSW_NB15_training-set.csv')\n",
        "test = pd.read_csv('https://raw.githubusercontent.com/Nir-J/ML-Projects/master/UNSW-Network_Packet_Classification/UNSW_NB15_testing-set.csv')\n",
        "combined_data = pd.concat([train, test]).drop(['id'],axis=1)"
      ],
      "execution_count": 2,
      "outputs": []
    },
    {
      "cell_type": "code",
      "metadata": {
        "id": "C5hh-CdxbjCZ",
        "colab": {
          "base_uri": "https://localhost:8080/"
        },
        "outputId": "ee91ddc7-051d-4a94-8ca2-7950b526a093"
      },
      "source": [
        "# Contaminsation mean pollution (outliers) in data\n",
        "tmp = train.where(train['attack_cat'] == \"Normal\").dropna()\n",
        "contamination = round(1 - len(tmp)/len(train), 2)\n",
        "print(\"train contamination \", contamination)\n",
        "\n",
        "tmp = test.where(test['attack_cat'] == \"Normal\").dropna()\n",
        "print(\"test  contamination \", round(1 - len(tmp)/len(test),2),'\\n')\n",
        "\n",
        "if contamination > 0.5:\n",
        "    print(f'contamination is {contamination}, which is greater than 0.5. Fixing...')\n",
        "    contamination = round(1-contamination,2)\n",
        "    print(f'contamination is now {contamination}')"
      ],
      "execution_count": 3,
      "outputs": [
        {
          "output_type": "stream",
          "text": [
            "train contamination  0.68\n",
            "test  contamination  0.55 \n",
            "\n",
            "contamination is 0.68, which is greater than 0.5. Fixing...\n",
            "contamination is now 0.32\n"
          ],
          "name": "stdout"
        }
      ]
    },
    {
      "cell_type": "code",
      "metadata": {
        "id": "_tfrFURcVJ6X",
        "colab": {
          "base_uri": "https://localhost:8080/"
        },
        "outputId": "2d5904da-7945-40ed-b06b-a3c57ad46d53"
      },
      "source": [
        "le1 = LabelEncoder()\n",
        "le = LabelEncoder()\n",
        "\n",
        "vector = combined_data['attack_cat']\n",
        "\n",
        "print(\"attack cat:\", set(list(vector))) # use print to make it print on single line \n",
        "\n",
        "combined_data['attack_cat'] = le1.fit_transform(vector)\n",
        "combined_data['proto'] = le.fit_transform(combined_data['proto'])\n",
        "combined_data['service'] = le.fit_transform(combined_data['service'])\n",
        "combined_data['state'] = le.fit_transform(combined_data['state'])\n",
        "\n",
        "vector = combined_data['attack_cat']\n",
        "print('\\nDescribing attack_type: ')\n",
        "print(\"min\", vector.min())\n",
        "print(\"max\", vector.max())\n",
        "print(\"mode\",vector.mode(), \"Which is,\", le1.inverse_transform(vector.mode()))\n",
        "print(\"mode\", len(np.where(vector.values==6)[0])/len(vector),\"%\")"
      ],
      "execution_count": 5,
      "outputs": [
        {
          "output_type": "stream",
          "text": [
            "attack cat: {0, 1, 2, 3, 4, 5, 6, 7, 8, 9}\n",
            "\n",
            "Describing attack_type: \n",
            "min 0\n",
            "max 9\n",
            "mode 0    6\n",
            "dtype: int64 Which is, [6]\n",
            "mode 0.3609225646458884 %\n"
          ],
          "name": "stdout"
        }
      ]
    },
    {
      "cell_type": "code",
      "metadata": {
        "id": "FdGigIypbQfd",
        "colab": {
          "base_uri": "https://localhost:8080/",
          "height": 179
        },
        "outputId": "90a45967-fc22-4fb2-e8ef-a2a5d3539be3"
      },
      "source": [
        "le1.inverse_transform([0,1,2,3,4,5,6,7,8,9])\n",
        "combined_data.head(3)"
      ],
      "execution_count": 6,
      "outputs": [
        {
          "output_type": "execute_result",
          "data": {
            "text/plain": [
              "array([0, 1, 2, 3, 4, 5, 6, 7, 8, 9])"
            ]
          },
          "metadata": {
            "tags": []
          },
          "execution_count": 6
        },
        {
          "output_type": "execute_result",
          "data": {
            "text/html": [
              "<div>\n",
              "<style scoped>\n",
              "    .dataframe tbody tr th:only-of-type {\n",
              "        vertical-align: middle;\n",
              "    }\n",
              "\n",
              "    .dataframe tbody tr th {\n",
              "        vertical-align: top;\n",
              "    }\n",
              "\n",
              "    .dataframe thead th {\n",
              "        text-align: right;\n",
              "    }\n",
              "</style>\n",
              "<table border=\"1\" class=\"dataframe\">\n",
              "  <thead>\n",
              "    <tr style=\"text-align: right;\">\n",
              "      <th></th>\n",
              "      <th>dur</th>\n",
              "      <th>proto</th>\n",
              "      <th>service</th>\n",
              "      <th>state</th>\n",
              "      <th>spkts</th>\n",
              "      <th>dpkts</th>\n",
              "      <th>sbytes</th>\n",
              "      <th>dbytes</th>\n",
              "      <th>rate</th>\n",
              "      <th>sttl</th>\n",
              "      <th>dttl</th>\n",
              "      <th>sload</th>\n",
              "      <th>dload</th>\n",
              "      <th>sloss</th>\n",
              "      <th>dloss</th>\n",
              "      <th>sinpkt</th>\n",
              "      <th>dinpkt</th>\n",
              "      <th>sjit</th>\n",
              "      <th>djit</th>\n",
              "      <th>swin</th>\n",
              "      <th>stcpb</th>\n",
              "      <th>dtcpb</th>\n",
              "      <th>dwin</th>\n",
              "      <th>tcprtt</th>\n",
              "      <th>synack</th>\n",
              "      <th>ackdat</th>\n",
              "      <th>smean</th>\n",
              "      <th>dmean</th>\n",
              "      <th>trans_depth</th>\n",
              "      <th>response_body_len</th>\n",
              "      <th>ct_srv_src</th>\n",
              "      <th>ct_state_ttl</th>\n",
              "      <th>ct_dst_ltm</th>\n",
              "      <th>ct_src_dport_ltm</th>\n",
              "      <th>ct_dst_sport_ltm</th>\n",
              "      <th>ct_dst_src_ltm</th>\n",
              "      <th>is_ftp_login</th>\n",
              "      <th>ct_ftp_cmd</th>\n",
              "      <th>ct_flw_http_mthd</th>\n",
              "      <th>ct_src_ltm</th>\n",
              "      <th>ct_srv_dst</th>\n",
              "      <th>is_sm_ips_ports</th>\n",
              "      <th>attack_cat</th>\n",
              "      <th>label</th>\n",
              "    </tr>\n",
              "  </thead>\n",
              "  <tbody>\n",
              "    <tr>\n",
              "      <th>0</th>\n",
              "      <td>0.121478</td>\n",
              "      <td>113</td>\n",
              "      <td>0</td>\n",
              "      <td>4</td>\n",
              "      <td>6</td>\n",
              "      <td>4</td>\n",
              "      <td>258</td>\n",
              "      <td>172</td>\n",
              "      <td>74.087490</td>\n",
              "      <td>252</td>\n",
              "      <td>254</td>\n",
              "      <td>14158.942380</td>\n",
              "      <td>8495.365234</td>\n",
              "      <td>0</td>\n",
              "      <td>0</td>\n",
              "      <td>24.295600</td>\n",
              "      <td>8.375000</td>\n",
              "      <td>30.177547</td>\n",
              "      <td>11.830604</td>\n",
              "      <td>255</td>\n",
              "      <td>621772692</td>\n",
              "      <td>2202533631</td>\n",
              "      <td>255</td>\n",
              "      <td>0.000000</td>\n",
              "      <td>0.000000</td>\n",
              "      <td>0.000000</td>\n",
              "      <td>43</td>\n",
              "      <td>43</td>\n",
              "      <td>0</td>\n",
              "      <td>0</td>\n",
              "      <td>1</td>\n",
              "      <td>0</td>\n",
              "      <td>1</td>\n",
              "      <td>1</td>\n",
              "      <td>1</td>\n",
              "      <td>1</td>\n",
              "      <td>0</td>\n",
              "      <td>0</td>\n",
              "      <td>0</td>\n",
              "      <td>1</td>\n",
              "      <td>1</td>\n",
              "      <td>0</td>\n",
              "      <td>6</td>\n",
              "      <td>0</td>\n",
              "    </tr>\n",
              "    <tr>\n",
              "      <th>1</th>\n",
              "      <td>0.649902</td>\n",
              "      <td>113</td>\n",
              "      <td>0</td>\n",
              "      <td>4</td>\n",
              "      <td>14</td>\n",
              "      <td>38</td>\n",
              "      <td>734</td>\n",
              "      <td>42014</td>\n",
              "      <td>78.473372</td>\n",
              "      <td>62</td>\n",
              "      <td>252</td>\n",
              "      <td>8395.112305</td>\n",
              "      <td>503571.312500</td>\n",
              "      <td>2</td>\n",
              "      <td>17</td>\n",
              "      <td>49.915000</td>\n",
              "      <td>15.432865</td>\n",
              "      <td>61.426934</td>\n",
              "      <td>1387.778330</td>\n",
              "      <td>255</td>\n",
              "      <td>1417884146</td>\n",
              "      <td>3077387971</td>\n",
              "      <td>255</td>\n",
              "      <td>0.000000</td>\n",
              "      <td>0.000000</td>\n",
              "      <td>0.000000</td>\n",
              "      <td>52</td>\n",
              "      <td>1106</td>\n",
              "      <td>0</td>\n",
              "      <td>0</td>\n",
              "      <td>43</td>\n",
              "      <td>1</td>\n",
              "      <td>1</td>\n",
              "      <td>1</td>\n",
              "      <td>1</td>\n",
              "      <td>2</td>\n",
              "      <td>0</td>\n",
              "      <td>0</td>\n",
              "      <td>0</td>\n",
              "      <td>1</td>\n",
              "      <td>6</td>\n",
              "      <td>0</td>\n",
              "      <td>6</td>\n",
              "      <td>0</td>\n",
              "    </tr>\n",
              "    <tr>\n",
              "      <th>2</th>\n",
              "      <td>1.623129</td>\n",
              "      <td>113</td>\n",
              "      <td>0</td>\n",
              "      <td>4</td>\n",
              "      <td>8</td>\n",
              "      <td>16</td>\n",
              "      <td>364</td>\n",
              "      <td>13186</td>\n",
              "      <td>14.170161</td>\n",
              "      <td>62</td>\n",
              "      <td>252</td>\n",
              "      <td>1572.271851</td>\n",
              "      <td>60929.230470</td>\n",
              "      <td>1</td>\n",
              "      <td>6</td>\n",
              "      <td>231.875571</td>\n",
              "      <td>102.737203</td>\n",
              "      <td>17179.586860</td>\n",
              "      <td>11420.926230</td>\n",
              "      <td>255</td>\n",
              "      <td>2116150707</td>\n",
              "      <td>2963114973</td>\n",
              "      <td>255</td>\n",
              "      <td>0.111897</td>\n",
              "      <td>0.061458</td>\n",
              "      <td>0.050439</td>\n",
              "      <td>46</td>\n",
              "      <td>824</td>\n",
              "      <td>0</td>\n",
              "      <td>0</td>\n",
              "      <td>7</td>\n",
              "      <td>1</td>\n",
              "      <td>2</td>\n",
              "      <td>1</td>\n",
              "      <td>1</td>\n",
              "      <td>3</td>\n",
              "      <td>0</td>\n",
              "      <td>0</td>\n",
              "      <td>0</td>\n",
              "      <td>2</td>\n",
              "      <td>6</td>\n",
              "      <td>0</td>\n",
              "      <td>6</td>\n",
              "      <td>0</td>\n",
              "    </tr>\n",
              "  </tbody>\n",
              "</table>\n",
              "</div>"
            ],
            "text/plain": [
              "        dur  proto  service  ...  is_sm_ips_ports  attack_cat  label\n",
              "0  0.121478    113        0  ...                0           6      0\n",
              "1  0.649902    113        0  ...                0           6      0\n",
              "2  1.623129    113        0  ...                0           6      0\n",
              "\n",
              "[3 rows x 44 columns]"
            ]
          },
          "metadata": {
            "tags": []
          },
          "execution_count": 6
        }
      ]
    },
    {
      "cell_type": "code",
      "metadata": {
        "id": "uRDvu_a8VA1q"
      },
      "source": [
        "data_x = combined_data.drop(['attack_cat','label'], axis=1) # droped label\n",
        "data_y = combined_data.loc[:,['label']]\n",
        "# del combined_data # free mem\n",
        "X_train, X_test, y_train, y_test = train_test_split(data_x, data_y, test_size=.20, random_state=42) # TODO"
      ],
      "execution_count": 8,
      "outputs": []
    },
    {
      "cell_type": "code",
      "metadata": {
        "colab": {
          "base_uri": "https://localhost:8080/",
          "height": 162
        },
        "id": "OtK6G6hMe_1i",
        "outputId": "a63d9be7-0f03-4dd2-efdc-c2a7b3c2cbb2"
      },
      "source": [
        "X_test.head(3)"
      ],
      "execution_count": 9,
      "outputs": [
        {
          "output_type": "execute_result",
          "data": {
            "text/html": [
              "<div>\n",
              "<style scoped>\n",
              "    .dataframe tbody tr th:only-of-type {\n",
              "        vertical-align: middle;\n",
              "    }\n",
              "\n",
              "    .dataframe tbody tr th {\n",
              "        vertical-align: top;\n",
              "    }\n",
              "\n",
              "    .dataframe thead th {\n",
              "        text-align: right;\n",
              "    }\n",
              "</style>\n",
              "<table border=\"1\" class=\"dataframe\">\n",
              "  <thead>\n",
              "    <tr style=\"text-align: right;\">\n",
              "      <th></th>\n",
              "      <th>dur</th>\n",
              "      <th>proto</th>\n",
              "      <th>service</th>\n",
              "      <th>state</th>\n",
              "      <th>spkts</th>\n",
              "      <th>dpkts</th>\n",
              "      <th>sbytes</th>\n",
              "      <th>dbytes</th>\n",
              "      <th>rate</th>\n",
              "      <th>sttl</th>\n",
              "      <th>dttl</th>\n",
              "      <th>sload</th>\n",
              "      <th>dload</th>\n",
              "      <th>sloss</th>\n",
              "      <th>dloss</th>\n",
              "      <th>sinpkt</th>\n",
              "      <th>dinpkt</th>\n",
              "      <th>sjit</th>\n",
              "      <th>djit</th>\n",
              "      <th>swin</th>\n",
              "      <th>stcpb</th>\n",
              "      <th>dtcpb</th>\n",
              "      <th>dwin</th>\n",
              "      <th>tcprtt</th>\n",
              "      <th>synack</th>\n",
              "      <th>ackdat</th>\n",
              "      <th>smean</th>\n",
              "      <th>dmean</th>\n",
              "      <th>trans_depth</th>\n",
              "      <th>response_body_len</th>\n",
              "      <th>ct_srv_src</th>\n",
              "      <th>ct_state_ttl</th>\n",
              "      <th>ct_dst_ltm</th>\n",
              "      <th>ct_src_dport_ltm</th>\n",
              "      <th>ct_dst_sport_ltm</th>\n",
              "      <th>ct_dst_src_ltm</th>\n",
              "      <th>is_ftp_login</th>\n",
              "      <th>ct_ftp_cmd</th>\n",
              "      <th>ct_flw_http_mthd</th>\n",
              "      <th>ct_src_ltm</th>\n",
              "      <th>ct_srv_dst</th>\n",
              "      <th>is_sm_ips_ports</th>\n",
              "    </tr>\n",
              "  </thead>\n",
              "  <tbody>\n",
              "    <tr>\n",
              "      <th>122637</th>\n",
              "      <td>0.000005</td>\n",
              "      <td>119</td>\n",
              "      <td>2</td>\n",
              "      <td>5</td>\n",
              "      <td>2</td>\n",
              "      <td>0</td>\n",
              "      <td>114</td>\n",
              "      <td>0</td>\n",
              "      <td>200000.005100</td>\n",
              "      <td>254</td>\n",
              "      <td>0</td>\n",
              "      <td>9.120000e+07</td>\n",
              "      <td>0.000000</td>\n",
              "      <td>0</td>\n",
              "      <td>0</td>\n",
              "      <td>0.0050</td>\n",
              "      <td>0.000</td>\n",
              "      <td>0.00000</td>\n",
              "      <td>0.0</td>\n",
              "      <td>0</td>\n",
              "      <td>0</td>\n",
              "      <td>0</td>\n",
              "      <td>0</td>\n",
              "      <td>0.000000</td>\n",
              "      <td>0.000000</td>\n",
              "      <td>0.000000</td>\n",
              "      <td>57</td>\n",
              "      <td>0</td>\n",
              "      <td>0</td>\n",
              "      <td>0</td>\n",
              "      <td>13</td>\n",
              "      <td>2</td>\n",
              "      <td>9</td>\n",
              "      <td>9</td>\n",
              "      <td>9</td>\n",
              "      <td>13</td>\n",
              "      <td>0</td>\n",
              "      <td>0</td>\n",
              "      <td>0</td>\n",
              "      <td>9</td>\n",
              "      <td>13</td>\n",
              "      <td>0</td>\n",
              "    </tr>\n",
              "    <tr>\n",
              "      <th>137118</th>\n",
              "      <td>0.000003</td>\n",
              "      <td>119</td>\n",
              "      <td>2</td>\n",
              "      <td>5</td>\n",
              "      <td>2</td>\n",
              "      <td>0</td>\n",
              "      <td>114</td>\n",
              "      <td>0</td>\n",
              "      <td>333333.321500</td>\n",
              "      <td>254</td>\n",
              "      <td>0</td>\n",
              "      <td>1.520000e+08</td>\n",
              "      <td>0.000000</td>\n",
              "      <td>0</td>\n",
              "      <td>0</td>\n",
              "      <td>0.0030</td>\n",
              "      <td>0.000</td>\n",
              "      <td>0.00000</td>\n",
              "      <td>0.0</td>\n",
              "      <td>0</td>\n",
              "      <td>0</td>\n",
              "      <td>0</td>\n",
              "      <td>0</td>\n",
              "      <td>0.000000</td>\n",
              "      <td>0.000000</td>\n",
              "      <td>0.000000</td>\n",
              "      <td>57</td>\n",
              "      <td>0</td>\n",
              "      <td>0</td>\n",
              "      <td>0</td>\n",
              "      <td>16</td>\n",
              "      <td>2</td>\n",
              "      <td>16</td>\n",
              "      <td>16</td>\n",
              "      <td>16</td>\n",
              "      <td>16</td>\n",
              "      <td>0</td>\n",
              "      <td>0</td>\n",
              "      <td>0</td>\n",
              "      <td>17</td>\n",
              "      <td>16</td>\n",
              "      <td>0</td>\n",
              "    </tr>\n",
              "    <tr>\n",
              "      <th>69948</th>\n",
              "      <td>1.167584</td>\n",
              "      <td>113</td>\n",
              "      <td>0</td>\n",
              "      <td>2</td>\n",
              "      <td>6</td>\n",
              "      <td>2</td>\n",
              "      <td>1012</td>\n",
              "      <td>86</td>\n",
              "      <td>5.995286</td>\n",
              "      <td>62</td>\n",
              "      <td>252</td>\n",
              "      <td>5.782882e+03</td>\n",
              "      <td>294.625488</td>\n",
              "      <td>2</td>\n",
              "      <td>1</td>\n",
              "      <td>233.5168</td>\n",
              "      <td>0.001</td>\n",
              "      <td>13675.72975</td>\n",
              "      <td>0.0</td>\n",
              "      <td>255</td>\n",
              "      <td>1497222707</td>\n",
              "      <td>3407537974</td>\n",
              "      <td>255</td>\n",
              "      <td>0.940009</td>\n",
              "      <td>0.560296</td>\n",
              "      <td>0.379713</td>\n",
              "      <td>169</td>\n",
              "      <td>43</td>\n",
              "      <td>0</td>\n",
              "      <td>0</td>\n",
              "      <td>2</td>\n",
              "      <td>3</td>\n",
              "      <td>1</td>\n",
              "      <td>1</td>\n",
              "      <td>1</td>\n",
              "      <td>2</td>\n",
              "      <td>0</td>\n",
              "      <td>0</td>\n",
              "      <td>0</td>\n",
              "      <td>2</td>\n",
              "      <td>2</td>\n",
              "      <td>0</td>\n",
              "    </tr>\n",
              "  </tbody>\n",
              "</table>\n",
              "</div>"
            ],
            "text/plain": [
              "             dur  proto  service  ...  ct_src_ltm  ct_srv_dst  is_sm_ips_ports\n",
              "122637  0.000005    119        2  ...           9          13                0\n",
              "137118  0.000003    119        2  ...          17          16                0\n",
              "69948   1.167584    113        0  ...           2           2                0\n",
              "\n",
              "[3 rows x 42 columns]"
            ]
          },
          "metadata": {
            "tags": []
          },
          "execution_count": 9
        }
      ]
    },
    {
      "cell_type": "code",
      "metadata": {
        "id": "xjNm11s-fqvw",
        "colab": {
          "base_uri": "https://localhost:8080/"
        },
        "outputId": "e9371c19-c64a-4bb9-af6d-a803202dd367"
      },
      "source": [
        "# X_train.shape\n",
        "# y_train.shape\n",
        "# X_test.shape # test is larger... good \n",
        "# y_test.shape"
      ],
      "execution_count": 7,
      "outputs": [
        {
          "output_type": "execute_result",
          "data": {
            "text/plain": [
              "(206138, 42)"
            ]
          },
          "metadata": {
            "tags": []
          },
          "execution_count": 7
        },
        {
          "output_type": "execute_result",
          "data": {
            "text/plain": [
              "(206138, 1)"
            ]
          },
          "metadata": {
            "tags": []
          },
          "execution_count": 7
        },
        {
          "output_type": "execute_result",
          "data": {
            "text/plain": [
              "(51535, 42)"
            ]
          },
          "metadata": {
            "tags": []
          },
          "execution_count": 7
        },
        {
          "output_type": "execute_result",
          "data": {
            "text/plain": [
              "(51535, 1)"
            ]
          },
          "metadata": {
            "tags": []
          },
          "execution_count": 7
        }
      ]
    },
    {
      "cell_type": "markdown",
      "metadata": {
        "id": "gVO_4gmThrU-"
      },
      "source": [
        "# Benchmark"
      ]
    },
    {
      "cell_type": "code",
      "metadata": {
        "id": "YZYIJ9d_VA57",
        "colab": {
          "base_uri": "https://localhost:8080/"
        },
        "outputId": "63d97893-2041-4e91-846b-8b694eb7960e"
      },
      "source": [
        "# DTC = DecisionTreeClassifier()\n",
        "RFC = RandomForestClassifier(n_estimators=150, random_state=42, n_jobs=-1)\n",
        "ETC = ExtraTreesClassifier(n_estimators=200, random_state=42, n_jobs=-1)\n",
        "XGB = xgboost.XGBClassifier(n_estimators=150, n_jobs=-1)\n",
        "GBM = lightgbm.LGBMClassifier(objective='binary', n_estimators= 500) # multiclass\n",
        "\n",
        "list_of_CLFs_names = []\n",
        "list_of_CLFs = [ RFC, ETC, XGB, GBM]\n",
        "ranking = []\n",
        "\n",
        "for clf in list_of_CLFs:\n",
        "    _ = clf.fit(X_train,y_train)\n",
        "    pred = clf.score(X_test,y_test)\n",
        "    name = str(type(clf)).split(\".\")[-1][:-2]\n",
        "    print(\"Acc: %0.5f for the %s\" % (pred, name))\n",
        "\n",
        "    ranking.append(pred)\n",
        "    list_of_CLFs_names.append(name)"
      ],
      "execution_count": 9,
      "outputs": [
        {
          "output_type": "stream",
          "text": [
            "Acc: 0.95240 for the RandomForestClassifier\n",
            "Acc: 0.95133 for the ExtraTreesClassifier\n",
            "Acc: 0.93653 for the XGBClassifier\n",
            "Acc: 0.95269 for the LGBMClassifier\n"
          ],
          "name": "stdout"
        }
      ]
    },
    {
      "cell_type": "markdown",
      "metadata": {
        "id": "mUEP2kRIXL1V"
      },
      "source": [
        "<h1>Testing</h1>"
      ]
    },
    {
      "cell_type": "code",
      "metadata": {
        "colab": {
          "base_uri": "https://localhost:8080/",
          "height": 162
        },
        "id": "i-slD-cTtZil",
        "outputId": "5e88610c-cf6a-4a03-cf23-f823e631ad65"
      },
      "source": [
        "X_test.head(3)"
      ],
      "execution_count": 46,
      "outputs": [
        {
          "output_type": "execute_result",
          "data": {
            "text/html": [
              "<div>\n",
              "<style scoped>\n",
              "    .dataframe tbody tr th:only-of-type {\n",
              "        vertical-align: middle;\n",
              "    }\n",
              "\n",
              "    .dataframe tbody tr th {\n",
              "        vertical-align: top;\n",
              "    }\n",
              "\n",
              "    .dataframe thead th {\n",
              "        text-align: right;\n",
              "    }\n",
              "</style>\n",
              "<table border=\"1\" class=\"dataframe\">\n",
              "  <thead>\n",
              "    <tr style=\"text-align: right;\">\n",
              "      <th></th>\n",
              "      <th>dur</th>\n",
              "      <th>proto</th>\n",
              "      <th>service</th>\n",
              "      <th>state</th>\n",
              "      <th>spkts</th>\n",
              "      <th>dpkts</th>\n",
              "      <th>sbytes</th>\n",
              "      <th>dbytes</th>\n",
              "      <th>rate</th>\n",
              "      <th>sttl</th>\n",
              "      <th>dttl</th>\n",
              "      <th>sload</th>\n",
              "      <th>dload</th>\n",
              "      <th>sloss</th>\n",
              "      <th>dloss</th>\n",
              "      <th>sinpkt</th>\n",
              "      <th>dinpkt</th>\n",
              "      <th>sjit</th>\n",
              "      <th>djit</th>\n",
              "      <th>swin</th>\n",
              "      <th>stcpb</th>\n",
              "      <th>dtcpb</th>\n",
              "      <th>dwin</th>\n",
              "      <th>tcprtt</th>\n",
              "      <th>synack</th>\n",
              "      <th>ackdat</th>\n",
              "      <th>smean</th>\n",
              "      <th>dmean</th>\n",
              "      <th>trans_depth</th>\n",
              "      <th>response_body_len</th>\n",
              "      <th>ct_srv_src</th>\n",
              "      <th>ct_state_ttl</th>\n",
              "      <th>ct_dst_ltm</th>\n",
              "      <th>ct_src_dport_ltm</th>\n",
              "      <th>ct_dst_sport_ltm</th>\n",
              "      <th>ct_dst_src_ltm</th>\n",
              "      <th>is_ftp_login</th>\n",
              "      <th>ct_ftp_cmd</th>\n",
              "      <th>ct_flw_http_mthd</th>\n",
              "      <th>ct_src_ltm</th>\n",
              "      <th>ct_srv_dst</th>\n",
              "      <th>is_sm_ips_ports</th>\n",
              "    </tr>\n",
              "  </thead>\n",
              "  <tbody>\n",
              "    <tr>\n",
              "      <th>122637</th>\n",
              "      <td>0.000005</td>\n",
              "      <td>119</td>\n",
              "      <td>2</td>\n",
              "      <td>5</td>\n",
              "      <td>2</td>\n",
              "      <td>0</td>\n",
              "      <td>114</td>\n",
              "      <td>0</td>\n",
              "      <td>200000.005100</td>\n",
              "      <td>254</td>\n",
              "      <td>0</td>\n",
              "      <td>9.120000e+07</td>\n",
              "      <td>0.000000</td>\n",
              "      <td>0</td>\n",
              "      <td>0</td>\n",
              "      <td>0.0050</td>\n",
              "      <td>0.000</td>\n",
              "      <td>0.00000</td>\n",
              "      <td>0.0</td>\n",
              "      <td>0</td>\n",
              "      <td>0</td>\n",
              "      <td>0</td>\n",
              "      <td>0</td>\n",
              "      <td>0.000000</td>\n",
              "      <td>0.000000</td>\n",
              "      <td>0.000000</td>\n",
              "      <td>57</td>\n",
              "      <td>0</td>\n",
              "      <td>0</td>\n",
              "      <td>0</td>\n",
              "      <td>13</td>\n",
              "      <td>2</td>\n",
              "      <td>9</td>\n",
              "      <td>9</td>\n",
              "      <td>9</td>\n",
              "      <td>13</td>\n",
              "      <td>0</td>\n",
              "      <td>0</td>\n",
              "      <td>0</td>\n",
              "      <td>9</td>\n",
              "      <td>13</td>\n",
              "      <td>0</td>\n",
              "    </tr>\n",
              "    <tr>\n",
              "      <th>137118</th>\n",
              "      <td>0.000003</td>\n",
              "      <td>119</td>\n",
              "      <td>2</td>\n",
              "      <td>5</td>\n",
              "      <td>2</td>\n",
              "      <td>0</td>\n",
              "      <td>114</td>\n",
              "      <td>0</td>\n",
              "      <td>333333.321500</td>\n",
              "      <td>254</td>\n",
              "      <td>0</td>\n",
              "      <td>1.520000e+08</td>\n",
              "      <td>0.000000</td>\n",
              "      <td>0</td>\n",
              "      <td>0</td>\n",
              "      <td>0.0030</td>\n",
              "      <td>0.000</td>\n",
              "      <td>0.00000</td>\n",
              "      <td>0.0</td>\n",
              "      <td>0</td>\n",
              "      <td>0</td>\n",
              "      <td>0</td>\n",
              "      <td>0</td>\n",
              "      <td>0.000000</td>\n",
              "      <td>0.000000</td>\n",
              "      <td>0.000000</td>\n",
              "      <td>57</td>\n",
              "      <td>0</td>\n",
              "      <td>0</td>\n",
              "      <td>0</td>\n",
              "      <td>16</td>\n",
              "      <td>2</td>\n",
              "      <td>16</td>\n",
              "      <td>16</td>\n",
              "      <td>16</td>\n",
              "      <td>16</td>\n",
              "      <td>0</td>\n",
              "      <td>0</td>\n",
              "      <td>0</td>\n",
              "      <td>17</td>\n",
              "      <td>16</td>\n",
              "      <td>0</td>\n",
              "    </tr>\n",
              "    <tr>\n",
              "      <th>69948</th>\n",
              "      <td>1.167584</td>\n",
              "      <td>113</td>\n",
              "      <td>0</td>\n",
              "      <td>2</td>\n",
              "      <td>6</td>\n",
              "      <td>2</td>\n",
              "      <td>1012</td>\n",
              "      <td>86</td>\n",
              "      <td>5.995286</td>\n",
              "      <td>62</td>\n",
              "      <td>252</td>\n",
              "      <td>5.782882e+03</td>\n",
              "      <td>294.625488</td>\n",
              "      <td>2</td>\n",
              "      <td>1</td>\n",
              "      <td>233.5168</td>\n",
              "      <td>0.001</td>\n",
              "      <td>13675.72975</td>\n",
              "      <td>0.0</td>\n",
              "      <td>255</td>\n",
              "      <td>1497222707</td>\n",
              "      <td>3407537974</td>\n",
              "      <td>255</td>\n",
              "      <td>0.940009</td>\n",
              "      <td>0.560296</td>\n",
              "      <td>0.379713</td>\n",
              "      <td>169</td>\n",
              "      <td>43</td>\n",
              "      <td>0</td>\n",
              "      <td>0</td>\n",
              "      <td>2</td>\n",
              "      <td>3</td>\n",
              "      <td>1</td>\n",
              "      <td>1</td>\n",
              "      <td>1</td>\n",
              "      <td>2</td>\n",
              "      <td>0</td>\n",
              "      <td>0</td>\n",
              "      <td>0</td>\n",
              "      <td>2</td>\n",
              "      <td>2</td>\n",
              "      <td>0</td>\n",
              "    </tr>\n",
              "  </tbody>\n",
              "</table>\n",
              "</div>"
            ],
            "text/plain": [
              "             dur  proto  service  ...  ct_src_ltm  ct_srv_dst  is_sm_ips_ports\n",
              "122637  0.000005    119        2  ...           9          13                0\n",
              "137118  0.000003    119        2  ...          17          16                0\n",
              "69948   1.167584    113        0  ...           2           2                0\n",
              "\n",
              "[3 rows x 42 columns]"
            ]
          },
          "metadata": {
            "tags": []
          },
          "execution_count": 46
        }
      ]
    },
    {
      "cell_type": "code",
      "metadata": {
        "colab": {
          "base_uri": "https://localhost:8080/"
        },
        "id": "WQz7IwLDXWvb",
        "outputId": "ab7829e2-e41d-4b22-8274-3ceaf98f421c"
      },
      "source": [
        "RFC = RandomForestClassifier(n_estimators=150, random_state=42, n_jobs=-1)\r\n",
        "RFC.fit(X_train,y_train)\r\n"
      ],
      "execution_count": 10,
      "outputs": [
        {
          "output_type": "execute_result",
          "data": {
            "text/plain": [
              "RandomForestClassifier(bootstrap=True, ccp_alpha=0.0, class_weight=None,\n",
              "                       criterion='gini', max_depth=None, max_features='auto',\n",
              "                       max_leaf_nodes=None, max_samples=None,\n",
              "                       min_impurity_decrease=0.0, min_impurity_split=None,\n",
              "                       min_samples_leaf=1, min_samples_split=2,\n",
              "                       min_weight_fraction_leaf=0.0, n_estimators=150,\n",
              "                       n_jobs=-1, oob_score=False, random_state=42, verbose=0,\n",
              "                       warm_start=False)"
            ]
          },
          "metadata": {
            "tags": []
          },
          "execution_count": 10
        }
      ]
    },
    {
      "cell_type": "code",
      "metadata": {
        "colab": {
          "base_uri": "https://localhost:8080/",
          "height": 162
        },
        "id": "sMACW9lutW3d",
        "outputId": "84858eca-4644-4e65-e8fd-5c57d610c220"
      },
      "source": [
        "X_test.head(3)"
      ],
      "execution_count": 11,
      "outputs": [
        {
          "output_type": "execute_result",
          "data": {
            "text/html": [
              "<div>\n",
              "<style scoped>\n",
              "    .dataframe tbody tr th:only-of-type {\n",
              "        vertical-align: middle;\n",
              "    }\n",
              "\n",
              "    .dataframe tbody tr th {\n",
              "        vertical-align: top;\n",
              "    }\n",
              "\n",
              "    .dataframe thead th {\n",
              "        text-align: right;\n",
              "    }\n",
              "</style>\n",
              "<table border=\"1\" class=\"dataframe\">\n",
              "  <thead>\n",
              "    <tr style=\"text-align: right;\">\n",
              "      <th></th>\n",
              "      <th>dur</th>\n",
              "      <th>proto</th>\n",
              "      <th>service</th>\n",
              "      <th>state</th>\n",
              "      <th>spkts</th>\n",
              "      <th>dpkts</th>\n",
              "      <th>sbytes</th>\n",
              "      <th>dbytes</th>\n",
              "      <th>rate</th>\n",
              "      <th>sttl</th>\n",
              "      <th>dttl</th>\n",
              "      <th>sload</th>\n",
              "      <th>dload</th>\n",
              "      <th>sloss</th>\n",
              "      <th>dloss</th>\n",
              "      <th>sinpkt</th>\n",
              "      <th>dinpkt</th>\n",
              "      <th>sjit</th>\n",
              "      <th>djit</th>\n",
              "      <th>swin</th>\n",
              "      <th>stcpb</th>\n",
              "      <th>dtcpb</th>\n",
              "      <th>dwin</th>\n",
              "      <th>tcprtt</th>\n",
              "      <th>synack</th>\n",
              "      <th>ackdat</th>\n",
              "      <th>smean</th>\n",
              "      <th>dmean</th>\n",
              "      <th>trans_depth</th>\n",
              "      <th>response_body_len</th>\n",
              "      <th>ct_srv_src</th>\n",
              "      <th>ct_state_ttl</th>\n",
              "      <th>ct_dst_ltm</th>\n",
              "      <th>ct_src_dport_ltm</th>\n",
              "      <th>ct_dst_sport_ltm</th>\n",
              "      <th>ct_dst_src_ltm</th>\n",
              "      <th>is_ftp_login</th>\n",
              "      <th>ct_ftp_cmd</th>\n",
              "      <th>ct_flw_http_mthd</th>\n",
              "      <th>ct_src_ltm</th>\n",
              "      <th>ct_srv_dst</th>\n",
              "      <th>is_sm_ips_ports</th>\n",
              "    </tr>\n",
              "  </thead>\n",
              "  <tbody>\n",
              "    <tr>\n",
              "      <th>122637</th>\n",
              "      <td>0.000005</td>\n",
              "      <td>119</td>\n",
              "      <td>2</td>\n",
              "      <td>5</td>\n",
              "      <td>2</td>\n",
              "      <td>0</td>\n",
              "      <td>114</td>\n",
              "      <td>0</td>\n",
              "      <td>200000.005100</td>\n",
              "      <td>254</td>\n",
              "      <td>0</td>\n",
              "      <td>9.120000e+07</td>\n",
              "      <td>0.000000</td>\n",
              "      <td>0</td>\n",
              "      <td>0</td>\n",
              "      <td>0.0050</td>\n",
              "      <td>0.000</td>\n",
              "      <td>0.00000</td>\n",
              "      <td>0.0</td>\n",
              "      <td>0</td>\n",
              "      <td>0</td>\n",
              "      <td>0</td>\n",
              "      <td>0</td>\n",
              "      <td>0.000000</td>\n",
              "      <td>0.000000</td>\n",
              "      <td>0.000000</td>\n",
              "      <td>57</td>\n",
              "      <td>0</td>\n",
              "      <td>0</td>\n",
              "      <td>0</td>\n",
              "      <td>13</td>\n",
              "      <td>2</td>\n",
              "      <td>9</td>\n",
              "      <td>9</td>\n",
              "      <td>9</td>\n",
              "      <td>13</td>\n",
              "      <td>0</td>\n",
              "      <td>0</td>\n",
              "      <td>0</td>\n",
              "      <td>9</td>\n",
              "      <td>13</td>\n",
              "      <td>0</td>\n",
              "    </tr>\n",
              "    <tr>\n",
              "      <th>137118</th>\n",
              "      <td>0.000003</td>\n",
              "      <td>119</td>\n",
              "      <td>2</td>\n",
              "      <td>5</td>\n",
              "      <td>2</td>\n",
              "      <td>0</td>\n",
              "      <td>114</td>\n",
              "      <td>0</td>\n",
              "      <td>333333.321500</td>\n",
              "      <td>254</td>\n",
              "      <td>0</td>\n",
              "      <td>1.520000e+08</td>\n",
              "      <td>0.000000</td>\n",
              "      <td>0</td>\n",
              "      <td>0</td>\n",
              "      <td>0.0030</td>\n",
              "      <td>0.000</td>\n",
              "      <td>0.00000</td>\n",
              "      <td>0.0</td>\n",
              "      <td>0</td>\n",
              "      <td>0</td>\n",
              "      <td>0</td>\n",
              "      <td>0</td>\n",
              "      <td>0.000000</td>\n",
              "      <td>0.000000</td>\n",
              "      <td>0.000000</td>\n",
              "      <td>57</td>\n",
              "      <td>0</td>\n",
              "      <td>0</td>\n",
              "      <td>0</td>\n",
              "      <td>16</td>\n",
              "      <td>2</td>\n",
              "      <td>16</td>\n",
              "      <td>16</td>\n",
              "      <td>16</td>\n",
              "      <td>16</td>\n",
              "      <td>0</td>\n",
              "      <td>0</td>\n",
              "      <td>0</td>\n",
              "      <td>17</td>\n",
              "      <td>16</td>\n",
              "      <td>0</td>\n",
              "    </tr>\n",
              "    <tr>\n",
              "      <th>69948</th>\n",
              "      <td>1.167584</td>\n",
              "      <td>113</td>\n",
              "      <td>0</td>\n",
              "      <td>2</td>\n",
              "      <td>6</td>\n",
              "      <td>2</td>\n",
              "      <td>1012</td>\n",
              "      <td>86</td>\n",
              "      <td>5.995286</td>\n",
              "      <td>62</td>\n",
              "      <td>252</td>\n",
              "      <td>5.782882e+03</td>\n",
              "      <td>294.625488</td>\n",
              "      <td>2</td>\n",
              "      <td>1</td>\n",
              "      <td>233.5168</td>\n",
              "      <td>0.001</td>\n",
              "      <td>13675.72975</td>\n",
              "      <td>0.0</td>\n",
              "      <td>255</td>\n",
              "      <td>1497222707</td>\n",
              "      <td>3407537974</td>\n",
              "      <td>255</td>\n",
              "      <td>0.940009</td>\n",
              "      <td>0.560296</td>\n",
              "      <td>0.379713</td>\n",
              "      <td>169</td>\n",
              "      <td>43</td>\n",
              "      <td>0</td>\n",
              "      <td>0</td>\n",
              "      <td>2</td>\n",
              "      <td>3</td>\n",
              "      <td>1</td>\n",
              "      <td>1</td>\n",
              "      <td>1</td>\n",
              "      <td>2</td>\n",
              "      <td>0</td>\n",
              "      <td>0</td>\n",
              "      <td>0</td>\n",
              "      <td>2</td>\n",
              "      <td>2</td>\n",
              "      <td>0</td>\n",
              "    </tr>\n",
              "  </tbody>\n",
              "</table>\n",
              "</div>"
            ],
            "text/plain": [
              "             dur  proto  service  ...  ct_src_ltm  ct_srv_dst  is_sm_ips_ports\n",
              "122637  0.000005    119        2  ...           9          13                0\n",
              "137118  0.000003    119        2  ...          17          16                0\n",
              "69948   1.167584    113        0  ...           2           2                0\n",
              "\n",
              "[3 rows x 42 columns]"
            ]
          },
          "metadata": {
            "tags": []
          },
          "execution_count": 11
        }
      ]
    },
    {
      "cell_type": "code",
      "metadata": {
        "colab": {
          "base_uri": "https://localhost:8080/",
          "height": 224
        },
        "id": "3ckX4bXTWqnr",
        "outputId": "5be0b83b-fc31-4ddf-a2f6-00433d747a07"
      },
      "source": [
        "#X_testC['scores']= RFC.decision_function(X_test)\r\n",
        "New_X_test = X_test\r\n",
        "New_X_test['sign_deciscion']= RFC.predict(New_X_test)\r\n",
        "New_X_test.head(5)"
      ],
      "execution_count": 12,
      "outputs": [
        {
          "output_type": "execute_result",
          "data": {
            "text/html": [
              "<div>\n",
              "<style scoped>\n",
              "    .dataframe tbody tr th:only-of-type {\n",
              "        vertical-align: middle;\n",
              "    }\n",
              "\n",
              "    .dataframe tbody tr th {\n",
              "        vertical-align: top;\n",
              "    }\n",
              "\n",
              "    .dataframe thead th {\n",
              "        text-align: right;\n",
              "    }\n",
              "</style>\n",
              "<table border=\"1\" class=\"dataframe\">\n",
              "  <thead>\n",
              "    <tr style=\"text-align: right;\">\n",
              "      <th></th>\n",
              "      <th>dur</th>\n",
              "      <th>proto</th>\n",
              "      <th>service</th>\n",
              "      <th>state</th>\n",
              "      <th>spkts</th>\n",
              "      <th>dpkts</th>\n",
              "      <th>sbytes</th>\n",
              "      <th>dbytes</th>\n",
              "      <th>rate</th>\n",
              "      <th>sttl</th>\n",
              "      <th>dttl</th>\n",
              "      <th>sload</th>\n",
              "      <th>dload</th>\n",
              "      <th>sloss</th>\n",
              "      <th>dloss</th>\n",
              "      <th>sinpkt</th>\n",
              "      <th>dinpkt</th>\n",
              "      <th>sjit</th>\n",
              "      <th>djit</th>\n",
              "      <th>swin</th>\n",
              "      <th>stcpb</th>\n",
              "      <th>dtcpb</th>\n",
              "      <th>dwin</th>\n",
              "      <th>tcprtt</th>\n",
              "      <th>synack</th>\n",
              "      <th>ackdat</th>\n",
              "      <th>smean</th>\n",
              "      <th>dmean</th>\n",
              "      <th>trans_depth</th>\n",
              "      <th>response_body_len</th>\n",
              "      <th>ct_srv_src</th>\n",
              "      <th>ct_state_ttl</th>\n",
              "      <th>ct_dst_ltm</th>\n",
              "      <th>ct_src_dport_ltm</th>\n",
              "      <th>ct_dst_sport_ltm</th>\n",
              "      <th>ct_dst_src_ltm</th>\n",
              "      <th>is_ftp_login</th>\n",
              "      <th>ct_ftp_cmd</th>\n",
              "      <th>ct_flw_http_mthd</th>\n",
              "      <th>ct_src_ltm</th>\n",
              "      <th>ct_srv_dst</th>\n",
              "      <th>is_sm_ips_ports</th>\n",
              "      <th>sign_deciscion</th>\n",
              "    </tr>\n",
              "  </thead>\n",
              "  <tbody>\n",
              "    <tr>\n",
              "      <th>122637</th>\n",
              "      <td>0.000005</td>\n",
              "      <td>119</td>\n",
              "      <td>2</td>\n",
              "      <td>5</td>\n",
              "      <td>2</td>\n",
              "      <td>0</td>\n",
              "      <td>114</td>\n",
              "      <td>0</td>\n",
              "      <td>200000.005100</td>\n",
              "      <td>254</td>\n",
              "      <td>0</td>\n",
              "      <td>9.120000e+07</td>\n",
              "      <td>0.000000</td>\n",
              "      <td>0</td>\n",
              "      <td>0</td>\n",
              "      <td>0.005000</td>\n",
              "      <td>0.000000</td>\n",
              "      <td>0.000000</td>\n",
              "      <td>0.000000</td>\n",
              "      <td>0</td>\n",
              "      <td>0</td>\n",
              "      <td>0</td>\n",
              "      <td>0</td>\n",
              "      <td>0.000000</td>\n",
              "      <td>0.000000</td>\n",
              "      <td>0.000000</td>\n",
              "      <td>57</td>\n",
              "      <td>0</td>\n",
              "      <td>0</td>\n",
              "      <td>0</td>\n",
              "      <td>13</td>\n",
              "      <td>2</td>\n",
              "      <td>9</td>\n",
              "      <td>9</td>\n",
              "      <td>9</td>\n",
              "      <td>13</td>\n",
              "      <td>0</td>\n",
              "      <td>0</td>\n",
              "      <td>0</td>\n",
              "      <td>9</td>\n",
              "      <td>13</td>\n",
              "      <td>0</td>\n",
              "      <td>1</td>\n",
              "    </tr>\n",
              "    <tr>\n",
              "      <th>137118</th>\n",
              "      <td>0.000003</td>\n",
              "      <td>119</td>\n",
              "      <td>2</td>\n",
              "      <td>5</td>\n",
              "      <td>2</td>\n",
              "      <td>0</td>\n",
              "      <td>114</td>\n",
              "      <td>0</td>\n",
              "      <td>333333.321500</td>\n",
              "      <td>254</td>\n",
              "      <td>0</td>\n",
              "      <td>1.520000e+08</td>\n",
              "      <td>0.000000</td>\n",
              "      <td>0</td>\n",
              "      <td>0</td>\n",
              "      <td>0.003000</td>\n",
              "      <td>0.000000</td>\n",
              "      <td>0.000000</td>\n",
              "      <td>0.000000</td>\n",
              "      <td>0</td>\n",
              "      <td>0</td>\n",
              "      <td>0</td>\n",
              "      <td>0</td>\n",
              "      <td>0.000000</td>\n",
              "      <td>0.000000</td>\n",
              "      <td>0.000000</td>\n",
              "      <td>57</td>\n",
              "      <td>0</td>\n",
              "      <td>0</td>\n",
              "      <td>0</td>\n",
              "      <td>16</td>\n",
              "      <td>2</td>\n",
              "      <td>16</td>\n",
              "      <td>16</td>\n",
              "      <td>16</td>\n",
              "      <td>16</td>\n",
              "      <td>0</td>\n",
              "      <td>0</td>\n",
              "      <td>0</td>\n",
              "      <td>17</td>\n",
              "      <td>16</td>\n",
              "      <td>0</td>\n",
              "      <td>1</td>\n",
              "    </tr>\n",
              "    <tr>\n",
              "      <th>69948</th>\n",
              "      <td>1.167584</td>\n",
              "      <td>113</td>\n",
              "      <td>0</td>\n",
              "      <td>2</td>\n",
              "      <td>6</td>\n",
              "      <td>2</td>\n",
              "      <td>1012</td>\n",
              "      <td>86</td>\n",
              "      <td>5.995286</td>\n",
              "      <td>62</td>\n",
              "      <td>252</td>\n",
              "      <td>5.782882e+03</td>\n",
              "      <td>294.625488</td>\n",
              "      <td>2</td>\n",
              "      <td>1</td>\n",
              "      <td>233.516800</td>\n",
              "      <td>0.001000</td>\n",
              "      <td>13675.729750</td>\n",
              "      <td>0.000000</td>\n",
              "      <td>255</td>\n",
              "      <td>1497222707</td>\n",
              "      <td>3407537974</td>\n",
              "      <td>255</td>\n",
              "      <td>0.940009</td>\n",
              "      <td>0.560296</td>\n",
              "      <td>0.379713</td>\n",
              "      <td>169</td>\n",
              "      <td>43</td>\n",
              "      <td>0</td>\n",
              "      <td>0</td>\n",
              "      <td>2</td>\n",
              "      <td>3</td>\n",
              "      <td>1</td>\n",
              "      <td>1</td>\n",
              "      <td>1</td>\n",
              "      <td>2</td>\n",
              "      <td>0</td>\n",
              "      <td>0</td>\n",
              "      <td>0</td>\n",
              "      <td>2</td>\n",
              "      <td>2</td>\n",
              "      <td>0</td>\n",
              "      <td>0</td>\n",
              "    </tr>\n",
              "    <tr>\n",
              "      <th>45921</th>\n",
              "      <td>0.486485</td>\n",
              "      <td>113</td>\n",
              "      <td>5</td>\n",
              "      <td>4</td>\n",
              "      <td>10</td>\n",
              "      <td>8</td>\n",
              "      <td>798</td>\n",
              "      <td>1568</td>\n",
              "      <td>34.944551</td>\n",
              "      <td>62</td>\n",
              "      <td>252</td>\n",
              "      <td>1.182359e+04</td>\n",
              "      <td>22561.845700</td>\n",
              "      <td>2</td>\n",
              "      <td>2</td>\n",
              "      <td>54.053889</td>\n",
              "      <td>59.958430</td>\n",
              "      <td>2705.531092</td>\n",
              "      <td>82.549047</td>\n",
              "      <td>255</td>\n",
              "      <td>101844950</td>\n",
              "      <td>785426226</td>\n",
              "      <td>255</td>\n",
              "      <td>0.138611</td>\n",
              "      <td>0.065983</td>\n",
              "      <td>0.072628</td>\n",
              "      <td>80</td>\n",
              "      <td>196</td>\n",
              "      <td>1</td>\n",
              "      <td>372</td>\n",
              "      <td>1</td>\n",
              "      <td>1</td>\n",
              "      <td>1</td>\n",
              "      <td>1</td>\n",
              "      <td>1</td>\n",
              "      <td>1</td>\n",
              "      <td>0</td>\n",
              "      <td>0</td>\n",
              "      <td>1</td>\n",
              "      <td>1</td>\n",
              "      <td>1</td>\n",
              "      <td>0</td>\n",
              "      <td>1</td>\n",
              "    </tr>\n",
              "    <tr>\n",
              "      <th>31408</th>\n",
              "      <td>0.072147</td>\n",
              "      <td>119</td>\n",
              "      <td>0</td>\n",
              "      <td>2</td>\n",
              "      <td>4</td>\n",
              "      <td>4</td>\n",
              "      <td>568</td>\n",
              "      <td>312</td>\n",
              "      <td>97.024136</td>\n",
              "      <td>31</td>\n",
              "      <td>29</td>\n",
              "      <td>4.723689e+04</td>\n",
              "      <td>25947.025390</td>\n",
              "      <td>0</td>\n",
              "      <td>0</td>\n",
              "      <td>18.674334</td>\n",
              "      <td>23.547666</td>\n",
              "      <td>26.397475</td>\n",
              "      <td>33.299309</td>\n",
              "      <td>0</td>\n",
              "      <td>0</td>\n",
              "      <td>0</td>\n",
              "      <td>0</td>\n",
              "      <td>0.000000</td>\n",
              "      <td>0.000000</td>\n",
              "      <td>0.000000</td>\n",
              "      <td>142</td>\n",
              "      <td>78</td>\n",
              "      <td>0</td>\n",
              "      <td>0</td>\n",
              "      <td>7</td>\n",
              "      <td>0</td>\n",
              "      <td>5</td>\n",
              "      <td>1</td>\n",
              "      <td>1</td>\n",
              "      <td>5</td>\n",
              "      <td>0</td>\n",
              "      <td>0</td>\n",
              "      <td>0</td>\n",
              "      <td>2</td>\n",
              "      <td>8</td>\n",
              "      <td>0</td>\n",
              "      <td>0</td>\n",
              "    </tr>\n",
              "  </tbody>\n",
              "</table>\n",
              "</div>"
            ],
            "text/plain": [
              "             dur  proto  service  ...  ct_srv_dst  is_sm_ips_ports  sign_deciscion\n",
              "122637  0.000005    119        2  ...          13                0               1\n",
              "137118  0.000003    119        2  ...          16                0               1\n",
              "69948   1.167584    113        0  ...           2                0               0\n",
              "45921   0.486485    113        5  ...           1                0               1\n",
              "31408   0.072147    119        0  ...           8                0               0\n",
              "\n",
              "[5 rows x 43 columns]"
            ]
          },
          "metadata": {
            "tags": []
          },
          "execution_count": 12
        }
      ]
    },
    {
      "cell_type": "code",
      "metadata": {
        "colab": {
          "base_uri": "https://localhost:8080/",
          "height": 419
        },
        "id": "2QnmahjI9Z0S",
        "outputId": "fa31fc27-d0e5-4583-f963-c6fe5b696b27"
      },
      "source": [
        " deciscion = pd.DataFrame(New_X_test['sign_deciscion'])\r\n",
        "deciscion"
      ],
      "execution_count": 13,
      "outputs": [
        {
          "output_type": "execute_result",
          "data": {
            "text/html": [
              "<div>\n",
              "<style scoped>\n",
              "    .dataframe tbody tr th:only-of-type {\n",
              "        vertical-align: middle;\n",
              "    }\n",
              "\n",
              "    .dataframe tbody tr th {\n",
              "        vertical-align: top;\n",
              "    }\n",
              "\n",
              "    .dataframe thead th {\n",
              "        text-align: right;\n",
              "    }\n",
              "</style>\n",
              "<table border=\"1\" class=\"dataframe\">\n",
              "  <thead>\n",
              "    <tr style=\"text-align: right;\">\n",
              "      <th></th>\n",
              "      <th>sign_deciscion</th>\n",
              "    </tr>\n",
              "  </thead>\n",
              "  <tbody>\n",
              "    <tr>\n",
              "      <th>122637</th>\n",
              "      <td>1</td>\n",
              "    </tr>\n",
              "    <tr>\n",
              "      <th>137118</th>\n",
              "      <td>1</td>\n",
              "    </tr>\n",
              "    <tr>\n",
              "      <th>69948</th>\n",
              "      <td>0</td>\n",
              "    </tr>\n",
              "    <tr>\n",
              "      <th>45921</th>\n",
              "      <td>1</td>\n",
              "    </tr>\n",
              "    <tr>\n",
              "      <th>31408</th>\n",
              "      <td>0</td>\n",
              "    </tr>\n",
              "    <tr>\n",
              "      <th>...</th>\n",
              "      <td>...</td>\n",
              "    </tr>\n",
              "    <tr>\n",
              "      <th>10687</th>\n",
              "      <td>1</td>\n",
              "    </tr>\n",
              "    <tr>\n",
              "      <th>120658</th>\n",
              "      <td>1</td>\n",
              "    </tr>\n",
              "    <tr>\n",
              "      <th>61193</th>\n",
              "      <td>1</td>\n",
              "    </tr>\n",
              "    <tr>\n",
              "      <th>35810</th>\n",
              "      <td>0</td>\n",
              "    </tr>\n",
              "    <tr>\n",
              "      <th>34928</th>\n",
              "      <td>0</td>\n",
              "    </tr>\n",
              "  </tbody>\n",
              "</table>\n",
              "<p>51535 rows × 1 columns</p>\n",
              "</div>"
            ],
            "text/plain": [
              "        sign_deciscion\n",
              "122637               1\n",
              "137118               1\n",
              "69948                0\n",
              "45921                1\n",
              "31408                0\n",
              "...                ...\n",
              "10687                1\n",
              "120658               1\n",
              "61193                1\n",
              "35810                0\n",
              "34928                0\n",
              "\n",
              "[51535 rows x 1 columns]"
            ]
          },
          "metadata": {
            "tags": []
          },
          "execution_count": 13
        }
      ]
    },
    {
      "cell_type": "code",
      "metadata": {
        "colab": {
          "base_uri": "https://localhost:8080/",
          "height": 224
        },
        "id": "cuMl_yVm49Ez",
        "outputId": "2a6f7547-0756-4e09-89cb-dcaef30489c0"
      },
      "source": [
        "#X_test = X_test.drop(['anom_deciscion'], axis=1)\r\n",
        "X_test = X_test.drop(['sign_deciscion'], axis=1)\r\n",
        "X_test.head()"
      ],
      "execution_count": 14,
      "outputs": [
        {
          "output_type": "execute_result",
          "data": {
            "text/html": [
              "<div>\n",
              "<style scoped>\n",
              "    .dataframe tbody tr th:only-of-type {\n",
              "        vertical-align: middle;\n",
              "    }\n",
              "\n",
              "    .dataframe tbody tr th {\n",
              "        vertical-align: top;\n",
              "    }\n",
              "\n",
              "    .dataframe thead th {\n",
              "        text-align: right;\n",
              "    }\n",
              "</style>\n",
              "<table border=\"1\" class=\"dataframe\">\n",
              "  <thead>\n",
              "    <tr style=\"text-align: right;\">\n",
              "      <th></th>\n",
              "      <th>dur</th>\n",
              "      <th>proto</th>\n",
              "      <th>service</th>\n",
              "      <th>state</th>\n",
              "      <th>spkts</th>\n",
              "      <th>dpkts</th>\n",
              "      <th>sbytes</th>\n",
              "      <th>dbytes</th>\n",
              "      <th>rate</th>\n",
              "      <th>sttl</th>\n",
              "      <th>dttl</th>\n",
              "      <th>sload</th>\n",
              "      <th>dload</th>\n",
              "      <th>sloss</th>\n",
              "      <th>dloss</th>\n",
              "      <th>sinpkt</th>\n",
              "      <th>dinpkt</th>\n",
              "      <th>sjit</th>\n",
              "      <th>djit</th>\n",
              "      <th>swin</th>\n",
              "      <th>stcpb</th>\n",
              "      <th>dtcpb</th>\n",
              "      <th>dwin</th>\n",
              "      <th>tcprtt</th>\n",
              "      <th>synack</th>\n",
              "      <th>ackdat</th>\n",
              "      <th>smean</th>\n",
              "      <th>dmean</th>\n",
              "      <th>trans_depth</th>\n",
              "      <th>response_body_len</th>\n",
              "      <th>ct_srv_src</th>\n",
              "      <th>ct_state_ttl</th>\n",
              "      <th>ct_dst_ltm</th>\n",
              "      <th>ct_src_dport_ltm</th>\n",
              "      <th>ct_dst_sport_ltm</th>\n",
              "      <th>ct_dst_src_ltm</th>\n",
              "      <th>is_ftp_login</th>\n",
              "      <th>ct_ftp_cmd</th>\n",
              "      <th>ct_flw_http_mthd</th>\n",
              "      <th>ct_src_ltm</th>\n",
              "      <th>ct_srv_dst</th>\n",
              "      <th>is_sm_ips_ports</th>\n",
              "    </tr>\n",
              "  </thead>\n",
              "  <tbody>\n",
              "    <tr>\n",
              "      <th>122637</th>\n",
              "      <td>0.000005</td>\n",
              "      <td>119</td>\n",
              "      <td>2</td>\n",
              "      <td>5</td>\n",
              "      <td>2</td>\n",
              "      <td>0</td>\n",
              "      <td>114</td>\n",
              "      <td>0</td>\n",
              "      <td>200000.005100</td>\n",
              "      <td>254</td>\n",
              "      <td>0</td>\n",
              "      <td>9.120000e+07</td>\n",
              "      <td>0.000000</td>\n",
              "      <td>0</td>\n",
              "      <td>0</td>\n",
              "      <td>0.005000</td>\n",
              "      <td>0.000000</td>\n",
              "      <td>0.000000</td>\n",
              "      <td>0.000000</td>\n",
              "      <td>0</td>\n",
              "      <td>0</td>\n",
              "      <td>0</td>\n",
              "      <td>0</td>\n",
              "      <td>0.000000</td>\n",
              "      <td>0.000000</td>\n",
              "      <td>0.000000</td>\n",
              "      <td>57</td>\n",
              "      <td>0</td>\n",
              "      <td>0</td>\n",
              "      <td>0</td>\n",
              "      <td>13</td>\n",
              "      <td>2</td>\n",
              "      <td>9</td>\n",
              "      <td>9</td>\n",
              "      <td>9</td>\n",
              "      <td>13</td>\n",
              "      <td>0</td>\n",
              "      <td>0</td>\n",
              "      <td>0</td>\n",
              "      <td>9</td>\n",
              "      <td>13</td>\n",
              "      <td>0</td>\n",
              "    </tr>\n",
              "    <tr>\n",
              "      <th>137118</th>\n",
              "      <td>0.000003</td>\n",
              "      <td>119</td>\n",
              "      <td>2</td>\n",
              "      <td>5</td>\n",
              "      <td>2</td>\n",
              "      <td>0</td>\n",
              "      <td>114</td>\n",
              "      <td>0</td>\n",
              "      <td>333333.321500</td>\n",
              "      <td>254</td>\n",
              "      <td>0</td>\n",
              "      <td>1.520000e+08</td>\n",
              "      <td>0.000000</td>\n",
              "      <td>0</td>\n",
              "      <td>0</td>\n",
              "      <td>0.003000</td>\n",
              "      <td>0.000000</td>\n",
              "      <td>0.000000</td>\n",
              "      <td>0.000000</td>\n",
              "      <td>0</td>\n",
              "      <td>0</td>\n",
              "      <td>0</td>\n",
              "      <td>0</td>\n",
              "      <td>0.000000</td>\n",
              "      <td>0.000000</td>\n",
              "      <td>0.000000</td>\n",
              "      <td>57</td>\n",
              "      <td>0</td>\n",
              "      <td>0</td>\n",
              "      <td>0</td>\n",
              "      <td>16</td>\n",
              "      <td>2</td>\n",
              "      <td>16</td>\n",
              "      <td>16</td>\n",
              "      <td>16</td>\n",
              "      <td>16</td>\n",
              "      <td>0</td>\n",
              "      <td>0</td>\n",
              "      <td>0</td>\n",
              "      <td>17</td>\n",
              "      <td>16</td>\n",
              "      <td>0</td>\n",
              "    </tr>\n",
              "    <tr>\n",
              "      <th>69948</th>\n",
              "      <td>1.167584</td>\n",
              "      <td>113</td>\n",
              "      <td>0</td>\n",
              "      <td>2</td>\n",
              "      <td>6</td>\n",
              "      <td>2</td>\n",
              "      <td>1012</td>\n",
              "      <td>86</td>\n",
              "      <td>5.995286</td>\n",
              "      <td>62</td>\n",
              "      <td>252</td>\n",
              "      <td>5.782882e+03</td>\n",
              "      <td>294.625488</td>\n",
              "      <td>2</td>\n",
              "      <td>1</td>\n",
              "      <td>233.516800</td>\n",
              "      <td>0.001000</td>\n",
              "      <td>13675.729750</td>\n",
              "      <td>0.000000</td>\n",
              "      <td>255</td>\n",
              "      <td>1497222707</td>\n",
              "      <td>3407537974</td>\n",
              "      <td>255</td>\n",
              "      <td>0.940009</td>\n",
              "      <td>0.560296</td>\n",
              "      <td>0.379713</td>\n",
              "      <td>169</td>\n",
              "      <td>43</td>\n",
              "      <td>0</td>\n",
              "      <td>0</td>\n",
              "      <td>2</td>\n",
              "      <td>3</td>\n",
              "      <td>1</td>\n",
              "      <td>1</td>\n",
              "      <td>1</td>\n",
              "      <td>2</td>\n",
              "      <td>0</td>\n",
              "      <td>0</td>\n",
              "      <td>0</td>\n",
              "      <td>2</td>\n",
              "      <td>2</td>\n",
              "      <td>0</td>\n",
              "    </tr>\n",
              "    <tr>\n",
              "      <th>45921</th>\n",
              "      <td>0.486485</td>\n",
              "      <td>113</td>\n",
              "      <td>5</td>\n",
              "      <td>4</td>\n",
              "      <td>10</td>\n",
              "      <td>8</td>\n",
              "      <td>798</td>\n",
              "      <td>1568</td>\n",
              "      <td>34.944551</td>\n",
              "      <td>62</td>\n",
              "      <td>252</td>\n",
              "      <td>1.182359e+04</td>\n",
              "      <td>22561.845700</td>\n",
              "      <td>2</td>\n",
              "      <td>2</td>\n",
              "      <td>54.053889</td>\n",
              "      <td>59.958430</td>\n",
              "      <td>2705.531092</td>\n",
              "      <td>82.549047</td>\n",
              "      <td>255</td>\n",
              "      <td>101844950</td>\n",
              "      <td>785426226</td>\n",
              "      <td>255</td>\n",
              "      <td>0.138611</td>\n",
              "      <td>0.065983</td>\n",
              "      <td>0.072628</td>\n",
              "      <td>80</td>\n",
              "      <td>196</td>\n",
              "      <td>1</td>\n",
              "      <td>372</td>\n",
              "      <td>1</td>\n",
              "      <td>1</td>\n",
              "      <td>1</td>\n",
              "      <td>1</td>\n",
              "      <td>1</td>\n",
              "      <td>1</td>\n",
              "      <td>0</td>\n",
              "      <td>0</td>\n",
              "      <td>1</td>\n",
              "      <td>1</td>\n",
              "      <td>1</td>\n",
              "      <td>0</td>\n",
              "    </tr>\n",
              "    <tr>\n",
              "      <th>31408</th>\n",
              "      <td>0.072147</td>\n",
              "      <td>119</td>\n",
              "      <td>0</td>\n",
              "      <td>2</td>\n",
              "      <td>4</td>\n",
              "      <td>4</td>\n",
              "      <td>568</td>\n",
              "      <td>312</td>\n",
              "      <td>97.024136</td>\n",
              "      <td>31</td>\n",
              "      <td>29</td>\n",
              "      <td>4.723689e+04</td>\n",
              "      <td>25947.025390</td>\n",
              "      <td>0</td>\n",
              "      <td>0</td>\n",
              "      <td>18.674334</td>\n",
              "      <td>23.547666</td>\n",
              "      <td>26.397475</td>\n",
              "      <td>33.299309</td>\n",
              "      <td>0</td>\n",
              "      <td>0</td>\n",
              "      <td>0</td>\n",
              "      <td>0</td>\n",
              "      <td>0.000000</td>\n",
              "      <td>0.000000</td>\n",
              "      <td>0.000000</td>\n",
              "      <td>142</td>\n",
              "      <td>78</td>\n",
              "      <td>0</td>\n",
              "      <td>0</td>\n",
              "      <td>7</td>\n",
              "      <td>0</td>\n",
              "      <td>5</td>\n",
              "      <td>1</td>\n",
              "      <td>1</td>\n",
              "      <td>5</td>\n",
              "      <td>0</td>\n",
              "      <td>0</td>\n",
              "      <td>0</td>\n",
              "      <td>2</td>\n",
              "      <td>8</td>\n",
              "      <td>0</td>\n",
              "    </tr>\n",
              "  </tbody>\n",
              "</table>\n",
              "</div>"
            ],
            "text/plain": [
              "             dur  proto  service  ...  ct_src_ltm  ct_srv_dst  is_sm_ips_ports\n",
              "122637  0.000005    119        2  ...           9          13                0\n",
              "137118  0.000003    119        2  ...          17          16                0\n",
              "69948   1.167584    113        0  ...           2           2                0\n",
              "45921   0.486485    113        5  ...           1           1                0\n",
              "31408   0.072147    119        0  ...           2           8                0\n",
              "\n",
              "[5 rows x 42 columns]"
            ]
          },
          "metadata": {
            "tags": []
          },
          "execution_count": 14
        }
      ]
    },
    {
      "cell_type": "markdown",
      "metadata": {
        "id": "P3U8QGVUXRf-"
      },
      "source": [
        "<h1>end Testing</h1>"
      ]
    },
    {
      "cell_type": "code",
      "metadata": {
        "colab": {
          "base_uri": "https://localhost:8080/"
        },
        "id": "pwwFDSNatSQc",
        "outputId": "208b1a9c-d4b8-4478-c089-08a87d91389c"
      },
      "source": [
        "X_test.shape"
      ],
      "execution_count": 50,
      "outputs": [
        {
          "output_type": "execute_result",
          "data": {
            "text/plain": [
              "(51535, 43)"
            ]
          },
          "metadata": {
            "tags": []
          },
          "execution_count": 50
        }
      ]
    },
    {
      "cell_type": "code",
      "metadata": {
        "id": "UJTr88Kge5bs",
        "colab": {
          "base_uri": "https://localhost:8080/"
        },
        "outputId": "5d1bd1d7-8b63-4ecb-8908-cf97f42480e8"
      },
      "source": [
        "eclf = EnsembleVoteClassifier(clfs=list_of_CLFs, refit=False, voting='soft')\n",
        "_ = eclf.fit(X_train, y_train)\n",
        "pred = eclf.score(X_test, y_test)\n",
        "print(\"Acc: %0.5f for the %s\" % (pred, str(type(eclf)).split(\".\")[-1][:-2]))\n",
        "\n",
        "# pred = eclf.predict(X_test)\n",
        "# probas = eclf.predict_proba(X_test)"
      ],
      "execution_count": 55,
      "outputs": [
        {
          "output_type": "stream",
          "text": [
            "Acc: 0.95353 for the EnsembleVoteClassifier\n"
          ],
          "name": "stdout"
        }
      ]
    },
    {
      "cell_type": "markdown",
      "metadata": {
        "id": "T1Ha3TsuqUWB"
      },
      "source": [
        "## Unsupervied ML"
      ]
    },
    {
      "cell_type": "code",
      "metadata": {
        "id": "CjRc41fsnMr6"
      },
      "source": [
        "%%capture \n",
        "!pip install pyod\n",
        "!pip install hdbscan\n",
        "!pip install combo\n",
        "!pip install SOM...... # https://github.com/AICoE/log-anomaly-detector/blob/master/Notebooks/SOM_retrain_notebook/SOM_UserFeedbackPOC.ipynb\n",
        "!pip install somtf"
      ],
      "execution_count": 15,
      "outputs": []
    },
    {
      "cell_type": "code",
      "metadata": {
        "id": "Y_eTF1yQOdoR",
        "colab": {
          "base_uri": "https://localhost:8080/"
        },
        "outputId": "08880e0f-237b-4c7c-8d6f-a07677551cb7"
      },
      "source": [
        "!pip install rrcf"
      ],
      "execution_count": 16,
      "outputs": [
        {
          "output_type": "stream",
          "text": [
            "Collecting rrcf\n",
            "  Downloading https://files.pythonhosted.org/packages/36/ac/e43a9774d85e97e9cd877c8da1dd3eacc0644848afe223f25b6e1b21b006/rrcf-0.4.3.tar.gz\n",
            "Requirement already satisfied: numpy in /usr/local/lib/python3.6/dist-packages (from rrcf) (1.19.5)\n",
            "Building wheels for collected packages: rrcf\n",
            "  Building wheel for rrcf (setup.py) ... \u001b[?25l\u001b[?25hdone\n",
            "  Created wheel for rrcf: filename=rrcf-0.4.3-cp36-none-any.whl size=9811 sha256=bc8ef627022714291ecd9e457ddcbab00df94ecd395a7427c9ccd9a990d2b4f5\n",
            "  Stored in directory: /root/.cache/pip/wheels/6c/7c/b7/8983591821eb2c00a31795b29232dcedc4d7fad70a6c663870\n",
            "Successfully built rrcf\n",
            "Installing collected packages: rrcf\n",
            "Successfully installed rrcf-0.4.3\n"
          ],
          "name": "stdout"
        }
      ]
    },
    {
      "cell_type": "code",
      "metadata": {
        "id": "X05LsfcUjRyh"
      },
      "source": [
        "import gc, os, pickle\n",
        "from datetime import datetime\n",
        "\n",
        "import numpy as np\n",
        "import pandas as pd\n",
        "from collections import Counter\n",
        "\n",
        "from IPython.core.interactiveshell import InteractiveShell\n",
        "InteractiveShell.ast_node_interactivity = \"all\"\n",
        "\n",
        "import warnings\n",
        "warnings.simplefilter(action='ignore', category=FutureWarning)\n",
        "\n",
        "import pyod\n",
        "from hdbscan import HDBSCAN\n",
        "import rrcf\n",
        "\n",
        "import sklearn\n",
        "from sklearn.model_selection import train_test_split\n",
        "from sklearn.decomposition import * \n",
        "from sklearn.preprocessing import *\n",
        "from sklearn.svm import *\n",
        "from sklearn.metrics import  precision_recall_curve, precision_score, recall_score, f1_score, accuracy_score\n",
        "from sklearn.metrics import roc_curve, auc, roc_auc_score, confusion_matrix, classification_report\n"
      ],
      "execution_count": 17,
      "outputs": []
    },
    {
      "cell_type": "code",
      "metadata": {
        "id": "Po7VpfirjR2L"
      },
      "source": [
        "from pyod.models import lof, cblof, cof, pca, iforest, knn, mcd, ocsvm, sod, abod, hbos #, auto_encoder, vae\n",
        "contamination = 0.4\n",
        "threshold = 0.75"
      ],
      "execution_count": 18,
      "outputs": []
    },
    {
      "cell_type": "markdown",
      "metadata": {
        "id": "x8P_zlmJHD4U"
      },
      "source": [
        "<table class=\"docutils align-default\">\r\n",
        "<colgroup>\r\n",
        "<col style=\"width: 8%\">\r\n",
        "<col style=\"width: 6%\">\r\n",
        "<col style=\"width: 41%\">\r\n",
        "<col style=\"width: 2%\">\r\n",
        "<col style=\"width: 21%\">\r\n",
        "<col style=\"width: 22%\">\r\n",
        "</colgroup>\r\n",
        "<thead>\r\n",
        "<tr class=\"row-odd\"><th class=\"head\"><p>Type</p></th>\r\n",
        "<th class=\"head\"><p>Abbr</p></th>\r\n",
        "<th class=\"head\"><p>Algorithm</p></th>\r\n",
        "<th class=\"head\"><p>Year</p></th>\r\n",
        "<th class=\"head\"><p>Class</p></th>\r\n",
        "<th class=\"head\"><p>Ref</p></th>\r\n",
        "</tr>\r\n",
        "</thead>\r\n",
        "<tbody>\r\n",
        "<tr class=\"row-even\"><td><p>Linear Model</p></td>\r\n",
        "<td><p>PCA</p></td>\r\n",
        "<td><p>Principal Component Analysis (the sum of weighted projected distances to the eigenvector hyperplanes)</p></td>\r\n",
        "<td><p>2003</p></td>\r\n",
        "<td><p><a class=\"reference internal\" href=\"pyod.models.html#pyod.models.pca.PCA\" title=\"pyod.models.pca.PCA\"><code class=\"xref py py-class docutils literal notranslate\"><span class=\"pre\">pyod.models.pca.PCA</span></code></a></p></td>\r\n",
        "<td><p><span id=\"id3\">[<a class=\"reference internal\" href=\"#id53\"><span>ASCSC03</span></a>]</span></p></td>\r\n",
        "</tr>\r\n",
        "<tr class=\"row-odd\"><td><p>Linear Model</p></td>\r\n",
        "<td><p>MCD</p></td>\r\n",
        "<td><p>Minimum Covariance Determinant (use the mahalanobis distances as the outlier scores)</p></td>\r\n",
        "<td><p>1999</p></td>\r\n",
        "<td><p><a class=\"reference internal\" href=\"pyod.models.html#pyod.models.mcd.MCD\" title=\"pyod.models.mcd.MCD\"><code class=\"xref py py-class docutils literal notranslate\"><span class=\"pre\">pyod.models.mcd.MCD</span></code></a></p></td>\r\n",
        "<td><p><span id=\"id4\">[<a class=\"reference internal\" href=\"#id57\"><span>ARD99</span></a>,<a class=\"reference internal\" href=\"#id58\"><span>AHR04</span></a>]</span></p></td>\r\n",
        "</tr>\r\n",
        "<tr class=\"row-even\"><td><p>Linear Model</p></td>\r\n",
        "<td><p>OCSVM</p></td>\r\n",
        "<td><p>One-Class Support Vector Machines</p></td>\r\n",
        "<td><p>2001</p></td>\r\n",
        "<td><p><a class=\"reference internal\" href=\"pyod.models.html#pyod.models.ocsvm.OCSVM\" title=\"pyod.models.ocsvm.OCSVM\"><code class=\"xref py py-class docutils literal notranslate\"><span class=\"pre\">pyod.models.ocsvm.OCSVM</span></code></a></p></td>\r\n",
        "<td><p><span id=\"id5\">[<a class=\"reference internal\" href=\"#id68\"><span>AScholkopfPST+01</span></a>]</span></p></td>\r\n",
        "</tr>\r\n",
        "<tr class=\"row-odd\"><td><p>Linear Model</p></td>\r\n",
        "<td><p>LMDD</p></td>\r\n",
        "<td><p>Deviation-based Outlier Detection (LMDD)</p></td>\r\n",
        "<td><p>1996</p></td>\r\n",
        "<td><p><a class=\"reference internal\" href=\"pyod.models.html#pyod.models.lmdd.LMDD\" title=\"pyod.models.lmdd.LMDD\"><code class=\"xref py py-class docutils literal notranslate\"><span class=\"pre\">pyod.models.lmdd.LMDD</span></code></a></p></td>\r\n",
        "<td><p><span id=\"id6\">[<a class=\"reference internal\" href=\"#id75\"><span>AAAR96</span></a>]</span></p></td>\r\n",
        "</tr>\r\n",
        "<tr class=\"row-even\"><td><p>Proximity-Based</p></td>\r\n",
        "<td><p>LOF</p></td>\r\n",
        "<td><p>Local Outlier Factor</p></td>\r\n",
        "<td><p>2000</p></td>\r\n",
        "<td><p><a class=\"reference internal\" href=\"pyod.models.html#pyod.models.lof.LOF\" title=\"pyod.models.lof.LOF\"><code class=\"xref py py-class docutils literal notranslate\"><span class=\"pre\">pyod.models.lof.LOF</span></code></a></p></td>\r\n",
        "<td><p><span id=\"id7\">[<a class=\"reference internal\" href=\"#id55\"><span>ABKNS00</span></a>]</span></p></td>\r\n",
        "</tr>\r\n",
        "<tr class=\"row-odd\"><td><p>Proximity-Based</p></td>\r\n",
        "<td><p>COF</p></td>\r\n",
        "<td><p>Connectivity-Based Outlier Factor</p></td>\r\n",
        "<td><p>2002</p></td>\r\n",
        "<td><p><a class=\"reference internal\" href=\"pyod.models.html#pyod.models.cof.COF\" title=\"pyod.models.cof.COF\"><code class=\"xref py py-class docutils literal notranslate\"><span class=\"pre\">pyod.models.cof.COF</span></code></a></p></td>\r\n",
        "<td><p><span id=\"id8\">[<a class=\"reference internal\" href=\"#id69\"><span>ATCFC02</span></a>]</span></p></td>\r\n",
        "</tr>\r\n",
        "<tr class=\"row-even\"><td><p>Proximity-Based</p></td>\r\n",
        "<td><p>CBLOF</p></td>\r\n",
        "<td><p>Clustering-Based Local Outlier Factor</p></td>\r\n",
        "<td><p>2003</p></td>\r\n",
        "<td><p><a class=\"reference internal\" href=\"pyod.models.html#pyod.models.cblof.CBLOF\" title=\"pyod.models.cblof.CBLOF\"><code class=\"xref py py-class docutils literal notranslate\"><span class=\"pre\">pyod.models.cblof.CBLOF</span></code></a></p></td>\r\n",
        "<td><p><span id=\"id9\">[<a class=\"reference internal\" href=\"#id59\"><span>AHXD03</span></a>]</span></p></td>\r\n",
        "</tr>\r\n",
        "<tr class=\"row-odd\"><td><p>Proximity-Based</p></td>\r\n",
        "<td><p>LOCI</p></td>\r\n",
        "<td><p>LOCI: Fast outlier detection using the local correlation integral</p></td>\r\n",
        "<td><p>2003</p></td>\r\n",
        "<td><p><a class=\"reference internal\" href=\"pyod.models.html#pyod.models.loci.LOCI\" title=\"pyod.models.loci.LOCI\"><code class=\"xref py py-class docutils literal notranslate\"><span class=\"pre\">pyod.models.loci.LOCI</span></code></a></p></td>\r\n",
        "<td><p><span id=\"id10\">[<a class=\"reference internal\" href=\"#id62\"><span>APKGF03</span></a>]</span></p></td>\r\n",
        "</tr>\r\n",
        "<tr class=\"row-even\"><td><p>Proximity-Based</p></td>\r\n",
        "<td><p>HBOS</p></td>\r\n",
        "<td><p>Histogram-based Outlier Score</p></td>\r\n",
        "<td><p>2012</p></td>\r\n",
        "<td><p><a class=\"reference internal\" href=\"pyod.models.html#pyod.models.hbos.HBOS\" title=\"pyod.models.hbos.HBOS\"><code class=\"xref py py-class docutils literal notranslate\"><span class=\"pre\">pyod.models.hbos.HBOS</span></code></a></p></td>\r\n",
        "<td><p><span id=\"id11\">[<a class=\"reference internal\" href=\"#id52\"><span>AGD12</span></a>]</span></p></td>\r\n",
        "</tr>\r\n",
        "<tr class=\"row-odd\"><td><p>Proximity-Based</p></td>\r\n",
        "<td><p>kNN</p></td>\r\n",
        "<td><p>k Nearest Neighbors (use the distance to the kth nearest neighbor as the outlier score</p></td>\r\n",
        "<td><p>2000</p></td>\r\n",
        "<td><p><a class=\"reference internal\" href=\"pyod.models.html#pyod.models.knn.KNN\" title=\"pyod.models.knn.KNN\"><code class=\"xref py py-class docutils literal notranslate\"><span class=\"pre\">pyod.models.knn.KNN</span></code></a></p></td>\r\n",
        "<td><p><span id=\"id12\">[<a class=\"reference internal\" href=\"#id48\"><span>ARRS00</span></a>,<a class=\"reference internal\" href=\"#id49\"><span>AAP02</span></a>]</span></p></td>\r\n",
        "</tr>\r\n",
        "<tr class=\"row-even\"><td><p>Proximity-Based</p></td>\r\n",
        "<td><p>AvgKNN</p></td>\r\n",
        "<td><p>Average kNN (use the average distance to k nearest neighbors as the outlier score)</p></td>\r\n",
        "<td><p>2002</p></td>\r\n",
        "<td><p><a class=\"reference internal\" href=\"pyod.models.html#pyod.models.knn.KNN\" title=\"pyod.models.knn.KNN\"><code class=\"xref py py-class docutils literal notranslate\"><span class=\"pre\">pyod.models.knn.KNN</span></code></a></p></td>\r\n",
        "<td><p><span id=\"id13\">[<a class=\"reference internal\" href=\"#id48\"><span>ARRS00</span></a>,<a class=\"reference internal\" href=\"#id49\"><span>AAP02</span></a>]</span></p></td>\r\n",
        "</tr>\r\n",
        "<tr class=\"row-odd\"><td><p>Proximity-Based</p></td>\r\n",
        "<td><p>MedKNN</p></td>\r\n",
        "<td><p>Median kNN (use the median distance to k nearest neighbors as the outlier score)</p></td>\r\n",
        "<td><p>2002</p></td>\r\n",
        "<td><p><a class=\"reference internal\" href=\"pyod.models.html#pyod.models.knn.KNN\" title=\"pyod.models.knn.KNN\"><code class=\"xref py py-class docutils literal notranslate\"><span class=\"pre\">pyod.models.knn.KNN</span></code></a></p></td>\r\n",
        "<td><p><span id=\"id14\">[<a class=\"reference internal\" href=\"#id48\"><span>ARRS00</span></a>,<a class=\"reference internal\" href=\"#id49\"><span>AAP02</span></a>]</span></p></td>\r\n",
        "</tr>\r\n",
        "<tr class=\"row-even\"><td><p>Proximity-Based</p></td>\r\n",
        "<td><p>SOD</p></td>\r\n",
        "<td><p>Subspace Outlier Detection</p></td>\r\n",
        "<td><p>2009</p></td>\r\n",
        "<td><p><a class=\"reference internal\" href=\"pyod.models.html#pyod.models.sod.SOD\" title=\"pyod.models.sod.SOD\"><code class=\"xref py py-class docutils literal notranslate\"><span class=\"pre\">pyod.models.sod.SOD</span></code></a></p></td>\r\n",
        "<td><p><span id=\"id15\">[<a class=\"reference internal\" href=\"#id71\"><span>AKKrogerSZ09</span></a>]</span></p></td>\r\n",
        "</tr>\r\n",
        "<tr class=\"row-odd\"><td><p>Proximity-Based</p></td>\r\n",
        "<td><p>ROD</p></td>\r\n",
        "<td><p>Rotation-based Outlier Detection</p></td>\r\n",
        "<td><p>2020</p></td>\r\n",
        "<td><p><a class=\"reference internal\" href=\"pyod.models.html#pyod.models.rod.ROD\" title=\"pyod.models.rod.ROD\"><code class=\"xref py py-class docutils literal notranslate\"><span class=\"pre\">pyod.models.rod.ROD</span></code></a></p></td>\r\n",
        "<td><p><span id=\"id16\">[<a class=\"reference internal\" href=\"#id81\"><span>AABC20</span></a>]</span></p></td>\r\n",
        "</tr>\r\n",
        "<tr class=\"row-even\"><td><p>Probabilistic</p></td>\r\n",
        "<td><p>ABOD</p></td>\r\n",
        "<td><p>Angle-Based Outlier Detection</p></td>\r\n",
        "<td><p>2008</p></td>\r\n",
        "<td><p><a class=\"reference internal\" href=\"pyod.models.html#pyod.models.abod.ABOD\" title=\"pyod.models.abod.ABOD\"><code class=\"xref py py-class docutils literal notranslate\"><span class=\"pre\">pyod.models.abod.ABOD</span></code></a></p></td>\r\n",
        "<td><p><span id=\"id17\">[<a class=\"reference internal\" href=\"#id50\"><span>AKZ+08</span></a>]</span></p></td>\r\n",
        "</tr>\r\n",
        "<tr class=\"row-odd\"><td><p>Probabilistic</p></td>\r\n",
        "<td><p>FastABOD</p></td>\r\n",
        "<td><p>Fast Angle-Based Outlier Detection using approximation</p></td>\r\n",
        "<td><p>2008</p></td>\r\n",
        "<td><p><a class=\"reference internal\" href=\"pyod.models.html#pyod.models.abod.ABOD\" title=\"pyod.models.abod.ABOD\"><code class=\"xref py py-class docutils literal notranslate\"><span class=\"pre\">pyod.models.abod.ABOD</span></code></a></p></td>\r\n",
        "<td><p><span id=\"id18\">[<a class=\"reference internal\" href=\"#id50\"><span>AKZ+08</span></a>]</span></p></td>\r\n",
        "</tr>\r\n",
        "<tr class=\"row-even\"><td><p>Probabilistic</p></td>\r\n",
        "<td><p>COPOD</p></td>\r\n",
        "<td><p>COPOD: Copula-Based Outlier Detection</p></td>\r\n",
        "<td><p>2020</p></td>\r\n",
        "<td><p><a class=\"reference internal\" href=\"pyod.models.html#pyod.models.copod.COPOD\" title=\"pyod.models.copod.COPOD\"><code class=\"xref py py-class docutils literal notranslate\"><span class=\"pre\">pyod.models.copod.COPOD</span></code></a></p></td>\r\n",
        "<td><p><span id=\"id19\">[<a class=\"reference internal\" href=\"#id80\"><span>ALZB+20</span></a>]</span></p></td>\r\n",
        "</tr>\r\n",
        "<tr class=\"row-odd\"><td><p>Probabilistic</p></td>\r\n",
        "<td><p>MAD</p></td>\r\n",
        "<td><p>Median Absolute Deviation (MAD)</p></td>\r\n",
        "<td><p>1993</p></td>\r\n",
        "<td><p><a class=\"reference internal\" href=\"pyod.models.html#pyod.models.mad.MAD\" title=\"pyod.models.mad.MAD\"><code class=\"xref py py-class docutils literal notranslate\"><span class=\"pre\">pyod.models.mad.MAD</span></code></a></p></td>\r\n",
        "<td><p><span id=\"id20\">[<a class=\"reference internal\" href=\"#id79\"><span>AIH93</span></a>]</span></p></td>\r\n",
        "</tr>\r\n",
        "<tr class=\"row-even\"><td><p>Probabilistic</p></td>\r\n",
        "<td><p>SOS</p></td>\r\n",
        "<td><p>Stochastic Outlier Selection</p></td>\r\n",
        "<td><p>2012</p></td>\r\n",
        "<td><p><a class=\"reference internal\" href=\"pyod.models.html#pyod.models.sos.SOS\" title=\"pyod.models.sos.SOS\"><code class=\"xref py py-class docutils literal notranslate\"><span class=\"pre\">pyod.models.sos.SOS</span></code></a></p></td>\r\n",
        "<td><p><span id=\"id21\">[<a class=\"reference internal\" href=\"#id61\"><span>AJHuszarPvdH12</span></a>]</span></p></td>\r\n",
        "</tr>\r\n",
        "<tr class=\"row-odd\"><td><p>Outlier Ensembles</p></td>\r\n",
        "<td><p>IForest</p></td>\r\n",
        "<td><p>Isolation Forest</p></td>\r\n",
        "<td><p>2008</p></td>\r\n",
        "<td><p><a class=\"reference internal\" href=\"pyod.models.html#pyod.models.iforest.IForest\" title=\"pyod.models.iforest.IForest\"><code class=\"xref py py-class docutils literal notranslate\"><span class=\"pre\">pyod.models.iforest.IForest</span></code></a></p></td>\r\n",
        "<td><p><span id=\"id22\">[<a class=\"reference internal\" href=\"#id44\"><span>ALTZ08</span></a>,<a class=\"reference internal\" href=\"#id45\"><span>ALTZ12</span></a>]</span></p></td>\r\n",
        "</tr>\r\n",
        "<tr class=\"row-even\"><td><p>Outlier Ensembles</p></td>\r\n",
        "<td></td>\r\n",
        "<td><p>Feature Bagging</p></td>\r\n",
        "<td><p>2005</p></td>\r\n",
        "<td><p><a class=\"reference internal\" href=\"pyod.models.html#pyod.models.feature_bagging.FeatureBagging\" title=\"pyod.models.feature_bagging.FeatureBagging\"><code class=\"xref py py-class docutils literal notranslate\"><span class=\"pre\">pyod.models.feature_bagging.FeatureBagging</span></code></a></p></td>\r\n",
        "<td><p><span id=\"id23\">[<a class=\"reference internal\" href=\"#id51\"><span>ALK05</span></a>]</span></p></td>\r\n",
        "</tr>\r\n",
        "<tr class=\"row-odd\"><td><p>Outlier Ensembles</p></td>\r\n",
        "<td><p>LSCP</p></td>\r\n",
        "<td><p>LSCP: Locally Selective Combination of Parallel Outlier Ensembles</p></td>\r\n",
        "<td><p>2019</p></td>\r\n",
        "<td><p><a class=\"reference internal\" href=\"pyod.models.html#pyod.models.lscp.LSCP\" title=\"pyod.models.lscp.LSCP\"><code class=\"xref py py-class docutils literal notranslate\"><span class=\"pre\">pyod.models.lscp.LSCP</span></code></a></p></td>\r\n",
        "<td><p><span id=\"id24\">[<a class=\"reference internal\" href=\"#id63\"><span>AZNHL19</span></a>]</span></p></td>\r\n",
        "</tr>\r\n",
        "<tr class=\"row-even\"><td><p>Outlier Ensembles</p></td>\r\n",
        "<td><p>XGBOD</p></td>\r\n",
        "<td><p>Extreme Boosting Based Outlier Detection <strong>(Supervised)</strong></p></td>\r\n",
        "<td><p>2018</p></td>\r\n",
        "<td><p><a class=\"reference internal\" href=\"pyod.models.html#pyod.models.xgbod.XGBOD\" title=\"pyod.models.xgbod.XGBOD\"><code class=\"xref py py-class docutils literal notranslate\"><span class=\"pre\">pyod.models.xgbod.XGBOD</span></code></a></p></td>\r\n",
        "<td><p><span id=\"id25\">[<a class=\"reference internal\" href=\"#id56\"><span>AZH18</span></a>]</span></p></td>\r\n",
        "</tr>\r\n",
        "<tr class=\"row-odd\"><td><p>Outlier Ensembles</p></td>\r\n",
        "<td><p>LODA</p></td>\r\n",
        "<td><p>Lightweight On-line Detector of Anomalies</p></td>\r\n",
        "<td><p>2016</p></td>\r\n",
        "<td><p><a class=\"reference internal\" href=\"pyod.models.html#pyod.models.loda.LODA\" title=\"pyod.models.loda.LODA\"><code class=\"xref py py-class docutils literal notranslate\"><span class=\"pre\">pyod.models.loda.LODA</span></code></a></p></td>\r\n",
        "<td><p><span id=\"id26\">[<a class=\"reference internal\" href=\"#id77\"><span>APevny16</span></a>]</span></p></td>\r\n",
        "</tr>\r\n",
        "<tr class=\"row-even\"><td><p>Neural Networks</p></td>\r\n",
        "<td><p>AutoEncoder</p></td>\r\n",
        "<td><p>Fully connected AutoEncoder (use reconstruction error as the outlier score)</p></td>\r\n",
        "<td><p>2015</p></td>\r\n",
        "<td><p><a class=\"reference internal\" href=\"pyod.models.html#pyod.models.auto_encoder.AutoEncoder\" title=\"pyod.models.auto_encoder.AutoEncoder\"><code class=\"xref py py-class docutils literal notranslate\"><span class=\"pre\">pyod.models.auto_encoder.AutoEncoder</span></code></a></p></td>\r\n",
        "<td><p><span id=\"id27\">[<a class=\"reference internal\" href=\"#id54\"><span>AAgg15</span></a>]</span></p></td>\r\n",
        "</tr>\r\n",
        "<tr class=\"row-odd\"><td><p>Neural Networks</p></td>\r\n",
        "<td><p>VAE</p></td>\r\n",
        "<td><p>Variational AutoEncoder (use reconstruction error as the outlier score)</p></td>\r\n",
        "<td><p>2013</p></td>\r\n",
        "<td><p><a class=\"reference internal\" href=\"pyod.models.html#pyod.models.vae.VAE\" title=\"pyod.models.vae.VAE\"><code class=\"xref py py-class docutils literal notranslate\"><span class=\"pre\">pyod.models.vae.VAE</span></code></a></p></td>\r\n",
        "<td><p><span id=\"id28\">[<a class=\"reference internal\" href=\"#id76\"><span>AKW13</span></a>]</span></p></td>\r\n",
        "</tr>\r\n",
        "<tr class=\"row-even\"><td><p>Neural Networks</p></td>\r\n",
        "<td><p>Beta-VAE</p></td>\r\n",
        "<td><p>Variational AutoEncoder (all customized loss term by varying gamma and capacity)</p></td>\r\n",
        "<td><p>2018</p></td>\r\n",
        "<td><p><a class=\"reference internal\" href=\"pyod.models.html#pyod.models.vae.VAE\" title=\"pyod.models.vae.VAE\"><code class=\"xref py py-class docutils literal notranslate\"><span class=\"pre\">pyod.models.vae.VAE</span></code></a></p></td>\r\n",
        "<td><p><span id=\"id29\">[<a class=\"reference internal\" href=\"#id78\"><span>ABHP+18</span></a>]</span></p></td>\r\n",
        "</tr>\r\n",
        "<tr class=\"row-odd\"><td><p>Neural Networks</p></td>\r\n",
        "<td><p>SO_GAAL</p></td>\r\n",
        "<td><p>Single-Objective Generative Adversarial Active Learning</p></td>\r\n",
        "<td><p>2019</p></td>\r\n",
        "<td><p><a class=\"reference internal\" href=\"pyod.models.html#pyod.models.so_gaal.SO_GAAL\" title=\"pyod.models.so_gaal.SO_GAAL\"><code class=\"xref py py-class docutils literal notranslate\"><span class=\"pre\">pyod.models.so_gaal.SO_GAAL</span></code></a></p></td>\r\n",
        "<td><p><span id=\"id30\">[<a class=\"reference internal\" href=\"#id64\"><span>ALLZ+19</span></a>]</span></p></td>\r\n",
        "</tr>\r\n",
        "<tr class=\"row-even\"><td><p>Neural Networks</p></td>\r\n",
        "<td><p>MO_GAAL</p></td>\r\n",
        "<td><p>Multiple-Objective Generative Adversarial Active Learning</p></td>\r\n",
        "<td><p>2019</p></td>\r\n",
        "<td><p><a class=\"reference internal\" href=\"pyod.models.html#pyod.models.mo_gaal.MO_GAAL\" title=\"pyod.models.mo_gaal.MO_GAAL\"><code class=\"xref py py-class docutils literal notranslate\"><span class=\"pre\">pyod.models.mo_gaal.MO_GAAL</span></code></a></p></td>\r\n",
        "<td><p><span id=\"id31\">[<a class=\"reference internal\" href=\"#id64\"><span>ALLZ+19</span></a>]</span></p></td>\r\n",
        "</tr>\r\n",
        "</tbody>\r\n",
        "</table>"
      ]
    },
    {
      "cell_type": "markdown",
      "metadata": {
        "id": "8d9cCCYvu0i1"
      },
      "source": [
        "## Uses PYOD"
      ]
    },
    {
      "cell_type": "markdown",
      "metadata": {
        "id": "QsNSrb0fjWqy"
      },
      "source": [
        "<h1><b>Printing Score metrics</b></h1>"
      ]
    },
    {
      "cell_type": "code",
      "metadata": {
        "id": "MQ_TfqhZjhzi"
      },
      "source": [
        "def PrintScoreMetrics(algorithm,X_test,y_test):\r\n",
        "    y_pred_class = algorithm.predict(X_test)\r\n",
        "    y_pred_score = algorithm.predict_proba(X=X_test)[:, 1]\r\n",
        "\r\n",
        "\r\n",
        "    # AUC of ROC\r\n",
        "    auc_ontest = roc_auc_score(y_true=y_test, y_score=y_pred_score)\r\n",
        "    # confusion matrix\r\n",
        "    cm_ontest = confusion_matrix(y_true=y_test, y_pred=y_pred_class)\r\n",
        "    # precision score\r\n",
        "    precision_ontest = precision_score(y_true=y_test, y_pred=y_pred_class)\r\n",
        "    # recall score\r\n",
        "    recall_ontest = recall_score(y_true=y_test, y_pred=y_pred_class)\r\n",
        "    # classifition report\r\n",
        "    cls_report_ontest = classification_report(y_true=y_test, y_pred=y_pred_class)\r\n",
        "\r\n",
        "    # print the above results\r\n",
        "    print('The model scores {:1.5f} ROC AUC on the test set.'.format(auc_ontest))\r\n",
        "    print('The precision score on the test set: {:1.5f}'.format(precision_ontest))\r\n",
        "    print('The recall score on the test set: {:1.5f}'.format(recall_ontest))\r\n",
        "    print('Confusion Matrix:\\n', cm_ontest)\r\n",
        "    # Print classification report:\r\n",
        "    print('Classification Report:\\n', cls_report_ontest)"
      ],
      "execution_count": 19,
      "outputs": []
    },
    {
      "cell_type": "markdown",
      "metadata": {
        "id": "WdnDSH_1mDHr"
      },
      "source": [
        "<h1><b>the LOF model</b><h1>"
      ]
    },
    {
      "cell_type": "code",
      "metadata": {
        "id": "XpSg_uGZjR9J"
      },
      "source": [
        "#===============TRAIN THE LOF MODEL ======================\n",
        "lof_clf = lof.LOF(contamination=contamination, n_jobs=-1)\n",
        "_ = lof_clf.fit(X_train)\n"
      ],
      "execution_count": null,
      "outputs": []
    },
    {
      "cell_type": "code",
      "metadata": {
        "id": "sEC0BtSsM76E",
        "colab": {
          "base_uri": "https://localhost:8080/"
        },
        "outputId": "8009b289-72c9-4137-d37c-e43fbb6a83d0"
      },
      "source": [
        "#======= EVALUATE LOF MODEL =================\r\n",
        "PrintScoreMetrics(lof_clf,X_test,y_test)"
      ],
      "execution_count": null,
      "outputs": [
        {
          "output_type": "stream",
          "text": [
            "The model scores 0.48922 ROC AUC on the test set.\n",
            "The precision score on the test set: 0.59979\n",
            "The recall score on the test set: 0.41124\n",
            "Confusion Matrix:\n",
            " [[ 9579  9034]\n",
            " [19383 13539]]\n",
            "Classification Report:\n",
            "               precision    recall  f1-score   support\n",
            "\n",
            "           0       0.33      0.51      0.40     18613\n",
            "           1       0.60      0.41      0.49     32922\n",
            "\n",
            "    accuracy                           0.45     51535\n",
            "   macro avg       0.47      0.46      0.45     51535\n",
            "weighted avg       0.50      0.45      0.46     51535\n",
            "\n"
          ],
          "name": "stdout"
        }
      ]
    },
    {
      "cell_type": "markdown",
      "metadata": {
        "id": "WWw2wUPmlcva"
      },
      "source": [
        "<h1><b>the CBLOF model</b><h1>"
      ]
    },
    {
      "cell_type": "code",
      "metadata": {
        "id": "9HMfAuoOjSAq"
      },
      "source": [
        "#========== TRAIN CBLOF MODEL ==========\n",
        "cblof_clf = cblof.CBLOF(contamination=contamination, n_jobs=-1, n_clusters=45)\n",
        "_ = cblof_clf.fit(X_train)\n"
      ],
      "execution_count": null,
      "outputs": []
    },
    {
      "cell_type": "code",
      "metadata": {
        "id": "OMIRzSwffHFB",
        "colab": {
          "base_uri": "https://localhost:8080/"
        },
        "outputId": "d028de5f-b8ff-48c9-8b4a-5deafa4ec451"
      },
      "source": [
        "#======= EVALUATE CBLOF MODEL =================\r\n",
        "\r\n",
        "PrintScoreMetrics(cblof_clf,X_test,y_test)\r\n"
      ],
      "execution_count": null,
      "outputs": [
        {
          "output_type": "stream",
          "text": [
            "The model scores 0.35109 ROC AUC on the test set.\n",
            "The precision score on the test set: 0.51854\n",
            "The recall score on the test set: 0.32969\n",
            "Confusion Matrix:\n",
            " [[ 8535 10078]\n",
            " [22068 10854]]\n",
            "Classification Report:\n",
            "               precision    recall  f1-score   support\n",
            "\n",
            "           0       0.28      0.46      0.35     18613\n",
            "           1       0.52      0.33      0.40     32922\n",
            "\n",
            "    accuracy                           0.38     51535\n",
            "   macro avg       0.40      0.39      0.37     51535\n",
            "weighted avg       0.43      0.38      0.38     51535\n",
            "\n"
          ],
          "name": "stdout"
        }
      ]
    },
    {
      "cell_type": "markdown",
      "metadata": {
        "id": "0KtZja8qohBq"
      },
      "source": [
        "<h1><b>the Connectivity-Based Outlier Factor (cof)</b><h1>"
      ]
    },
    {
      "cell_type": "code",
      "metadata": {
        "id": "o3yKHghIjSEV"
      },
      "source": [
        "#========== TRAIN COF MODEL ==========\n",
        "\n",
        "cof_clf = cof.COF(contamination=contamination) \n",
        "_ = cof_clf.fit(X_train[:5000])\n"
      ],
      "execution_count": null,
      "outputs": []
    },
    {
      "cell_type": "code",
      "metadata": {
        "id": "GV3nL4qzoeIL"
      },
      "source": [
        "#======= EVALUATE COF MODEL =================\r\n",
        "\r\n",
        "PrintScoreMetrics(cof_clf,X_test,y_test)\r\n"
      ],
      "execution_count": null,
      "outputs": []
    },
    {
      "cell_type": "markdown",
      "metadata": {
        "id": "c5tr85k4vq0F"
      },
      "source": [
        "<h1><b>The PCA MODEL</b><h1>"
      ]
    },
    {
      "cell_type": "code",
      "metadata": {
        "id": "ixQ7uR00jSIB"
      },
      "source": [
        "# https://pyod.readthedocs.io/en/latest/_modules/pyod/models/pca.html\n",
        "#=============TRAINING PCA MODEL=========================\n",
        "pca_clf = pca.PCA(contamination=contamination)\n",
        "_ = pca_clf.fit(X_train)"
      ],
      "execution_count": null,
      "outputs": []
    },
    {
      "cell_type": "code",
      "metadata": {
        "id": "0GamMfdVwPXC"
      },
      "source": [
        "#======= EVALUATE PCA MODEL =================\r\n",
        "\r\n",
        "PrintScoreMetrics(pca_clf,X_test,y_test)\r\n"
      ],
      "execution_count": null,
      "outputs": []
    },
    {
      "cell_type": "code",
      "metadata": {
        "id": "k5lR1t6u-aut"
      },
      "source": [
        "pca_clf = pca.PCA(2, contamination=contamination)\n",
        "_ = pca_clf.fit(X_train)\n",
        "\n",
        "PrintScoreMetrics(pca_clf,X_test,y_test)\n"
      ],
      "execution_count": null,
      "outputs": []
    },
    {
      "cell_type": "markdown",
      "metadata": {
        "id": "A6AEdW_MxT9t"
      },
      "source": [
        "<h1><b>The IFOREST MODEL</b><h1>"
      ]
    },
    {
      "cell_type": "code",
      "metadata": {
        "id": "4OHfbx1qjSLS"
      },
      "source": [
        "iforest_clf = iforest.IForest(contamination=contamination, n_estimators=300, max_samples= 1028, n_jobs=-1)\n",
        "_ = iforest_clf.fit(X_train)\n"
      ],
      "execution_count": 20,
      "outputs": []
    },
    {
      "cell_type": "code",
      "metadata": {
        "colab": {
          "base_uri": "https://localhost:8080/",
          "height": 162
        },
        "id": "jRVZrEo81SDY",
        "outputId": "f80516b2-cd5c-44f9-f110-34f05242d827"
      },
      "source": [
        "X_test.head(3)"
      ],
      "execution_count": 21,
      "outputs": [
        {
          "output_type": "execute_result",
          "data": {
            "text/html": [
              "<div>\n",
              "<style scoped>\n",
              "    .dataframe tbody tr th:only-of-type {\n",
              "        vertical-align: middle;\n",
              "    }\n",
              "\n",
              "    .dataframe tbody tr th {\n",
              "        vertical-align: top;\n",
              "    }\n",
              "\n",
              "    .dataframe thead th {\n",
              "        text-align: right;\n",
              "    }\n",
              "</style>\n",
              "<table border=\"1\" class=\"dataframe\">\n",
              "  <thead>\n",
              "    <tr style=\"text-align: right;\">\n",
              "      <th></th>\n",
              "      <th>dur</th>\n",
              "      <th>proto</th>\n",
              "      <th>service</th>\n",
              "      <th>state</th>\n",
              "      <th>spkts</th>\n",
              "      <th>dpkts</th>\n",
              "      <th>sbytes</th>\n",
              "      <th>dbytes</th>\n",
              "      <th>rate</th>\n",
              "      <th>sttl</th>\n",
              "      <th>dttl</th>\n",
              "      <th>sload</th>\n",
              "      <th>dload</th>\n",
              "      <th>sloss</th>\n",
              "      <th>dloss</th>\n",
              "      <th>sinpkt</th>\n",
              "      <th>dinpkt</th>\n",
              "      <th>sjit</th>\n",
              "      <th>djit</th>\n",
              "      <th>swin</th>\n",
              "      <th>stcpb</th>\n",
              "      <th>dtcpb</th>\n",
              "      <th>dwin</th>\n",
              "      <th>tcprtt</th>\n",
              "      <th>synack</th>\n",
              "      <th>ackdat</th>\n",
              "      <th>smean</th>\n",
              "      <th>dmean</th>\n",
              "      <th>trans_depth</th>\n",
              "      <th>response_body_len</th>\n",
              "      <th>ct_srv_src</th>\n",
              "      <th>ct_state_ttl</th>\n",
              "      <th>ct_dst_ltm</th>\n",
              "      <th>ct_src_dport_ltm</th>\n",
              "      <th>ct_dst_sport_ltm</th>\n",
              "      <th>ct_dst_src_ltm</th>\n",
              "      <th>is_ftp_login</th>\n",
              "      <th>ct_ftp_cmd</th>\n",
              "      <th>ct_flw_http_mthd</th>\n",
              "      <th>ct_src_ltm</th>\n",
              "      <th>ct_srv_dst</th>\n",
              "      <th>is_sm_ips_ports</th>\n",
              "    </tr>\n",
              "  </thead>\n",
              "  <tbody>\n",
              "    <tr>\n",
              "      <th>122637</th>\n",
              "      <td>0.000005</td>\n",
              "      <td>119</td>\n",
              "      <td>2</td>\n",
              "      <td>5</td>\n",
              "      <td>2</td>\n",
              "      <td>0</td>\n",
              "      <td>114</td>\n",
              "      <td>0</td>\n",
              "      <td>200000.005100</td>\n",
              "      <td>254</td>\n",
              "      <td>0</td>\n",
              "      <td>9.120000e+07</td>\n",
              "      <td>0.000000</td>\n",
              "      <td>0</td>\n",
              "      <td>0</td>\n",
              "      <td>0.0050</td>\n",
              "      <td>0.000</td>\n",
              "      <td>0.00000</td>\n",
              "      <td>0.0</td>\n",
              "      <td>0</td>\n",
              "      <td>0</td>\n",
              "      <td>0</td>\n",
              "      <td>0</td>\n",
              "      <td>0.000000</td>\n",
              "      <td>0.000000</td>\n",
              "      <td>0.000000</td>\n",
              "      <td>57</td>\n",
              "      <td>0</td>\n",
              "      <td>0</td>\n",
              "      <td>0</td>\n",
              "      <td>13</td>\n",
              "      <td>2</td>\n",
              "      <td>9</td>\n",
              "      <td>9</td>\n",
              "      <td>9</td>\n",
              "      <td>13</td>\n",
              "      <td>0</td>\n",
              "      <td>0</td>\n",
              "      <td>0</td>\n",
              "      <td>9</td>\n",
              "      <td>13</td>\n",
              "      <td>0</td>\n",
              "    </tr>\n",
              "    <tr>\n",
              "      <th>137118</th>\n",
              "      <td>0.000003</td>\n",
              "      <td>119</td>\n",
              "      <td>2</td>\n",
              "      <td>5</td>\n",
              "      <td>2</td>\n",
              "      <td>0</td>\n",
              "      <td>114</td>\n",
              "      <td>0</td>\n",
              "      <td>333333.321500</td>\n",
              "      <td>254</td>\n",
              "      <td>0</td>\n",
              "      <td>1.520000e+08</td>\n",
              "      <td>0.000000</td>\n",
              "      <td>0</td>\n",
              "      <td>0</td>\n",
              "      <td>0.0030</td>\n",
              "      <td>0.000</td>\n",
              "      <td>0.00000</td>\n",
              "      <td>0.0</td>\n",
              "      <td>0</td>\n",
              "      <td>0</td>\n",
              "      <td>0</td>\n",
              "      <td>0</td>\n",
              "      <td>0.000000</td>\n",
              "      <td>0.000000</td>\n",
              "      <td>0.000000</td>\n",
              "      <td>57</td>\n",
              "      <td>0</td>\n",
              "      <td>0</td>\n",
              "      <td>0</td>\n",
              "      <td>16</td>\n",
              "      <td>2</td>\n",
              "      <td>16</td>\n",
              "      <td>16</td>\n",
              "      <td>16</td>\n",
              "      <td>16</td>\n",
              "      <td>0</td>\n",
              "      <td>0</td>\n",
              "      <td>0</td>\n",
              "      <td>17</td>\n",
              "      <td>16</td>\n",
              "      <td>0</td>\n",
              "    </tr>\n",
              "    <tr>\n",
              "      <th>69948</th>\n",
              "      <td>1.167584</td>\n",
              "      <td>113</td>\n",
              "      <td>0</td>\n",
              "      <td>2</td>\n",
              "      <td>6</td>\n",
              "      <td>2</td>\n",
              "      <td>1012</td>\n",
              "      <td>86</td>\n",
              "      <td>5.995286</td>\n",
              "      <td>62</td>\n",
              "      <td>252</td>\n",
              "      <td>5.782882e+03</td>\n",
              "      <td>294.625488</td>\n",
              "      <td>2</td>\n",
              "      <td>1</td>\n",
              "      <td>233.5168</td>\n",
              "      <td>0.001</td>\n",
              "      <td>13675.72975</td>\n",
              "      <td>0.0</td>\n",
              "      <td>255</td>\n",
              "      <td>1497222707</td>\n",
              "      <td>3407537974</td>\n",
              "      <td>255</td>\n",
              "      <td>0.940009</td>\n",
              "      <td>0.560296</td>\n",
              "      <td>0.379713</td>\n",
              "      <td>169</td>\n",
              "      <td>43</td>\n",
              "      <td>0</td>\n",
              "      <td>0</td>\n",
              "      <td>2</td>\n",
              "      <td>3</td>\n",
              "      <td>1</td>\n",
              "      <td>1</td>\n",
              "      <td>1</td>\n",
              "      <td>2</td>\n",
              "      <td>0</td>\n",
              "      <td>0</td>\n",
              "      <td>0</td>\n",
              "      <td>2</td>\n",
              "      <td>2</td>\n",
              "      <td>0</td>\n",
              "    </tr>\n",
              "  </tbody>\n",
              "</table>\n",
              "</div>"
            ],
            "text/plain": [
              "             dur  proto  service  ...  ct_src_ltm  ct_srv_dst  is_sm_ips_ports\n",
              "122637  0.000005    119        2  ...           9          13                0\n",
              "137118  0.000003    119        2  ...          17          16                0\n",
              "69948   1.167584    113        0  ...           2           2                0\n",
              "\n",
              "[3 rows x 42 columns]"
            ]
          },
          "metadata": {
            "tags": []
          },
          "execution_count": 21
        }
      ]
    },
    {
      "cell_type": "code",
      "metadata": {
        "id": "a1xa5_vVyPsm",
        "colab": {
          "base_uri": "https://localhost:8080/"
        },
        "outputId": "ffe446f3-bfae-4710-abee-e06c91862070"
      },
      "source": [
        "#======= EVALUATE IFOREST MODEL =================\r\n",
        "\r\n",
        "PrintScoreMetrics(iforest_clf,X_test,y_test)\r\n"
      ],
      "execution_count": 22,
      "outputs": [
        {
          "output_type": "stream",
          "text": [
            "The model scores 0.30642 ROC AUC on the test set.\n",
            "The precision score on the test set: 0.48081\n",
            "The recall score on the test set: 0.29947\n",
            "Confusion Matrix:\n",
            " [[ 7967 10646]\n",
            " [23063  9859]]\n",
            "Classification Report:\n",
            "               precision    recall  f1-score   support\n",
            "\n",
            "           0       0.26      0.43      0.32     18613\n",
            "           1       0.48      0.30      0.37     32922\n",
            "\n",
            "    accuracy                           0.35     51535\n",
            "   macro avg       0.37      0.36      0.35     51535\n",
            "weighted avg       0.40      0.35      0.35     51535\n",
            "\n"
          ],
          "name": "stdout"
        }
      ]
    },
    {
      "cell_type": "code",
      "metadata": {
        "id": "a9RABjiL6aeT"
      },
      "source": [
        "#X_test = X_test.drop(['scores'], axis=1)\r\n",
        "#X_test.head()"
      ],
      "execution_count": null,
      "outputs": []
    },
    {
      "cell_type": "code",
      "metadata": {
        "colab": {
          "base_uri": "https://localhost:8080/",
          "height": 224
        },
        "id": "GPkBQtQ6RTst",
        "outputId": "00350351-b4f3-4538-9bf2-42df9e002fd9"
      },
      "source": [
        "Anom_X_test = X_test\r\n",
        "#Anom_X_test['scores']=iforest_clf.decision_function(X_test)\r\n",
        "Anom_X_test['anom_deciscion']=iforest_clf.predict(X_test)\r\n",
        "Anom_X_test.head(5)"
      ],
      "execution_count": 24,
      "outputs": [
        {
          "output_type": "execute_result",
          "data": {
            "text/html": [
              "<div>\n",
              "<style scoped>\n",
              "    .dataframe tbody tr th:only-of-type {\n",
              "        vertical-align: middle;\n",
              "    }\n",
              "\n",
              "    .dataframe tbody tr th {\n",
              "        vertical-align: top;\n",
              "    }\n",
              "\n",
              "    .dataframe thead th {\n",
              "        text-align: right;\n",
              "    }\n",
              "</style>\n",
              "<table border=\"1\" class=\"dataframe\">\n",
              "  <thead>\n",
              "    <tr style=\"text-align: right;\">\n",
              "      <th></th>\n",
              "      <th>dur</th>\n",
              "      <th>proto</th>\n",
              "      <th>service</th>\n",
              "      <th>state</th>\n",
              "      <th>spkts</th>\n",
              "      <th>dpkts</th>\n",
              "      <th>sbytes</th>\n",
              "      <th>dbytes</th>\n",
              "      <th>rate</th>\n",
              "      <th>sttl</th>\n",
              "      <th>dttl</th>\n",
              "      <th>sload</th>\n",
              "      <th>dload</th>\n",
              "      <th>sloss</th>\n",
              "      <th>dloss</th>\n",
              "      <th>sinpkt</th>\n",
              "      <th>dinpkt</th>\n",
              "      <th>sjit</th>\n",
              "      <th>djit</th>\n",
              "      <th>swin</th>\n",
              "      <th>stcpb</th>\n",
              "      <th>dtcpb</th>\n",
              "      <th>dwin</th>\n",
              "      <th>tcprtt</th>\n",
              "      <th>synack</th>\n",
              "      <th>ackdat</th>\n",
              "      <th>smean</th>\n",
              "      <th>dmean</th>\n",
              "      <th>trans_depth</th>\n",
              "      <th>response_body_len</th>\n",
              "      <th>ct_srv_src</th>\n",
              "      <th>ct_state_ttl</th>\n",
              "      <th>ct_dst_ltm</th>\n",
              "      <th>ct_src_dport_ltm</th>\n",
              "      <th>ct_dst_sport_ltm</th>\n",
              "      <th>ct_dst_src_ltm</th>\n",
              "      <th>is_ftp_login</th>\n",
              "      <th>ct_ftp_cmd</th>\n",
              "      <th>ct_flw_http_mthd</th>\n",
              "      <th>ct_src_ltm</th>\n",
              "      <th>ct_srv_dst</th>\n",
              "      <th>is_sm_ips_ports</th>\n",
              "      <th>anom_deciscion</th>\n",
              "    </tr>\n",
              "  </thead>\n",
              "  <tbody>\n",
              "    <tr>\n",
              "      <th>122637</th>\n",
              "      <td>0.000005</td>\n",
              "      <td>119</td>\n",
              "      <td>2</td>\n",
              "      <td>5</td>\n",
              "      <td>2</td>\n",
              "      <td>0</td>\n",
              "      <td>114</td>\n",
              "      <td>0</td>\n",
              "      <td>200000.005100</td>\n",
              "      <td>254</td>\n",
              "      <td>0</td>\n",
              "      <td>9.120000e+07</td>\n",
              "      <td>0.000000</td>\n",
              "      <td>0</td>\n",
              "      <td>0</td>\n",
              "      <td>0.005000</td>\n",
              "      <td>0.000000</td>\n",
              "      <td>0.000000</td>\n",
              "      <td>0.000000</td>\n",
              "      <td>0</td>\n",
              "      <td>0</td>\n",
              "      <td>0</td>\n",
              "      <td>0</td>\n",
              "      <td>0.000000</td>\n",
              "      <td>0.000000</td>\n",
              "      <td>0.000000</td>\n",
              "      <td>57</td>\n",
              "      <td>0</td>\n",
              "      <td>0</td>\n",
              "      <td>0</td>\n",
              "      <td>13</td>\n",
              "      <td>2</td>\n",
              "      <td>9</td>\n",
              "      <td>9</td>\n",
              "      <td>9</td>\n",
              "      <td>13</td>\n",
              "      <td>0</td>\n",
              "      <td>0</td>\n",
              "      <td>0</td>\n",
              "      <td>9</td>\n",
              "      <td>13</td>\n",
              "      <td>0</td>\n",
              "      <td>0</td>\n",
              "    </tr>\n",
              "    <tr>\n",
              "      <th>137118</th>\n",
              "      <td>0.000003</td>\n",
              "      <td>119</td>\n",
              "      <td>2</td>\n",
              "      <td>5</td>\n",
              "      <td>2</td>\n",
              "      <td>0</td>\n",
              "      <td>114</td>\n",
              "      <td>0</td>\n",
              "      <td>333333.321500</td>\n",
              "      <td>254</td>\n",
              "      <td>0</td>\n",
              "      <td>1.520000e+08</td>\n",
              "      <td>0.000000</td>\n",
              "      <td>0</td>\n",
              "      <td>0</td>\n",
              "      <td>0.003000</td>\n",
              "      <td>0.000000</td>\n",
              "      <td>0.000000</td>\n",
              "      <td>0.000000</td>\n",
              "      <td>0</td>\n",
              "      <td>0</td>\n",
              "      <td>0</td>\n",
              "      <td>0</td>\n",
              "      <td>0.000000</td>\n",
              "      <td>0.000000</td>\n",
              "      <td>0.000000</td>\n",
              "      <td>57</td>\n",
              "      <td>0</td>\n",
              "      <td>0</td>\n",
              "      <td>0</td>\n",
              "      <td>16</td>\n",
              "      <td>2</td>\n",
              "      <td>16</td>\n",
              "      <td>16</td>\n",
              "      <td>16</td>\n",
              "      <td>16</td>\n",
              "      <td>0</td>\n",
              "      <td>0</td>\n",
              "      <td>0</td>\n",
              "      <td>17</td>\n",
              "      <td>16</td>\n",
              "      <td>0</td>\n",
              "      <td>0</td>\n",
              "    </tr>\n",
              "    <tr>\n",
              "      <th>69948</th>\n",
              "      <td>1.167584</td>\n",
              "      <td>113</td>\n",
              "      <td>0</td>\n",
              "      <td>2</td>\n",
              "      <td>6</td>\n",
              "      <td>2</td>\n",
              "      <td>1012</td>\n",
              "      <td>86</td>\n",
              "      <td>5.995286</td>\n",
              "      <td>62</td>\n",
              "      <td>252</td>\n",
              "      <td>5.782882e+03</td>\n",
              "      <td>294.625488</td>\n",
              "      <td>2</td>\n",
              "      <td>1</td>\n",
              "      <td>233.516800</td>\n",
              "      <td>0.001000</td>\n",
              "      <td>13675.729750</td>\n",
              "      <td>0.000000</td>\n",
              "      <td>255</td>\n",
              "      <td>1497222707</td>\n",
              "      <td>3407537974</td>\n",
              "      <td>255</td>\n",
              "      <td>0.940009</td>\n",
              "      <td>0.560296</td>\n",
              "      <td>0.379713</td>\n",
              "      <td>169</td>\n",
              "      <td>43</td>\n",
              "      <td>0</td>\n",
              "      <td>0</td>\n",
              "      <td>2</td>\n",
              "      <td>3</td>\n",
              "      <td>1</td>\n",
              "      <td>1</td>\n",
              "      <td>1</td>\n",
              "      <td>2</td>\n",
              "      <td>0</td>\n",
              "      <td>0</td>\n",
              "      <td>0</td>\n",
              "      <td>2</td>\n",
              "      <td>2</td>\n",
              "      <td>0</td>\n",
              "      <td>1</td>\n",
              "    </tr>\n",
              "    <tr>\n",
              "      <th>45921</th>\n",
              "      <td>0.486485</td>\n",
              "      <td>113</td>\n",
              "      <td>5</td>\n",
              "      <td>4</td>\n",
              "      <td>10</td>\n",
              "      <td>8</td>\n",
              "      <td>798</td>\n",
              "      <td>1568</td>\n",
              "      <td>34.944551</td>\n",
              "      <td>62</td>\n",
              "      <td>252</td>\n",
              "      <td>1.182359e+04</td>\n",
              "      <td>22561.845700</td>\n",
              "      <td>2</td>\n",
              "      <td>2</td>\n",
              "      <td>54.053889</td>\n",
              "      <td>59.958430</td>\n",
              "      <td>2705.531092</td>\n",
              "      <td>82.549047</td>\n",
              "      <td>255</td>\n",
              "      <td>101844950</td>\n",
              "      <td>785426226</td>\n",
              "      <td>255</td>\n",
              "      <td>0.138611</td>\n",
              "      <td>0.065983</td>\n",
              "      <td>0.072628</td>\n",
              "      <td>80</td>\n",
              "      <td>196</td>\n",
              "      <td>1</td>\n",
              "      <td>372</td>\n",
              "      <td>1</td>\n",
              "      <td>1</td>\n",
              "      <td>1</td>\n",
              "      <td>1</td>\n",
              "      <td>1</td>\n",
              "      <td>1</td>\n",
              "      <td>0</td>\n",
              "      <td>0</td>\n",
              "      <td>1</td>\n",
              "      <td>1</td>\n",
              "      <td>1</td>\n",
              "      <td>0</td>\n",
              "      <td>0</td>\n",
              "    </tr>\n",
              "    <tr>\n",
              "      <th>31408</th>\n",
              "      <td>0.072147</td>\n",
              "      <td>119</td>\n",
              "      <td>0</td>\n",
              "      <td>2</td>\n",
              "      <td>4</td>\n",
              "      <td>4</td>\n",
              "      <td>568</td>\n",
              "      <td>312</td>\n",
              "      <td>97.024136</td>\n",
              "      <td>31</td>\n",
              "      <td>29</td>\n",
              "      <td>4.723689e+04</td>\n",
              "      <td>25947.025390</td>\n",
              "      <td>0</td>\n",
              "      <td>0</td>\n",
              "      <td>18.674334</td>\n",
              "      <td>23.547666</td>\n",
              "      <td>26.397475</td>\n",
              "      <td>33.299309</td>\n",
              "      <td>0</td>\n",
              "      <td>0</td>\n",
              "      <td>0</td>\n",
              "      <td>0</td>\n",
              "      <td>0.000000</td>\n",
              "      <td>0.000000</td>\n",
              "      <td>0.000000</td>\n",
              "      <td>142</td>\n",
              "      <td>78</td>\n",
              "      <td>0</td>\n",
              "      <td>0</td>\n",
              "      <td>7</td>\n",
              "      <td>0</td>\n",
              "      <td>5</td>\n",
              "      <td>1</td>\n",
              "      <td>1</td>\n",
              "      <td>5</td>\n",
              "      <td>0</td>\n",
              "      <td>0</td>\n",
              "      <td>0</td>\n",
              "      <td>2</td>\n",
              "      <td>8</td>\n",
              "      <td>0</td>\n",
              "      <td>1</td>\n",
              "    </tr>\n",
              "  </tbody>\n",
              "</table>\n",
              "</div>"
            ],
            "text/plain": [
              "             dur  proto  service  ...  ct_srv_dst  is_sm_ips_ports  anom_deciscion\n",
              "122637  0.000005    119        2  ...          13                0               0\n",
              "137118  0.000003    119        2  ...          16                0               0\n",
              "69948   1.167584    113        0  ...           2                0               1\n",
              "45921   0.486485    113        5  ...           1                0               0\n",
              "31408   0.072147    119        0  ...           8                0               1\n",
              "\n",
              "[5 rows x 43 columns]"
            ]
          },
          "metadata": {
            "tags": []
          },
          "execution_count": 24
        }
      ]
    },
    {
      "cell_type": "code",
      "metadata": {
        "id": "LxL0MDPZpxQe"
      },
      "source": [
        " deciscion['anom_decision']  = pd.DataFrame(Anom_X_test['anom_deciscion'])\r\n"
      ],
      "execution_count": 25,
      "outputs": []
    },
    {
      "cell_type": "code",
      "metadata": {
        "id": "0hq96QqcjwHd"
      },
      "source": [
        " Final_decision =  pd.DataFrame(columns=['Output'])\r\n"
      ],
      "execution_count": 58,
      "outputs": []
    },
    {
      "cell_type": "code",
      "metadata": {
        "id": "QLrGPgekq4QC",
        "outputId": "57192722-1777-4231-c675-b06d4b7932c6",
        "colab": {
          "base_uri": "https://localhost:8080/"
        }
      },
      "source": [
        "Final_decision.shape"
      ],
      "execution_count": 59,
      "outputs": [
        {
          "output_type": "execute_result",
          "data": {
            "text/plain": [
              "(0, 1)"
            ]
          },
          "metadata": {
            "tags": []
          },
          "execution_count": 59
        }
      ]
    },
    {
      "cell_type": "code",
      "metadata": {
        "id": "_M8gkmtUo9rE",
        "outputId": "4ede1b70-befb-4a34-bb69-57638ff57287",
        "colab": {
          "base_uri": "https://localhost:8080/",
          "height": 669
        }
      },
      "source": [
        "deciscion.head(20)"
      ],
      "execution_count": 68,
      "outputs": [
        {
          "output_type": "execute_result",
          "data": {
            "text/html": [
              "<div>\n",
              "<style scoped>\n",
              "    .dataframe tbody tr th:only-of-type {\n",
              "        vertical-align: middle;\n",
              "    }\n",
              "\n",
              "    .dataframe tbody tr th {\n",
              "        vertical-align: top;\n",
              "    }\n",
              "\n",
              "    .dataframe thead th {\n",
              "        text-align: right;\n",
              "    }\n",
              "</style>\n",
              "<table border=\"1\" class=\"dataframe\">\n",
              "  <thead>\n",
              "    <tr style=\"text-align: right;\">\n",
              "      <th></th>\n",
              "      <th>sign_deciscion</th>\n",
              "      <th>anom_decision</th>\n",
              "    </tr>\n",
              "  </thead>\n",
              "  <tbody>\n",
              "    <tr>\n",
              "      <th>122637</th>\n",
              "      <td>1</td>\n",
              "      <td>0</td>\n",
              "    </tr>\n",
              "    <tr>\n",
              "      <th>137118</th>\n",
              "      <td>1</td>\n",
              "      <td>0</td>\n",
              "    </tr>\n",
              "    <tr>\n",
              "      <th>69948</th>\n",
              "      <td>0</td>\n",
              "      <td>1</td>\n",
              "    </tr>\n",
              "    <tr>\n",
              "      <th>45921</th>\n",
              "      <td>1</td>\n",
              "      <td>0</td>\n",
              "    </tr>\n",
              "    <tr>\n",
              "      <th>31408</th>\n",
              "      <td>0</td>\n",
              "      <td>1</td>\n",
              "    </tr>\n",
              "    <tr>\n",
              "      <th>92650</th>\n",
              "      <td>1</td>\n",
              "      <td>0</td>\n",
              "    </tr>\n",
              "    <tr>\n",
              "      <th>66839</th>\n",
              "      <td>1</td>\n",
              "      <td>0</td>\n",
              "    </tr>\n",
              "    <tr>\n",
              "      <th>123191</th>\n",
              "      <td>1</td>\n",
              "      <td>0</td>\n",
              "    </tr>\n",
              "    <tr>\n",
              "      <th>9754</th>\n",
              "      <td>1</td>\n",
              "      <td>0</td>\n",
              "    </tr>\n",
              "    <tr>\n",
              "      <th>169313</th>\n",
              "      <td>1</td>\n",
              "      <td>0</td>\n",
              "    </tr>\n",
              "    <tr>\n",
              "      <th>65384</th>\n",
              "      <td>1</td>\n",
              "      <td>1</td>\n",
              "    </tr>\n",
              "    <tr>\n",
              "      <th>2572</th>\n",
              "      <td>1</td>\n",
              "      <td>0</td>\n",
              "    </tr>\n",
              "    <tr>\n",
              "      <th>31185</th>\n",
              "      <td>0</td>\n",
              "      <td>1</td>\n",
              "    </tr>\n",
              "    <tr>\n",
              "      <th>9521</th>\n",
              "      <td>0</td>\n",
              "      <td>1</td>\n",
              "    </tr>\n",
              "    <tr>\n",
              "      <th>25986</th>\n",
              "      <td>0</td>\n",
              "      <td>1</td>\n",
              "    </tr>\n",
              "    <tr>\n",
              "      <th>63489</th>\n",
              "      <td>1</td>\n",
              "      <td>1</td>\n",
              "    </tr>\n",
              "    <tr>\n",
              "      <th>5324</th>\n",
              "      <td>0</td>\n",
              "      <td>1</td>\n",
              "    </tr>\n",
              "    <tr>\n",
              "      <th>73796</th>\n",
              "      <td>0</td>\n",
              "      <td>0</td>\n",
              "    </tr>\n",
              "    <tr>\n",
              "      <th>6784</th>\n",
              "      <td>0</td>\n",
              "      <td>1</td>\n",
              "    </tr>\n",
              "    <tr>\n",
              "      <th>136833</th>\n",
              "      <td>1</td>\n",
              "      <td>0</td>\n",
              "    </tr>\n",
              "  </tbody>\n",
              "</table>\n",
              "</div>"
            ],
            "text/plain": [
              "        sign_deciscion  anom_decision\n",
              "122637               1              0\n",
              "137118               1              0\n",
              "69948                0              1\n",
              "45921                1              0\n",
              "31408                0              1\n",
              "92650                1              0\n",
              "66839                1              0\n",
              "123191               1              0\n",
              "9754                 1              0\n",
              "169313               1              0\n",
              "65384                1              1\n",
              "2572                 1              0\n",
              "31185                0              1\n",
              "9521                 0              1\n",
              "25986                0              1\n",
              "63489                1              1\n",
              "5324                 0              1\n",
              "73796                0              0\n",
              "6784                 0              1\n",
              "136833               1              0"
            ]
          },
          "metadata": {
            "tags": []
          },
          "execution_count": 68
        }
      ]
    },
    {
      "cell_type": "code",
      "metadata": {
        "id": "6P_aaxUeISQf"
      },
      "source": [
        "# #print(deciscion.head(500))\r\n",
        "# pd.set_option('display.max_rows', deciscion.shape[0]+1)\r\n",
        "# print(deciscion)"
      ],
      "execution_count": null,
      "outputs": []
    },
    {
      "cell_type": "markdown",
      "metadata": {
        "id": "6ni3bh-vxjbD"
      },
      "source": [
        "<table style=\"width:100%\">\r\n",
        "<tr>\r\n",
        "<th>sign <th>\r\n",
        "<th>anom<th>\r\n",
        "<th>soutput<th>\r\n",
        "</tr>\r\n",
        "<tr>\r\n",
        "<th><p>0</p></th>\r\n",
        "<th><p>0</p></th>\r\n",
        "<th><p>0</p></th>\r\n",
        "</tr>\r\n",
        "<tr>\r\n",
        "<th>1</th>\r\n",
        "<th>1</th>\r\n",
        "<th>1</th>\r\n",
        "</tr>\r\n",
        "<tr>\r\n",
        "<th>0</th>\r\n",
        "<th>1</th>\r\n",
        "<th>-1</th>\r\n",
        "</tr>\r\n",
        "<tr>\r\n",
        "<th>1</th>\r\n",
        "<th>0</th>\r\n",
        "<th>-1</th>\r\n",
        "</tr>\r\n",
        "</table>"
      ]
    },
    {
      "cell_type": "code",
      "metadata": {
        "id": "kGSHkSC1hY7g"
      },
      "source": [
        "\r\n",
        "for index, row in deciscion.iterrows():\r\n",
        "    if((row['anom_decision']==1) and (row['sign_deciscion']== 1)):\r\n",
        "        Final_decision.loc[index] = 1\r\n",
        "    elif((row['anom_decision']==0) and (row['sign_deciscion']== 0)):\r\n",
        "        Final_decision.loc[index] = 0\r\n",
        "    else:\r\n",
        "      Final_decision.loc[index] = -1"
      ],
      "execution_count": 89,
      "outputs": []
    },
    {
      "cell_type": "code",
      "metadata": {
        "id": "PCKoHtQ30mvB"
      },
      "source": [
        "for index, row in deciscion.iterrows():\r\n",
        "    if((row['anom_decision']==1) and (row['sign_deciscion']== 1)):\r\n",
        "        Final_decision.loc[index] = 1\r\n",
        "    elif((row['anom_decision']==0) and (row['sign_deciscion']== 0)):\r\n",
        "        Final_decision.loc[index] = 0\r\n",
        "    elif((row['anom_decision']==1) and (row['sign_deciscion']== 0)):\r\n",
        "        Final_decision.loc[index] = 1\r\n",
        "    else:\r\n",
        "      Final_decision.loc[index] = -1"
      ],
      "execution_count": 94,
      "outputs": []
    },
    {
      "cell_type": "code",
      "metadata": {
        "id": "TwLSHvidmZU1"
      },
      "source": [
        "Final_decision.head(20)\r\n",
        "# pd.set_option('display.max_rows', Final_decision.shape[0]+1)\r\n",
        "# print(Final_decision)"
      ],
      "execution_count": null,
      "outputs": []
    },
    {
      "cell_type": "code",
      "metadata": {
        "id": "LE_7AWmkt0gj",
        "outputId": "267b60e8-3e71-4256-b1dc-05ed620ed9df",
        "colab": {
          "base_uri": "https://localhost:8080/"
        }
      },
      "source": [
        "pred_attack = Final_decision.where(Final_decision['Output'] == 1).dropna()\r\n",
        "#val = Final_decision.where(Final_decision['output'] == 0).dropna()\r\n",
        "pred_attack.shape"
      ],
      "execution_count": 95,
      "outputs": [
        {
          "output_type": "execute_result",
          "data": {
            "text/plain": [
              "(19048, 1)"
            ]
          },
          "metadata": {
            "tags": []
          },
          "execution_count": 95
        }
      ]
    },
    {
      "cell_type": "code",
      "metadata": {
        "id": "IPOgONURwR-S",
        "outputId": "7ba3e641-c486-46c6-b946-28fe643f8029",
        "colab": {
          "base_uri": "https://localhost:8080/"
        }
      },
      "source": [
        "true_attack = y_test.where(y_test['label'] == 1).dropna()\r\n",
        "true_attack.shape"
      ],
      "execution_count": 96,
      "outputs": [
        {
          "output_type": "execute_result",
          "data": {
            "text/plain": [
              "(32922, 1)"
            ]
          },
          "metadata": {
            "tags": []
          },
          "execution_count": 96
        }
      ]
    },
    {
      "cell_type": "code",
      "metadata": {
        "id": "_IxdgCPA1XLL",
        "outputId": "41747675-341e-48f9-dc49-460fb56a3a26",
        "colab": {
          "base_uri": "https://localhost:8080/"
        }
      },
      "source": [
        "accuracy = len(pred_attack)/len(true_attack)\r\n",
        "print(100* accuracy)"
      ],
      "execution_count": 97,
      "outputs": [
        {
          "output_type": "stream",
          "text": [
            "57.85796731668793\n"
          ],
          "name": "stdout"
        }
      ]
    },
    {
      "cell_type": "markdown",
      "metadata": {
        "id": "ayEzNKEozXja"
      },
      "source": [
        "<h1><b>The KNN MODEL</b><h1>"
      ]
    },
    {
      "cell_type": "code",
      "metadata": {
        "id": "twvrr6d5jSOq"
      },
      "source": [
        "#========== TRAIN KNN MODEL ==========\n",
        "knn_clf = knn.KNN(contamination=contamination, radius=1.5, n_neighbors=20, n_jobs=-1) #TODO radius\n",
        "_ = knn_clf.fit(X_train)\n",
        "\n",
        "# predictions = knn_clf.predict(X_train)\n",
        "# print(f'Acc of train: {accuracy_score(y_train, predictions)}')\n",
        "# predictions = knn_clf.predict(X_test)\n",
        "# print(f'Acc of test: {accuracy_score(y_test, predictions)}')"
      ],
      "execution_count": null,
      "outputs": []
    },
    {
      "cell_type": "code",
      "metadata": {
        "id": "qg2ZR9hN0BSC",
        "colab": {
          "base_uri": "https://localhost:8080/"
        },
        "outputId": "0a88d537-98ae-411c-bb02-7e603e2bc2bb"
      },
      "source": [
        "#======= EVALUATE KNN MODEL =================\r\n",
        "\r\n",
        "PrintScoreMetrics(knn_clf,X_test,y_test)"
      ],
      "execution_count": null,
      "outputs": [
        {
          "output_type": "stream",
          "text": [
            "The model scores 0.34280 ROC AUC on the test set.\n",
            "The precision score on the test set: 0.55034\n",
            "The recall score on the test set: 0.34649\n",
            "Confusion Matrix:\n",
            " [[ 9293  9320]\n",
            " [21515 11407]]\n",
            "Classification Report:\n",
            "               precision    recall  f1-score   support\n",
            "\n",
            "           0       0.30      0.50      0.38     18613\n",
            "           1       0.55      0.35      0.43     32922\n",
            "\n",
            "    accuracy                           0.40     51535\n",
            "   macro avg       0.43      0.42      0.40     51535\n",
            "weighted avg       0.46      0.40      0.41     51535\n",
            "\n"
          ],
          "name": "stdout"
        }
      ]
    },
    {
      "cell_type": "markdown",
      "metadata": {
        "id": "7qgYsFJR1Ndc"
      },
      "source": [
        "<h1><b>The OCSVM MODEL</b><h1>"
      ]
    },
    {
      "cell_type": "code",
      "metadata": {
        "id": "I8gsbiYtjSRk",
        "colab": {
          "base_uri": "https://localhost:8080/"
        },
        "outputId": "528376a4-064a-4bf0-f57d-8ce865d54c6a"
      },
      "source": [
        "#================== TRAIN OCSVM ===============================\n",
        "ocsvm_clf = ocsvm.OCSVM(contamination=contamination)\n",
        "_ = ocsvm_clf.fit(X_train[:1000])\n"
      ],
      "execution_count": null,
      "outputs": [
        {
          "output_type": "stream",
          "text": [
            "Acc of train: 0.5885523290223055\n",
            "Acc of test: 0.588221596972931\n"
          ],
          "name": "stdout"
        }
      ]
    },
    {
      "cell_type": "code",
      "metadata": {
        "id": "2u3FZihu1eIO",
        "colab": {
          "base_uri": "https://localhost:8080/"
        },
        "outputId": "3ea4a58d-6f01-4eb2-e138-13a903dec191"
      },
      "source": [
        "#======= EVALUATE OCSVM MODEL =================\r\n",
        "\r\n",
        "PrintScoreMetrics(knn_clf,X_test,y_test)"
      ],
      "execution_count": null,
      "outputs": [
        {
          "output_type": "stream",
          "text": [
            "The model scores 0.34280 ROC AUC on the test set.\n",
            "The precision score on the test set: 0.55034\n",
            "The recall score on the test set: 0.34649\n",
            "Confusion Matrix:\n",
            " [[ 9293  9320]\n",
            " [21515 11407]]\n",
            "Classification Report:\n",
            "               precision    recall  f1-score   support\n",
            "\n",
            "           0       0.30      0.50      0.38     18613\n",
            "           1       0.55      0.35      0.43     32922\n",
            "\n",
            "    accuracy                           0.40     51535\n",
            "   macro avg       0.43      0.42      0.40     51535\n",
            "weighted avg       0.46      0.40      0.41     51535\n",
            "\n"
          ],
          "name": "stdout"
        }
      ]
    },
    {
      "cell_type": "markdown",
      "metadata": {
        "id": "FVMMaa4H2LGi"
      },
      "source": [
        "<h1><b>The Angle-Based Outlier Detection (ABOD) MODEL</b><h1>\r\n",
        "\r\n"
      ]
    },
    {
      "cell_type": "code",
      "metadata": {
        "id": "1T_uPrDSjRop",
        "colab": {
          "base_uri": "https://localhost:8080/"
        },
        "outputId": "8a9f09f1-e678-4c21-a0ba-f1814d86dd49"
      },
      "source": [
        "#================ TRAIN ABOD MODEL =====================\n",
        "X_temp = X_train.astype(np.float) \n",
        "abod_clf = abod.ABOD(contamination=contamination, n_neighbors=10, )\n",
        "_ = abod_clf.fit(X_temp)\n"
      ],
      "execution_count": null,
      "outputs": [
        {
          "output_type": "stream",
          "text": [
            "Acc of train: 0.3608602004482434\n",
            "Acc of test: 0.3611720190162026\n"
          ],
          "name": "stdout"
        }
      ]
    },
    {
      "cell_type": "code",
      "metadata": {
        "id": "eYYW2Fy-2m-i",
        "colab": {
          "base_uri": "https://localhost:8080/"
        },
        "outputId": "cb84dadd-162d-455b-a398-9c5defbb0aae"
      },
      "source": [
        "#======= EVALUATE ABOD MODEL =================\r\n",
        "\r\n",
        "PrintScoreMetrics(knn_clf,X_test,y_test)"
      ],
      "execution_count": null,
      "outputs": [
        {
          "output_type": "stream",
          "text": [
            "The model scores 0.34280 ROC AUC on the test set.\n",
            "The precision score on the test set: 0.55034\n",
            "The recall score on the test set: 0.34649\n",
            "Confusion Matrix:\n",
            " [[ 9293  9320]\n",
            " [21515 11407]]\n",
            "Classification Report:\n",
            "               precision    recall  f1-score   support\n",
            "\n",
            "           0       0.30      0.50      0.38     18613\n",
            "           1       0.55      0.35      0.43     32922\n",
            "\n",
            "    accuracy                           0.40     51535\n",
            "   macro avg       0.43      0.42      0.40     51535\n",
            "weighted avg       0.46      0.40      0.41     51535\n",
            "\n"
          ],
          "name": "stdout"
        }
      ]
    },
    {
      "cell_type": "markdown",
      "metadata": {
        "id": "qoaV-Tgp22aq"
      },
      "source": [
        "<h1><b>The HDBSCAN MODEL</b><h1>\r\n",
        "\r\n"
      ]
    },
    {
      "cell_type": "code",
      "metadata": {
        "id": "jmvwsp-KnNWi",
        "colab": {
          "base_uri": "https://localhost:8080/"
        },
        "outputId": "062e4904-5c73-473f-833d-7b29c3482f1b"
      },
      "source": [
        "hdbScan_clf = HDBSCAN(10, leaf_size=80)\n",
        "_ = hdbScan_clf.fit(X_train)\n",
        "\n",
        "hdbScan_clf_outliers = hdbScan_clf.outlier_scores_ > 0.15 # akin to clf.pred_proba \n",
        "print(round(100*sum(hdbScan_clf_outliers == True)/X_train.shape[0], 5),\"% outliers\")\n",
        "print(accuracy_score(y_train, hdbScan_clf_outliers))\n",
        "\n",
        "print('')\n",
        "\n",
        "hdbScan_clf_outliers = hdbScan_clf.outlier_scores_ > 0.45 # akin to clf.pred_proba \n",
        "print(round(100*sum(hdbScan_clf_outliers == True)/X_train.shape[0], 5),\"% outliers\")\n",
        "print(accuracy_score(y_train, hdbScan_clf_outliers))"
      ],
      "execution_count": null,
      "outputs": [
        {
          "output_type": "stream",
          "text": [
            "13.31681 % outliers\n",
            "0.32942009721642784\n",
            "\n",
            "3.17845 % outliers\n",
            "0.3606564534438095\n"
          ],
          "name": "stdout"
        }
      ]
    },
    {
      "cell_type": "markdown",
      "metadata": {
        "id": "uYbRGzJvoPJL"
      },
      "source": [
        "<h1><b>the OPTICS model</b><h1>"
      ]
    },
    {
      "cell_type": "code",
      "metadata": {
        "id": "gJY4PEQhnNb5"
      },
      "source": [
        "from matplotlib import gridspec \r\n",
        "from sklearn.cluster import OPTICS, cluster_optics_dbscan "
      ],
      "execution_count": null,
      "outputs": []
    },
    {
      "cell_type": "markdown",
      "metadata": {
        "id": "jFqftQnKwkYn"
      },
      "source": [
        "<h1><b>Building the Clustering Model</b><h1>"
      ]
    },
    {
      "cell_type": "code",
      "metadata": {
        "id": "Wyk3QFMNq-BI",
        "colab": {
          "base_uri": "https://localhost:8080/"
        },
        "outputId": "8dea4862-2435-492a-f093-c56b13364c64"
      },
      "source": [
        "# Building the OPTICS Clustering model \r\n",
        "optics_model = OPTICS(min_samples = 10, xi = 0.05, min_cluster_size = 0.05) \r\n",
        "X_train = X_train.head(9000)\r\n",
        "# Training the model \r\n",
        "optics_model.fit(X_train) "
      ],
      "execution_count": null,
      "outputs": [
        {
          "output_type": "execute_result",
          "data": {
            "text/plain": [
              "OPTICS(algorithm='auto', cluster_method='xi', eps=None, leaf_size=30,\n",
              "       max_eps=inf, metric='minkowski', metric_params=None,\n",
              "       min_cluster_size=0.05, min_samples=10, n_jobs=None, p=2,\n",
              "       predecessor_correction=True, xi=0.05)"
            ]
          },
          "metadata": {
            "tags": []
          },
          "execution_count": 55
        }
      ]
    },
    {
      "cell_type": "markdown",
      "metadata": {
        "id": "alU9Y-cGwuZl"
      },
      "source": [
        "<h1><b> Storing the results of the training</b></h1>"
      ]
    },
    {
      "cell_type": "code",
      "metadata": {
        "colab": {
          "base_uri": "https://localhost:8080/"
        },
        "id": "hRU8jL_Zo-7J",
        "outputId": "b02c59b4-b887-4d79-cd63-4f30b3c2be8b"
      },
      "source": [
        "# Producing the labels according to the DBSCAN technique with eps = 0.5 \r\n",
        "labels1 = cluster_optics_dbscan(reachability = optics_model.reachability_, \r\n",
        "\t\t\t\t\t\t\t\tcore_distances = optics_model.core_distances_, \r\n",
        "\t\t\t\t\t\t\t\tordering = optics_model.ordering_, eps = 0.5) \r\n",
        "\r\n",
        "# Producing the labels according to the DBSCAN technique with eps = 2.0 \r\n",
        "labels2 = cluster_optics_dbscan(reachability = optics_model.reachability_, \r\n",
        "\t\t\t\t\t\t\t\tcore_distances = optics_model.core_distances_, \r\n",
        "\t\t\t\t\t\t\t\tordering = optics_model.ordering_, eps = 2) \r\n",
        "\r\n",
        "# Creating a numpy array with numbers at equal spaces till \r\n",
        "# the specified range \r\n",
        "space = np.arange(len(X_train)) \r\n",
        "\r\n",
        "# Storing the reachability distance of each point \r\n",
        "reachability = optics_model.reachability_[optics_model.ordering_] \r\n",
        "\r\n",
        "# Storing the cluster labels of each point \r\n",
        "labels = optics_model.labels_[optics_model.ordering_] \r\n",
        "\r\n",
        "print(labels) \r\n"
      ],
      "execution_count": null,
      "outputs": [
        {
          "output_type": "stream",
          "text": [
            "[ 0  0  0  0  0  0  0  0  0  0  0  0  0  0  0  0  0  0  0  0  0  0  0  0\n",
            "  0  0  0  0  0  0  0  0  0  0  0  0  0  0  0  0  0  0  0  0  0  0  0  0\n",
            "  0  0  0  0  0  0  0  0  0  0  0  0  0  0  0  0  0  0  0  0 -1 -1 -1 -1\n",
            " -1 -1 -1 -1 -1 -1 -1 -1 -1 -1 -1 -1 -1 -1 -1 -1 -1 -1 -1 -1 -1 -1 -1 -1\n",
            " -1 -1 -1 -1 -1 -1 -1 -1 -1 -1 -1 -1 -1 -1 -1 -1 -1 -1 -1 -1 -1 -1 -1 -1\n",
            " -1 -1 -1 -1 -1 -1  1  1  1  1  1  1  1  1  1  1  1  1  1  1  1  1  1  1\n",
            "  1  1  1  1  1  1  1  1  1  1  1  1  1  1  1  1  1  1  1  1  1  1  1  1\n",
            "  1  1  1  1  1  1  1  1  1  1  1  1  1  1  1  1  1  1  1  1  1  1  1  1\n",
            "  1  1  1  1  1  1  1  1  1  1  1  1  1  1  1  1  1 -1 -1 -1 -1 -1 -1 -1\n",
            " -1 -1 -1 -1 -1 -1 -1 -1 -1 -1 -1 -1 -1 -1 -1 -1 -1 -1 -1 -1 -1 -1 -1 -1\n",
            " -1 -1 -1 -1 -1 -1 -1 -1 -1 -1 -1 -1 -1 -1 -1 -1 -1  2  2  2  2  2  2  2\n",
            "  2  2  2  2  2  2  2  2  2  2  2  2  2  2  2  2  2  2  2  2  2  2  2  2\n",
            "  2  2  2  2  2  2  2  2  2  2  2  2  2  2  2  2  2  2  2  2  2  2  2  2\n",
            "  2  2  2  2  2  2  2  2  2  2  2  2  2  2  2  2  2  2  2  2  2  2  2  2\n",
            "  2  2  2  2  2  2  2  2  2 -1 -1 -1 -1 -1 -1 -1 -1 -1 -1 -1 -1 -1 -1 -1\n",
            " -1 -1 -1 -1 -1 -1 -1 -1 -1 -1 -1 -1 -1 -1 -1 -1 -1 -1  3  3  3  3  3  3\n",
            "  3  3  3  3  3  3  3  3  3  3  3  3  3  3  3  3  3  3  3  3  3  3  3  3\n",
            "  3  3  3  3  3  3  3  3  3  3  3  3  3  3  3  3  3  3  3  3  3  3  3  3\n",
            "  3  3  3  3  3  3  3  3  3  3  3  3  3  3 -1 -1 -1 -1 -1 -1 -1 -1 -1 -1\n",
            " -1 -1 -1 -1 -1 -1 -1 -1 -1 -1 -1 -1  4  4  4  4  4  4  4  4  4  4  4  4\n",
            "  4  4  4  4  4  4  4  4  4  4  4  4  4  4  4  4  4  4  4  4  4  4  4  4\n",
            "  4  4  4  4  4  4  4  4  4  4  4  4  4  4  4  4 -1  5  5  5  5  5  5  5\n",
            "  5  5  5  5  5  5  5  5  5  5  5  5  5  5  5  5  5  5  5  5  5  5  5  5\n",
            "  5  5  5  5  5  5  5  5  5  5  5  5  5  5  5  5  5  5  5  5  5  5  5  5\n",
            "  5  5  5  5  5  5  5  5  5 -1 -1 -1 -1 -1 -1 -1 -1 -1 -1 -1 -1 -1 -1 -1\n",
            " -1 -1 -1 -1 -1 -1 -1 -1 -1 -1 -1 -1 -1 -1 -1 -1 -1 -1 -1 -1 -1 -1 -1 -1\n",
            " -1 -1 -1 -1 -1 -1 -1 -1 -1 -1 -1 -1 -1 -1 -1 -1 -1 -1 -1 -1 -1 -1 -1 -1\n",
            " -1 -1 -1 -1 -1 -1 -1 -1 -1 -1 -1 -1 -1 -1 -1 -1 -1 -1 -1 -1 -1 -1 -1 -1\n",
            " -1 -1 -1 -1 -1 -1 -1 -1 -1 -1 -1 -1 -1 -1 -1 -1 -1 -1 -1 -1 -1 -1 -1 -1\n",
            " -1 -1 -1 -1 -1 -1 -1 -1 -1 -1 -1 -1 -1 -1 -1 -1 -1 -1 -1 -1 -1 -1 -1 -1\n",
            " -1 -1 -1 -1 -1 -1 -1 -1 -1 -1 -1 -1 -1 -1 -1 -1 -1 -1 -1 -1 -1 -1 -1 -1\n",
            " -1 -1 -1 -1 -1 -1 -1 -1 -1 -1 -1 -1 -1 -1 -1 -1 -1 -1 -1 -1 -1 -1 -1 -1\n",
            " -1 -1 -1 -1 -1 -1 -1 -1 -1 -1 -1 -1 -1 -1 -1 -1 -1 -1 -1 -1 -1 -1 -1 -1\n",
            " -1 -1 -1 -1 -1 -1 -1 -1 -1 -1 -1 -1 -1 -1 -1 -1 -1 -1 -1 -1 -1 -1 -1 -1\n",
            " -1 -1 -1 -1 -1 -1 -1 -1 -1 -1 -1 -1 -1 -1 -1 -1 -1 -1 -1 -1 -1 -1 -1 -1\n",
            " -1 -1 -1 -1 -1 -1 -1 -1 -1 -1 -1 -1 -1 -1 -1 -1 -1 -1 -1 -1 -1 -1 -1 -1\n",
            " -1 -1 -1 -1 -1 -1 -1 -1 -1 -1 -1 -1 -1 -1 -1 -1 -1 -1 -1 -1 -1 -1 -1 -1\n",
            " -1 -1 -1 -1 -1 -1 -1 -1 -1 -1 -1 -1 -1 -1 -1 -1 -1 -1 -1 -1 -1 -1 -1 -1\n",
            " -1 -1 -1 -1 -1 -1 -1 -1 -1 -1 -1 -1 -1 -1 -1 -1 -1 -1 -1 -1 -1 -1 -1 -1\n",
            " -1 -1 -1 -1 -1 -1 -1 -1 -1 -1 -1 -1 -1 -1 -1 -1 -1 -1 -1 -1 -1 -1 -1 -1\n",
            " -1 -1 -1 -1 -1 -1 -1 -1 -1 -1 -1 -1 -1 -1 -1 -1 -1 -1 -1 -1 -1 -1 -1 -1\n",
            " -1 -1 -1 -1 -1 -1 -1 -1 -1 -1 -1 -1 -1 -1 -1 -1]\n"
          ],
          "name": "stdout"
        }
      ]
    },
    {
      "cell_type": "markdown",
      "metadata": {
        "id": "QP7tyLNNw02m"
      },
      "source": [
        "<h1><b>Visualizing the results</b></h1>"
      ]
    },
    {
      "cell_type": "code",
      "metadata": {
        "colab": {
          "base_uri": "https://localhost:8080/",
          "height": 695
        },
        "id": "aIRQyb3upEfZ",
        "outputId": "491a63e5-dd6e-4bef-bdb2-3f3214c1a0b0"
      },
      "source": [
        "# Defining the framework of the visualization \r\n",
        "plt.figure(figsize =(10, 7)) \r\n",
        "G = gridspec.GridSpec(2, 3) \r\n",
        "ax1 = plt.subplot(G[0, :]) \r\n",
        "ax2 = plt.subplot(G[1, 0]) \r\n",
        "ax3 = plt.subplot(G[1, 1]) \r\n",
        "ax4 = plt.subplot(G[1, 2]) \r\n",
        "\r\n",
        "# Plotting the Reachability-Distance Plot \r\n",
        "colors = ['c.', 'b.', 'r.', 'y.', 'g.'] \r\n",
        "for Class, colour in zip(range(0, 5), colors): \r\n",
        "\tXk = space[labels == Class] \r\n",
        "\tRk = reachability[labels == Class] \r\n",
        "\tax1.plot(Xk, Rk, colour, alpha = 0.3) \r\n",
        "ax1.plot(space[labels == -1], reachability[labels == -1], 'k.', alpha = 0.3) \r\n",
        "ax1.plot(space, np.full_like(space, 2., dtype = float), 'k-', alpha = 0.5) \r\n",
        "ax1.plot(space, np.full_like(space, 0.5, dtype = float), 'k-.', alpha = 0.5) \r\n",
        "ax1.set_ylabel('Reachability Distance') \r\n",
        "ax1.set_title('Reachability Plot') \r\n",
        "\r\n",
        "# Plotting the OPTICS Clustering \r\n",
        "colors = ['c.', 'b.', 'r.', 'y.', 'g.'] \r\n",
        "for Class, colour in zip(range(0, 5), colors): \r\n",
        "\tXk = X_train[optics_model.labels_ == Class] \r\n",
        "\tax2.plot(Xk.iloc[:, 0], Xk.iloc[:, 1], colour, alpha = 0.3) \r\n",
        "\t\r\n",
        "ax2.plot(X_train.iloc[optics_model.labels_ == -1, 0], \r\n",
        "\t\tX_train.iloc[optics_model.labels_ == -1, 1], \r\n",
        "\t'k+', alpha = 0.1) \r\n",
        "ax2.set_title('OPTICS Clustering') \r\n",
        "\r\n",
        "# Plotting the DBSCAN Clustering with eps = 0.5 \r\n",
        "colors = ['c', 'b', 'r', 'y', 'g', 'greenyellow'] \r\n",
        "for Class, colour in zip(range(0, 6), colors): \r\n",
        "\tXk = X_train[labels1 == Class] \r\n",
        "\tax3.plot(Xk.iloc[:, 0], Xk.iloc[:, 1], colour, alpha = 0.3, marker ='.') \r\n",
        "\t\t\r\n",
        "ax3.plot(X_train.iloc[labels1 == -1, 0], \r\n",
        "\t\tX_train.iloc[labels1 == -1, 1], \r\n",
        "\t'k+', alpha = 0.1) \r\n",
        "ax3.set_title('DBSCAN clustering with eps = 0.5') \r\n",
        "\r\n",
        "# Plotting the DBSCAN Clustering with eps = 2.0 \r\n",
        "colors = ['c.', 'y.', 'm.', 'g.'] \r\n",
        "for Class, colour in zip(range(0, 4), colors): \r\n",
        "\tXk = X_train.iloc[labels2 == Class] \r\n",
        "\tax4.plot(Xk.iloc[:, 0], Xk.iloc[:, 1], colour, alpha = 0.3) \r\n",
        "\t\t\r\n",
        "ax4.plot(X_train.iloc[labels2 == -1, 0], \r\n",
        "\t\tX_train.iloc[labels2 == -1, 1], \r\n",
        "\t'k+', alpha = 0.1) \r\n",
        "ax4.set_title('DBSCAN Clustering with eps = 2.0') \r\n",
        "\r\n",
        "\r\n",
        "plt.tight_layout() \r\n",
        "plt.show() \r\n"
      ],
      "execution_count": null,
      "outputs": [
        {
          "output_type": "execute_result",
          "data": {
            "text/plain": [
              "<Figure size 720x504 with 0 Axes>"
            ]
          },
          "metadata": {
            "tags": []
          },
          "execution_count": 57
        },
        {
          "output_type": "execute_result",
          "data": {
            "text/plain": [
              "[<matplotlib.lines.Line2D at 0x7f1c79ac22e8>]"
            ]
          },
          "metadata": {
            "tags": []
          },
          "execution_count": 57
        },
        {
          "output_type": "execute_result",
          "data": {
            "text/plain": [
              "[<matplotlib.lines.Line2D at 0x7f1c799ac048>]"
            ]
          },
          "metadata": {
            "tags": []
          },
          "execution_count": 57
        },
        {
          "output_type": "execute_result",
          "data": {
            "text/plain": [
              "[<matplotlib.lines.Line2D at 0x7f1c799ac358>]"
            ]
          },
          "metadata": {
            "tags": []
          },
          "execution_count": 57
        },
        {
          "output_type": "execute_result",
          "data": {
            "text/plain": [
              "[<matplotlib.lines.Line2D at 0x7f1c799ac7b8>]"
            ]
          },
          "metadata": {
            "tags": []
          },
          "execution_count": 57
        },
        {
          "output_type": "execute_result",
          "data": {
            "text/plain": [
              "[<matplotlib.lines.Line2D at 0x7f1c799acb00>]"
            ]
          },
          "metadata": {
            "tags": []
          },
          "execution_count": 57
        },
        {
          "output_type": "execute_result",
          "data": {
            "text/plain": [
              "[<matplotlib.lines.Line2D at 0x7f1c83058780>]"
            ]
          },
          "metadata": {
            "tags": []
          },
          "execution_count": 57
        },
        {
          "output_type": "execute_result",
          "data": {
            "text/plain": [
              "[<matplotlib.lines.Line2D at 0x7f1c83058dd8>]"
            ]
          },
          "metadata": {
            "tags": []
          },
          "execution_count": 57
        },
        {
          "output_type": "execute_result",
          "data": {
            "text/plain": [
              "[<matplotlib.lines.Line2D at 0x7f1c799bb4e0>]"
            ]
          },
          "metadata": {
            "tags": []
          },
          "execution_count": 57
        },
        {
          "output_type": "execute_result",
          "data": {
            "text/plain": [
              "Text(0, 0.5, 'Reachability Distance')"
            ]
          },
          "metadata": {
            "tags": []
          },
          "execution_count": 57
        },
        {
          "output_type": "execute_result",
          "data": {
            "text/plain": [
              "Text(0.5, 1.0, 'Reachability Plot')"
            ]
          },
          "metadata": {
            "tags": []
          },
          "execution_count": 57
        },
        {
          "output_type": "execute_result",
          "data": {
            "text/plain": [
              "[<matplotlib.lines.Line2D at 0x7f1c799bba58>]"
            ]
          },
          "metadata": {
            "tags": []
          },
          "execution_count": 57
        },
        {
          "output_type": "execute_result",
          "data": {
            "text/plain": [
              "[<matplotlib.lines.Line2D at 0x7f1c799bb898>]"
            ]
          },
          "metadata": {
            "tags": []
          },
          "execution_count": 57
        },
        {
          "output_type": "execute_result",
          "data": {
            "text/plain": [
              "[<matplotlib.lines.Line2D at 0x7f1c799bba20>]"
            ]
          },
          "metadata": {
            "tags": []
          },
          "execution_count": 57
        },
        {
          "output_type": "execute_result",
          "data": {
            "text/plain": [
              "[<matplotlib.lines.Line2D at 0x7f1c799bbe48>]"
            ]
          },
          "metadata": {
            "tags": []
          },
          "execution_count": 57
        },
        {
          "output_type": "execute_result",
          "data": {
            "text/plain": [
              "[<matplotlib.lines.Line2D at 0x7f1c799bb6d8>]"
            ]
          },
          "metadata": {
            "tags": []
          },
          "execution_count": 57
        },
        {
          "output_type": "execute_result",
          "data": {
            "text/plain": [
              "[<matplotlib.lines.Line2D at 0x7f1c799bb978>]"
            ]
          },
          "metadata": {
            "tags": []
          },
          "execution_count": 57
        },
        {
          "output_type": "execute_result",
          "data": {
            "text/plain": [
              "Text(0.5, 1.0, 'OPTICS Clustering')"
            ]
          },
          "metadata": {
            "tags": []
          },
          "execution_count": 57
        },
        {
          "output_type": "execute_result",
          "data": {
            "text/plain": [
              "[<matplotlib.lines.Line2D at 0x7f1c7994d828>]"
            ]
          },
          "metadata": {
            "tags": []
          },
          "execution_count": 57
        },
        {
          "output_type": "execute_result",
          "data": {
            "text/plain": [
              "[<matplotlib.lines.Line2D at 0x7f1c7994dbe0>]"
            ]
          },
          "metadata": {
            "tags": []
          },
          "execution_count": 57
        },
        {
          "output_type": "execute_result",
          "data": {
            "text/plain": [
              "[<matplotlib.lines.Line2D at 0x7f1c7994df60>]"
            ]
          },
          "metadata": {
            "tags": []
          },
          "execution_count": 57
        },
        {
          "output_type": "execute_result",
          "data": {
            "text/plain": [
              "[<matplotlib.lines.Line2D at 0x7f1c7994d630>]"
            ]
          },
          "metadata": {
            "tags": []
          },
          "execution_count": 57
        },
        {
          "output_type": "execute_result",
          "data": {
            "text/plain": [
              "[<matplotlib.lines.Line2D at 0x7f1c79a7d780>]"
            ]
          },
          "metadata": {
            "tags": []
          },
          "execution_count": 57
        },
        {
          "output_type": "execute_result",
          "data": {
            "text/plain": [
              "[<matplotlib.lines.Line2D at 0x7f1c79a7db00>]"
            ]
          },
          "metadata": {
            "tags": []
          },
          "execution_count": 57
        },
        {
          "output_type": "execute_result",
          "data": {
            "text/plain": [
              "[<matplotlib.lines.Line2D at 0x7f1c7994dc88>]"
            ]
          },
          "metadata": {
            "tags": []
          },
          "execution_count": 57
        },
        {
          "output_type": "execute_result",
          "data": {
            "text/plain": [
              "Text(0.5, 1.0, 'DBSCAN clustering with eps = 0.5')"
            ]
          },
          "metadata": {
            "tags": []
          },
          "execution_count": 57
        },
        {
          "output_type": "execute_result",
          "data": {
            "text/plain": [
              "[<matplotlib.lines.Line2D at 0x7f1c79a7de80>]"
            ]
          },
          "metadata": {
            "tags": []
          },
          "execution_count": 57
        },
        {
          "output_type": "execute_result",
          "data": {
            "text/plain": [
              "[<matplotlib.lines.Line2D at 0x7f1c79958588>]"
            ]
          },
          "metadata": {
            "tags": []
          },
          "execution_count": 57
        },
        {
          "output_type": "execute_result",
          "data": {
            "text/plain": [
              "[<matplotlib.lines.Line2D at 0x7f1c79958978>]"
            ]
          },
          "metadata": {
            "tags": []
          },
          "execution_count": 57
        },
        {
          "output_type": "execute_result",
          "data": {
            "text/plain": [
              "[<matplotlib.lines.Line2D at 0x7f1c79958cf8>]"
            ]
          },
          "metadata": {
            "tags": []
          },
          "execution_count": 57
        },
        {
          "output_type": "execute_result",
          "data": {
            "text/plain": [
              "[<matplotlib.lines.Line2D at 0x7f1c799585c0>]"
            ]
          },
          "metadata": {
            "tags": []
          },
          "execution_count": 57
        },
        {
          "output_type": "execute_result",
          "data": {
            "text/plain": [
              "Text(0.5, 1.0, 'DBSCAN Clustering with eps = 2.0')"
            ]
          },
          "metadata": {
            "tags": []
          },
          "execution_count": 57
        },
        {
          "output_type": "display_data",
          "data": {
            "image/png": "[encoded data removed]",
            "text/plain": [
              "<Figure size 720x504 with 4 Axes>"
            ]
          },
          "metadata": {
            "tags": [],
            "needs_background": "light"
          }
        }
      ]
    }
  ]
}