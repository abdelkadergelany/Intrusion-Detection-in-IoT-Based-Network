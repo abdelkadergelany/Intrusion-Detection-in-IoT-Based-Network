{
  "nbformat": 4,
  "nbformat_minor": 0,
  "metadata": {
    "colab": {
      "name": "UNSW_NB15_Unsupervised.ipynb",
      "provenance": [],
      "collapsed_sections": [],
      "include_colab_link": true
    },
    "kernelspec": {
      "display_name": "Python 3",
      "language": "python",
      "name": "python3"
    },
    "language_info": {
      "codemirror_mode": {
        "name": "ipython",
        "version": 3
      },
      "file_extension": ".py",
      "mimetype": "text/x-python",
      "name": "python",
      "nbconvert_exporter": "python",
      "pygments_lexer": "ipython3",
      "version": "3.7.6"
    }
  },
  "cells": [
    {
      "cell_type": "markdown",
      "metadata": {
        "id": "view-in-github",
        "colab_type": "text"
      },
      "source": [
        "<a href=\"https://colab.research.google.com/github/abdelkadergelany/Intrusion-Detection-in-IoT-Based-Network/blob/main/testing_somthing.ipynb\" target=\"_parent\"><img src=\"https://colab.research.google.com/assets/colab-badge.svg\" alt=\"Open In Colab\"/></a>"
      ]
    },
    {
      "cell_type": "markdown",
      "metadata": {
        "id": "Fl-cPhNxn6QU"
      },
      "source": [
        " ## References \n",
        "\n",
        " * Data source: https://www.unsw.adfa.edu.au/unsw-canberra-cyber/cybersecurity/ADFA-NB15-Datasets/\n",
        " * Sample/starter code: https://github.com/Nir-J/ML-Projects/blob/master/UNSW-Network_Packet_Classification/unsw.py"
      ]
    },
    {
      "cell_type": "code",
      "metadata": {
        "id": "Lx1Zh6UUU-ov"
      },
      "source": [
        "%config IPCompleter.greedy=True\n",
        "import pandas as pd\n",
        "import seaborn as sns\n",
        "import numpy as np\n",
        "\n",
        "import matplotlib as matplot\n",
        "import matplotlib.pyplot as plt\n",
        "%matplotlib inline\n",
        "\n",
        "from IPython.core.interactiveshell import InteractiveShell\n",
        "InteractiveShell.ast_node_interactivity = \"all\"\n",
        "\n",
        "import warnings\n",
        "warnings.filterwarnings(\"ignore\")\n",
        "\n",
        "from keras import Sequential\n",
        "from keras.models import Model, load_model\n",
        "from keras.layers import *\n",
        "from keras.callbacks import ModelCheckpoint\n",
        "from keras import regularizers\n",
        "\n",
        "from sklearn.metrics import *\n",
        "from sklearn.tree import DecisionTreeClassifier\n",
        "from sklearn.ensemble import RandomForestClassifier, ExtraTreesClassifier, VotingClassifier\n",
        "from sklearn.model_selection import train_test_split\n",
        "from sklearn.preprocessing import LabelEncoder,normalize\n",
        "\n",
        "\n",
        "import xgboost, lightgbm\n",
        "from mlxtend.classifier import EnsembleVoteClassifier"
      ],
      "execution_count": 115,
      "outputs": []
    },
    {
      "cell_type": "code",
      "metadata": {
        "id": "fJ9nVeDlxgSF"
      },
      "source": [
        "import numpy as np\r\n",
        "import pandas as pd\r\n",
        "import seaborn as sns\r\n",
        "import matplotlib.pyplot as plt\r\n",
        "from sklearn.ensemble import IsolationForest"
      ],
      "execution_count": 2,
      "outputs": []
    },
    {
      "cell_type": "markdown",
      "metadata": {
        "id": "h2Kvca3apvAc"
      },
      "source": [
        "# Preprocessing (transformation/scaling) "
      ]
    },
    {
      "cell_type": "code",
      "metadata": {
        "id": "vjw9JrARVJ23"
      },
      "source": [
        "train = pd.read_csv('https://raw.githubusercontent.com/Nir-J/ML-Projects/master/UNSW-Network_Packet_Classification/UNSW_NB15_training-set.csv')\n",
        "test = pd.read_csv('https://raw.githubusercontent.com/Nir-J/ML-Projects/master/UNSW-Network_Packet_Classification/UNSW_NB15_testing-set.csv')\n",
        "combined_data = pd.concat([train, test]).drop(['id'],axis=1)"
      ],
      "execution_count": 86,
      "outputs": []
    },
    {
      "cell_type": "code",
      "metadata": {
        "id": "l-0_NBRl5Mbk",
        "outputId": "b0eb1ad4-00f2-489c-8f80-362178eeb805",
        "colab": {
          "base_uri": "https://localhost:8080/"
        }
      },
      "source": [
        "train.shape"
      ],
      "execution_count": 90,
      "outputs": [
        {
          "output_type": "execute_result",
          "data": {
            "text/plain": [
              "(175341, 45)"
            ]
          },
          "metadata": {
            "tags": []
          },
          "execution_count": 90
        }
      ]
    },
    {
      "cell_type": "code",
      "metadata": {
        "id": "C5hh-CdxbjCZ",
        "colab": {
          "base_uri": "https://localhost:8080/"
        },
        "outputId": "e840c1aa-6ca2-439b-92d4-a3a607437b01"
      },
      "source": [
        "# Contaminsation mean pollution (outliers) in data\n",
        "tmp = train.where(train['attack_cat'] == \"Normal\").dropna()\n",
        "contamination = round(1 - len(tmp)/len(train), 2)\n",
        "print(\"train contamination \", contamination)\n",
        "numer_of_attacks = tmp\n",
        "tmp = test.where(test['attack_cat'] == \"Normal\").dropna()\n",
        "print(\"test  contamination \", round(1 - len(tmp)/len(test),2),'\\n')\n",
        "\n",
        "if contamination > 0.5:\n",
        "    print(f'contamination is {contamination}, which is greater than 0.5. Fixing...')\n",
        "    contamination = round(1-contamination,2)\n",
        "    print(f'contamination is now {contamination}')"
      ],
      "execution_count": 98,
      "outputs": [
        {
          "output_type": "stream",
          "text": [
            "train contamination  0.68\n",
            "test  contamination  0.55 \n",
            "\n",
            "contamination is 0.68, which is greater than 0.5. Fixing...\n",
            "contamination is now 0.32\n"
          ],
          "name": "stdout"
        }
      ]
    },
    {
      "cell_type": "code",
      "metadata": {
        "id": "_tfrFURcVJ6X"
      },
      "source": [
        "le1 = LabelEncoder()\n",
        "le = LabelEncoder()\n",
        "\n",
        "vector = combined_data['attack_cat']\n",
        "\n",
        "print(\"attack cat:\", set(list(vector))) # use print to make it print on single line \n",
        "\n",
        "combined_data['attack_cat'] = le1.fit_transform(vector)\n",
        "combined_data['proto'] = le.fit_transform(combined_data['proto'])\n",
        "combined_data['service'] = le.fit_transform(combined_data['service'])\n",
        "combined_data['state'] = le.fit_transform(combined_data['state'])\n",
        "\n",
        "vector = combined_data['attack_cat']\n",
        "print('\\nDescribing attack_type: ')\n",
        "print(\"min\", vector.min())\n",
        "print(\"max\", vector.max())\n",
        "print(\"mode\",vector.mode(), \"Which is,\", le1.inverse_transform(vector.mode()))\n",
        "print(\"mode\", len(np.where(vector.values==6)[0])/len(vector),\"%\")"
      ],
      "execution_count": null,
      "outputs": []
    },
    {
      "cell_type": "markdown",
      "metadata": {
        "id": "1IHFf1JdCktK"
      },
      "source": [
        "<h1>Preprocessing with only training data</h1>"
      ]
    },
    {
      "cell_type": "code",
      "metadata": {
        "id": "vRXKC-V_C--_",
        "outputId": "d1f64796-c5e5-4962-dbe1-a80b14625b23",
        "colab": {
          "base_uri": "https://localhost:8080/",
          "height": 595
        }
      },
      "source": [
        "le1 = LabelEncoder()\r\n",
        "le = LabelEncoder()\r\n",
        "\r\n",
        "vector = train['attack_cat']\r\n",
        "\r\n",
        "print(\"attack cat:\", set(list(vector))) # use print to make it print on single line \r\n",
        "\r\n",
        "train['attack_cat'] = le1.fit_transform(vector)\r\n",
        "train['proto'] = le.fit_transform(train['proto'])\r\n",
        "train['service'] = le.fit_transform(train['service'])\r\n",
        "train['state'] = le.fit_transform(train['state'])\r\n",
        "\r\n",
        "vector = train['attack_cat']\r\n",
        "print('\\nDescribing attack_type: ')\r\n",
        "print(\"min\", vector.min())\r\n",
        "print(\"max\", vector.max())\r\n",
        "print(\"mode\",vector.mode(), \"Which is,\", le1.inverse_transform(vector.mode()))\r\n",
        "print(\"mode\", len(np.where(vector.values==6)[0])/len(vector),\"%\")\r\n",
        "\r\n",
        "# le1.inverse_transform([0,1,2,3,4,5,6,7,8,9])\r\n",
        "# train.head(3)\r\n",
        "train = train.drop(['attack_cat','label'], axis=1)\r\n",
        "train.shape"
      ],
      "execution_count": 114,
      "outputs": [
        {
          "output_type": "error",
          "ename": "KeyError",
          "evalue": "ignored",
          "traceback": [
            "\u001b[0;31m---------------------------------------------------------------------------\u001b[0m",
            "\u001b[0;31mKeyError\u001b[0m                                  Traceback (most recent call last)",
            "\u001b[0;32m/usr/local/lib/python3.6/dist-packages/pandas/core/indexes/base.py\u001b[0m in \u001b[0;36mget_loc\u001b[0;34m(self, key, method, tolerance)\u001b[0m\n\u001b[1;32m   2897\u001b[0m             \u001b[0;32mtry\u001b[0m\u001b[0;34m:\u001b[0m\u001b[0;34m\u001b[0m\u001b[0;34m\u001b[0m\u001b[0m\n\u001b[0;32m-> 2898\u001b[0;31m                 \u001b[0;32mreturn\u001b[0m \u001b[0mself\u001b[0m\u001b[0;34m.\u001b[0m\u001b[0m_engine\u001b[0m\u001b[0;34m.\u001b[0m\u001b[0mget_loc\u001b[0m\u001b[0;34m(\u001b[0m\u001b[0mcasted_key\u001b[0m\u001b[0;34m)\u001b[0m\u001b[0;34m\u001b[0m\u001b[0;34m\u001b[0m\u001b[0m\n\u001b[0m\u001b[1;32m   2899\u001b[0m             \u001b[0;32mexcept\u001b[0m \u001b[0mKeyError\u001b[0m \u001b[0;32mas\u001b[0m \u001b[0merr\u001b[0m\u001b[0;34m:\u001b[0m\u001b[0;34m\u001b[0m\u001b[0;34m\u001b[0m\u001b[0m\n",
            "\u001b[0;32mpandas/_libs/index.pyx\u001b[0m in \u001b[0;36mpandas._libs.index.IndexEngine.get_loc\u001b[0;34m()\u001b[0m\n",
            "\u001b[0;32mpandas/_libs/index.pyx\u001b[0m in \u001b[0;36mpandas._libs.index.IndexEngine.get_loc\u001b[0;34m()\u001b[0m\n",
            "\u001b[0;32mpandas/_libs/hashtable_class_helper.pxi\u001b[0m in \u001b[0;36mpandas._libs.hashtable.PyObjectHashTable.get_item\u001b[0;34m()\u001b[0m\n",
            "\u001b[0;32mpandas/_libs/hashtable_class_helper.pxi\u001b[0m in \u001b[0;36mpandas._libs.hashtable.PyObjectHashTable.get_item\u001b[0;34m()\u001b[0m\n",
            "\u001b[0;31mKeyError\u001b[0m: 'attack_cat'",
            "\nThe above exception was the direct cause of the following exception:\n",
            "\u001b[0;31mKeyError\u001b[0m                                  Traceback (most recent call last)",
            "\u001b[0;32m<ipython-input-114-96c9504258cc>\u001b[0m in \u001b[0;36m<module>\u001b[0;34m()\u001b[0m\n\u001b[1;32m      2\u001b[0m \u001b[0mle\u001b[0m \u001b[0;34m=\u001b[0m \u001b[0mLabelEncoder\u001b[0m\u001b[0;34m(\u001b[0m\u001b[0;34m)\u001b[0m\u001b[0;34m\u001b[0m\u001b[0;34m\u001b[0m\u001b[0m\n\u001b[1;32m      3\u001b[0m \u001b[0;34m\u001b[0m\u001b[0m\n\u001b[0;32m----> 4\u001b[0;31m \u001b[0mvector\u001b[0m \u001b[0;34m=\u001b[0m \u001b[0mtrain\u001b[0m\u001b[0;34m[\u001b[0m\u001b[0;34m'attack_cat'\u001b[0m\u001b[0;34m]\u001b[0m\u001b[0;34m\u001b[0m\u001b[0;34m\u001b[0m\u001b[0m\n\u001b[0m\u001b[1;32m      5\u001b[0m \u001b[0;34m\u001b[0m\u001b[0m\n\u001b[1;32m      6\u001b[0m \u001b[0mprint\u001b[0m\u001b[0;34m(\u001b[0m\u001b[0;34m\"attack cat:\"\u001b[0m\u001b[0;34m,\u001b[0m \u001b[0mset\u001b[0m\u001b[0;34m(\u001b[0m\u001b[0mlist\u001b[0m\u001b[0;34m(\u001b[0m\u001b[0mvector\u001b[0m\u001b[0;34m)\u001b[0m\u001b[0;34m)\u001b[0m\u001b[0;34m)\u001b[0m \u001b[0;31m# use print to make it print on single line\u001b[0m\u001b[0;34m\u001b[0m\u001b[0;34m\u001b[0m\u001b[0m\n",
            "\u001b[0;32m/usr/local/lib/python3.6/dist-packages/pandas/core/frame.py\u001b[0m in \u001b[0;36m__getitem__\u001b[0;34m(self, key)\u001b[0m\n\u001b[1;32m   2904\u001b[0m             \u001b[0;32mif\u001b[0m \u001b[0mself\u001b[0m\u001b[0;34m.\u001b[0m\u001b[0mcolumns\u001b[0m\u001b[0;34m.\u001b[0m\u001b[0mnlevels\u001b[0m \u001b[0;34m>\u001b[0m \u001b[0;36m1\u001b[0m\u001b[0;34m:\u001b[0m\u001b[0;34m\u001b[0m\u001b[0;34m\u001b[0m\u001b[0m\n\u001b[1;32m   2905\u001b[0m                 \u001b[0;32mreturn\u001b[0m \u001b[0mself\u001b[0m\u001b[0;34m.\u001b[0m\u001b[0m_getitem_multilevel\u001b[0m\u001b[0;34m(\u001b[0m\u001b[0mkey\u001b[0m\u001b[0;34m)\u001b[0m\u001b[0;34m\u001b[0m\u001b[0;34m\u001b[0m\u001b[0m\n\u001b[0;32m-> 2906\u001b[0;31m             \u001b[0mindexer\u001b[0m \u001b[0;34m=\u001b[0m \u001b[0mself\u001b[0m\u001b[0;34m.\u001b[0m\u001b[0mcolumns\u001b[0m\u001b[0;34m.\u001b[0m\u001b[0mget_loc\u001b[0m\u001b[0;34m(\u001b[0m\u001b[0mkey\u001b[0m\u001b[0;34m)\u001b[0m\u001b[0;34m\u001b[0m\u001b[0;34m\u001b[0m\u001b[0m\n\u001b[0m\u001b[1;32m   2907\u001b[0m             \u001b[0;32mif\u001b[0m \u001b[0mis_integer\u001b[0m\u001b[0;34m(\u001b[0m\u001b[0mindexer\u001b[0m\u001b[0;34m)\u001b[0m\u001b[0;34m:\u001b[0m\u001b[0;34m\u001b[0m\u001b[0;34m\u001b[0m\u001b[0m\n\u001b[1;32m   2908\u001b[0m                 \u001b[0mindexer\u001b[0m \u001b[0;34m=\u001b[0m \u001b[0;34m[\u001b[0m\u001b[0mindexer\u001b[0m\u001b[0;34m]\u001b[0m\u001b[0;34m\u001b[0m\u001b[0;34m\u001b[0m\u001b[0m\n",
            "\u001b[0;32m/usr/local/lib/python3.6/dist-packages/pandas/core/indexes/base.py\u001b[0m in \u001b[0;36mget_loc\u001b[0;34m(self, key, method, tolerance)\u001b[0m\n\u001b[1;32m   2898\u001b[0m                 \u001b[0;32mreturn\u001b[0m \u001b[0mself\u001b[0m\u001b[0;34m.\u001b[0m\u001b[0m_engine\u001b[0m\u001b[0;34m.\u001b[0m\u001b[0mget_loc\u001b[0m\u001b[0;34m(\u001b[0m\u001b[0mcasted_key\u001b[0m\u001b[0;34m)\u001b[0m\u001b[0;34m\u001b[0m\u001b[0;34m\u001b[0m\u001b[0m\n\u001b[1;32m   2899\u001b[0m             \u001b[0;32mexcept\u001b[0m \u001b[0mKeyError\u001b[0m \u001b[0;32mas\u001b[0m \u001b[0merr\u001b[0m\u001b[0;34m:\u001b[0m\u001b[0;34m\u001b[0m\u001b[0;34m\u001b[0m\u001b[0m\n\u001b[0;32m-> 2900\u001b[0;31m                 \u001b[0;32mraise\u001b[0m \u001b[0mKeyError\u001b[0m\u001b[0;34m(\u001b[0m\u001b[0mkey\u001b[0m\u001b[0;34m)\u001b[0m \u001b[0;32mfrom\u001b[0m \u001b[0merr\u001b[0m\u001b[0;34m\u001b[0m\u001b[0;34m\u001b[0m\u001b[0m\n\u001b[0m\u001b[1;32m   2901\u001b[0m \u001b[0;34m\u001b[0m\u001b[0m\n\u001b[1;32m   2902\u001b[0m         \u001b[0;32mif\u001b[0m \u001b[0mtolerance\u001b[0m \u001b[0;32mis\u001b[0m \u001b[0;32mnot\u001b[0m \u001b[0;32mNone\u001b[0m\u001b[0;34m:\u001b[0m\u001b[0;34m\u001b[0m\u001b[0;34m\u001b[0m\u001b[0m\n",
            "\u001b[0;31mKeyError\u001b[0m: 'attack_cat'"
          ]
        }
      ]
    },
    {
      "cell_type": "code",
      "metadata": {
        "id": "FdGigIypbQfd"
      },
      "source": [
        "le1.inverse_transform([0,1,2,3,4,5,6,7,8,9])\n",
        "combined_data.head(3)"
      ],
      "execution_count": null,
      "outputs": []
    },
    {
      "cell_type": "code",
      "metadata": {
        "id": "uRDvu_a8VA1q"
      },
      "source": [
        "data_x = combined_data.drop(['attack_cat','label'], axis=1) # droped label\n",
        "data_y = combined_data.loc[:,['label']]\n",
        "# del combined_data # free mem\n",
        "X_train, X_test, y_train, y_test = train_test_split(data_x, data_y, test_size=.20, random_state=42) # TODO"
      ],
      "execution_count": 108,
      "outputs": []
    },
    {
      "cell_type": "code",
      "metadata": {
        "id": "xjNm11s-fqvw",
        "colab": {
          "base_uri": "https://localhost:8080/"
        },
        "outputId": "84141b5c-562f-4a22-8f32-2085405c34fe"
      },
      "source": [
        "X_train.shape\n",
        "y_train.shape\n",
        "X_test.shape # test is larger... good \n",
        "y_test.shape"
      ],
      "execution_count": 109,
      "outputs": [
        {
          "output_type": "execute_result",
          "data": {
            "text/plain": [
              "(206138, 42)"
            ]
          },
          "metadata": {
            "tags": []
          },
          "execution_count": 109
        },
        {
          "output_type": "execute_result",
          "data": {
            "text/plain": [
              "(206138, 1)"
            ]
          },
          "metadata": {
            "tags": []
          },
          "execution_count": 109
        },
        {
          "output_type": "execute_result",
          "data": {
            "text/plain": [
              "(51535, 42)"
            ]
          },
          "metadata": {
            "tags": []
          },
          "execution_count": 109
        },
        {
          "output_type": "execute_result",
          "data": {
            "text/plain": [
              "(51535, 1)"
            ]
          },
          "metadata": {
            "tags": []
          },
          "execution_count": 109
        }
      ]
    },
    {
      "cell_type": "code",
      "metadata": {
        "id": "jNzfmZQcxUEv"
      },
      "source": [
        "data_x = X_train\r\n",
        "data_x.shape\r\n",
        "X_train.shape"
      ],
      "execution_count": null,
      "outputs": []
    },
    {
      "cell_type": "code",
      "metadata": {
        "id": "Se-hfpA5x25F",
        "outputId": "69c89c66-e972-4cdc-9da4-3921d4506c6c",
        "colab": {
          "base_uri": "https://localhost:8080/"
        }
      },
      "source": [
        "model=IsolationForest(n_estimators=50, max_samples='auto', contamination=float(0.1),max_features=1.0)\r\n",
        "model.fit(data_x)"
      ],
      "execution_count": 73,
      "outputs": [
        {
          "output_type": "execute_result",
          "data": {
            "text/plain": [
              "IsolationForest(behaviour='deprecated', bootstrap=False, contamination=0.1,\n",
              "                max_features=1.0, max_samples='auto', n_estimators=50,\n",
              "                n_jobs=None, random_state=None, verbose=0, warm_start=False)"
            ]
          },
          "metadata": {
            "tags": []
          },
          "execution_count": 73
        }
      ]
    },
    {
      "cell_type": "code",
      "metadata": {
        "id": "1Eoodfyj0LSp",
        "outputId": "79b8a6e3-7771-4cbb-89c7-6c5c5d70f6f1",
        "colab": {
          "base_uri": "https://localhost:8080/",
          "height": 668
        }
      },
      "source": [
        "data_x['scores']=model.decision_function(data_x)\r\n",
        "data_x['anomaly']=model.predict(data_x)\r\n",
        "data_x.head(20)"
      ],
      "execution_count": 74,
      "outputs": [
        {
          "output_type": "execute_result",
          "data": {
            "text/html": [
              "<div>\n",
              "<style scoped>\n",
              "    .dataframe tbody tr th:only-of-type {\n",
              "        vertical-align: middle;\n",
              "    }\n",
              "\n",
              "    .dataframe tbody tr th {\n",
              "        vertical-align: top;\n",
              "    }\n",
              "\n",
              "    .dataframe thead th {\n",
              "        text-align: right;\n",
              "    }\n",
              "</style>\n",
              "<table border=\"1\" class=\"dataframe\">\n",
              "  <thead>\n",
              "    <tr style=\"text-align: right;\">\n",
              "      <th></th>\n",
              "      <th>dur</th>\n",
              "      <th>proto</th>\n",
              "      <th>service</th>\n",
              "      <th>state</th>\n",
              "      <th>spkts</th>\n",
              "      <th>dpkts</th>\n",
              "      <th>sbytes</th>\n",
              "      <th>dbytes</th>\n",
              "      <th>rate</th>\n",
              "      <th>sttl</th>\n",
              "      <th>dttl</th>\n",
              "      <th>sload</th>\n",
              "      <th>dload</th>\n",
              "      <th>sloss</th>\n",
              "      <th>dloss</th>\n",
              "      <th>sinpkt</th>\n",
              "      <th>dinpkt</th>\n",
              "      <th>sjit</th>\n",
              "      <th>djit</th>\n",
              "      <th>swin</th>\n",
              "      <th>stcpb</th>\n",
              "      <th>dtcpb</th>\n",
              "      <th>dwin</th>\n",
              "      <th>tcprtt</th>\n",
              "      <th>synack</th>\n",
              "      <th>ackdat</th>\n",
              "      <th>smean</th>\n",
              "      <th>dmean</th>\n",
              "      <th>trans_depth</th>\n",
              "      <th>response_body_len</th>\n",
              "      <th>ct_srv_src</th>\n",
              "      <th>ct_state_ttl</th>\n",
              "      <th>ct_dst_ltm</th>\n",
              "      <th>ct_src_dport_ltm</th>\n",
              "      <th>ct_dst_sport_ltm</th>\n",
              "      <th>ct_dst_src_ltm</th>\n",
              "      <th>is_ftp_login</th>\n",
              "      <th>ct_ftp_cmd</th>\n",
              "      <th>ct_flw_http_mthd</th>\n",
              "      <th>ct_src_ltm</th>\n",
              "      <th>ct_srv_dst</th>\n",
              "      <th>is_sm_ips_ports</th>\n",
              "      <th>scores</th>\n",
              "      <th>anomaly</th>\n",
              "    </tr>\n",
              "  </thead>\n",
              "  <tbody>\n",
              "    <tr>\n",
              "      <th>95275</th>\n",
              "      <td>0.000005</td>\n",
              "      <td>129</td>\n",
              "      <td>0</td>\n",
              "      <td>5</td>\n",
              "      <td>2</td>\n",
              "      <td>0</td>\n",
              "      <td>180</td>\n",
              "      <td>0</td>\n",
              "      <td>2.000000e+05</td>\n",
              "      <td>254</td>\n",
              "      <td>0</td>\n",
              "      <td>1.440000e+08</td>\n",
              "      <td>0.000000e+00</td>\n",
              "      <td>0</td>\n",
              "      <td>0</td>\n",
              "      <td>0.005000</td>\n",
              "      <td>0.000000</td>\n",
              "      <td>0.000000</td>\n",
              "      <td>0.000000</td>\n",
              "      <td>0</td>\n",
              "      <td>0</td>\n",
              "      <td>0</td>\n",
              "      <td>0</td>\n",
              "      <td>0.000000</td>\n",
              "      <td>0.000000</td>\n",
              "      <td>0.000000</td>\n",
              "      <td>90</td>\n",
              "      <td>0</td>\n",
              "      <td>0</td>\n",
              "      <td>0</td>\n",
              "      <td>10</td>\n",
              "      <td>2</td>\n",
              "      <td>2</td>\n",
              "      <td>2</td>\n",
              "      <td>2</td>\n",
              "      <td>10</td>\n",
              "      <td>0</td>\n",
              "      <td>0</td>\n",
              "      <td>0</td>\n",
              "      <td>2</td>\n",
              "      <td>10</td>\n",
              "      <td>0</td>\n",
              "      <td>0.098009</td>\n",
              "      <td>1</td>\n",
              "    </tr>\n",
              "    <tr>\n",
              "      <th>34148</th>\n",
              "      <td>0.015996</td>\n",
              "      <td>113</td>\n",
              "      <td>0</td>\n",
              "      <td>4</td>\n",
              "      <td>48</td>\n",
              "      <td>50</td>\n",
              "      <td>2958</td>\n",
              "      <td>32368</td>\n",
              "      <td>6.064016e+03</td>\n",
              "      <td>31</td>\n",
              "      <td>29</td>\n",
              "      <td>1.448862e+06</td>\n",
              "      <td>1.586447e+07</td>\n",
              "      <td>7</td>\n",
              "      <td>18</td>\n",
              "      <td>0.332149</td>\n",
              "      <td>0.314286</td>\n",
              "      <td>18.469251</td>\n",
              "      <td>17.666946</td>\n",
              "      <td>255</td>\n",
              "      <td>2739166925</td>\n",
              "      <td>2739469887</td>\n",
              "      <td>255</td>\n",
              "      <td>0.000740</td>\n",
              "      <td>0.000586</td>\n",
              "      <td>0.000154</td>\n",
              "      <td>62</td>\n",
              "      <td>647</td>\n",
              "      <td>0</td>\n",
              "      <td>0</td>\n",
              "      <td>4</td>\n",
              "      <td>0</td>\n",
              "      <td>3</td>\n",
              "      <td>1</td>\n",
              "      <td>1</td>\n",
              "      <td>1</td>\n",
              "      <td>0</td>\n",
              "      <td>0</td>\n",
              "      <td>0</td>\n",
              "      <td>2</td>\n",
              "      <td>10</td>\n",
              "      <td>0</td>\n",
              "      <td>0.039752</td>\n",
              "      <td>1</td>\n",
              "    </tr>\n",
              "    <tr>\n",
              "      <th>21989</th>\n",
              "      <td>0.039017</td>\n",
              "      <td>113</td>\n",
              "      <td>0</td>\n",
              "      <td>4</td>\n",
              "      <td>60</td>\n",
              "      <td>62</td>\n",
              "      <td>3614</td>\n",
              "      <td>50036</td>\n",
              "      <td>3.101212e+03</td>\n",
              "      <td>31</td>\n",
              "      <td>29</td>\n",
              "      <td>7.287080e+05</td>\n",
              "      <td>1.009386e+07</td>\n",
              "      <td>7</td>\n",
              "      <td>24</td>\n",
              "      <td>0.665759</td>\n",
              "      <td>0.620754</td>\n",
              "      <td>37.715617</td>\n",
              "      <td>35.681164</td>\n",
              "      <td>255</td>\n",
              "      <td>1198837244</td>\n",
              "      <td>3344506110</td>\n",
              "      <td>255</td>\n",
              "      <td>0.001306</td>\n",
              "      <td>0.001143</td>\n",
              "      <td>0.000163</td>\n",
              "      <td>60</td>\n",
              "      <td>807</td>\n",
              "      <td>0</td>\n",
              "      <td>0</td>\n",
              "      <td>12</td>\n",
              "      <td>0</td>\n",
              "      <td>5</td>\n",
              "      <td>1</td>\n",
              "      <td>1</td>\n",
              "      <td>4</td>\n",
              "      <td>0</td>\n",
              "      <td>0</td>\n",
              "      <td>0</td>\n",
              "      <td>7</td>\n",
              "      <td>3</td>\n",
              "      <td>0</td>\n",
              "      <td>0.042123</td>\n",
              "      <td>1</td>\n",
              "    </tr>\n",
              "    <tr>\n",
              "      <th>99873</th>\n",
              "      <td>2.493213</td>\n",
              "      <td>113</td>\n",
              "      <td>7</td>\n",
              "      <td>4</td>\n",
              "      <td>22</td>\n",
              "      <td>40</td>\n",
              "      <td>1034</td>\n",
              "      <td>29904</td>\n",
              "      <td>2.446642e+01</td>\n",
              "      <td>62</td>\n",
              "      <td>252</td>\n",
              "      <td>3.166998e+03</td>\n",
              "      <td>9.355639e+04</td>\n",
              "      <td>7</td>\n",
              "      <td>17</td>\n",
              "      <td>118.724430</td>\n",
              "      <td>62.643487</td>\n",
              "      <td>8350.095337</td>\n",
              "      <td>4771.672645</td>\n",
              "      <td>255</td>\n",
              "      <td>391319198</td>\n",
              "      <td>2318162040</td>\n",
              "      <td>255</td>\n",
              "      <td>0.123508</td>\n",
              "      <td>0.018323</td>\n",
              "      <td>0.105185</td>\n",
              "      <td>47</td>\n",
              "      <td>748</td>\n",
              "      <td>0</td>\n",
              "      <td>0</td>\n",
              "      <td>1</td>\n",
              "      <td>1</td>\n",
              "      <td>1</td>\n",
              "      <td>1</td>\n",
              "      <td>1</td>\n",
              "      <td>1</td>\n",
              "      <td>0</td>\n",
              "      <td>0</td>\n",
              "      <td>0</td>\n",
              "      <td>1</td>\n",
              "      <td>1</td>\n",
              "      <td>0</td>\n",
              "      <td>0.036433</td>\n",
              "      <td>1</td>\n",
              "    </tr>\n",
              "    <tr>\n",
              "      <th>106667</th>\n",
              "      <td>0.950392</td>\n",
              "      <td>113</td>\n",
              "      <td>0</td>\n",
              "      <td>4</td>\n",
              "      <td>10</td>\n",
              "      <td>8</td>\n",
              "      <td>564</td>\n",
              "      <td>354</td>\n",
              "      <td>1.788736e+01</td>\n",
              "      <td>254</td>\n",
              "      <td>252</td>\n",
              "      <td>4.276130e+03</td>\n",
              "      <td>2.609449e+03</td>\n",
              "      <td>2</td>\n",
              "      <td>1</td>\n",
              "      <td>97.417667</td>\n",
              "      <td>121.178570</td>\n",
              "      <td>6493.056686</td>\n",
              "      <td>148.363766</td>\n",
              "      <td>255</td>\n",
              "      <td>876117606</td>\n",
              "      <td>2677185213</td>\n",
              "      <td>255</td>\n",
              "      <td>0.148865</td>\n",
              "      <td>0.102133</td>\n",
              "      <td>0.046732</td>\n",
              "      <td>56</td>\n",
              "      <td>44</td>\n",
              "      <td>0</td>\n",
              "      <td>0</td>\n",
              "      <td>3</td>\n",
              "      <td>1</td>\n",
              "      <td>1</td>\n",
              "      <td>1</td>\n",
              "      <td>1</td>\n",
              "      <td>1</td>\n",
              "      <td>0</td>\n",
              "      <td>0</td>\n",
              "      <td>0</td>\n",
              "      <td>1</td>\n",
              "      <td>1</td>\n",
              "      <td>0</td>\n",
              "      <td>0.089986</td>\n",
              "      <td>1</td>\n",
              "    </tr>\n",
              "    <tr>\n",
              "      <th>15691</th>\n",
              "      <td>0.000977</td>\n",
              "      <td>119</td>\n",
              "      <td>2</td>\n",
              "      <td>2</td>\n",
              "      <td>2</td>\n",
              "      <td>2</td>\n",
              "      <td>130</td>\n",
              "      <td>162</td>\n",
              "      <td>3.070624e+03</td>\n",
              "      <td>31</td>\n",
              "      <td>29</td>\n",
              "      <td>5.322416e+05</td>\n",
              "      <td>6.632549e+05</td>\n",
              "      <td>0</td>\n",
              "      <td>0</td>\n",
              "      <td>0.001000</td>\n",
              "      <td>0.006000</td>\n",
              "      <td>0.000000</td>\n",
              "      <td>0.000000</td>\n",
              "      <td>0</td>\n",
              "      <td>0</td>\n",
              "      <td>0</td>\n",
              "      <td>0</td>\n",
              "      <td>0.000000</td>\n",
              "      <td>0.000000</td>\n",
              "      <td>0.000000</td>\n",
              "      <td>65</td>\n",
              "      <td>81</td>\n",
              "      <td>0</td>\n",
              "      <td>0</td>\n",
              "      <td>1</td>\n",
              "      <td>0</td>\n",
              "      <td>1</td>\n",
              "      <td>1</td>\n",
              "      <td>1</td>\n",
              "      <td>1</td>\n",
              "      <td>0</td>\n",
              "      <td>0</td>\n",
              "      <td>0</td>\n",
              "      <td>4</td>\n",
              "      <td>7</td>\n",
              "      <td>0</td>\n",
              "      <td>0.081190</td>\n",
              "      <td>1</td>\n",
              "    </tr>\n",
              "    <tr>\n",
              "      <th>79023</th>\n",
              "      <td>1.969518</td>\n",
              "      <td>113</td>\n",
              "      <td>0</td>\n",
              "      <td>4</td>\n",
              "      <td>24</td>\n",
              "      <td>62</td>\n",
              "      <td>1276</td>\n",
              "      <td>64038</td>\n",
              "      <td>4.315777e+01</td>\n",
              "      <td>62</td>\n",
              "      <td>252</td>\n",
              "      <td>4.967713e+03</td>\n",
              "      <td>2.559245e+05</td>\n",
              "      <td>6</td>\n",
              "      <td>29</td>\n",
              "      <td>85.631217</td>\n",
              "      <td>31.376409</td>\n",
              "      <td>4353.057044</td>\n",
              "      <td>2598.183641</td>\n",
              "      <td>255</td>\n",
              "      <td>2830921775</td>\n",
              "      <td>1460536387</td>\n",
              "      <td>255</td>\n",
              "      <td>0.124690</td>\n",
              "      <td>0.054273</td>\n",
              "      <td>0.070417</td>\n",
              "      <td>53</td>\n",
              "      <td>1033</td>\n",
              "      <td>0</td>\n",
              "      <td>0</td>\n",
              "      <td>1</td>\n",
              "      <td>1</td>\n",
              "      <td>1</td>\n",
              "      <td>1</td>\n",
              "      <td>1</td>\n",
              "      <td>1</td>\n",
              "      <td>0</td>\n",
              "      <td>0</td>\n",
              "      <td>0</td>\n",
              "      <td>1</td>\n",
              "      <td>1</td>\n",
              "      <td>0</td>\n",
              "      <td>0.048862</td>\n",
              "      <td>1</td>\n",
              "    </tr>\n",
              "    <tr>\n",
              "      <th>154720</th>\n",
              "      <td>0.000001</td>\n",
              "      <td>119</td>\n",
              "      <td>2</td>\n",
              "      <td>5</td>\n",
              "      <td>2</td>\n",
              "      <td>0</td>\n",
              "      <td>114</td>\n",
              "      <td>0</td>\n",
              "      <td>1.000000e+06</td>\n",
              "      <td>254</td>\n",
              "      <td>0</td>\n",
              "      <td>4.560000e+08</td>\n",
              "      <td>0.000000e+00</td>\n",
              "      <td>0</td>\n",
              "      <td>0</td>\n",
              "      <td>0.001000</td>\n",
              "      <td>0.000000</td>\n",
              "      <td>0.000000</td>\n",
              "      <td>0.000000</td>\n",
              "      <td>0</td>\n",
              "      <td>0</td>\n",
              "      <td>0</td>\n",
              "      <td>0</td>\n",
              "      <td>0.000000</td>\n",
              "      <td>0.000000</td>\n",
              "      <td>0.000000</td>\n",
              "      <td>57</td>\n",
              "      <td>0</td>\n",
              "      <td>0</td>\n",
              "      <td>0</td>\n",
              "      <td>16</td>\n",
              "      <td>2</td>\n",
              "      <td>16</td>\n",
              "      <td>16</td>\n",
              "      <td>16</td>\n",
              "      <td>16</td>\n",
              "      <td>0</td>\n",
              "      <td>0</td>\n",
              "      <td>0</td>\n",
              "      <td>16</td>\n",
              "      <td>16</td>\n",
              "      <td>0</td>\n",
              "      <td>0.015861</td>\n",
              "      <td>1</td>\n",
              "    </tr>\n",
              "    <tr>\n",
              "      <th>101649</th>\n",
              "      <td>0.378248</td>\n",
              "      <td>113</td>\n",
              "      <td>0</td>\n",
              "      <td>2</td>\n",
              "      <td>6</td>\n",
              "      <td>2</td>\n",
              "      <td>986</td>\n",
              "      <td>86</td>\n",
              "      <td>1.850638e+01</td>\n",
              "      <td>62</td>\n",
              "      <td>252</td>\n",
              "      <td>1.738542e+04</td>\n",
              "      <td>9.094562e+02</td>\n",
              "      <td>2</td>\n",
              "      <td>1</td>\n",
              "      <td>75.649600</td>\n",
              "      <td>0.001000</td>\n",
              "      <td>4747.412019</td>\n",
              "      <td>0.000000</td>\n",
              "      <td>255</td>\n",
              "      <td>603720181</td>\n",
              "      <td>1579320267</td>\n",
              "      <td>255</td>\n",
              "      <td>0.332621</td>\n",
              "      <td>0.197622</td>\n",
              "      <td>0.134999</td>\n",
              "      <td>164</td>\n",
              "      <td>43</td>\n",
              "      <td>0</td>\n",
              "      <td>0</td>\n",
              "      <td>8</td>\n",
              "      <td>3</td>\n",
              "      <td>3</td>\n",
              "      <td>3</td>\n",
              "      <td>1</td>\n",
              "      <td>6</td>\n",
              "      <td>0</td>\n",
              "      <td>0</td>\n",
              "      <td>0</td>\n",
              "      <td>4</td>\n",
              "      <td>6</td>\n",
              "      <td>0</td>\n",
              "      <td>0.030849</td>\n",
              "      <td>1</td>\n",
              "    </tr>\n",
              "    <tr>\n",
              "      <th>32865</th>\n",
              "      <td>1.051613</td>\n",
              "      <td>113</td>\n",
              "      <td>5</td>\n",
              "      <td>4</td>\n",
              "      <td>14</td>\n",
              "      <td>18</td>\n",
              "      <td>1684</td>\n",
              "      <td>10168</td>\n",
              "      <td>2.947853e+01</td>\n",
              "      <td>31</td>\n",
              "      <td>29</td>\n",
              "      <td>1.189791e+04</td>\n",
              "      <td>7.306110e+04</td>\n",
              "      <td>3</td>\n",
              "      <td>5</td>\n",
              "      <td>80.867228</td>\n",
              "      <td>61.825941</td>\n",
              "      <td>8774.273183</td>\n",
              "      <td>7682.337792</td>\n",
              "      <td>255</td>\n",
              "      <td>3870120521</td>\n",
              "      <td>1721576321</td>\n",
              "      <td>255</td>\n",
              "      <td>0.000700</td>\n",
              "      <td>0.000569</td>\n",
              "      <td>0.000131</td>\n",
              "      <td>120</td>\n",
              "      <td>565</td>\n",
              "      <td>1</td>\n",
              "      <td>3924</td>\n",
              "      <td>2</td>\n",
              "      <td>0</td>\n",
              "      <td>3</td>\n",
              "      <td>1</td>\n",
              "      <td>1</td>\n",
              "      <td>2</td>\n",
              "      <td>0</td>\n",
              "      <td>0</td>\n",
              "      <td>1</td>\n",
              "      <td>3</td>\n",
              "      <td>2</td>\n",
              "      <td>0</td>\n",
              "      <td>0.028254</td>\n",
              "      <td>1</td>\n",
              "    </tr>\n",
              "    <tr>\n",
              "      <th>68976</th>\n",
              "      <td>0.000009</td>\n",
              "      <td>113</td>\n",
              "      <td>0</td>\n",
              "      <td>7</td>\n",
              "      <td>2</td>\n",
              "      <td>0</td>\n",
              "      <td>90</td>\n",
              "      <td>0</td>\n",
              "      <td>1.111111e+05</td>\n",
              "      <td>254</td>\n",
              "      <td>0</td>\n",
              "      <td>4.000000e+07</td>\n",
              "      <td>0.000000e+00</td>\n",
              "      <td>1</td>\n",
              "      <td>0</td>\n",
              "      <td>0.009000</td>\n",
              "      <td>0.000000</td>\n",
              "      <td>0.000000</td>\n",
              "      <td>0.000000</td>\n",
              "      <td>255</td>\n",
              "      <td>0</td>\n",
              "      <td>0</td>\n",
              "      <td>0</td>\n",
              "      <td>0.000000</td>\n",
              "      <td>0.000000</td>\n",
              "      <td>0.000000</td>\n",
              "      <td>45</td>\n",
              "      <td>0</td>\n",
              "      <td>0</td>\n",
              "      <td>0</td>\n",
              "      <td>8</td>\n",
              "      <td>6</td>\n",
              "      <td>2</td>\n",
              "      <td>1</td>\n",
              "      <td>1</td>\n",
              "      <td>7</td>\n",
              "      <td>0</td>\n",
              "      <td>0</td>\n",
              "      <td>0</td>\n",
              "      <td>2</td>\n",
              "      <td>7</td>\n",
              "      <td>0</td>\n",
              "      <td>0.059491</td>\n",
              "      <td>1</td>\n",
              "    </tr>\n",
              "    <tr>\n",
              "      <th>110844</th>\n",
              "      <td>58.911236</td>\n",
              "      <td>119</td>\n",
              "      <td>2</td>\n",
              "      <td>5</td>\n",
              "      <td>38</td>\n",
              "      <td>0</td>\n",
              "      <td>2964</td>\n",
              "      <td>0</td>\n",
              "      <td>6.280640e-01</td>\n",
              "      <td>254</td>\n",
              "      <td>0</td>\n",
              "      <td>3.919117e+02</td>\n",
              "      <td>0.000000e+00</td>\n",
              "      <td>0</td>\n",
              "      <td>0</td>\n",
              "      <td>1592.195625</td>\n",
              "      <td>0.000000</td>\n",
              "      <td>1803.584125</td>\n",
              "      <td>0.000000</td>\n",
              "      <td>0</td>\n",
              "      <td>0</td>\n",
              "      <td>0</td>\n",
              "      <td>0</td>\n",
              "      <td>0.000000</td>\n",
              "      <td>0.000000</td>\n",
              "      <td>0.000000</td>\n",
              "      <td>78</td>\n",
              "      <td>0</td>\n",
              "      <td>0</td>\n",
              "      <td>0</td>\n",
              "      <td>24</td>\n",
              "      <td>2</td>\n",
              "      <td>5</td>\n",
              "      <td>5</td>\n",
              "      <td>5</td>\n",
              "      <td>5</td>\n",
              "      <td>0</td>\n",
              "      <td>0</td>\n",
              "      <td>0</td>\n",
              "      <td>6</td>\n",
              "      <td>5</td>\n",
              "      <td>0</td>\n",
              "      <td>0.017066</td>\n",
              "      <td>1</td>\n",
              "    </tr>\n",
              "    <tr>\n",
              "      <th>75814</th>\n",
              "      <td>0.556925</td>\n",
              "      <td>113</td>\n",
              "      <td>0</td>\n",
              "      <td>2</td>\n",
              "      <td>6</td>\n",
              "      <td>2</td>\n",
              "      <td>978</td>\n",
              "      <td>86</td>\n",
              "      <td>1.256902e+01</td>\n",
              "      <td>62</td>\n",
              "      <td>252</td>\n",
              "      <td>1.170714e+04</td>\n",
              "      <td>6.176774e+02</td>\n",
              "      <td>2</td>\n",
              "      <td>1</td>\n",
              "      <td>111.385000</td>\n",
              "      <td>0.007000</td>\n",
              "      <td>6521.347324</td>\n",
              "      <td>0.000000</td>\n",
              "      <td>255</td>\n",
              "      <td>567142477</td>\n",
              "      <td>3212253023</td>\n",
              "      <td>255</td>\n",
              "      <td>0.448198</td>\n",
              "      <td>0.186855</td>\n",
              "      <td>0.261343</td>\n",
              "      <td>163</td>\n",
              "      <td>43</td>\n",
              "      <td>0</td>\n",
              "      <td>0</td>\n",
              "      <td>4</td>\n",
              "      <td>3</td>\n",
              "      <td>2</td>\n",
              "      <td>2</td>\n",
              "      <td>1</td>\n",
              "      <td>4</td>\n",
              "      <td>0</td>\n",
              "      <td>0</td>\n",
              "      <td>0</td>\n",
              "      <td>2</td>\n",
              "      <td>4</td>\n",
              "      <td>0</td>\n",
              "      <td>0.002638</td>\n",
              "      <td>1</td>\n",
              "    </tr>\n",
              "    <tr>\n",
              "      <th>4383</th>\n",
              "      <td>0.002756</td>\n",
              "      <td>113</td>\n",
              "      <td>4</td>\n",
              "      <td>4</td>\n",
              "      <td>6</td>\n",
              "      <td>8</td>\n",
              "      <td>320</td>\n",
              "      <td>1826</td>\n",
              "      <td>4.716981e+03</td>\n",
              "      <td>31</td>\n",
              "      <td>29</td>\n",
              "      <td>7.750362e+05</td>\n",
              "      <td>4.638606e+06</td>\n",
              "      <td>1</td>\n",
              "      <td>2</td>\n",
              "      <td>0.490000</td>\n",
              "      <td>0.326571</td>\n",
              "      <td>27.540067</td>\n",
              "      <td>0.531653</td>\n",
              "      <td>255</td>\n",
              "      <td>3365398455</td>\n",
              "      <td>3369424549</td>\n",
              "      <td>255</td>\n",
              "      <td>0.000579</td>\n",
              "      <td>0.000465</td>\n",
              "      <td>0.000114</td>\n",
              "      <td>53</td>\n",
              "      <td>228</td>\n",
              "      <td>0</td>\n",
              "      <td>0</td>\n",
              "      <td>3</td>\n",
              "      <td>0</td>\n",
              "      <td>12</td>\n",
              "      <td>1</td>\n",
              "      <td>1</td>\n",
              "      <td>9</td>\n",
              "      <td>0</td>\n",
              "      <td>0</td>\n",
              "      <td>0</td>\n",
              "      <td>5</td>\n",
              "      <td>3</td>\n",
              "      <td>0</td>\n",
              "      <td>0.076874</td>\n",
              "      <td>1</td>\n",
              "    </tr>\n",
              "    <tr>\n",
              "      <th>47648</th>\n",
              "      <td>0.578567</td>\n",
              "      <td>113</td>\n",
              "      <td>0</td>\n",
              "      <td>4</td>\n",
              "      <td>10</td>\n",
              "      <td>6</td>\n",
              "      <td>3082</td>\n",
              "      <td>268</td>\n",
              "      <td>2.592612e+01</td>\n",
              "      <td>254</td>\n",
              "      <td>252</td>\n",
              "      <td>3.835684e+04</td>\n",
              "      <td>3.097308e+03</td>\n",
              "      <td>2</td>\n",
              "      <td>1</td>\n",
              "      <td>60.719222</td>\n",
              "      <td>99.009000</td>\n",
              "      <td>3082.246365</td>\n",
              "      <td>147.209125</td>\n",
              "      <td>255</td>\n",
              "      <td>2198208187</td>\n",
              "      <td>1448260644</td>\n",
              "      <td>255</td>\n",
              "      <td>0.153052</td>\n",
              "      <td>0.083513</td>\n",
              "      <td>0.069539</td>\n",
              "      <td>308</td>\n",
              "      <td>45</td>\n",
              "      <td>0</td>\n",
              "      <td>0</td>\n",
              "      <td>1</td>\n",
              "      <td>1</td>\n",
              "      <td>1</td>\n",
              "      <td>1</td>\n",
              "      <td>1</td>\n",
              "      <td>1</td>\n",
              "      <td>0</td>\n",
              "      <td>0</td>\n",
              "      <td>0</td>\n",
              "      <td>1</td>\n",
              "      <td>1</td>\n",
              "      <td>0</td>\n",
              "      <td>0.089812</td>\n",
              "      <td>1</td>\n",
              "    </tr>\n",
              "    <tr>\n",
              "      <th>86117</th>\n",
              "      <td>0.000004</td>\n",
              "      <td>9</td>\n",
              "      <td>0</td>\n",
              "      <td>5</td>\n",
              "      <td>2</td>\n",
              "      <td>0</td>\n",
              "      <td>200</td>\n",
              "      <td>0</td>\n",
              "      <td>2.500000e+05</td>\n",
              "      <td>254</td>\n",
              "      <td>0</td>\n",
              "      <td>2.000000e+08</td>\n",
              "      <td>0.000000e+00</td>\n",
              "      <td>0</td>\n",
              "      <td>0</td>\n",
              "      <td>0.004000</td>\n",
              "      <td>0.000000</td>\n",
              "      <td>0.000000</td>\n",
              "      <td>0.000000</td>\n",
              "      <td>0</td>\n",
              "      <td>0</td>\n",
              "      <td>0</td>\n",
              "      <td>0</td>\n",
              "      <td>0.000000</td>\n",
              "      <td>0.000000</td>\n",
              "      <td>0.000000</td>\n",
              "      <td>100</td>\n",
              "      <td>0</td>\n",
              "      <td>0</td>\n",
              "      <td>0</td>\n",
              "      <td>8</td>\n",
              "      <td>2</td>\n",
              "      <td>1</td>\n",
              "      <td>1</td>\n",
              "      <td>1</td>\n",
              "      <td>15</td>\n",
              "      <td>0</td>\n",
              "      <td>0</td>\n",
              "      <td>0</td>\n",
              "      <td>2</td>\n",
              "      <td>8</td>\n",
              "      <td>0</td>\n",
              "      <td>0.077181</td>\n",
              "      <td>1</td>\n",
              "    </tr>\n",
              "    <tr>\n",
              "      <th>29012</th>\n",
              "      <td>0.001046</td>\n",
              "      <td>119</td>\n",
              "      <td>2</td>\n",
              "      <td>2</td>\n",
              "      <td>2</td>\n",
              "      <td>2</td>\n",
              "      <td>146</td>\n",
              "      <td>178</td>\n",
              "      <td>2.868069e+03</td>\n",
              "      <td>31</td>\n",
              "      <td>29</td>\n",
              "      <td>5.583174e+05</td>\n",
              "      <td>6.806883e+05</td>\n",
              "      <td>0</td>\n",
              "      <td>0</td>\n",
              "      <td>0.010000</td>\n",
              "      <td>0.002000</td>\n",
              "      <td>0.000000</td>\n",
              "      <td>0.000000</td>\n",
              "      <td>0</td>\n",
              "      <td>0</td>\n",
              "      <td>0</td>\n",
              "      <td>0</td>\n",
              "      <td>0.000000</td>\n",
              "      <td>0.000000</td>\n",
              "      <td>0.000000</td>\n",
              "      <td>73</td>\n",
              "      <td>89</td>\n",
              "      <td>0</td>\n",
              "      <td>0</td>\n",
              "      <td>2</td>\n",
              "      <td>0</td>\n",
              "      <td>4</td>\n",
              "      <td>1</td>\n",
              "      <td>1</td>\n",
              "      <td>1</td>\n",
              "      <td>0</td>\n",
              "      <td>0</td>\n",
              "      <td>0</td>\n",
              "      <td>1</td>\n",
              "      <td>4</td>\n",
              "      <td>0</td>\n",
              "      <td>0.084293</td>\n",
              "      <td>1</td>\n",
              "    </tr>\n",
              "    <tr>\n",
              "      <th>70285</th>\n",
              "      <td>0.580344</td>\n",
              "      <td>113</td>\n",
              "      <td>0</td>\n",
              "      <td>4</td>\n",
              "      <td>10</td>\n",
              "      <td>6</td>\n",
              "      <td>534</td>\n",
              "      <td>268</td>\n",
              "      <td>2.584674e+01</td>\n",
              "      <td>254</td>\n",
              "      <td>252</td>\n",
              "      <td>6.630550e+03</td>\n",
              "      <td>3.087824e+03</td>\n",
              "      <td>2</td>\n",
              "      <td>1</td>\n",
              "      <td>64.401778</td>\n",
              "      <td>102.621398</td>\n",
              "      <td>3359.278409</td>\n",
              "      <td>178.717328</td>\n",
              "      <td>255</td>\n",
              "      <td>1818452149</td>\n",
              "      <td>4210223909</td>\n",
              "      <td>255</td>\n",
              "      <td>0.199755</td>\n",
              "      <td>0.067228</td>\n",
              "      <td>0.132527</td>\n",
              "      <td>53</td>\n",
              "      <td>45</td>\n",
              "      <td>0</td>\n",
              "      <td>0</td>\n",
              "      <td>2</td>\n",
              "      <td>1</td>\n",
              "      <td>3</td>\n",
              "      <td>2</td>\n",
              "      <td>1</td>\n",
              "      <td>2</td>\n",
              "      <td>0</td>\n",
              "      <td>0</td>\n",
              "      <td>0</td>\n",
              "      <td>2</td>\n",
              "      <td>5</td>\n",
              "      <td>0</td>\n",
              "      <td>0.082383</td>\n",
              "      <td>1</td>\n",
              "    </tr>\n",
              "    <tr>\n",
              "      <th>67313</th>\n",
              "      <td>0.852993</td>\n",
              "      <td>113</td>\n",
              "      <td>5</td>\n",
              "      <td>4</td>\n",
              "      <td>10</td>\n",
              "      <td>6</td>\n",
              "      <td>1154</td>\n",
              "      <td>268</td>\n",
              "      <td>1.758514e+01</td>\n",
              "      <td>254</td>\n",
              "      <td>252</td>\n",
              "      <td>9.744512e+03</td>\n",
              "      <td>2.100838e+03</td>\n",
              "      <td>2</td>\n",
              "      <td>1</td>\n",
              "      <td>86.384556</td>\n",
              "      <td>149.722203</td>\n",
              "      <td>4571.861017</td>\n",
              "      <td>227.361562</td>\n",
              "      <td>255</td>\n",
              "      <td>3893465793</td>\n",
              "      <td>1101942057</td>\n",
              "      <td>255</td>\n",
              "      <td>0.271391</td>\n",
              "      <td>0.104374</td>\n",
              "      <td>0.167017</td>\n",
              "      <td>115</td>\n",
              "      <td>45</td>\n",
              "      <td>0</td>\n",
              "      <td>0</td>\n",
              "      <td>1</td>\n",
              "      <td>1</td>\n",
              "      <td>3</td>\n",
              "      <td>1</td>\n",
              "      <td>1</td>\n",
              "      <td>6</td>\n",
              "      <td>0</td>\n",
              "      <td>0</td>\n",
              "      <td>0</td>\n",
              "      <td>4</td>\n",
              "      <td>1</td>\n",
              "      <td>0</td>\n",
              "      <td>0.045789</td>\n",
              "      <td>1</td>\n",
              "    </tr>\n",
              "    <tr>\n",
              "      <th>65316</th>\n",
              "      <td>0.000003</td>\n",
              "      <td>119</td>\n",
              "      <td>0</td>\n",
              "      <td>7</td>\n",
              "      <td>2</td>\n",
              "      <td>0</td>\n",
              "      <td>104</td>\n",
              "      <td>0</td>\n",
              "      <td>3.333333e+05</td>\n",
              "      <td>254</td>\n",
              "      <td>0</td>\n",
              "      <td>1.386667e+08</td>\n",
              "      <td>0.000000e+00</td>\n",
              "      <td>0</td>\n",
              "      <td>0</td>\n",
              "      <td>38768.208000</td>\n",
              "      <td>0.000000</td>\n",
              "      <td>38768.204000</td>\n",
              "      <td>0.000000</td>\n",
              "      <td>0</td>\n",
              "      <td>0</td>\n",
              "      <td>0</td>\n",
              "      <td>0</td>\n",
              "      <td>0.000000</td>\n",
              "      <td>0.000000</td>\n",
              "      <td>0.000000</td>\n",
              "      <td>52</td>\n",
              "      <td>0</td>\n",
              "      <td>0</td>\n",
              "      <td>0</td>\n",
              "      <td>8</td>\n",
              "      <td>6</td>\n",
              "      <td>4</td>\n",
              "      <td>2</td>\n",
              "      <td>2</td>\n",
              "      <td>7</td>\n",
              "      <td>0</td>\n",
              "      <td>0</td>\n",
              "      <td>0</td>\n",
              "      <td>2</td>\n",
              "      <td>14</td>\n",
              "      <td>0</td>\n",
              "      <td>-0.006711</td>\n",
              "      <td>-1</td>\n",
              "    </tr>\n",
              "  </tbody>\n",
              "</table>\n",
              "</div>"
            ],
            "text/plain": [
              "              dur  proto  service  ...  is_sm_ips_ports    scores  anomaly\n",
              "95275    0.000005    129        0  ...                0  0.098009        1\n",
              "34148    0.015996    113        0  ...                0  0.039752        1\n",
              "21989    0.039017    113        0  ...                0  0.042123        1\n",
              "99873    2.493213    113        7  ...                0  0.036433        1\n",
              "106667   0.950392    113        0  ...                0  0.089986        1\n",
              "15691    0.000977    119        2  ...                0  0.081190        1\n",
              "79023    1.969518    113        0  ...                0  0.048862        1\n",
              "154720   0.000001    119        2  ...                0  0.015861        1\n",
              "101649   0.378248    113        0  ...                0  0.030849        1\n",
              "32865    1.051613    113        5  ...                0  0.028254        1\n",
              "68976    0.000009    113        0  ...                0  0.059491        1\n",
              "110844  58.911236    119        2  ...                0  0.017066        1\n",
              "75814    0.556925    113        0  ...                0  0.002638        1\n",
              "4383     0.002756    113        4  ...                0  0.076874        1\n",
              "47648    0.578567    113        0  ...                0  0.089812        1\n",
              "86117    0.000004      9        0  ...                0  0.077181        1\n",
              "29012    0.001046    119        2  ...                0  0.084293        1\n",
              "70285    0.580344    113        0  ...                0  0.082383        1\n",
              "67313    0.852993    113        5  ...                0  0.045789        1\n",
              "65316    0.000003    119        0  ...                0 -0.006711       -1\n",
              "\n",
              "[20 rows x 44 columns]"
            ]
          },
          "metadata": {
            "tags": []
          },
          "execution_count": 74
        }
      ]
    },
    {
      "cell_type": "code",
      "metadata": {
        "id": "Z2AoWvzo08YU",
        "outputId": "dd668528-a3dd-4aff-9969-418f01cb3101",
        "colab": {
          "base_uri": "https://localhost:8080/"
        }
      },
      "source": [
        "anomaly=data_x.loc[data_x['anomaly']==-1]\r\n",
        "anomaly_index=list(anomaly.index)\r\n",
        "print(anomaly)"
      ],
      "execution_count": 75,
      "outputs": [
        {
          "output_type": "stream",
          "text": [
            "              dur  proto  service  ...  is_sm_ips_ports    scores  anomaly\n",
            "65316    0.000003    119        0  ...                0 -0.006711       -1\n",
            "65500    0.710811    113        5  ...                0 -0.015120       -1\n",
            "65314    2.408826    113        0  ...                0 -0.019425       -1\n",
            "42810    0.665396    113        0  ...                0 -0.095055       -1\n",
            "79793    4.604742    113        4  ...                0 -0.087940       -1\n",
            "...           ...    ...      ...  ...              ...       ...      ...\n",
            "103114   0.714549    113        0  ...                0 -0.084682       -1\n",
            "10927    1.286524    113        5  ...                0 -0.131305       -1\n",
            "379     17.435793    113        5  ...                0 -0.108846       -1\n",
            "45376    8.969626    113        0  ...                0 -0.010705       -1\n",
            "129082   1.181727    113        3  ...                0 -0.001635       -1\n",
            "\n",
            "[21066 rows x 44 columns]\n"
          ],
          "name": "stdout"
        }
      ]
    },
    {
      "cell_type": "code",
      "metadata": {
        "id": "rsC6AZPS4tjr"
      },
      "source": [
        "print(\"Accuracy percentage:\", 100*list(data_x['anomaly']).count(-1)/56000)"
      ],
      "execution_count": null,
      "outputs": []
    },
    {
      "cell_type": "code",
      "metadata": {
        "id": "qpOhv6N49-3C",
        "outputId": "ec74deb9-529e-4238-9825-87c22d2033ec",
        "colab": {
          "base_uri": "https://localhost:8080/"
        }
      },
      "source": [
        "print(\"Accuracy percentage:\", 21066/74211)"
      ],
      "execution_count": 97,
      "outputs": [
        {
          "output_type": "stream",
          "text": [
            "Accuracy percentage: 0.2838662731940009\n"
          ],
          "name": "stdout"
        }
      ]
    },
    {
      "cell_type": "markdown",
      "metadata": {
        "id": "gVO_4gmThrU-"
      },
      "source": [
        "# Benchmark"
      ]
    },
    {
      "cell_type": "code",
      "metadata": {
        "id": "YZYIJ9d_VA57",
        "colab": {
          "base_uri": "https://localhost:8080/"
        },
        "outputId": "4b14ab2f-e666-4641-89c6-7679eaeffb93"
      },
      "source": [
        "# DTC = DecisionTreeClassifier()\n",
        "RFC = RandomForestClassifier(n_estimators=150, random_state=42, n_jobs=-1)\n",
        "ETC = ExtraTreesClassifier(n_estimators=200, random_state=42, n_jobs=-1)\n",
        "XGB = xgboost.XGBClassifier(n_estimators=150, n_jobs=-1)\n",
        "GBM = lightgbm.LGBMClassifier(objective='binary', n_estimators= 500) # multiclass\n",
        "\n",
        "list_of_CLFs_names = []\n",
        "list_of_CLFs = [ RFC, ETC, XGB, GBM]\n",
        "ranking = []\n",
        "\n",
        "for clf in list_of_CLFs:\n",
        "    _ = clf.fit(X_train,y_train)\n",
        "    pred = clf.score(X_test,y_test)\n",
        "    name = str(type(clf)).split(\".\")[-1][:-2]\n",
        "    print(\"Acc: %0.5f for the %s\" % (pred, name))\n",
        "\n",
        "    ranking.append(pred)\n",
        "    list_of_CLFs_names.append(name)"
      ],
      "execution_count": null,
      "outputs": [
        {
          "output_type": "stream",
          "text": [
            "Acc: 0.95240 for the RandomForestClassifier\n",
            "Acc: 0.95133 for the ExtraTreesClassifier\n",
            "Acc: 0.93653 for the XGBClassifier\n",
            "Acc: 0.95269 for the LGBMClassifier\n"
          ],
          "name": "stdout"
        }
      ]
    },
    {
      "cell_type": "code",
      "metadata": {
        "id": "UJTr88Kge5bs",
        "colab": {
          "base_uri": "https://localhost:8080/"
        },
        "outputId": "d8e257d1-d056-4086-9ab1-2750fed33fcd"
      },
      "source": [
        "eclf = EnsembleVoteClassifier(clfs=list_of_CLFs, refit=False, voting='soft')\n",
        "_ = eclf.fit(X_train, y_train)\n",
        "pred = eclf.score(X_test, y_test)\n",
        "print(\"Acc: %0.5f for the %s\" % (pred, str(type(eclf)).split(\".\")[-1][:-2]))\n",
        "\n",
        "# pred = eclf.predict(X_test)\n",
        "# probas = eclf.predict_proba(X_test)"
      ],
      "execution_count": null,
      "outputs": [
        {
          "output_type": "stream",
          "text": [
            "Acc: 0.95353 for the EnsembleVoteClassifier\n"
          ],
          "name": "stdout"
        }
      ]
    },
    {
      "cell_type": "markdown",
      "metadata": {
        "id": "T1Ha3TsuqUWB"
      },
      "source": [
        "## Unsupervied ML"
      ]
    },
    {
      "cell_type": "code",
      "metadata": {
        "id": "CjRc41fsnMr6"
      },
      "source": [
        "%%capture \n",
        "!pip install pyod\n",
        "!pip install hdbscan\n",
        "!pip install combo\n",
        "!pip install SOM...... # https://github.com/AICoE/log-anomaly-detector/blob/master/Notebooks/SOM_retrain_notebook/SOM_UserFeedbackPOC.ipynb\n",
        "!pip install somtf"
      ],
      "execution_count": null,
      "outputs": []
    },
    {
      "cell_type": "code",
      "metadata": {
        "id": "Y_eTF1yQOdoR",
        "colab": {
          "base_uri": "https://localhost:8080/"
        },
        "outputId": "523cb68a-8db3-485e-8e43-58c8db8a1a82"
      },
      "source": [
        "!pip install rrcf"
      ],
      "execution_count": null,
      "outputs": [
        {
          "output_type": "stream",
          "text": [
            "Collecting rrcf\n",
            "  Downloading https://files.pythonhosted.org/packages/36/ac/e43a9774d85e97e9cd877c8da1dd3eacc0644848afe223f25b6e1b21b006/rrcf-0.4.3.tar.gz\n",
            "Requirement already satisfied: numpy in /usr/local/lib/python3.6/dist-packages (from rrcf) (1.19.5)\n",
            "Building wheels for collected packages: rrcf\n",
            "  Building wheel for rrcf (setup.py) ... \u001b[?25l\u001b[?25hdone\n",
            "  Created wheel for rrcf: filename=rrcf-0.4.3-cp36-none-any.whl size=9811 sha256=58a6d2be0bb1a88c46843078282f1eab893a70238d5114c5f6e5dd305e5f6714\n",
            "  Stored in directory: /root/.cache/pip/wheels/6c/7c/b7/8983591821eb2c00a31795b29232dcedc4d7fad70a6c663870\n",
            "Successfully built rrcf\n",
            "Installing collected packages: rrcf\n",
            "Successfully installed rrcf-0.4.3\n"
          ],
          "name": "stdout"
        }
      ]
    },
    {
      "cell_type": "code",
      "metadata": {
        "id": "X05LsfcUjRyh"
      },
      "source": [
        "import gc, os, pickle\n",
        "from datetime import datetime\n",
        "\n",
        "import numpy as np\n",
        "import pandas as pd\n",
        "from collections import Counter\n",
        "\n",
        "from IPython.core.interactiveshell import InteractiveShell\n",
        "InteractiveShell.ast_node_interactivity = \"all\"\n",
        "\n",
        "import warnings\n",
        "warnings.simplefilter(action='ignore', category=FutureWarning)\n",
        "\n",
        "import pyod\n",
        "from hdbscan import HDBSCAN\n",
        "import rrcf\n",
        "\n",
        "import sklearn\n",
        "from sklearn.model_selection import train_test_split\n",
        "from sklearn.decomposition import * \n",
        "from sklearn.preprocessing import *\n",
        "from sklearn.svm import *\n",
        "from sklearn.metrics import  precision_recall_curve, precision_score, recall_score, f1_score, accuracy_score\n",
        "from sklearn.metrics import roc_curve, auc, roc_auc_score, confusion_matrix, classification_report\n"
      ],
      "execution_count": null,
      "outputs": []
    },
    {
      "cell_type": "code",
      "metadata": {
        "id": "Po7VpfirjR2L"
      },
      "source": [
        "from pyod.models import lof, cblof, cof, pca, iforest, knn, mcd, ocsvm, sod, abod, hbos #, auto_encoder, vae\n",
        "contamination = 0.4\n",
        "threshold = 0.75"
      ],
      "execution_count": null,
      "outputs": []
    },
    {
      "cell_type": "markdown",
      "metadata": {
        "id": "x8P_zlmJHD4U"
      },
      "source": [
        "<table class=\"docutils align-default\">\r\n",
        "<colgroup>\r\n",
        "<col style=\"width: 8%\">\r\n",
        "<col style=\"width: 6%\">\r\n",
        "<col style=\"width: 41%\">\r\n",
        "<col style=\"width: 2%\">\r\n",
        "<col style=\"width: 21%\">\r\n",
        "<col style=\"width: 22%\">\r\n",
        "</colgroup>\r\n",
        "<thead>\r\n",
        "<tr class=\"row-odd\"><th class=\"head\"><p>Type</p></th>\r\n",
        "<th class=\"head\"><p>Abbr</p></th>\r\n",
        "<th class=\"head\"><p>Algorithm</p></th>\r\n",
        "<th class=\"head\"><p>Year</p></th>\r\n",
        "<th class=\"head\"><p>Class</p></th>\r\n",
        "<th class=\"head\"><p>Ref</p></th>\r\n",
        "</tr>\r\n",
        "</thead>\r\n",
        "<tbody>\r\n",
        "<tr class=\"row-even\"><td><p>Linear Model</p></td>\r\n",
        "<td><p>PCA</p></td>\r\n",
        "<td><p>Principal Component Analysis (the sum of weighted projected distances to the eigenvector hyperplanes)</p></td>\r\n",
        "<td><p>2003</p></td>\r\n",
        "<td><p><a class=\"reference internal\" href=\"pyod.models.html#pyod.models.pca.PCA\" title=\"pyod.models.pca.PCA\"><code class=\"xref py py-class docutils literal notranslate\"><span class=\"pre\">pyod.models.pca.PCA</span></code></a></p></td>\r\n",
        "<td><p><span id=\"id3\">[<a class=\"reference internal\" href=\"#id53\"><span>ASCSC03</span></a>]</span></p></td>\r\n",
        "</tr>\r\n",
        "<tr class=\"row-odd\"><td><p>Linear Model</p></td>\r\n",
        "<td><p>MCD</p></td>\r\n",
        "<td><p>Minimum Covariance Determinant (use the mahalanobis distances as the outlier scores)</p></td>\r\n",
        "<td><p>1999</p></td>\r\n",
        "<td><p><a class=\"reference internal\" href=\"pyod.models.html#pyod.models.mcd.MCD\" title=\"pyod.models.mcd.MCD\"><code class=\"xref py py-class docutils literal notranslate\"><span class=\"pre\">pyod.models.mcd.MCD</span></code></a></p></td>\r\n",
        "<td><p><span id=\"id4\">[<a class=\"reference internal\" href=\"#id57\"><span>ARD99</span></a>,<a class=\"reference internal\" href=\"#id58\"><span>AHR04</span></a>]</span></p></td>\r\n",
        "</tr>\r\n",
        "<tr class=\"row-even\"><td><p>Linear Model</p></td>\r\n",
        "<td><p>OCSVM</p></td>\r\n",
        "<td><p>One-Class Support Vector Machines</p></td>\r\n",
        "<td><p>2001</p></td>\r\n",
        "<td><p><a class=\"reference internal\" href=\"pyod.models.html#pyod.models.ocsvm.OCSVM\" title=\"pyod.models.ocsvm.OCSVM\"><code class=\"xref py py-class docutils literal notranslate\"><span class=\"pre\">pyod.models.ocsvm.OCSVM</span></code></a></p></td>\r\n",
        "<td><p><span id=\"id5\">[<a class=\"reference internal\" href=\"#id68\"><span>AScholkopfPST+01</span></a>]</span></p></td>\r\n",
        "</tr>\r\n",
        "<tr class=\"row-odd\"><td><p>Linear Model</p></td>\r\n",
        "<td><p>LMDD</p></td>\r\n",
        "<td><p>Deviation-based Outlier Detection (LMDD)</p></td>\r\n",
        "<td><p>1996</p></td>\r\n",
        "<td><p><a class=\"reference internal\" href=\"pyod.models.html#pyod.models.lmdd.LMDD\" title=\"pyod.models.lmdd.LMDD\"><code class=\"xref py py-class docutils literal notranslate\"><span class=\"pre\">pyod.models.lmdd.LMDD</span></code></a></p></td>\r\n",
        "<td><p><span id=\"id6\">[<a class=\"reference internal\" href=\"#id75\"><span>AAAR96</span></a>]</span></p></td>\r\n",
        "</tr>\r\n",
        "<tr class=\"row-even\"><td><p>Proximity-Based</p></td>\r\n",
        "<td><p>LOF</p></td>\r\n",
        "<td><p>Local Outlier Factor</p></td>\r\n",
        "<td><p>2000</p></td>\r\n",
        "<td><p><a class=\"reference internal\" href=\"pyod.models.html#pyod.models.lof.LOF\" title=\"pyod.models.lof.LOF\"><code class=\"xref py py-class docutils literal notranslate\"><span class=\"pre\">pyod.models.lof.LOF</span></code></a></p></td>\r\n",
        "<td><p><span id=\"id7\">[<a class=\"reference internal\" href=\"#id55\"><span>ABKNS00</span></a>]</span></p></td>\r\n",
        "</tr>\r\n",
        "<tr class=\"row-odd\"><td><p>Proximity-Based</p></td>\r\n",
        "<td><p>COF</p></td>\r\n",
        "<td><p>Connectivity-Based Outlier Factor</p></td>\r\n",
        "<td><p>2002</p></td>\r\n",
        "<td><p><a class=\"reference internal\" href=\"pyod.models.html#pyod.models.cof.COF\" title=\"pyod.models.cof.COF\"><code class=\"xref py py-class docutils literal notranslate\"><span class=\"pre\">pyod.models.cof.COF</span></code></a></p></td>\r\n",
        "<td><p><span id=\"id8\">[<a class=\"reference internal\" href=\"#id69\"><span>ATCFC02</span></a>]</span></p></td>\r\n",
        "</tr>\r\n",
        "<tr class=\"row-even\"><td><p>Proximity-Based</p></td>\r\n",
        "<td><p>CBLOF</p></td>\r\n",
        "<td><p>Clustering-Based Local Outlier Factor</p></td>\r\n",
        "<td><p>2003</p></td>\r\n",
        "<td><p><a class=\"reference internal\" href=\"pyod.models.html#pyod.models.cblof.CBLOF\" title=\"pyod.models.cblof.CBLOF\"><code class=\"xref py py-class docutils literal notranslate\"><span class=\"pre\">pyod.models.cblof.CBLOF</span></code></a></p></td>\r\n",
        "<td><p><span id=\"id9\">[<a class=\"reference internal\" href=\"#id59\"><span>AHXD03</span></a>]</span></p></td>\r\n",
        "</tr>\r\n",
        "<tr class=\"row-odd\"><td><p>Proximity-Based</p></td>\r\n",
        "<td><p>LOCI</p></td>\r\n",
        "<td><p>LOCI: Fast outlier detection using the local correlation integral</p></td>\r\n",
        "<td><p>2003</p></td>\r\n",
        "<td><p><a class=\"reference internal\" href=\"pyod.models.html#pyod.models.loci.LOCI\" title=\"pyod.models.loci.LOCI\"><code class=\"xref py py-class docutils literal notranslate\"><span class=\"pre\">pyod.models.loci.LOCI</span></code></a></p></td>\r\n",
        "<td><p><span id=\"id10\">[<a class=\"reference internal\" href=\"#id62\"><span>APKGF03</span></a>]</span></p></td>\r\n",
        "</tr>\r\n",
        "<tr class=\"row-even\"><td><p>Proximity-Based</p></td>\r\n",
        "<td><p>HBOS</p></td>\r\n",
        "<td><p>Histogram-based Outlier Score</p></td>\r\n",
        "<td><p>2012</p></td>\r\n",
        "<td><p><a class=\"reference internal\" href=\"pyod.models.html#pyod.models.hbos.HBOS\" title=\"pyod.models.hbos.HBOS\"><code class=\"xref py py-class docutils literal notranslate\"><span class=\"pre\">pyod.models.hbos.HBOS</span></code></a></p></td>\r\n",
        "<td><p><span id=\"id11\">[<a class=\"reference internal\" href=\"#id52\"><span>AGD12</span></a>]</span></p></td>\r\n",
        "</tr>\r\n",
        "<tr class=\"row-odd\"><td><p>Proximity-Based</p></td>\r\n",
        "<td><p>kNN</p></td>\r\n",
        "<td><p>k Nearest Neighbors (use the distance to the kth nearest neighbor as the outlier score</p></td>\r\n",
        "<td><p>2000</p></td>\r\n",
        "<td><p><a class=\"reference internal\" href=\"pyod.models.html#pyod.models.knn.KNN\" title=\"pyod.models.knn.KNN\"><code class=\"xref py py-class docutils literal notranslate\"><span class=\"pre\">pyod.models.knn.KNN</span></code></a></p></td>\r\n",
        "<td><p><span id=\"id12\">[<a class=\"reference internal\" href=\"#id48\"><span>ARRS00</span></a>,<a class=\"reference internal\" href=\"#id49\"><span>AAP02</span></a>]</span></p></td>\r\n",
        "</tr>\r\n",
        "<tr class=\"row-even\"><td><p>Proximity-Based</p></td>\r\n",
        "<td><p>AvgKNN</p></td>\r\n",
        "<td><p>Average kNN (use the average distance to k nearest neighbors as the outlier score)</p></td>\r\n",
        "<td><p>2002</p></td>\r\n",
        "<td><p><a class=\"reference internal\" href=\"pyod.models.html#pyod.models.knn.KNN\" title=\"pyod.models.knn.KNN\"><code class=\"xref py py-class docutils literal notranslate\"><span class=\"pre\">pyod.models.knn.KNN</span></code></a></p></td>\r\n",
        "<td><p><span id=\"id13\">[<a class=\"reference internal\" href=\"#id48\"><span>ARRS00</span></a>,<a class=\"reference internal\" href=\"#id49\"><span>AAP02</span></a>]</span></p></td>\r\n",
        "</tr>\r\n",
        "<tr class=\"row-odd\"><td><p>Proximity-Based</p></td>\r\n",
        "<td><p>MedKNN</p></td>\r\n",
        "<td><p>Median kNN (use the median distance to k nearest neighbors as the outlier score)</p></td>\r\n",
        "<td><p>2002</p></td>\r\n",
        "<td><p><a class=\"reference internal\" href=\"pyod.models.html#pyod.models.knn.KNN\" title=\"pyod.models.knn.KNN\"><code class=\"xref py py-class docutils literal notranslate\"><span class=\"pre\">pyod.models.knn.KNN</span></code></a></p></td>\r\n",
        "<td><p><span id=\"id14\">[<a class=\"reference internal\" href=\"#id48\"><span>ARRS00</span></a>,<a class=\"reference internal\" href=\"#id49\"><span>AAP02</span></a>]</span></p></td>\r\n",
        "</tr>\r\n",
        "<tr class=\"row-even\"><td><p>Proximity-Based</p></td>\r\n",
        "<td><p>SOD</p></td>\r\n",
        "<td><p>Subspace Outlier Detection</p></td>\r\n",
        "<td><p>2009</p></td>\r\n",
        "<td><p><a class=\"reference internal\" href=\"pyod.models.html#pyod.models.sod.SOD\" title=\"pyod.models.sod.SOD\"><code class=\"xref py py-class docutils literal notranslate\"><span class=\"pre\">pyod.models.sod.SOD</span></code></a></p></td>\r\n",
        "<td><p><span id=\"id15\">[<a class=\"reference internal\" href=\"#id71\"><span>AKKrogerSZ09</span></a>]</span></p></td>\r\n",
        "</tr>\r\n",
        "<tr class=\"row-odd\"><td><p>Proximity-Based</p></td>\r\n",
        "<td><p>ROD</p></td>\r\n",
        "<td><p>Rotation-based Outlier Detection</p></td>\r\n",
        "<td><p>2020</p></td>\r\n",
        "<td><p><a class=\"reference internal\" href=\"pyod.models.html#pyod.models.rod.ROD\" title=\"pyod.models.rod.ROD\"><code class=\"xref py py-class docutils literal notranslate\"><span class=\"pre\">pyod.models.rod.ROD</span></code></a></p></td>\r\n",
        "<td><p><span id=\"id16\">[<a class=\"reference internal\" href=\"#id81\"><span>AABC20</span></a>]</span></p></td>\r\n",
        "</tr>\r\n",
        "<tr class=\"row-even\"><td><p>Probabilistic</p></td>\r\n",
        "<td><p>ABOD</p></td>\r\n",
        "<td><p>Angle-Based Outlier Detection</p></td>\r\n",
        "<td><p>2008</p></td>\r\n",
        "<td><p><a class=\"reference internal\" href=\"pyod.models.html#pyod.models.abod.ABOD\" title=\"pyod.models.abod.ABOD\"><code class=\"xref py py-class docutils literal notranslate\"><span class=\"pre\">pyod.models.abod.ABOD</span></code></a></p></td>\r\n",
        "<td><p><span id=\"id17\">[<a class=\"reference internal\" href=\"#id50\"><span>AKZ+08</span></a>]</span></p></td>\r\n",
        "</tr>\r\n",
        "<tr class=\"row-odd\"><td><p>Probabilistic</p></td>\r\n",
        "<td><p>FastABOD</p></td>\r\n",
        "<td><p>Fast Angle-Based Outlier Detection using approximation</p></td>\r\n",
        "<td><p>2008</p></td>\r\n",
        "<td><p><a class=\"reference internal\" href=\"pyod.models.html#pyod.models.abod.ABOD\" title=\"pyod.models.abod.ABOD\"><code class=\"xref py py-class docutils literal notranslate\"><span class=\"pre\">pyod.models.abod.ABOD</span></code></a></p></td>\r\n",
        "<td><p><span id=\"id18\">[<a class=\"reference internal\" href=\"#id50\"><span>AKZ+08</span></a>]</span></p></td>\r\n",
        "</tr>\r\n",
        "<tr class=\"row-even\"><td><p>Probabilistic</p></td>\r\n",
        "<td><p>COPOD</p></td>\r\n",
        "<td><p>COPOD: Copula-Based Outlier Detection</p></td>\r\n",
        "<td><p>2020</p></td>\r\n",
        "<td><p><a class=\"reference internal\" href=\"pyod.models.html#pyod.models.copod.COPOD\" title=\"pyod.models.copod.COPOD\"><code class=\"xref py py-class docutils literal notranslate\"><span class=\"pre\">pyod.models.copod.COPOD</span></code></a></p></td>\r\n",
        "<td><p><span id=\"id19\">[<a class=\"reference internal\" href=\"#id80\"><span>ALZB+20</span></a>]</span></p></td>\r\n",
        "</tr>\r\n",
        "<tr class=\"row-odd\"><td><p>Probabilistic</p></td>\r\n",
        "<td><p>MAD</p></td>\r\n",
        "<td><p>Median Absolute Deviation (MAD)</p></td>\r\n",
        "<td><p>1993</p></td>\r\n",
        "<td><p><a class=\"reference internal\" href=\"pyod.models.html#pyod.models.mad.MAD\" title=\"pyod.models.mad.MAD\"><code class=\"xref py py-class docutils literal notranslate\"><span class=\"pre\">pyod.models.mad.MAD</span></code></a></p></td>\r\n",
        "<td><p><span id=\"id20\">[<a class=\"reference internal\" href=\"#id79\"><span>AIH93</span></a>]</span></p></td>\r\n",
        "</tr>\r\n",
        "<tr class=\"row-even\"><td><p>Probabilistic</p></td>\r\n",
        "<td><p>SOS</p></td>\r\n",
        "<td><p>Stochastic Outlier Selection</p></td>\r\n",
        "<td><p>2012</p></td>\r\n",
        "<td><p><a class=\"reference internal\" href=\"pyod.models.html#pyod.models.sos.SOS\" title=\"pyod.models.sos.SOS\"><code class=\"xref py py-class docutils literal notranslate\"><span class=\"pre\">pyod.models.sos.SOS</span></code></a></p></td>\r\n",
        "<td><p><span id=\"id21\">[<a class=\"reference internal\" href=\"#id61\"><span>AJHuszarPvdH12</span></a>]</span></p></td>\r\n",
        "</tr>\r\n",
        "<tr class=\"row-odd\"><td><p>Outlier Ensembles</p></td>\r\n",
        "<td><p>IForest</p></td>\r\n",
        "<td><p>Isolation Forest</p></td>\r\n",
        "<td><p>2008</p></td>\r\n",
        "<td><p><a class=\"reference internal\" href=\"pyod.models.html#pyod.models.iforest.IForest\" title=\"pyod.models.iforest.IForest\"><code class=\"xref py py-class docutils literal notranslate\"><span class=\"pre\">pyod.models.iforest.IForest</span></code></a></p></td>\r\n",
        "<td><p><span id=\"id22\">[<a class=\"reference internal\" href=\"#id44\"><span>ALTZ08</span></a>,<a class=\"reference internal\" href=\"#id45\"><span>ALTZ12</span></a>]</span></p></td>\r\n",
        "</tr>\r\n",
        "<tr class=\"row-even\"><td><p>Outlier Ensembles</p></td>\r\n",
        "<td></td>\r\n",
        "<td><p>Feature Bagging</p></td>\r\n",
        "<td><p>2005</p></td>\r\n",
        "<td><p><a class=\"reference internal\" href=\"pyod.models.html#pyod.models.feature_bagging.FeatureBagging\" title=\"pyod.models.feature_bagging.FeatureBagging\"><code class=\"xref py py-class docutils literal notranslate\"><span class=\"pre\">pyod.models.feature_bagging.FeatureBagging</span></code></a></p></td>\r\n",
        "<td><p><span id=\"id23\">[<a class=\"reference internal\" href=\"#id51\"><span>ALK05</span></a>]</span></p></td>\r\n",
        "</tr>\r\n",
        "<tr class=\"row-odd\"><td><p>Outlier Ensembles</p></td>\r\n",
        "<td><p>LSCP</p></td>\r\n",
        "<td><p>LSCP: Locally Selective Combination of Parallel Outlier Ensembles</p></td>\r\n",
        "<td><p>2019</p></td>\r\n",
        "<td><p><a class=\"reference internal\" href=\"pyod.models.html#pyod.models.lscp.LSCP\" title=\"pyod.models.lscp.LSCP\"><code class=\"xref py py-class docutils literal notranslate\"><span class=\"pre\">pyod.models.lscp.LSCP</span></code></a></p></td>\r\n",
        "<td><p><span id=\"id24\">[<a class=\"reference internal\" href=\"#id63\"><span>AZNHL19</span></a>]</span></p></td>\r\n",
        "</tr>\r\n",
        "<tr class=\"row-even\"><td><p>Outlier Ensembles</p></td>\r\n",
        "<td><p>XGBOD</p></td>\r\n",
        "<td><p>Extreme Boosting Based Outlier Detection <strong>(Supervised)</strong></p></td>\r\n",
        "<td><p>2018</p></td>\r\n",
        "<td><p><a class=\"reference internal\" href=\"pyod.models.html#pyod.models.xgbod.XGBOD\" title=\"pyod.models.xgbod.XGBOD\"><code class=\"xref py py-class docutils literal notranslate\"><span class=\"pre\">pyod.models.xgbod.XGBOD</span></code></a></p></td>\r\n",
        "<td><p><span id=\"id25\">[<a class=\"reference internal\" href=\"#id56\"><span>AZH18</span></a>]</span></p></td>\r\n",
        "</tr>\r\n",
        "<tr class=\"row-odd\"><td><p>Outlier Ensembles</p></td>\r\n",
        "<td><p>LODA</p></td>\r\n",
        "<td><p>Lightweight On-line Detector of Anomalies</p></td>\r\n",
        "<td><p>2016</p></td>\r\n",
        "<td><p><a class=\"reference internal\" href=\"pyod.models.html#pyod.models.loda.LODA\" title=\"pyod.models.loda.LODA\"><code class=\"xref py py-class docutils literal notranslate\"><span class=\"pre\">pyod.models.loda.LODA</span></code></a></p></td>\r\n",
        "<td><p><span id=\"id26\">[<a class=\"reference internal\" href=\"#id77\"><span>APevny16</span></a>]</span></p></td>\r\n",
        "</tr>\r\n",
        "<tr class=\"row-even\"><td><p>Neural Networks</p></td>\r\n",
        "<td><p>AutoEncoder</p></td>\r\n",
        "<td><p>Fully connected AutoEncoder (use reconstruction error as the outlier score)</p></td>\r\n",
        "<td><p>2015</p></td>\r\n",
        "<td><p><a class=\"reference internal\" href=\"pyod.models.html#pyod.models.auto_encoder.AutoEncoder\" title=\"pyod.models.auto_encoder.AutoEncoder\"><code class=\"xref py py-class docutils literal notranslate\"><span class=\"pre\">pyod.models.auto_encoder.AutoEncoder</span></code></a></p></td>\r\n",
        "<td><p><span id=\"id27\">[<a class=\"reference internal\" href=\"#id54\"><span>AAgg15</span></a>]</span></p></td>\r\n",
        "</tr>\r\n",
        "<tr class=\"row-odd\"><td><p>Neural Networks</p></td>\r\n",
        "<td><p>VAE</p></td>\r\n",
        "<td><p>Variational AutoEncoder (use reconstruction error as the outlier score)</p></td>\r\n",
        "<td><p>2013</p></td>\r\n",
        "<td><p><a class=\"reference internal\" href=\"pyod.models.html#pyod.models.vae.VAE\" title=\"pyod.models.vae.VAE\"><code class=\"xref py py-class docutils literal notranslate\"><span class=\"pre\">pyod.models.vae.VAE</span></code></a></p></td>\r\n",
        "<td><p><span id=\"id28\">[<a class=\"reference internal\" href=\"#id76\"><span>AKW13</span></a>]</span></p></td>\r\n",
        "</tr>\r\n",
        "<tr class=\"row-even\"><td><p>Neural Networks</p></td>\r\n",
        "<td><p>Beta-VAE</p></td>\r\n",
        "<td><p>Variational AutoEncoder (all customized loss term by varying gamma and capacity)</p></td>\r\n",
        "<td><p>2018</p></td>\r\n",
        "<td><p><a class=\"reference internal\" href=\"pyod.models.html#pyod.models.vae.VAE\" title=\"pyod.models.vae.VAE\"><code class=\"xref py py-class docutils literal notranslate\"><span class=\"pre\">pyod.models.vae.VAE</span></code></a></p></td>\r\n",
        "<td><p><span id=\"id29\">[<a class=\"reference internal\" href=\"#id78\"><span>ABHP+18</span></a>]</span></p></td>\r\n",
        "</tr>\r\n",
        "<tr class=\"row-odd\"><td><p>Neural Networks</p></td>\r\n",
        "<td><p>SO_GAAL</p></td>\r\n",
        "<td><p>Single-Objective Generative Adversarial Active Learning</p></td>\r\n",
        "<td><p>2019</p></td>\r\n",
        "<td><p><a class=\"reference internal\" href=\"pyod.models.html#pyod.models.so_gaal.SO_GAAL\" title=\"pyod.models.so_gaal.SO_GAAL\"><code class=\"xref py py-class docutils literal notranslate\"><span class=\"pre\">pyod.models.so_gaal.SO_GAAL</span></code></a></p></td>\r\n",
        "<td><p><span id=\"id30\">[<a class=\"reference internal\" href=\"#id64\"><span>ALLZ+19</span></a>]</span></p></td>\r\n",
        "</tr>\r\n",
        "<tr class=\"row-even\"><td><p>Neural Networks</p></td>\r\n",
        "<td><p>MO_GAAL</p></td>\r\n",
        "<td><p>Multiple-Objective Generative Adversarial Active Learning</p></td>\r\n",
        "<td><p>2019</p></td>\r\n",
        "<td><p><a class=\"reference internal\" href=\"pyod.models.html#pyod.models.mo_gaal.MO_GAAL\" title=\"pyod.models.mo_gaal.MO_GAAL\"><code class=\"xref py py-class docutils literal notranslate\"><span class=\"pre\">pyod.models.mo_gaal.MO_GAAL</span></code></a></p></td>\r\n",
        "<td><p><span id=\"id31\">[<a class=\"reference internal\" href=\"#id64\"><span>ALLZ+19</span></a>]</span></p></td>\r\n",
        "</tr>\r\n",
        "</tbody>\r\n",
        "</table>"
      ]
    },
    {
      "cell_type": "markdown",
      "metadata": {
        "id": "8d9cCCYvu0i1"
      },
      "source": [
        "## Uses PYOD"
      ]
    },
    {
      "cell_type": "markdown",
      "metadata": {
        "id": "QsNSrb0fjWqy"
      },
      "source": [
        "<h1><b>Printing Score metrics</b></h1>"
      ]
    },
    {
      "cell_type": "code",
      "metadata": {
        "id": "MQ_TfqhZjhzi"
      },
      "source": [
        "def PrintScoreMetrics(algorithm,X_test,y_test):\r\n",
        "    y_pred_class = algorithm.predict(X_test)\r\n",
        "    y_pred_score = algorithm.predict_proba(X=X_test)[:, 1]\r\n",
        "\r\n",
        "\r\n",
        "    # AUC of ROC\r\n",
        "    auc_ontest = roc_auc_score(y_true=y_test, y_score=y_pred_score)\r\n",
        "    # confusion matrix\r\n",
        "    cm_ontest = confusion_matrix(y_true=y_test, y_pred=y_pred_class)\r\n",
        "    # precision score\r\n",
        "    precision_ontest = precision_score(y_true=y_test, y_pred=y_pred_class)\r\n",
        "    # recall score\r\n",
        "    recall_ontest = recall_score(y_true=y_test, y_pred=y_pred_class)\r\n",
        "    # classifition report\r\n",
        "    cls_report_ontest = classification_report(y_true=y_test, y_pred=y_pred_class)\r\n",
        "\r\n",
        "    # print the above results\r\n",
        "    print('The model scores {:1.5f} ROC AUC on the test set.'.format(auc_ontest))\r\n",
        "    print('The precision score on the test set: {:1.5f}'.format(precision_ontest))\r\n",
        "    print('The recall score on the test set: {:1.5f}'.format(recall_ontest))\r\n",
        "    print('Confusion Matrix:\\n', cm_ontest)\r\n",
        "    # Print classification report:\r\n",
        "    print('Classification Report:\\n', cls_report_ontest)"
      ],
      "execution_count": null,
      "outputs": []
    },
    {
      "cell_type": "markdown",
      "metadata": {
        "id": "WdnDSH_1mDHr"
      },
      "source": [
        "<h1><b>the LOF model</b><h1>"
      ]
    },
    {
      "cell_type": "code",
      "metadata": {
        "id": "XpSg_uGZjR9J"
      },
      "source": [
        "#===============TRAIN THE LOF MODEL ======================\n",
        "lof_clf = lof.LOF(contamination=contamination, n_jobs=-1)\n",
        "_ = lof_clf.fit(X_train)\n"
      ],
      "execution_count": null,
      "outputs": []
    },
    {
      "cell_type": "code",
      "metadata": {
        "id": "sEC0BtSsM76E",
        "colab": {
          "base_uri": "https://localhost:8080/"
        },
        "outputId": "8009b289-72c9-4137-d37c-e43fbb6a83d0"
      },
      "source": [
        "#======= EVALUATE LOF MODEL =================\r\n",
        "PrintScoreMetrics(lof_clf,X_test,y_test)"
      ],
      "execution_count": null,
      "outputs": [
        {
          "output_type": "stream",
          "text": [
            "The model scores 0.48922 ROC AUC on the test set.\n",
            "The precision score on the test set: 0.59979\n",
            "The recall score on the test set: 0.41124\n",
            "Confusion Matrix:\n",
            " [[ 9579  9034]\n",
            " [19383 13539]]\n",
            "Classification Report:\n",
            "               precision    recall  f1-score   support\n",
            "\n",
            "           0       0.33      0.51      0.40     18613\n",
            "           1       0.60      0.41      0.49     32922\n",
            "\n",
            "    accuracy                           0.45     51535\n",
            "   macro avg       0.47      0.46      0.45     51535\n",
            "weighted avg       0.50      0.45      0.46     51535\n",
            "\n"
          ],
          "name": "stdout"
        }
      ]
    },
    {
      "cell_type": "markdown",
      "metadata": {
        "id": "WWw2wUPmlcva"
      },
      "source": [
        "<h1><b>the CBLOF model</b><h1>"
      ]
    },
    {
      "cell_type": "code",
      "metadata": {
        "id": "9HMfAuoOjSAq"
      },
      "source": [
        "#========== TRAIN CBLOF MODEL ==========\n",
        "cblof_clf = cblof.CBLOF(contamination=contamination, n_jobs=-1, n_clusters=45)\n",
        "_ = cblof_clf.fit(X_train)\n"
      ],
      "execution_count": null,
      "outputs": []
    },
    {
      "cell_type": "code",
      "metadata": {
        "id": "OMIRzSwffHFB",
        "colab": {
          "base_uri": "https://localhost:8080/"
        },
        "outputId": "d028de5f-b8ff-48c9-8b4a-5deafa4ec451"
      },
      "source": [
        "#======= EVALUATE CBLOF MODEL =================\r\n",
        "\r\n",
        "PrintScoreMetrics(cblof_clf,X_test,y_test)\r\n"
      ],
      "execution_count": null,
      "outputs": [
        {
          "output_type": "stream",
          "text": [
            "The model scores 0.35109 ROC AUC on the test set.\n",
            "The precision score on the test set: 0.51854\n",
            "The recall score on the test set: 0.32969\n",
            "Confusion Matrix:\n",
            " [[ 8535 10078]\n",
            " [22068 10854]]\n",
            "Classification Report:\n",
            "               precision    recall  f1-score   support\n",
            "\n",
            "           0       0.28      0.46      0.35     18613\n",
            "           1       0.52      0.33      0.40     32922\n",
            "\n",
            "    accuracy                           0.38     51535\n",
            "   macro avg       0.40      0.39      0.37     51535\n",
            "weighted avg       0.43      0.38      0.38     51535\n",
            "\n"
          ],
          "name": "stdout"
        }
      ]
    },
    {
      "cell_type": "markdown",
      "metadata": {
        "id": "0KtZja8qohBq"
      },
      "source": [
        "<h1><b>the Connectivity-Based Outlier Factor (cof)</b><h1>"
      ]
    },
    {
      "cell_type": "code",
      "metadata": {
        "id": "o3yKHghIjSEV"
      },
      "source": [
        "#========== TRAIN COF MODEL ==========\n",
        "\n",
        "cof_clf = cof.COF(contamination=contamination) \n",
        "_ = cof_clf.fit(X_train[:5000])\n"
      ],
      "execution_count": null,
      "outputs": []
    },
    {
      "cell_type": "code",
      "metadata": {
        "id": "GV3nL4qzoeIL"
      },
      "source": [
        "#======= EVALUATE COF MODEL =================\r\n",
        "\r\n",
        "PrintScoreMetrics(cof_clf,X_test,y_test)\r\n"
      ],
      "execution_count": null,
      "outputs": []
    },
    {
      "cell_type": "markdown",
      "metadata": {
        "id": "c5tr85k4vq0F"
      },
      "source": [
        "<h1><b>The PCA MODEL</b><h1>"
      ]
    },
    {
      "cell_type": "code",
      "metadata": {
        "id": "ixQ7uR00jSIB"
      },
      "source": [
        "# https://pyod.readthedocs.io/en/latest/_modules/pyod/models/pca.html\n",
        "#=============TRAINING PCA MODEL=========================\n",
        "pca_clf = pca.PCA(contamination=contamination)\n",
        "_ = pca_clf.fit(X_train)"
      ],
      "execution_count": null,
      "outputs": []
    },
    {
      "cell_type": "code",
      "metadata": {
        "id": "0GamMfdVwPXC"
      },
      "source": [
        "#======= EVALUATE PCA MODEL =================\r\n",
        "\r\n",
        "PrintScoreMetrics(pca_clf,X_test,y_test)\r\n"
      ],
      "execution_count": null,
      "outputs": []
    },
    {
      "cell_type": "code",
      "metadata": {
        "id": "k5lR1t6u-aut"
      },
      "source": [
        "pca_clf = pca.PCA(2, contamination=contamination)\n",
        "_ = pca_clf.fit(X_train)\n",
        "\n",
        "PrintScoreMetrics(pca_clf,X_test,y_test)\n"
      ],
      "execution_count": null,
      "outputs": []
    },
    {
      "cell_type": "markdown",
      "metadata": {
        "id": "A6AEdW_MxT9t"
      },
      "source": [
        "<h1><b>The IFOREST MODEL</b><h1>"
      ]
    },
    {
      "cell_type": "code",
      "metadata": {
        "id": "4OHfbx1qjSLS",
        "colab": {
          "base_uri": "https://localhost:8080/"
        },
        "outputId": "6c816514-cbcf-4a0b-97e2-706ea7ac4c06"
      },
      "source": [
        "iforest_clf = iforest.IForest(contamination=contamination, n_estimators=300, max_samples= 1028, n_jobs=-1)\n",
        "_ = iforest_clf.fit(X_train)\n"
      ],
      "execution_count": null,
      "outputs": [
        {
          "output_type": "stream",
          "text": [
            "Acc of train: 0.36849101087620917\n",
            "Acc of test: 0.3662365382749588\n"
          ],
          "name": "stdout"
        }
      ]
    },
    {
      "cell_type": "code",
      "metadata": {
        "id": "a1xa5_vVyPsm"
      },
      "source": [
        "#======= EVALUATE IFOREST MODEL =================\r\n",
        "\r\n",
        "PrintScoreMetrics(iforest_clf,X_test,y_test)\r\n"
      ],
      "execution_count": null,
      "outputs": []
    },
    {
      "cell_type": "markdown",
      "metadata": {
        "id": "ayEzNKEozXja"
      },
      "source": [
        "<h1><b>The KNN MODEL</b><h1>"
      ]
    },
    {
      "cell_type": "code",
      "metadata": {
        "id": "twvrr6d5jSOq"
      },
      "source": [
        "#========== TRAIN KNN MODEL ==========\n",
        "knn_clf = knn.KNN(contamination=contamination, radius=1.5, n_neighbors=20, n_jobs=-1) #TODO radius\n",
        "_ = knn_clf.fit(X_train)\n",
        "\n",
        "# predictions = knn_clf.predict(X_train)\n",
        "# print(f'Acc of train: {accuracy_score(y_train, predictions)}')\n",
        "# predictions = knn_clf.predict(X_test)\n",
        "# print(f'Acc of test: {accuracy_score(y_test, predictions)}')"
      ],
      "execution_count": null,
      "outputs": []
    },
    {
      "cell_type": "code",
      "metadata": {
        "id": "qg2ZR9hN0BSC",
        "colab": {
          "base_uri": "https://localhost:8080/"
        },
        "outputId": "0a88d537-98ae-411c-bb02-7e603e2bc2bb"
      },
      "source": [
        "#======= EVALUATE KNN MODEL =================\r\n",
        "\r\n",
        "PrintScoreMetrics(knn_clf,X_test,y_test)"
      ],
      "execution_count": null,
      "outputs": [
        {
          "output_type": "stream",
          "text": [
            "The model scores 0.34280 ROC AUC on the test set.\n",
            "The precision score on the test set: 0.55034\n",
            "The recall score on the test set: 0.34649\n",
            "Confusion Matrix:\n",
            " [[ 9293  9320]\n",
            " [21515 11407]]\n",
            "Classification Report:\n",
            "               precision    recall  f1-score   support\n",
            "\n",
            "           0       0.30      0.50      0.38     18613\n",
            "           1       0.55      0.35      0.43     32922\n",
            "\n",
            "    accuracy                           0.40     51535\n",
            "   macro avg       0.43      0.42      0.40     51535\n",
            "weighted avg       0.46      0.40      0.41     51535\n",
            "\n"
          ],
          "name": "stdout"
        }
      ]
    },
    {
      "cell_type": "markdown",
      "metadata": {
        "id": "7qgYsFJR1Ndc"
      },
      "source": [
        "<h1><b>The OCSVM MODEL</b><h1>"
      ]
    },
    {
      "cell_type": "code",
      "metadata": {
        "id": "I8gsbiYtjSRk",
        "colab": {
          "base_uri": "https://localhost:8080/"
        },
        "outputId": "528376a4-064a-4bf0-f57d-8ce865d54c6a"
      },
      "source": [
        "#================== TRAIN OCSVM ===============================\n",
        "ocsvm_clf = ocsvm.OCSVM(contamination=contamination)\n",
        "_ = ocsvm_clf.fit(X_train[:1000])\n"
      ],
      "execution_count": null,
      "outputs": [
        {
          "output_type": "stream",
          "text": [
            "Acc of train: 0.5885523290223055\n",
            "Acc of test: 0.588221596972931\n"
          ],
          "name": "stdout"
        }
      ]
    },
    {
      "cell_type": "code",
      "metadata": {
        "id": "2u3FZihu1eIO",
        "colab": {
          "base_uri": "https://localhost:8080/"
        },
        "outputId": "3ea4a58d-6f01-4eb2-e138-13a903dec191"
      },
      "source": [
        "#======= EVALUATE OCSVM MODEL =================\r\n",
        "\r\n",
        "PrintScoreMetrics(knn_clf,X_test,y_test)"
      ],
      "execution_count": null,
      "outputs": [
        {
          "output_type": "stream",
          "text": [
            "The model scores 0.34280 ROC AUC on the test set.\n",
            "The precision score on the test set: 0.55034\n",
            "The recall score on the test set: 0.34649\n",
            "Confusion Matrix:\n",
            " [[ 9293  9320]\n",
            " [21515 11407]]\n",
            "Classification Report:\n",
            "               precision    recall  f1-score   support\n",
            "\n",
            "           0       0.30      0.50      0.38     18613\n",
            "           1       0.55      0.35      0.43     32922\n",
            "\n",
            "    accuracy                           0.40     51535\n",
            "   macro avg       0.43      0.42      0.40     51535\n",
            "weighted avg       0.46      0.40      0.41     51535\n",
            "\n"
          ],
          "name": "stdout"
        }
      ]
    },
    {
      "cell_type": "markdown",
      "metadata": {
        "id": "FVMMaa4H2LGi"
      },
      "source": [
        "<h1><b>The Angle-Based Outlier Detection (ABOD) MODEL</b><h1>\r\n",
        "\r\n"
      ]
    },
    {
      "cell_type": "code",
      "metadata": {
        "id": "1T_uPrDSjRop",
        "colab": {
          "base_uri": "https://localhost:8080/"
        },
        "outputId": "8a9f09f1-e678-4c21-a0ba-f1814d86dd49"
      },
      "source": [
        "#================ TRAIN ABOD MODEL =====================\n",
        "X_temp = X_train.astype(np.float) \n",
        "abod_clf = abod.ABOD(contamination=contamination, n_neighbors=10, )\n",
        "_ = abod_clf.fit(X_temp)\n"
      ],
      "execution_count": null,
      "outputs": [
        {
          "output_type": "stream",
          "text": [
            "Acc of train: 0.3608602004482434\n",
            "Acc of test: 0.3611720190162026\n"
          ],
          "name": "stdout"
        }
      ]
    },
    {
      "cell_type": "code",
      "metadata": {
        "id": "eYYW2Fy-2m-i",
        "colab": {
          "base_uri": "https://localhost:8080/"
        },
        "outputId": "cb84dadd-162d-455b-a398-9c5defbb0aae"
      },
      "source": [
        "#======= EVALUATE ABOD MODEL =================\r\n",
        "\r\n",
        "PrintScoreMetrics(knn_clf,X_test,y_test)"
      ],
      "execution_count": null,
      "outputs": [
        {
          "output_type": "stream",
          "text": [
            "The model scores 0.34280 ROC AUC on the test set.\n",
            "The precision score on the test set: 0.55034\n",
            "The recall score on the test set: 0.34649\n",
            "Confusion Matrix:\n",
            " [[ 9293  9320]\n",
            " [21515 11407]]\n",
            "Classification Report:\n",
            "               precision    recall  f1-score   support\n",
            "\n",
            "           0       0.30      0.50      0.38     18613\n",
            "           1       0.55      0.35      0.43     32922\n",
            "\n",
            "    accuracy                           0.40     51535\n",
            "   macro avg       0.43      0.42      0.40     51535\n",
            "weighted avg       0.46      0.40      0.41     51535\n",
            "\n"
          ],
          "name": "stdout"
        }
      ]
    },
    {
      "cell_type": "markdown",
      "metadata": {
        "id": "qoaV-Tgp22aq"
      },
      "source": [
        "<h1><b>The HDBSCAN MODEL</b><h1>\r\n",
        "\r\n"
      ]
    },
    {
      "cell_type": "code",
      "metadata": {
        "id": "jmvwsp-KnNWi",
        "colab": {
          "base_uri": "https://localhost:8080/"
        },
        "outputId": "062e4904-5c73-473f-833d-7b29c3482f1b"
      },
      "source": [
        "hdbScan_clf = HDBSCAN(10, leaf_size=80)\n",
        "_ = hdbScan_clf.fit(X_train)\n",
        "\n",
        "hdbScan_clf_outliers = hdbScan_clf.outlier_scores_ > 0.15 # akin to clf.pred_proba \n",
        "print(round(100*sum(hdbScan_clf_outliers == True)/X_train.shape[0], 5),\"% outliers\")\n",
        "print(accuracy_score(y_train, hdbScan_clf_outliers))\n",
        "\n",
        "print('')\n",
        "\n",
        "hdbScan_clf_outliers = hdbScan_clf.outlier_scores_ > 0.45 # akin to clf.pred_proba \n",
        "print(round(100*sum(hdbScan_clf_outliers == True)/X_train.shape[0], 5),\"% outliers\")\n",
        "print(accuracy_score(y_train, hdbScan_clf_outliers))"
      ],
      "execution_count": null,
      "outputs": [
        {
          "output_type": "stream",
          "text": [
            "13.31681 % outliers\n",
            "0.32942009721642784\n",
            "\n",
            "3.17845 % outliers\n",
            "0.3606564534438095\n"
          ],
          "name": "stdout"
        }
      ]
    },
    {
      "cell_type": "code",
      "metadata": {
        "id": "gJY4PEQhnNb5"
      },
      "source": [
        ""
      ],
      "execution_count": null,
      "outputs": []
    }
  ]
}