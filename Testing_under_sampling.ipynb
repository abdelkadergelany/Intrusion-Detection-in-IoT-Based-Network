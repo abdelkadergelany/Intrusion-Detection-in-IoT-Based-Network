{
  "nbformat": 4,
  "nbformat_minor": 0,
  "metadata": {
    "colab": {
      "name": "LogisticRegres_DecisionTree_RandomeForest_MultilayerPerceptron_Feature_selection.ipynb",
      "provenance": [],
      "include_colab_link": true
    },
    "kernelspec": {
      "display_name": "Python 3",
      "language": "python",
      "name": "python3"
    },
    "language_info": {
      "codemirror_mode": {
        "name": "ipython",
        "version": 3
      },
      "file_extension": ".py",
      "mimetype": "text/x-python",
      "name": "python",
      "nbconvert_exporter": "python",
      "pygments_lexer": "ipython3",
      "version": "3.7.6"
    },
    "toc": {
      "base_numbering": 1,
      "nav_menu": {},
      "number_sections": true,
      "sideBar": true,
      "skip_h1_title": false,
      "title_cell": "Table of Contents",
      "title_sidebar": "Contents",
      "toc_cell": false,
      "toc_position": {
        "height": "calc(100% - 180px)",
        "left": "10px",
        "top": "150px",
        "width": "332px"
      },
      "toc_section_display": true,
      "toc_window_display": true
    },
    "varInspector": {
      "cols": {
        "lenName": 16,
        "lenType": 16,
        "lenVar": 40
      },
      "kernels_config": {
        "python": {
          "delete_cmd_postfix": "",
          "delete_cmd_prefix": "del ",
          "library": "var_list.py",
          "varRefreshCmd": "print(var_dic_list())"
        },
        "r": {
          "delete_cmd_postfix": ") ",
          "delete_cmd_prefix": "rm(",
          "library": "var_list.r",
          "varRefreshCmd": "cat(var_dic_list()) "
        }
      },
      "types_to_exclude": [
        "module",
        "function",
        "builtin_function_or_method",
        "instance",
        "_Feature"
      ],
      "window_display": false
    }
  },
  "cells": [
    {
      "cell_type": "markdown",
      "metadata": {
        "id": "view-in-github",
        "colab_type": "text"
      },
      "source": [
        "<a href=\"https://colab.research.google.com/github/abdelkadergelany/Intrusion-Detection-in-IoT-Based-Network/blob/main/Testing_under_sampling.ipynb\" target=\"_parent\"><img src=\"https://colab.research.google.com/assets/colab-badge.svg\" alt=\"Open In Colab\"/></a>"
      ]
    },
    {
      "cell_type": "code",
      "metadata": {
        "id": "SRFv6XrqPxVM"
      },
      "source": [
        "# data cleaning and plots\n",
        "import pandas as pd\n",
        "import numpy as np\n",
        "import seaborn as sns\n",
        "import matplotlib.pyplot as plt\n",
        "plt.style.use('ggplot')\n",
        "%matplotlib inline\n",
        "\n",
        "# sklearn: data preprocessing\n",
        "from sklearn.compose import ColumnTransformer\n",
        "from sklearn.preprocessing import StandardScaler, LabelEncoder, OneHotEncoder ,MinMaxScaler\n",
        "\n",
        "# sklearn: train model\n",
        "from sklearn.model_selection import train_test_split\n",
        "from sklearn.model_selection import cross_val_score, cross_validate, StratifiedKFold\n",
        "from sklearn.metrics import precision_recall_curve, precision_score, recall_score, f1_score, accuracy_score\n",
        "from sklearn.metrics import roc_curve, auc, roc_auc_score, confusion_matrix, classification_report\n",
        "\n",
        "# sklearn classifiers\n",
        "from sklearn.linear_model import LogisticRegression\n",
        "from sklearn.tree import DecisionTreeClassifier\n",
        "from sklearn.ensemble import RandomForestClassifier,ExtraTreesClassifier\n",
        "from sklearn.neural_network import MLPClassifier\n",
        "\n",
        "#Feature selection\n",
        "from sklearn.feature_selection import chi2\n",
        "from sklearn.feature_selection import SelectKBest\n",
        "import xgboost, lightgbm\n"
      ],
      "execution_count": 1,
      "outputs": []
    },
    {
      "cell_type": "markdown",
      "metadata": {
        "id": "F30WDG00PxVN"
      },
      "source": [
        "# Data Processing\n",
        "\n",
        "## Load Data\n",
        "\n",
        "**UNSW-NB15: a comprehensive data set for network intrusion detection systems**\n",
        "\n",
        "\n",
        "attack_cat: This dataset has nine types of attacks, namely, Fuzzers, Analysis, Backdoors, DoS, Exploits, Generic, Reconnaissance, Shellcode and Worms.\n",
        "\n",
        "Label: 0 for normal and 1 for attack records\n"
      ]
    },
    {
      "cell_type": "code",
      "metadata": {
        "id": "aMvHjORZPxVO"
      },
      "source": [
        "# Load data\n",
        "train = pd.read_csv('https://raw.githubusercontent.com/Nir-J/ML-Projects/master/UNSW-Network_Packet_Classification/UNSW_NB15_training-set.csv')\n",
        "test = pd.read_csv('https://raw.githubusercontent.com/Nir-J/ML-Projects/master/UNSW-Network_Packet_Classification/UNSW_NB15_testing-set.csv')\n",
        "combined_data = pd.concat([train, test]).drop(['id'],axis=1)"
      ],
      "execution_count": 22,
      "outputs": []
    },
    {
      "cell_type": "code",
      "metadata": {
        "id": "GQlJuki7PxVP",
        "colab": {
          "base_uri": "https://localhost:8080/"
        },
        "outputId": "df2d91ea-da9c-4b0e-b78d-f71f605a1c22"
      },
      "source": [
        "# Look at the first 5 rows\n",
        "print(combined_data)"
      ],
      "execution_count": 24,
      "outputs": [
        {
          "output_type": "stream",
          "text": [
            "            dur proto service  ... is_sm_ips_ports  attack_cat  label\n",
            "0      0.121478   tcp       -  ...               0      Normal      0\n",
            "1      0.649902   tcp       -  ...               0      Normal      0\n",
            "2      1.623129   tcp       -  ...               0      Normal      0\n",
            "3      1.681642   tcp     ftp  ...               0      Normal      0\n",
            "4      0.449454   tcp       -  ...               0      Normal      0\n",
            "...         ...   ...     ...  ...             ...         ...    ...\n",
            "82327  0.000005   udp       -  ...               0      Normal      0\n",
            "82328  1.106101   tcp       -  ...               0      Normal      0\n",
            "82329  0.000000   arp       -  ...               1      Normal      0\n",
            "82330  0.000000   arp       -  ...               1      Normal      0\n",
            "82331  0.000009   udp       -  ...               0      Normal      0\n",
            "\n",
            "[257673 rows x 44 columns]\n"
          ],
          "name": "stdout"
        }
      ]
    },
    {
      "cell_type": "code",
      "metadata": {
        "id": "fJv9WFwoPxVQ",
        "colab": {
          "base_uri": "https://localhost:8080/"
        },
        "outputId": "18697d90-7ecf-43ba-d498-85a72c7e4ab0"
      },
      "source": [
        "# information of the data: \n",
        "combined_data.info()"
      ],
      "execution_count": 4,
      "outputs": [
        {
          "output_type": "stream",
          "text": [
            "<class 'pandas.core.frame.DataFrame'>\n",
            "Int64Index: 257673 entries, 0 to 82331\n",
            "Data columns (total 44 columns):\n",
            " #   Column             Non-Null Count   Dtype  \n",
            "---  ------             --------------   -----  \n",
            " 0   dur                257673 non-null  float64\n",
            " 1   proto              257673 non-null  object \n",
            " 2   service            257673 non-null  object \n",
            " 3   state              257673 non-null  object \n",
            " 4   spkts              257673 non-null  int64  \n",
            " 5   dpkts              257673 non-null  int64  \n",
            " 6   sbytes             257673 non-null  int64  \n",
            " 7   dbytes             257673 non-null  int64  \n",
            " 8   rate               257673 non-null  float64\n",
            " 9   sttl               257673 non-null  int64  \n",
            " 10  dttl               257673 non-null  int64  \n",
            " 11  sload              257673 non-null  float64\n",
            " 12  dload              257673 non-null  float64\n",
            " 13  sloss              257673 non-null  int64  \n",
            " 14  dloss              257673 non-null  int64  \n",
            " 15  sinpkt             257673 non-null  float64\n",
            " 16  dinpkt             257673 non-null  float64\n",
            " 17  sjit               257673 non-null  float64\n",
            " 18  djit               257673 non-null  float64\n",
            " 19  swin               257673 non-null  int64  \n",
            " 20  stcpb              257673 non-null  int64  \n",
            " 21  dtcpb              257673 non-null  int64  \n",
            " 22  dwin               257673 non-null  int64  \n",
            " 23  tcprtt             257673 non-null  float64\n",
            " 24  synack             257673 non-null  float64\n",
            " 25  ackdat             257673 non-null  float64\n",
            " 26  smean              257673 non-null  int64  \n",
            " 27  dmean              257673 non-null  int64  \n",
            " 28  trans_depth        257673 non-null  int64  \n",
            " 29  response_body_len  257673 non-null  int64  \n",
            " 30  ct_srv_src         257673 non-null  int64  \n",
            " 31  ct_state_ttl       257673 non-null  int64  \n",
            " 32  ct_dst_ltm         257673 non-null  int64  \n",
            " 33  ct_src_dport_ltm   257673 non-null  int64  \n",
            " 34  ct_dst_sport_ltm   257673 non-null  int64  \n",
            " 35  ct_dst_src_ltm     257673 non-null  int64  \n",
            " 36  is_ftp_login       257673 non-null  int64  \n",
            " 37  ct_ftp_cmd         257673 non-null  int64  \n",
            " 38  ct_flw_http_mthd   257673 non-null  int64  \n",
            " 39  ct_src_ltm         257673 non-null  int64  \n",
            " 40  ct_srv_dst         257673 non-null  int64  \n",
            " 41  is_sm_ips_ports    257673 non-null  int64  \n",
            " 42  attack_cat         257673 non-null  object \n",
            " 43  label              257673 non-null  int64  \n",
            "dtypes: float64(11), int64(29), object(4)\n",
            "memory usage: 88.5+ MB\n"
          ],
          "name": "stdout"
        }
      ]
    },
    {
      "cell_type": "markdown",
      "metadata": {
        "id": "TwPGNv4BPxVR"
      },
      "source": [
        "\n",
        "### Check missing values\n",
        "First, we should check if there are missing values in the dataset."
      ]
    },
    {
      "cell_type": "code",
      "metadata": {
        "id": "OEpul595PxVS",
        "colab": {
          "base_uri": "https://localhost:8080/"
        },
        "outputId": "367f2015-adbe-44e9-aa9b-68c096938c63"
      },
      "source": [
        "# check if there are Null values\n",
        "combined_data.isnull().sum()"
      ],
      "execution_count": 5,
      "outputs": [
        {
          "output_type": "execute_result",
          "data": {
            "text/plain": [
              "dur                  0\n",
              "proto                0\n",
              "service              0\n",
              "state                0\n",
              "spkts                0\n",
              "dpkts                0\n",
              "sbytes               0\n",
              "dbytes               0\n",
              "rate                 0\n",
              "sttl                 0\n",
              "dttl                 0\n",
              "sload                0\n",
              "dload                0\n",
              "sloss                0\n",
              "dloss                0\n",
              "sinpkt               0\n",
              "dinpkt               0\n",
              "sjit                 0\n",
              "djit                 0\n",
              "swin                 0\n",
              "stcpb                0\n",
              "dtcpb                0\n",
              "dwin                 0\n",
              "tcprtt               0\n",
              "synack               0\n",
              "ackdat               0\n",
              "smean                0\n",
              "dmean                0\n",
              "trans_depth          0\n",
              "response_body_len    0\n",
              "ct_srv_src           0\n",
              "ct_state_ttl         0\n",
              "ct_dst_ltm           0\n",
              "ct_src_dport_ltm     0\n",
              "ct_dst_sport_ltm     0\n",
              "ct_dst_src_ltm       0\n",
              "is_ftp_login         0\n",
              "ct_ftp_cmd           0\n",
              "ct_flw_http_mthd     0\n",
              "ct_src_ltm           0\n",
              "ct_srv_dst           0\n",
              "is_sm_ips_ports      0\n",
              "attack_cat           0\n",
              "label                0\n",
              "dtype: int64"
            ]
          },
          "metadata": {
            "tags": []
          },
          "execution_count": 5
        }
      ]
    },
    {
      "cell_type": "markdown",
      "metadata": {
        "id": "qo9HocAXPxVT"
      },
      "source": [
        "A basic strategy to use incomplete datasets is to discard entire rows and/or columns containing missing values. Actually, there exists some strategies to impute missing values (see [here](https://scikit-learn.org/stable/modules/impute.html))."
      ]
    },
    {
      "cell_type": "code",
      "metadata": {
        "id": "6uS7cLmFPxVT",
        "colab": {
          "base_uri": "https://localhost:8080/"
        },
        "outputId": "29479f85-1d4c-44f9-f9ad-53c175ec0c73"
      },
      "source": [
        "# Discard the rows with missing values\n",
        "\n",
        "data_to_use = combined_data.dropna()\n",
        "\n",
        "# Shape of the data: we could see that the number of rows remains the same as no null values were reported\n",
        "data_to_use.shape"
      ],
      "execution_count": 6,
      "outputs": [
        {
          "output_type": "execute_result",
          "data": {
            "text/plain": [
              "(257673, 44)"
            ]
          },
          "metadata": {
            "tags": []
          },
          "execution_count": 6
        }
      ]
    },
    {
      "cell_type": "markdown",
      "metadata": {
        "id": "GgJ6oSU_as6l"
      },
      "source": [
        "<h1>Contamination mean pollution (outliers) in data</h1>"
      ]
    },
    {
      "cell_type": "code",
      "metadata": {
        "colab": {
          "base_uri": "https://localhost:8080/"
        },
        "id": "ck1K_7ecapc-",
        "outputId": "7bfbf356-43ed-47ef-b43b-355ad4c54d2f"
      },
      "source": [
        "# Contaminsation mean pollution (outliers) in data\r\n",
        "tmp = train.where(train['attack_cat'] == \"Normal\").dropna()\r\n",
        "contamination = round(1 - len(tmp)/len(train), 2)\r\n",
        "print(\"train contamination \", contamination)\r\n",
        "\r\n",
        "tmp = test.where(test['attack_cat'] == \"Normal\").dropna()\r\n",
        "print(\"test  contamination \", round(1 - len(tmp)/len(test),2),'\\n')\r\n",
        "\r\n",
        "if contamination > 0.5:\r\n",
        "    print(f'contamination is {contamination}, which is greater than 0.5. Fixing...')\r\n",
        "    contamination = round(1-contamination,2)\r\n",
        "    print(f'contamination is now {contamination}')"
      ],
      "execution_count": 25,
      "outputs": [
        {
          "output_type": "stream",
          "text": [
            "train contamination  0.68\n",
            "test  contamination  0.55 \n",
            "\n",
            "contamination is 0.68, which is greater than 0.5. Fixing...\n",
            "contamination is now 0.32\n"
          ],
          "name": "stdout"
        }
      ]
    },
    {
      "cell_type": "code",
      "metadata": {
        "id": "QMw1Oynscjm4"
      },
      "source": [
        ""
      ],
      "execution_count": 13,
      "outputs": []
    },
    {
      "cell_type": "code",
      "metadata": {
        "id": "bEaX2MbxcPwQ",
        "outputId": "45e42ff2-d7a1-44d5-889e-cc5de9bd2a8a",
        "colab": {
          "base_uri": "https://localhost:8080/"
        }
      },
      "source": [
        "tmp.shape"
      ],
      "execution_count": 14,
      "outputs": [
        {
          "output_type": "execute_result",
          "data": {
            "text/plain": [
              "(164673, 44)"
            ]
          },
          "metadata": {
            "tags": []
          },
          "execution_count": 14
        }
      ]
    },
    {
      "cell_type": "markdown",
      "metadata": {
        "id": "ynNesImwPxVT"
      },
      "source": [
        "### Check imbalanced issue on y\n",
        "\n",
        "First, we get the `X` and `y1` and `y2` ."
      ]
    },
    {
      "cell_type": "code",
      "metadata": {
        "id": "vFAeAuusPxVU"
      },
      "source": [
        "# X = data_to_use.drop(axis=1, columns=['attack_cat']) # X is a dataframe\n",
        "# X = X.drop(axis=1, columns=['label'])\n",
        "\n",
        "\n",
        "# y1 = data_to_use['attack_cat'].values # y is an array\n",
        "# y2 = data_to_use['label'].values\n",
        "\n",
        "# #We will convert the orginal training data to the datframes called X_train, y1_train, y2_train\n",
        "\n",
        "# X_train = X\n",
        "# y1_train = y1\n",
        "# y2_train = y2"
      ],
      "execution_count": null,
      "outputs": []
    },
    {
      "cell_type": "markdown",
      "metadata": {
        "id": "xBzbTxYKdqd5"
      },
      "source": [
        "<h1>Encoding non numeric Values</h1>"
      ]
    },
    {
      "cell_type": "code",
      "metadata": {
        "colab": {
          "base_uri": "https://localhost:8080/"
        },
        "id": "j5HlZ5VhdkJ-",
        "outputId": "cb344c65-c5f3-42bb-bd1d-d29805107cc8"
      },
      "source": [
        "le1 = LabelEncoder()\r\n",
        "le = LabelEncoder()\r\n",
        "\r\n",
        "vector = combined_data['attack_cat']\r\n",
        "\r\n",
        "print(\"attack cat:\", set(list(vector))) # use print to make it print on single line \r\n",
        "\r\n",
        "combined_data['attack_cat'] = le1.fit_transform(vector)\r\n",
        "combined_data['proto'] = le.fit_transform(combined_data['proto'])\r\n",
        "combined_data['service'] = le.fit_transform(combined_data['service'])\r\n",
        "combined_data['state'] = le.fit_transform(combined_data['state'])\r\n",
        "\r\n",
        "vector = combined_data['attack_cat']\r\n",
        "print('\\nDescribing attack_type: ')\r\n",
        "print(\"min\", vector.min())\r\n",
        "print(\"max\", vector.max())\r\n",
        "print(\"mode\",vector.mode(), \"Which is,\", le1.inverse_transform(vector.mode()))\r\n",
        "print(\"mode\", len(np.where(vector.values==6)[0])/len(vector),\"%\")"
      ],
      "execution_count": 39,
      "outputs": [
        {
          "output_type": "stream",
          "text": [
            "attack cat: {'Worms', 'DoS', 'Shellcode', 'Normal', 'Analysis', 'Reconnaissance', 'Generic', 'Backdoor', 'Fuzzers', 'Exploits'}\n",
            "\n",
            "Describing attack_type: \n",
            "min 0\n",
            "max 9\n",
            "mode 0    6\n",
            "dtype: int64 Which is, ['Normal']\n",
            "mode 0.3609225646458884 %\n"
          ],
          "name": "stdout"
        }
      ]
    },
    {
      "cell_type": "markdown",
      "metadata": {
        "id": "9YOOek9Le3lw"
      },
      "source": [
        "<h1>Spliting the dataset</h1>"
      ]
    },
    {
      "cell_type": "code",
      "metadata": {
        "id": "9yCFUo94e2z0"
      },
      "source": [
        "data_x = combined_data.drop(['attack_cat','label'], axis=1) # droped label\r\n",
        "data_y = combined_data.loc[:,['label']]\r\n",
        "\r\n",
        "X_train, X_test, y_train, y_test = train_test_split(data_x, data_y, test_size=.20, random_state=42) "
      ],
      "execution_count": 31,
      "outputs": []
    },
    {
      "cell_type": "code",
      "metadata": {
        "id": "7wWdFLn_lnsI",
        "outputId": "173d3c76-535c-460d-c14f-25482b741027",
        "colab": {
          "base_uri": "https://localhost:8080/",
          "height": 439
        }
      },
      "source": [
        "combined_data"
      ],
      "execution_count": 40,
      "outputs": [
        {
          "output_type": "execute_result",
          "data": {
            "text/html": [
              "<div>\n",
              "<style scoped>\n",
              "    .dataframe tbody tr th:only-of-type {\n",
              "        vertical-align: middle;\n",
              "    }\n",
              "\n",
              "    .dataframe tbody tr th {\n",
              "        vertical-align: top;\n",
              "    }\n",
              "\n",
              "    .dataframe thead th {\n",
              "        text-align: right;\n",
              "    }\n",
              "</style>\n",
              "<table border=\"1\" class=\"dataframe\">\n",
              "  <thead>\n",
              "    <tr style=\"text-align: right;\">\n",
              "      <th></th>\n",
              "      <th>dur</th>\n",
              "      <th>proto</th>\n",
              "      <th>service</th>\n",
              "      <th>state</th>\n",
              "      <th>spkts</th>\n",
              "      <th>dpkts</th>\n",
              "      <th>sbytes</th>\n",
              "      <th>dbytes</th>\n",
              "      <th>rate</th>\n",
              "      <th>sttl</th>\n",
              "      <th>dttl</th>\n",
              "      <th>sload</th>\n",
              "      <th>dload</th>\n",
              "      <th>sloss</th>\n",
              "      <th>dloss</th>\n",
              "      <th>sinpkt</th>\n",
              "      <th>dinpkt</th>\n",
              "      <th>sjit</th>\n",
              "      <th>djit</th>\n",
              "      <th>swin</th>\n",
              "      <th>stcpb</th>\n",
              "      <th>dtcpb</th>\n",
              "      <th>dwin</th>\n",
              "      <th>tcprtt</th>\n",
              "      <th>synack</th>\n",
              "      <th>ackdat</th>\n",
              "      <th>smean</th>\n",
              "      <th>dmean</th>\n",
              "      <th>trans_depth</th>\n",
              "      <th>response_body_len</th>\n",
              "      <th>ct_srv_src</th>\n",
              "      <th>ct_state_ttl</th>\n",
              "      <th>ct_dst_ltm</th>\n",
              "      <th>ct_src_dport_ltm</th>\n",
              "      <th>ct_dst_sport_ltm</th>\n",
              "      <th>ct_dst_src_ltm</th>\n",
              "      <th>is_ftp_login</th>\n",
              "      <th>ct_ftp_cmd</th>\n",
              "      <th>ct_flw_http_mthd</th>\n",
              "      <th>ct_src_ltm</th>\n",
              "      <th>ct_srv_dst</th>\n",
              "      <th>is_sm_ips_ports</th>\n",
              "      <th>attack_cat</th>\n",
              "      <th>label</th>\n",
              "    </tr>\n",
              "  </thead>\n",
              "  <tbody>\n",
              "    <tr>\n",
              "      <th>0</th>\n",
              "      <td>0.121478</td>\n",
              "      <td>113</td>\n",
              "      <td>0</td>\n",
              "      <td>4</td>\n",
              "      <td>6</td>\n",
              "      <td>4</td>\n",
              "      <td>258</td>\n",
              "      <td>172</td>\n",
              "      <td>74.087490</td>\n",
              "      <td>252</td>\n",
              "      <td>254</td>\n",
              "      <td>1.415894e+04</td>\n",
              "      <td>8495.365234</td>\n",
              "      <td>0</td>\n",
              "      <td>0</td>\n",
              "      <td>24.295600</td>\n",
              "      <td>8.375000</td>\n",
              "      <td>30.177547</td>\n",
              "      <td>11.830604</td>\n",
              "      <td>255</td>\n",
              "      <td>621772692</td>\n",
              "      <td>2202533631</td>\n",
              "      <td>255</td>\n",
              "      <td>0.000000</td>\n",
              "      <td>0.000000</td>\n",
              "      <td>0.000000</td>\n",
              "      <td>43</td>\n",
              "      <td>43</td>\n",
              "      <td>0</td>\n",
              "      <td>0</td>\n",
              "      <td>1</td>\n",
              "      <td>0</td>\n",
              "      <td>1</td>\n",
              "      <td>1</td>\n",
              "      <td>1</td>\n",
              "      <td>1</td>\n",
              "      <td>0</td>\n",
              "      <td>0</td>\n",
              "      <td>0</td>\n",
              "      <td>1</td>\n",
              "      <td>1</td>\n",
              "      <td>0</td>\n",
              "      <td>6</td>\n",
              "      <td>0</td>\n",
              "    </tr>\n",
              "    <tr>\n",
              "      <th>1</th>\n",
              "      <td>0.649902</td>\n",
              "      <td>113</td>\n",
              "      <td>0</td>\n",
              "      <td>4</td>\n",
              "      <td>14</td>\n",
              "      <td>38</td>\n",
              "      <td>734</td>\n",
              "      <td>42014</td>\n",
              "      <td>78.473372</td>\n",
              "      <td>62</td>\n",
              "      <td>252</td>\n",
              "      <td>8.395112e+03</td>\n",
              "      <td>503571.312500</td>\n",
              "      <td>2</td>\n",
              "      <td>17</td>\n",
              "      <td>49.915000</td>\n",
              "      <td>15.432865</td>\n",
              "      <td>61.426934</td>\n",
              "      <td>1387.778330</td>\n",
              "      <td>255</td>\n",
              "      <td>1417884146</td>\n",
              "      <td>3077387971</td>\n",
              "      <td>255</td>\n",
              "      <td>0.000000</td>\n",
              "      <td>0.000000</td>\n",
              "      <td>0.000000</td>\n",
              "      <td>52</td>\n",
              "      <td>1106</td>\n",
              "      <td>0</td>\n",
              "      <td>0</td>\n",
              "      <td>43</td>\n",
              "      <td>1</td>\n",
              "      <td>1</td>\n",
              "      <td>1</td>\n",
              "      <td>1</td>\n",
              "      <td>2</td>\n",
              "      <td>0</td>\n",
              "      <td>0</td>\n",
              "      <td>0</td>\n",
              "      <td>1</td>\n",
              "      <td>6</td>\n",
              "      <td>0</td>\n",
              "      <td>6</td>\n",
              "      <td>0</td>\n",
              "    </tr>\n",
              "    <tr>\n",
              "      <th>2</th>\n",
              "      <td>1.623129</td>\n",
              "      <td>113</td>\n",
              "      <td>0</td>\n",
              "      <td>4</td>\n",
              "      <td>8</td>\n",
              "      <td>16</td>\n",
              "      <td>364</td>\n",
              "      <td>13186</td>\n",
              "      <td>14.170161</td>\n",
              "      <td>62</td>\n",
              "      <td>252</td>\n",
              "      <td>1.572272e+03</td>\n",
              "      <td>60929.230470</td>\n",
              "      <td>1</td>\n",
              "      <td>6</td>\n",
              "      <td>231.875571</td>\n",
              "      <td>102.737203</td>\n",
              "      <td>17179.586860</td>\n",
              "      <td>11420.926230</td>\n",
              "      <td>255</td>\n",
              "      <td>2116150707</td>\n",
              "      <td>2963114973</td>\n",
              "      <td>255</td>\n",
              "      <td>0.111897</td>\n",
              "      <td>0.061458</td>\n",
              "      <td>0.050439</td>\n",
              "      <td>46</td>\n",
              "      <td>824</td>\n",
              "      <td>0</td>\n",
              "      <td>0</td>\n",
              "      <td>7</td>\n",
              "      <td>1</td>\n",
              "      <td>2</td>\n",
              "      <td>1</td>\n",
              "      <td>1</td>\n",
              "      <td>3</td>\n",
              "      <td>0</td>\n",
              "      <td>0</td>\n",
              "      <td>0</td>\n",
              "      <td>2</td>\n",
              "      <td>6</td>\n",
              "      <td>0</td>\n",
              "      <td>6</td>\n",
              "      <td>0</td>\n",
              "    </tr>\n",
              "    <tr>\n",
              "      <th>3</th>\n",
              "      <td>1.681642</td>\n",
              "      <td>113</td>\n",
              "      <td>3</td>\n",
              "      <td>4</td>\n",
              "      <td>12</td>\n",
              "      <td>12</td>\n",
              "      <td>628</td>\n",
              "      <td>770</td>\n",
              "      <td>13.677108</td>\n",
              "      <td>62</td>\n",
              "      <td>252</td>\n",
              "      <td>2.740179e+03</td>\n",
              "      <td>3358.622070</td>\n",
              "      <td>1</td>\n",
              "      <td>3</td>\n",
              "      <td>152.876547</td>\n",
              "      <td>90.235726</td>\n",
              "      <td>259.080172</td>\n",
              "      <td>4991.784669</td>\n",
              "      <td>255</td>\n",
              "      <td>1107119177</td>\n",
              "      <td>1047442890</td>\n",
              "      <td>255</td>\n",
              "      <td>0.000000</td>\n",
              "      <td>0.000000</td>\n",
              "      <td>0.000000</td>\n",
              "      <td>52</td>\n",
              "      <td>64</td>\n",
              "      <td>0</td>\n",
              "      <td>0</td>\n",
              "      <td>1</td>\n",
              "      <td>1</td>\n",
              "      <td>2</td>\n",
              "      <td>1</td>\n",
              "      <td>1</td>\n",
              "      <td>3</td>\n",
              "      <td>1</td>\n",
              "      <td>1</td>\n",
              "      <td>0</td>\n",
              "      <td>2</td>\n",
              "      <td>1</td>\n",
              "      <td>0</td>\n",
              "      <td>6</td>\n",
              "      <td>0</td>\n",
              "    </tr>\n",
              "    <tr>\n",
              "      <th>4</th>\n",
              "      <td>0.449454</td>\n",
              "      <td>113</td>\n",
              "      <td>0</td>\n",
              "      <td>4</td>\n",
              "      <td>10</td>\n",
              "      <td>6</td>\n",
              "      <td>534</td>\n",
              "      <td>268</td>\n",
              "      <td>33.373826</td>\n",
              "      <td>254</td>\n",
              "      <td>252</td>\n",
              "      <td>8.561499e+03</td>\n",
              "      <td>3987.059814</td>\n",
              "      <td>2</td>\n",
              "      <td>1</td>\n",
              "      <td>47.750333</td>\n",
              "      <td>75.659602</td>\n",
              "      <td>2415.837634</td>\n",
              "      <td>115.807000</td>\n",
              "      <td>255</td>\n",
              "      <td>2436137549</td>\n",
              "      <td>1977154190</td>\n",
              "      <td>255</td>\n",
              "      <td>0.128381</td>\n",
              "      <td>0.071147</td>\n",
              "      <td>0.057234</td>\n",
              "      <td>53</td>\n",
              "      <td>45</td>\n",
              "      <td>0</td>\n",
              "      <td>0</td>\n",
              "      <td>43</td>\n",
              "      <td>1</td>\n",
              "      <td>2</td>\n",
              "      <td>2</td>\n",
              "      <td>1</td>\n",
              "      <td>40</td>\n",
              "      <td>0</td>\n",
              "      <td>0</td>\n",
              "      <td>0</td>\n",
              "      <td>2</td>\n",
              "      <td>39</td>\n",
              "      <td>0</td>\n",
              "      <td>6</td>\n",
              "      <td>0</td>\n",
              "    </tr>\n",
              "    <tr>\n",
              "      <th>...</th>\n",
              "      <td>...</td>\n",
              "      <td>...</td>\n",
              "      <td>...</td>\n",
              "      <td>...</td>\n",
              "      <td>...</td>\n",
              "      <td>...</td>\n",
              "      <td>...</td>\n",
              "      <td>...</td>\n",
              "      <td>...</td>\n",
              "      <td>...</td>\n",
              "      <td>...</td>\n",
              "      <td>...</td>\n",
              "      <td>...</td>\n",
              "      <td>...</td>\n",
              "      <td>...</td>\n",
              "      <td>...</td>\n",
              "      <td>...</td>\n",
              "      <td>...</td>\n",
              "      <td>...</td>\n",
              "      <td>...</td>\n",
              "      <td>...</td>\n",
              "      <td>...</td>\n",
              "      <td>...</td>\n",
              "      <td>...</td>\n",
              "      <td>...</td>\n",
              "      <td>...</td>\n",
              "      <td>...</td>\n",
              "      <td>...</td>\n",
              "      <td>...</td>\n",
              "      <td>...</td>\n",
              "      <td>...</td>\n",
              "      <td>...</td>\n",
              "      <td>...</td>\n",
              "      <td>...</td>\n",
              "      <td>...</td>\n",
              "      <td>...</td>\n",
              "      <td>...</td>\n",
              "      <td>...</td>\n",
              "      <td>...</td>\n",
              "      <td>...</td>\n",
              "      <td>...</td>\n",
              "      <td>...</td>\n",
              "      <td>...</td>\n",
              "      <td>...</td>\n",
              "    </tr>\n",
              "    <tr>\n",
              "      <th>82327</th>\n",
              "      <td>0.000005</td>\n",
              "      <td>119</td>\n",
              "      <td>0</td>\n",
              "      <td>5</td>\n",
              "      <td>2</td>\n",
              "      <td>0</td>\n",
              "      <td>104</td>\n",
              "      <td>0</td>\n",
              "      <td>200000.005100</td>\n",
              "      <td>254</td>\n",
              "      <td>0</td>\n",
              "      <td>8.320000e+07</td>\n",
              "      <td>0.000000</td>\n",
              "      <td>0</td>\n",
              "      <td>0</td>\n",
              "      <td>0.005000</td>\n",
              "      <td>0.000000</td>\n",
              "      <td>0.000000</td>\n",
              "      <td>0.000000</td>\n",
              "      <td>0</td>\n",
              "      <td>0</td>\n",
              "      <td>0</td>\n",
              "      <td>0</td>\n",
              "      <td>0.000000</td>\n",
              "      <td>0.000000</td>\n",
              "      <td>0.000000</td>\n",
              "      <td>52</td>\n",
              "      <td>0</td>\n",
              "      <td>0</td>\n",
              "      <td>0</td>\n",
              "      <td>1</td>\n",
              "      <td>2</td>\n",
              "      <td>2</td>\n",
              "      <td>1</td>\n",
              "      <td>1</td>\n",
              "      <td>2</td>\n",
              "      <td>0</td>\n",
              "      <td>0</td>\n",
              "      <td>0</td>\n",
              "      <td>2</td>\n",
              "      <td>1</td>\n",
              "      <td>0</td>\n",
              "      <td>6</td>\n",
              "      <td>0</td>\n",
              "    </tr>\n",
              "    <tr>\n",
              "      <th>82328</th>\n",
              "      <td>1.106101</td>\n",
              "      <td>113</td>\n",
              "      <td>0</td>\n",
              "      <td>4</td>\n",
              "      <td>20</td>\n",
              "      <td>8</td>\n",
              "      <td>18062</td>\n",
              "      <td>354</td>\n",
              "      <td>24.410067</td>\n",
              "      <td>254</td>\n",
              "      <td>252</td>\n",
              "      <td>1.241044e+05</td>\n",
              "      <td>2242.109863</td>\n",
              "      <td>7</td>\n",
              "      <td>1</td>\n",
              "      <td>55.880051</td>\n",
              "      <td>143.700000</td>\n",
              "      <td>4798.130981</td>\n",
              "      <td>190.980813</td>\n",
              "      <td>255</td>\n",
              "      <td>1072535109</td>\n",
              "      <td>3284291478</td>\n",
              "      <td>255</td>\n",
              "      <td>0.173208</td>\n",
              "      <td>0.100191</td>\n",
              "      <td>0.073017</td>\n",
              "      <td>903</td>\n",
              "      <td>44</td>\n",
              "      <td>0</td>\n",
              "      <td>0</td>\n",
              "      <td>1</td>\n",
              "      <td>1</td>\n",
              "      <td>2</td>\n",
              "      <td>1</td>\n",
              "      <td>1</td>\n",
              "      <td>1</td>\n",
              "      <td>0</td>\n",
              "      <td>0</td>\n",
              "      <td>0</td>\n",
              "      <td>3</td>\n",
              "      <td>2</td>\n",
              "      <td>0</td>\n",
              "      <td>6</td>\n",
              "      <td>0</td>\n",
              "    </tr>\n",
              "    <tr>\n",
              "      <th>82329</th>\n",
              "      <td>0.000000</td>\n",
              "      <td>6</td>\n",
              "      <td>0</td>\n",
              "      <td>5</td>\n",
              "      <td>1</td>\n",
              "      <td>0</td>\n",
              "      <td>46</td>\n",
              "      <td>0</td>\n",
              "      <td>0.000000</td>\n",
              "      <td>0</td>\n",
              "      <td>0</td>\n",
              "      <td>0.000000e+00</td>\n",
              "      <td>0.000000</td>\n",
              "      <td>0</td>\n",
              "      <td>0</td>\n",
              "      <td>60000.720000</td>\n",
              "      <td>0.000000</td>\n",
              "      <td>0.000000</td>\n",
              "      <td>0.000000</td>\n",
              "      <td>0</td>\n",
              "      <td>0</td>\n",
              "      <td>0</td>\n",
              "      <td>0</td>\n",
              "      <td>0.000000</td>\n",
              "      <td>0.000000</td>\n",
              "      <td>0.000000</td>\n",
              "      <td>46</td>\n",
              "      <td>0</td>\n",
              "      <td>0</td>\n",
              "      <td>0</td>\n",
              "      <td>1</td>\n",
              "      <td>2</td>\n",
              "      <td>1</td>\n",
              "      <td>1</td>\n",
              "      <td>1</td>\n",
              "      <td>1</td>\n",
              "      <td>0</td>\n",
              "      <td>0</td>\n",
              "      <td>0</td>\n",
              "      <td>1</td>\n",
              "      <td>1</td>\n",
              "      <td>1</td>\n",
              "      <td>6</td>\n",
              "      <td>0</td>\n",
              "    </tr>\n",
              "    <tr>\n",
              "      <th>82330</th>\n",
              "      <td>0.000000</td>\n",
              "      <td>6</td>\n",
              "      <td>0</td>\n",
              "      <td>5</td>\n",
              "      <td>1</td>\n",
              "      <td>0</td>\n",
              "      <td>46</td>\n",
              "      <td>0</td>\n",
              "      <td>0.000000</td>\n",
              "      <td>0</td>\n",
              "      <td>0</td>\n",
              "      <td>0.000000e+00</td>\n",
              "      <td>0.000000</td>\n",
              "      <td>0</td>\n",
              "      <td>0</td>\n",
              "      <td>60000.732000</td>\n",
              "      <td>0.000000</td>\n",
              "      <td>10.954518</td>\n",
              "      <td>0.000000</td>\n",
              "      <td>0</td>\n",
              "      <td>0</td>\n",
              "      <td>0</td>\n",
              "      <td>0</td>\n",
              "      <td>0.000000</td>\n",
              "      <td>0.000000</td>\n",
              "      <td>0.000000</td>\n",
              "      <td>46</td>\n",
              "      <td>0</td>\n",
              "      <td>0</td>\n",
              "      <td>0</td>\n",
              "      <td>1</td>\n",
              "      <td>2</td>\n",
              "      <td>1</td>\n",
              "      <td>1</td>\n",
              "      <td>1</td>\n",
              "      <td>1</td>\n",
              "      <td>0</td>\n",
              "      <td>0</td>\n",
              "      <td>0</td>\n",
              "      <td>1</td>\n",
              "      <td>1</td>\n",
              "      <td>1</td>\n",
              "      <td>6</td>\n",
              "      <td>0</td>\n",
              "    </tr>\n",
              "    <tr>\n",
              "      <th>82331</th>\n",
              "      <td>0.000009</td>\n",
              "      <td>119</td>\n",
              "      <td>0</td>\n",
              "      <td>5</td>\n",
              "      <td>2</td>\n",
              "      <td>0</td>\n",
              "      <td>104</td>\n",
              "      <td>0</td>\n",
              "      <td>111111.107200</td>\n",
              "      <td>254</td>\n",
              "      <td>0</td>\n",
              "      <td>4.622222e+07</td>\n",
              "      <td>0.000000</td>\n",
              "      <td>0</td>\n",
              "      <td>0</td>\n",
              "      <td>0.009000</td>\n",
              "      <td>0.000000</td>\n",
              "      <td>0.000000</td>\n",
              "      <td>0.000000</td>\n",
              "      <td>0</td>\n",
              "      <td>0</td>\n",
              "      <td>0</td>\n",
              "      <td>0</td>\n",
              "      <td>0.000000</td>\n",
              "      <td>0.000000</td>\n",
              "      <td>0.000000</td>\n",
              "      <td>52</td>\n",
              "      <td>0</td>\n",
              "      <td>0</td>\n",
              "      <td>0</td>\n",
              "      <td>1</td>\n",
              "      <td>2</td>\n",
              "      <td>1</td>\n",
              "      <td>1</td>\n",
              "      <td>1</td>\n",
              "      <td>1</td>\n",
              "      <td>0</td>\n",
              "      <td>0</td>\n",
              "      <td>0</td>\n",
              "      <td>1</td>\n",
              "      <td>1</td>\n",
              "      <td>0</td>\n",
              "      <td>6</td>\n",
              "      <td>0</td>\n",
              "    </tr>\n",
              "  </tbody>\n",
              "</table>\n",
              "<p>257673 rows × 44 columns</p>\n",
              "</div>"
            ],
            "text/plain": [
              "            dur  proto  service  ...  is_sm_ips_ports  attack_cat  label\n",
              "0      0.121478    113        0  ...                0           6      0\n",
              "1      0.649902    113        0  ...                0           6      0\n",
              "2      1.623129    113        0  ...                0           6      0\n",
              "3      1.681642    113        3  ...                0           6      0\n",
              "4      0.449454    113        0  ...                0           6      0\n",
              "...         ...    ...      ...  ...              ...         ...    ...\n",
              "82327  0.000005    119        0  ...                0           6      0\n",
              "82328  1.106101    113        0  ...                0           6      0\n",
              "82329  0.000000      6        0  ...                1           6      0\n",
              "82330  0.000000      6        0  ...                1           6      0\n",
              "82331  0.000009    119        0  ...                0           6      0\n",
              "\n",
              "[257673 rows x 44 columns]"
            ]
          },
          "metadata": {
            "tags": []
          },
          "execution_count": 40
        }
      ]
    },
    {
      "cell_type": "code",
      "metadata": {
        "id": "ZCaz1tAfGM6r",
        "outputId": "9d3576ee-0f91-468c-e503-16d17f0beddd",
        "colab": {
          "base_uri": "https://localhost:8080/",
          "height": 142
        }
      },
      "source": [
        "y_train.head(3)"
      ],
      "execution_count": 102,
      "outputs": [
        {
          "output_type": "execute_result",
          "data": {
            "text/html": [
              "<div>\n",
              "<style scoped>\n",
              "    .dataframe tbody tr th:only-of-type {\n",
              "        vertical-align: middle;\n",
              "    }\n",
              "\n",
              "    .dataframe tbody tr th {\n",
              "        vertical-align: top;\n",
              "    }\n",
              "\n",
              "    .dataframe thead th {\n",
              "        text-align: right;\n",
              "    }\n",
              "</style>\n",
              "<table border=\"1\" class=\"dataframe\">\n",
              "  <thead>\n",
              "    <tr style=\"text-align: right;\">\n",
              "      <th></th>\n",
              "      <th>label</th>\n",
              "    </tr>\n",
              "  </thead>\n",
              "  <tbody>\n",
              "    <tr>\n",
              "      <th>9459</th>\n",
              "      <td>1</td>\n",
              "    </tr>\n",
              "    <tr>\n",
              "      <th>147134</th>\n",
              "      <td>1</td>\n",
              "    </tr>\n",
              "    <tr>\n",
              "      <th>33634</th>\n",
              "      <td>0</td>\n",
              "    </tr>\n",
              "  </tbody>\n",
              "</table>\n",
              "</div>"
            ],
            "text/plain": [
              "        label\n",
              "9459        1\n",
              "147134      1\n",
              "33634       0"
            ]
          },
          "metadata": {
            "tags": []
          },
          "execution_count": 102
        }
      ]
    },
    {
      "cell_type": "markdown",
      "metadata": {
        "id": "TCTJsAJIeXG9"
      },
      "source": [
        "<h1>Feature selection with CHi2</h1>"
      ]
    },
    {
      "cell_type": "markdown",
      "metadata": {
        "id": "NLFGxfFgOzth"
      },
      "source": [
        ""
      ]
    },
    {
      "cell_type": "code",
      "metadata": {
        "id": "_4coPg1_ecw3"
      },
      "source": [
        "#Feature selection\r\n",
        "\r\n",
        "chi2_selector = SelectKBest(chi2, k=14)\r\n",
        "X_train_kbest = chi2_selector.fit_transform(X_train, y_train)\r\n",
        "X_test_kbest = chi2_selector.fit_transform(X_test, y_test)\r\n",
        "\r\n",
        "#print(X_kbest.shape)\r\n",
        "# X_train_transform = X_train_kbest\r\n",
        "# X_test_transform = X_test_kbest\r\n",
        "X_train = X_train_kbest\r\n",
        "X_test = X_test_kbest\r\n"
      ],
      "execution_count": null,
      "outputs": []
    },
    {
      "cell_type": "code",
      "metadata": {
        "id": "RODqVVNvPxVU"
      },
      "source": [
        "# Calculate Y2 ratio\n",
        "def data_ratio(y2):\n",
        "    '''\n",
        "    Calculate Y2's ratio\n",
        "    '''\n",
        "    unique, count = np.unique(y2, return_counts=True)\n",
        "    ratio = round(count[0]/count[1], 1)\n",
        "    return f'{ratio}:1 ({count[0]}/{count[1]})'"
      ],
      "execution_count": 32,
      "outputs": []
    },
    {
      "cell_type": "code",
      "metadata": {
        "id": "iHdZivEPqpxy"
      },
      "source": [
        "combined_data = pd.concat([train, test]).drop(['id'],axis=1)\r\n",
        "attacks_type = combined_data['attack_cat'].values\r\n",
        "class_type = combined_data['label'].values"
      ],
      "execution_count": 33,
      "outputs": []
    },
    {
      "cell_type": "code",
      "metadata": {
        "id": "KuibhvM5q5yQ"
      },
      "source": [
        ""
      ],
      "execution_count": null,
      "outputs": []
    },
    {
      "cell_type": "code",
      "metadata": {
        "id": "ku2dx9RyPxVU",
        "colab": {
          "base_uri": "https://localhost:8080/",
          "height": 690
        },
        "outputId": "ee1d1257-758b-414a-d1b4-09aa4575ad83"
      },
      "source": [
        "print('The class ratio for the original data:', data_ratio(attacks_type))\n",
        "plt.figure(figsize=(13,5))\n",
        "sns.countplot(attacks_type,label=\"Sum\")\n",
        "plt.show()\n",
        "\n",
        "print('The class ratio for the original data:', data_ratio(class_type))\n",
        "sns.countplot(class_type,label=\"Sum\")\n",
        "plt.show()"
      ],
      "execution_count": 34,
      "outputs": [
        {
          "output_type": "stream",
          "text": [
            "The class ratio for the original data: 1.1:1 (2677/2329)\n"
          ],
          "name": "stdout"
        },
        {
          "output_type": "stream",
          "text": [
            "/usr/local/lib/python3.6/dist-packages/seaborn/_decorators.py:43: FutureWarning: Pass the following variable as a keyword arg: x. From version 0.12, the only valid positional argument will be `data`, and passing other arguments without an explicit keyword will result in an error or misinterpretation.\n",
            "  FutureWarning\n"
          ],
          "name": "stderr"
        },
        {
          "output_type": "display_data",
          "data": {
            "image/png": "[encoded data removed]",
            "text/plain": [
              "<Figure size 936x360 with 1 Axes>"
            ]
          },
          "metadata": {
            "tags": [],
            "needs_background": "light"
          }
        },
        {
          "output_type": "stream",
          "text": [
            "The class ratio for the original data: 0.6:1 (93000/164673)\n"
          ],
          "name": "stdout"
        },
        {
          "output_type": "stream",
          "text": [
            "/usr/local/lib/python3.6/dist-packages/seaborn/_decorators.py:43: FutureWarning: Pass the following variable as a keyword arg: x. From version 0.12, the only valid positional argument will be `data`, and passing other arguments without an explicit keyword will result in an error or misinterpretation.\n",
            "  FutureWarning\n"
          ],
          "name": "stderr"
        },
        {
          "output_type": "display_data",
          "data": {
            "image/png": "[encoded data removed]",
            "text/plain": [
              "<Figure size 432x288 with 1 Axes>"
            ]
          },
          "metadata": {
            "tags": [],
            "needs_background": "light"
          }
        }
      ]
    },
    {
      "cell_type": "code",
      "metadata": {
        "id": "dNCY5xYljoI7"
      },
      "source": [
        "normal = combined_data.where(combined_data['attack_cat'] == 6).dropna()\r\n",
        "Backdoor = combined_data.where(combined_data['attack_cat'] == 5).dropna()\r\n",
        "Analysis = combined_data.where(combined_data['attack_cat'] == 4).dropna()\r\n",
        "Fuzzers = combined_data.where(combined_data['attack_cat'] == 3).dropna()\r\n",
        "Shellcode = combined_data.where(combined_data['attack_cat'] == 2).dropna()\r\n",
        "Reconnaissance = combined_data.where(combined_data['attack_cat'] == 1).dropna()\r\n",
        "Exploits = combined_data.where(combined_data['attack_cat'] != 0).dropna()\r\n",
        "Dos = combined_data.where(combined_data['attack_cat'] == 7).dropna()\r\n",
        "Worms = combined_data.where(combined_data['attack_cat'] == 8).dropna()\r\n",
        "Generic = combined_data.where(combined_data['attack_cat'] == 9).dropna()\r\n"
      ],
      "execution_count": 49,
      "outputs": []
    },
    {
      "cell_type": "code",
      "metadata": {
        "id": "iBVL1GCkkl3x",
        "outputId": "44a8afe1-6fc7-4b34-a597-0085fba3c768",
        "colab": {
          "base_uri": "https://localhost:8080/"
        }
      },
      "source": [
        "normal.shape"
      ],
      "execution_count": 50,
      "outputs": [
        {
          "output_type": "execute_result",
          "data": {
            "text/plain": [
              "(93000, 44)"
            ]
          },
          "metadata": {
            "tags": []
          },
          "execution_count": 50
        }
      ]
    },
    {
      "cell_type": "code",
      "metadata": {
        "id": "BeBJDWf0pMQV"
      },
      "source": [
        "normal = normal.append(Generic.head(850), ignore_index = True) \r\n",
        "normal = normal.append(Worms.head(850), ignore_index = True) \r\n",
        "normal = normal.append(Dos.head(850), ignore_index = True) \r\n",
        "normal = normal.append(Exploits.head(850), ignore_index = True) \r\n",
        "normal = normal.append(Reconnaissance.head(850), ignore_index = True) \r\n",
        "normal = normal.append(Shellcode.head(850), ignore_index = True) \r\n",
        "normal = normal.append(Fuzzers.head(850), ignore_index = True) \r\n",
        "normal = normal.append(Analysis.head(850), ignore_index = True) \r\n",
        "normal = normal.append(Backdoor.head(850), ignore_index = True) \r\n"
      ],
      "execution_count": 53,
      "outputs": []
    },
    {
      "cell_type": "code",
      "metadata": {
        "id": "Y4PnEqAYrBY7",
        "outputId": "71b54c1a-8e95-4f07-82e6-96f8e987b452",
        "colab": {
          "base_uri": "https://localhost:8080/",
          "height": 690
        }
      },
      "source": [
        "#combined_data = pd.concat([train, test]).drop(['id'],axis=1)\r\n",
        "attacks_type = normal['attack_cat'].values\r\n",
        "class_type = normal['label'].values\r\n",
        "\r\n",
        "print('The class ratio for the original data:', data_ratio(attacks_type))\r\n",
        "plt.figure(figsize=(13,5))\r\n",
        "sns.countplot(attacks_type,label=\"Sum\")\r\n",
        "plt.show()\r\n",
        "\r\n",
        "print('The class ratio for the original data:', data_ratio(class_type))\r\n",
        "sns.countplot(class_type,label=\"Sum\")\r\n",
        "plt.show()"
      ],
      "execution_count": 54,
      "outputs": [
        {
          "output_type": "stream",
          "text": [
            "The class ratio for the original data: 1.0:1 (850/850)\n"
          ],
          "name": "stdout"
        },
        {
          "output_type": "stream",
          "text": [
            "/usr/local/lib/python3.6/dist-packages/seaborn/_decorators.py:43: FutureWarning: Pass the following variable as a keyword arg: x. From version 0.12, the only valid positional argument will be `data`, and passing other arguments without an explicit keyword will result in an error or misinterpretation.\n",
            "  FutureWarning\n"
          ],
          "name": "stderr"
        },
        {
          "output_type": "display_data",
          "data": {
            "image/png": "[encoded data removed]",
            "text/plain": [
              "<Figure size 936x360 with 1 Axes>"
            ]
          },
          "metadata": {
            "tags": [],
            "needs_background": "light"
          }
        },
        {
          "output_type": "stream",
          "text": [
            "The class ratio for the original data: 14.9:1 (93850/6298)\n"
          ],
          "name": "stdout"
        },
        {
          "output_type": "stream",
          "text": [
            "/usr/local/lib/python3.6/dist-packages/seaborn/_decorators.py:43: FutureWarning: Pass the following variable as a keyword arg: x. From version 0.12, the only valid positional argument will be `data`, and passing other arguments without an explicit keyword will result in an error or misinterpretation.\n",
            "  FutureWarning\n"
          ],
          "name": "stderr"
        },
        {
          "output_type": "display_data",
          "data": {
            "image/png": "[encoded data removed]",
            "text/plain": [
              "<Figure size 432x288 with 1 Axes>"
            ]
          },
          "metadata": {
            "tags": [],
            "needs_background": "light"
          }
        }
      ]
    },
    {
      "cell_type": "code",
      "metadata": {
        "id": "55WtluXPpgu9",
        "outputId": "e9552f2b-2091-445f-f129-ebc41711d790",
        "colab": {
          "base_uri": "https://localhost:8080/"
        }
      },
      "source": [
        "normal.shape"
      ],
      "execution_count": 52,
      "outputs": [
        {
          "output_type": "execute_result",
          "data": {
            "text/plain": [
              "(93174, 44)"
            ]
          },
          "metadata": {
            "tags": []
          },
          "execution_count": 52
        }
      ]
    },
    {
      "cell_type": "code",
      "metadata": {
        "id": "s6nelPTTrdTs"
      },
      "source": [
        "data_x = normal.drop(['attack_cat','label'], axis=1) # droped label\r\n",
        "data_y = normal.loc[:,['label']]\r\n",
        "\r\n",
        "X_train, X_test, y_train, y_test = train_test_split(data_x, data_y, test_size=.20, random_state=42) "
      ],
      "execution_count": 55,
      "outputs": []
    },
    {
      "cell_type": "code",
      "metadata": {
        "id": "KCDIYQnIrn8j"
      },
      "source": [
        "y_train"
      ],
      "execution_count": null,
      "outputs": []
    },
    {
      "cell_type": "markdown",
      "metadata": {
        "id": "gYGDhWScPxVV"
      },
      "source": [
        "We could see that the dataset is not perfectly balanced. There are some sampling techniques to deal with this issue. Here, we ignore this issue because we are aimed to implement several ML models to compare their performance. "
      ]
    },
    {
      "cell_type": "markdown",
      "metadata": {
        "id": "chI822OUPxVf"
      },
      "source": [
        "# Train ML Models\n",
        "\n",
        "We will train several machine learning models for the training set and evaluate their performance on both training and testing set.This will helps us to choose the best Supervised algorithm.\n",
        "\n",
        "\n"
      ]
    },
    {
      "cell_type": "code",
      "metadata": {
        "id": "2m4pxcBMhBn7"
      },
      "source": [
        "# y_train = y_train['label'].values\r\n",
        "# y_test = y_test['label'].values"
      ],
      "execution_count": null,
      "outputs": []
    },
    {
      "cell_type": "code",
      "metadata": {
        "id": "4szgxJw3g0Dd"
      },
      "source": [
        "# ===== Step 1: cross-validation ========\r\n",
        "# define a Logistic Regression classifier\r\n",
        "clf = LogisticRegression(solver='lbfgs', random_state=123, max_iter = 4000)\r\n",
        "\r\n",
        "# define  Stratified 5-fold cross-validator, it provides train/validate indices to split data in train/validate sets.\r\n",
        "cv = StratifiedKFold(n_splits=5, shuffle=True, random_state=123)\r\n",
        "\r\n",
        "# define metrics for evaluating\r\n",
        "scoring = ['accuracy', 'precision', 'recall', 'f1', 'roc_auc']\r\n",
        "\r\n",
        "# perform the 5-fold CV and get the metrics results\r\n",
        "cv_results = cross_validate(estimator=clf,\r\n",
        "                            X=X_train,\r\n",
        "                            y=y_train,\r\n",
        "                            scoring=scoring,\r\n",
        "                            cv=cv,\r\n",
        "                            return_train_score=False)"
      ],
      "execution_count": null,
      "outputs": []
    },
    {
      "cell_type": "code",
      "metadata": {
        "id": "wxfDDIbRhS5O",
        "colab": {
          "base_uri": "https://localhost:8080/"
        },
        "outputId": "22f3c8ea-0328-4de7-947d-4c9457f7a63f"
      },
      "source": [
        "cv_results['test_accuracy'].mean()"
      ],
      "execution_count": null,
      "outputs": [
        {
          "output_type": "execute_result",
          "data": {
            "text/plain": [
              "0.8070273373673642"
            ]
          },
          "metadata": {
            "tags": []
          },
          "execution_count": 19
        }
      ]
    },
    {
      "cell_type": "markdown",
      "metadata": {
        "id": "RbRkyQNiPxVi"
      },
      "source": [
        "## Several ML Models\n",
        "\n",
        "We will implement several ML models through the above steps. The only difference part is to change `clf = LogisticRegression()` as other model functions, for example, `clf = DecisionTreeClassifier()`. \n",
        "\n",
        "The followings are ML models functions: \n",
        "\n",
        "- `LogisticRegression()`\n",
        "- `DecisionTreeClassifier()`\n",
        "- `RandomForestClassifier()`\n",
        "- `MLPClassifier()`\n",
        "\n",
        "Note that in `MLPClassifier()` we set the solver as `lbfgs` which has better performance for small size of data. Also, we set the maximum iterations as 5000 to ensure convergence. `random_state` is used to ensure reproducible results."
      ]
    },
    {
      "cell_type": "code",
      "metadata": {
        "id": "9Rf6MMmvPxVj"
      },
      "source": [
        "# Define four models\n",
        "models = [('LogisticRegression', LogisticRegression(random_state=123, max_iter=5000)),\n",
        "          ('DecisionTree', DecisionTreeClassifier(random_state=123)),\n",
        "          ('RandomForest', RandomForestClassifier(random_state=123)),\n",
        "          ('MultiLayerPerceptron', MLPClassifier(random_state=123, solver='adam', max_iter=8000)),\n",
        "           ('ExtraTreesClassifier', ExtraTreesClassifier(n_estimators=200, random_state=42, n_jobs=-1))\n",
        "         ]"
      ],
      "execution_count": null,
      "outputs": []
    },
    {
      "cell_type": "markdown",
      "metadata": {
        "id": "sl6KRIKiPxVj"
      },
      "source": [
        "We could check the hyperparameters values in these models: "
      ]
    },
    {
      "cell_type": "code",
      "metadata": {
        "id": "H7lBSS5wPxVj"
      },
      "source": [
        "for model_name, clf in models:\n",
        "    print(clf)"
      ],
      "execution_count": null,
      "outputs": []
    },
    {
      "cell_type": "code",
      "metadata": {
        "id": "y8EoC-DF4Fwm"
      },
      "source": [
        "y_train_copy = y_train['label'].values\r\n",
        "y_test_copy = y_test['label'].values"
      ],
      "execution_count": null,
      "outputs": []
    },
    {
      "cell_type": "markdown",
      "metadata": {
        "id": "5HbJR1v3PxVk"
      },
      "source": [
        "**Finally, we write the code to perform the above four ML models and store their cross-validation results and evaluation results on testing data.**"
      ]
    },
    {
      "cell_type": "markdown",
      "metadata": {
        "id": "xjTdnJlAGOQq"
      },
      "source": [
        "<h1>#Test our candidate algorithms\r\n",
        "<h1>"
      ]
    },
    {
      "cell_type": "code",
      "metadata": {
        "colab": {
          "base_uri": "https://localhost:8080/"
        },
        "id": "6uutqufPGH-T",
        "outputId": "9a6982bc-efb6-4f2a-f8d9-f12cdcfd0fc1"
      },
      "source": [
        "#Test our candidates algorithm\r\n",
        "# DTC = DecisionTreeClassifier()\r\n",
        "RFC = RandomForestClassifier(n_estimators=150, random_state=42, n_jobs=-1)\r\n",
        "ETC = ExtraTreesClassifier(n_estimators=200, random_state=42, n_jobs=-1)\r\n",
        "XGB = xgboost.XGBClassifier(n_estimators=150, n_jobs=-1)\r\n",
        "GBM = lightgbm.LGBMClassifier(objective='binary', n_estimators= 500) # multiclass\r\n",
        "\r\n",
        "list_of_CLFs_names = []\r\n",
        "list_of_CLFs = [ RFC, ETC, XGB, GBM]\r\n",
        "ranking = []\r\n",
        "\r\n",
        "for clf in list_of_CLFs:\r\n",
        "    _ = clf.fit(X_train,y_train_copy)\r\n",
        "    pred = clf.score(X_test,y_test_copy)\r\n",
        "    name = str(type(clf)).split(\".\")[-1][:-2]\r\n",
        "    print(\"Acc: %0.5f for the %s\" % (pred, name))\r\n",
        "\r\n",
        "    ranking.append(pred)\r\n",
        "    list_of_CLFs_names.append(name)"
      ],
      "execution_count": null,
      "outputs": [
        {
          "output_type": "stream",
          "text": [
            "Acc: 0.95240 for the RandomForestClassifier\n",
            "Acc: 0.95133 for the ExtraTreesClassifier\n",
            "Acc: 0.93653 for the XGBClassifier\n",
            "Acc: 0.95269 for the LGBMClassifier\n"
          ],
          "name": "stdout"
        }
      ]
    },
    {
      "cell_type": "code",
      "metadata": {
        "id": "JsVrj5vnPxVk"
      },
      "source": [
        "# define several lists and dataframe to store the CV results and evaluation results on testing data\n",
        "model_names_list = []\n",
        "cv_fit_time_mean_list = []\n",
        "cv_accuracy_mean_list = []\n",
        "cv_precision_mean_list = []\n",
        "cv_recall_mean_list = []\n",
        "cv_f1_mean_list = []\n",
        "cv_roc_auc_mean_list = []\n",
        "\n",
        "test_accuracy_list = []\n",
        "test_precision_list = []\n",
        "test_recall_list = []\n",
        "test_f1_list = []\n",
        "test_roc_auc_list = []\n",
        "\n",
        "test_roc_curve_df = pd.DataFrame()\n",
        "\n",
        "\n",
        "for model_name, clf in models:\n",
        "    \n",
        "    # ==== Step 1: Cross-validation =====\n",
        "    \n",
        "    # define  Stratified 5-fold cross-validator\n",
        "    cv = StratifiedKFold(n_splits=5, shuffle=True, random_state=123)\n",
        "    # define metrics for evaluating\n",
        "    scoring = ['accuracy', 'precision', 'recall', 'f1', 'roc_auc']\n",
        "    # perform the 5-fold CV and get the metrics results\n",
        "    cv_results = cross_validate(estimator=clf,\n",
        "                                X=X_train,\n",
        "                                y=y_train,\n",
        "                                scoring=scoring,\n",
        "                                cv=cv,\n",
        "                                return_train_score=False)  # prevent to show the train scores on cv splits.\n",
        "\n",
        "    # calculate the mean values of those scores\n",
        "    cv_fit_time_mean = cv_results['fit_time'].mean()\n",
        "    cv_accuracy_mean = cv_results['test_accuracy'].mean()\n",
        "    cv_precision_mean = cv_results['test_precision'].mean()\n",
        "    cv_recall_mean = cv_results['test_recall'].mean()\n",
        "    cv_f1_mean = cv_results['test_f1'].mean()\n",
        "    cv_roc_auc_mean = cv_results['test_roc_auc'].mean()\n",
        "\n",
        "    # store CV results into those lists\n",
        "    model_names_list.append(model_name)\n",
        "    cv_fit_time_mean_list.append(cv_fit_time_mean)\n",
        "    cv_accuracy_mean_list.append(cv_accuracy_mean)\n",
        "    cv_precision_mean_list.append(cv_precision_mean)\n",
        "    cv_recall_mean_list.append(cv_recall_mean)\n",
        "    cv_f1_mean_list.append(cv_f1_mean)\n",
        "    cv_roc_auc_mean_list.append(cv_roc_auc_mean)\n",
        "\n",
        "    # ==== Step 2: Evaluation on Testing data =====\n",
        "\n",
        "    # fit model\n",
        "    clf.fit(X=X_train, y=y_train)\n",
        "\n",
        "    # predition on testing data\n",
        "    \n",
        "    # predicted label or class\n",
        "    y_pred_class = clf.predict(X=X_test)  \n",
        "    \n",
        "    # predicted probability of the label 1\n",
        "    y_pred_score = clf.predict_proba(X=X_test)[:, 1]\n",
        "\n",
        "    # accuracy\n",
        "    accuracy_ontest = accuracy_score(y_true=y_test, y_pred=y_pred_class)\n",
        "    \n",
        "    # auc of ROC\n",
        "    auc_ontest = roc_auc_score(y_true=y_test, y_score=y_pred_score)\n",
        "    \n",
        "    # precision score\n",
        "    precision_ontest = precision_score(y_true=y_test, y_pred=y_pred_class)\n",
        "    \n",
        "    # recall score\n",
        "    recall_ontest = recall_score(y_true=y_test, y_pred=y_pred_class)\n",
        "    \n",
        "    # F1 score\n",
        "    f1_ontest = f1_score(y_true=y_test, y_pred=y_pred_class)\n",
        "    \n",
        "    # roc curve dataframe\n",
        "    fpr, tpr, threshold_roc = roc_curve(y_true=y_test, y_score=y_pred_score)\n",
        "    \n",
        "    roc_df = pd.DataFrame(list(zip(fpr, tpr, threshold_roc)),\n",
        "                          columns=['False Positive Rate', 'True Positive Rate', 'Threshold'])\n",
        "    \n",
        "    roc_df['Model'] = '{} (AUC = {:.3f})'.format(model_name, auc_ontest)\n",
        "\n",
        "\n",
        "    # store the above values\n",
        "    test_accuracy_list.append(accuracy_ontest)\n",
        "    test_roc_auc_list.append(auc_ontest)\n",
        "    test_precision_list.append(precision_ontest)\n",
        "    test_recall_list.append(recall_ontest)\n",
        "    test_f1_list.append(f1_ontest)\n",
        "    \n",
        "    test_roc_curve_df = pd.concat([test_roc_curve_df, roc_df],\n",
        "                                 ignore_index=True)"
      ],
      "execution_count": null,
      "outputs": []
    },
    {
      "cell_type": "markdown",
      "metadata": {
        "id": "Pt50AFpEPxVl"
      },
      "source": [
        "### Model Comparison\n",
        "\n",
        "We've stored CV results and evaluation results of testing data for the four ML models. Then, we could create a dataframe to view them."
      ]
    },
    {
      "cell_type": "code",
      "metadata": {
        "id": "X82EJ0JtPxVm"
      },
      "source": [
        "results_dict = {'Model Name': model_names_list,\n",
        "                'CV Fit Time': cv_fit_time_mean_list,\n",
        "                'CV Accuracy mean': cv_accuracy_mean_list,\n",
        "                'CV Precision mean': cv_precision_mean_list,\n",
        "                'CV Recall mean': cv_recall_mean_list,\n",
        "                'CV F1 mean': cv_f1_mean_list,\n",
        "                'CV AUC mean': cv_roc_auc_mean_list,\n",
        "                'Test Accuracy': test_accuracy_list,\n",
        "                'Test Precision': test_precision_list,\n",
        "                'Test Recall': test_recall_list,\n",
        "                'Test F1': test_f1_list,\n",
        "                'Test AUC': test_roc_auc_list\n",
        "                }\n",
        "\n",
        "results_df = pd.DataFrame(results_dict)\n",
        "\n",
        "# sort the results according to F1 score on testing data\n",
        "results_df.sort_values(by='Test F1', ascending=False)"
      ],
      "execution_count": null,
      "outputs": []
    },
    {
      "cell_type": "markdown",
      "metadata": {
        "id": "C1JhJnrXNdc5"
      },
      "source": [
        "<h1>Choice of the Best algorithm</h1>"
      ]
    },
    {
      "cell_type": "code",
      "metadata": {
        "colab": {
          "base_uri": "https://localhost:8080/"
        },
        "id": "RxTcnYgdNbrb",
        "outputId": "1c17f8ac-33e7-4a1e-ec3b-173c341a36db"
      },
      "source": [
        "RFC = RandomForestClassifier(n_estimators=150, random_state=42, n_jobs=-1)\r\n",
        "RFC.fit(X_train,y_train_copy) "
      ],
      "execution_count": null,
      "outputs": [
        {
          "output_type": "execute_result",
          "data": {
            "text/plain": [
              "RandomForestClassifier(bootstrap=True, ccp_alpha=0.0, class_weight=None,\n",
              "                       criterion='gini', max_depth=None, max_features='auto',\n",
              "                       max_leaf_nodes=None, max_samples=None,\n",
              "                       min_impurity_decrease=0.0, min_impurity_split=None,\n",
              "                       min_samples_leaf=1, min_samples_split=2,\n",
              "                       min_weight_fraction_leaf=0.0, n_estimators=150,\n",
              "                       n_jobs=-1, oob_score=False, random_state=42, verbose=0,\n",
              "                       warm_start=False)"
            ]
          },
          "metadata": {
            "tags": []
          },
          "execution_count": 38
        }
      ]
    },
    {
      "cell_type": "markdown",
      "metadata": {
        "id": "chXSRiY4NwXH"
      },
      "source": [
        "<h1>Testing the performance of the Best algorithm on test dataset</h1>"
      ]
    },
    {
      "cell_type": "code",
      "metadata": {
        "id": "IdwwWpW5N66h"
      },
      "source": [
        "X_test"
      ],
      "execution_count": null,
      "outputs": []
    },
    {
      "cell_type": "code",
      "metadata": {
        "colab": {
          "base_uri": "https://localhost:8080/"
        },
        "id": "Gndf6YQqNs5o",
        "outputId": "708d7dd0-b587-4023-cf2b-1f2a503dc38f"
      },
      "source": [
        "#predict the class label with the selected algorithm\r\n",
        "New_X_test = X_test\r\n",
        "New_X_test['sign_deciscion']= RFC.predict(New_X_test)\r\n",
        "New_X_test.shape"
      ],
      "execution_count": null,
      "outputs": [
        {
          "output_type": "stream",
          "text": [
            "/usr/local/lib/python3.6/dist-packages/ipykernel_launcher.py:3: SettingWithCopyWarning: \n",
            "A value is trying to be set on a copy of a slice from a DataFrame.\n",
            "Try using .loc[row_indexer,col_indexer] = value instead\n",
            "\n",
            "See the caveats in the documentation: https://pandas.pydata.org/pandas-docs/stable/user_guide/indexing.html#returning-a-view-versus-a-copy\n",
            "  This is separate from the ipykernel package so we can avoid doing imports until\n"
          ],
          "name": "stderr"
        },
        {
          "output_type": "execute_result",
          "data": {
            "text/plain": [
              "(51535, 43)"
            ]
          },
          "metadata": {
            "tags": []
          },
          "execution_count": 40
        }
      ]
    },
    {
      "cell_type": "code",
      "metadata": {
        "colab": {
          "base_uri": "https://localhost:8080/",
          "height": 419
        },
        "id": "BvZql08iPaIB",
        "outputId": "a7880782-6b86-4832-b98d-fe6822fc22d6"
      },
      "source": [
        "#store the predicted lable \r\n",
        "deciscion = pd.DataFrame(New_X_test['sign_deciscion'])\r\n",
        "deciscion"
      ],
      "execution_count": null,
      "outputs": [
        {
          "output_type": "execute_result",
          "data": {
            "text/html": [
              "<div>\n",
              "<style scoped>\n",
              "    .dataframe tbody tr th:only-of-type {\n",
              "        vertical-align: middle;\n",
              "    }\n",
              "\n",
              "    .dataframe tbody tr th {\n",
              "        vertical-align: top;\n",
              "    }\n",
              "\n",
              "    .dataframe thead th {\n",
              "        text-align: right;\n",
              "    }\n",
              "</style>\n",
              "<table border=\"1\" class=\"dataframe\">\n",
              "  <thead>\n",
              "    <tr style=\"text-align: right;\">\n",
              "      <th></th>\n",
              "      <th>sign_deciscion</th>\n",
              "    </tr>\n",
              "  </thead>\n",
              "  <tbody>\n",
              "    <tr>\n",
              "      <th>122637</th>\n",
              "      <td>1</td>\n",
              "    </tr>\n",
              "    <tr>\n",
              "      <th>137118</th>\n",
              "      <td>1</td>\n",
              "    </tr>\n",
              "    <tr>\n",
              "      <th>69948</th>\n",
              "      <td>0</td>\n",
              "    </tr>\n",
              "    <tr>\n",
              "      <th>45921</th>\n",
              "      <td>1</td>\n",
              "    </tr>\n",
              "    <tr>\n",
              "      <th>31408</th>\n",
              "      <td>0</td>\n",
              "    </tr>\n",
              "    <tr>\n",
              "      <th>...</th>\n",
              "      <td>...</td>\n",
              "    </tr>\n",
              "    <tr>\n",
              "      <th>10687</th>\n",
              "      <td>1</td>\n",
              "    </tr>\n",
              "    <tr>\n",
              "      <th>120658</th>\n",
              "      <td>1</td>\n",
              "    </tr>\n",
              "    <tr>\n",
              "      <th>61193</th>\n",
              "      <td>1</td>\n",
              "    </tr>\n",
              "    <tr>\n",
              "      <th>35810</th>\n",
              "      <td>0</td>\n",
              "    </tr>\n",
              "    <tr>\n",
              "      <th>34928</th>\n",
              "      <td>0</td>\n",
              "    </tr>\n",
              "  </tbody>\n",
              "</table>\n",
              "<p>51535 rows × 1 columns</p>\n",
              "</div>"
            ],
            "text/plain": [
              "        sign_deciscion\n",
              "122637               1\n",
              "137118               1\n",
              "69948                0\n",
              "45921                1\n",
              "31408                0\n",
              "...                ...\n",
              "10687                1\n",
              "120658               1\n",
              "61193                1\n",
              "35810                0\n",
              "34928                0\n",
              "\n",
              "[51535 rows x 1 columns]"
            ]
          },
          "metadata": {
            "tags": []
          },
          "execution_count": 41
        }
      ]
    },
    {
      "cell_type": "code",
      "metadata": {
        "id": "U50FCsCmQvwg",
        "colab": {
          "base_uri": "https://localhost:8080/",
          "height": 224
        },
        "outputId": "21346680-7c14-47af-8080-0c61cf1fc6e9"
      },
      "source": [
        "#Remove the added column\r\n",
        "X_test = X_test.drop(['sign_deciscion'], axis=1)\r\n",
        "X_test.head()"
      ],
      "execution_count": null,
      "outputs": [
        {
          "output_type": "execute_result",
          "data": {
            "text/html": [
              "<div>\n",
              "<style scoped>\n",
              "    .dataframe tbody tr th:only-of-type {\n",
              "        vertical-align: middle;\n",
              "    }\n",
              "\n",
              "    .dataframe tbody tr th {\n",
              "        vertical-align: top;\n",
              "    }\n",
              "\n",
              "    .dataframe thead th {\n",
              "        text-align: right;\n",
              "    }\n",
              "</style>\n",
              "<table border=\"1\" class=\"dataframe\">\n",
              "  <thead>\n",
              "    <tr style=\"text-align: right;\">\n",
              "      <th></th>\n",
              "      <th>dur</th>\n",
              "      <th>proto</th>\n",
              "      <th>service</th>\n",
              "      <th>state</th>\n",
              "      <th>spkts</th>\n",
              "      <th>dpkts</th>\n",
              "      <th>sbytes</th>\n",
              "      <th>dbytes</th>\n",
              "      <th>rate</th>\n",
              "      <th>sttl</th>\n",
              "      <th>dttl</th>\n",
              "      <th>sload</th>\n",
              "      <th>dload</th>\n",
              "      <th>sloss</th>\n",
              "      <th>dloss</th>\n",
              "      <th>sinpkt</th>\n",
              "      <th>dinpkt</th>\n",
              "      <th>sjit</th>\n",
              "      <th>djit</th>\n",
              "      <th>swin</th>\n",
              "      <th>stcpb</th>\n",
              "      <th>dtcpb</th>\n",
              "      <th>dwin</th>\n",
              "      <th>tcprtt</th>\n",
              "      <th>synack</th>\n",
              "      <th>ackdat</th>\n",
              "      <th>smean</th>\n",
              "      <th>dmean</th>\n",
              "      <th>trans_depth</th>\n",
              "      <th>response_body_len</th>\n",
              "      <th>ct_srv_src</th>\n",
              "      <th>ct_state_ttl</th>\n",
              "      <th>ct_dst_ltm</th>\n",
              "      <th>ct_src_dport_ltm</th>\n",
              "      <th>ct_dst_sport_ltm</th>\n",
              "      <th>ct_dst_src_ltm</th>\n",
              "      <th>is_ftp_login</th>\n",
              "      <th>ct_ftp_cmd</th>\n",
              "      <th>ct_flw_http_mthd</th>\n",
              "      <th>ct_src_ltm</th>\n",
              "      <th>ct_srv_dst</th>\n",
              "      <th>is_sm_ips_ports</th>\n",
              "    </tr>\n",
              "  </thead>\n",
              "  <tbody>\n",
              "    <tr>\n",
              "      <th>122637</th>\n",
              "      <td>0.000005</td>\n",
              "      <td>119</td>\n",
              "      <td>2</td>\n",
              "      <td>5</td>\n",
              "      <td>2</td>\n",
              "      <td>0</td>\n",
              "      <td>114</td>\n",
              "      <td>0</td>\n",
              "      <td>200000.005100</td>\n",
              "      <td>254</td>\n",
              "      <td>0</td>\n",
              "      <td>9.120000e+07</td>\n",
              "      <td>0.000000</td>\n",
              "      <td>0</td>\n",
              "      <td>0</td>\n",
              "      <td>0.005000</td>\n",
              "      <td>0.000000</td>\n",
              "      <td>0.000000</td>\n",
              "      <td>0.000000</td>\n",
              "      <td>0</td>\n",
              "      <td>0</td>\n",
              "      <td>0</td>\n",
              "      <td>0</td>\n",
              "      <td>0.000000</td>\n",
              "      <td>0.000000</td>\n",
              "      <td>0.000000</td>\n",
              "      <td>57</td>\n",
              "      <td>0</td>\n",
              "      <td>0</td>\n",
              "      <td>0</td>\n",
              "      <td>13</td>\n",
              "      <td>2</td>\n",
              "      <td>9</td>\n",
              "      <td>9</td>\n",
              "      <td>9</td>\n",
              "      <td>13</td>\n",
              "      <td>0</td>\n",
              "      <td>0</td>\n",
              "      <td>0</td>\n",
              "      <td>9</td>\n",
              "      <td>13</td>\n",
              "      <td>0</td>\n",
              "    </tr>\n",
              "    <tr>\n",
              "      <th>137118</th>\n",
              "      <td>0.000003</td>\n",
              "      <td>119</td>\n",
              "      <td>2</td>\n",
              "      <td>5</td>\n",
              "      <td>2</td>\n",
              "      <td>0</td>\n",
              "      <td>114</td>\n",
              "      <td>0</td>\n",
              "      <td>333333.321500</td>\n",
              "      <td>254</td>\n",
              "      <td>0</td>\n",
              "      <td>1.520000e+08</td>\n",
              "      <td>0.000000</td>\n",
              "      <td>0</td>\n",
              "      <td>0</td>\n",
              "      <td>0.003000</td>\n",
              "      <td>0.000000</td>\n",
              "      <td>0.000000</td>\n",
              "      <td>0.000000</td>\n",
              "      <td>0</td>\n",
              "      <td>0</td>\n",
              "      <td>0</td>\n",
              "      <td>0</td>\n",
              "      <td>0.000000</td>\n",
              "      <td>0.000000</td>\n",
              "      <td>0.000000</td>\n",
              "      <td>57</td>\n",
              "      <td>0</td>\n",
              "      <td>0</td>\n",
              "      <td>0</td>\n",
              "      <td>16</td>\n",
              "      <td>2</td>\n",
              "      <td>16</td>\n",
              "      <td>16</td>\n",
              "      <td>16</td>\n",
              "      <td>16</td>\n",
              "      <td>0</td>\n",
              "      <td>0</td>\n",
              "      <td>0</td>\n",
              "      <td>17</td>\n",
              "      <td>16</td>\n",
              "      <td>0</td>\n",
              "    </tr>\n",
              "    <tr>\n",
              "      <th>69948</th>\n",
              "      <td>1.167584</td>\n",
              "      <td>113</td>\n",
              "      <td>0</td>\n",
              "      <td>2</td>\n",
              "      <td>6</td>\n",
              "      <td>2</td>\n",
              "      <td>1012</td>\n",
              "      <td>86</td>\n",
              "      <td>5.995286</td>\n",
              "      <td>62</td>\n",
              "      <td>252</td>\n",
              "      <td>5.782882e+03</td>\n",
              "      <td>294.625488</td>\n",
              "      <td>2</td>\n",
              "      <td>1</td>\n",
              "      <td>233.516800</td>\n",
              "      <td>0.001000</td>\n",
              "      <td>13675.729750</td>\n",
              "      <td>0.000000</td>\n",
              "      <td>255</td>\n",
              "      <td>1497222707</td>\n",
              "      <td>3407537974</td>\n",
              "      <td>255</td>\n",
              "      <td>0.940009</td>\n",
              "      <td>0.560296</td>\n",
              "      <td>0.379713</td>\n",
              "      <td>169</td>\n",
              "      <td>43</td>\n",
              "      <td>0</td>\n",
              "      <td>0</td>\n",
              "      <td>2</td>\n",
              "      <td>3</td>\n",
              "      <td>1</td>\n",
              "      <td>1</td>\n",
              "      <td>1</td>\n",
              "      <td>2</td>\n",
              "      <td>0</td>\n",
              "      <td>0</td>\n",
              "      <td>0</td>\n",
              "      <td>2</td>\n",
              "      <td>2</td>\n",
              "      <td>0</td>\n",
              "    </tr>\n",
              "    <tr>\n",
              "      <th>45921</th>\n",
              "      <td>0.486485</td>\n",
              "      <td>113</td>\n",
              "      <td>5</td>\n",
              "      <td>4</td>\n",
              "      <td>10</td>\n",
              "      <td>8</td>\n",
              "      <td>798</td>\n",
              "      <td>1568</td>\n",
              "      <td>34.944551</td>\n",
              "      <td>62</td>\n",
              "      <td>252</td>\n",
              "      <td>1.182359e+04</td>\n",
              "      <td>22561.845700</td>\n",
              "      <td>2</td>\n",
              "      <td>2</td>\n",
              "      <td>54.053889</td>\n",
              "      <td>59.958430</td>\n",
              "      <td>2705.531092</td>\n",
              "      <td>82.549047</td>\n",
              "      <td>255</td>\n",
              "      <td>101844950</td>\n",
              "      <td>785426226</td>\n",
              "      <td>255</td>\n",
              "      <td>0.138611</td>\n",
              "      <td>0.065983</td>\n",
              "      <td>0.072628</td>\n",
              "      <td>80</td>\n",
              "      <td>196</td>\n",
              "      <td>1</td>\n",
              "      <td>372</td>\n",
              "      <td>1</td>\n",
              "      <td>1</td>\n",
              "      <td>1</td>\n",
              "      <td>1</td>\n",
              "      <td>1</td>\n",
              "      <td>1</td>\n",
              "      <td>0</td>\n",
              "      <td>0</td>\n",
              "      <td>1</td>\n",
              "      <td>1</td>\n",
              "      <td>1</td>\n",
              "      <td>0</td>\n",
              "    </tr>\n",
              "    <tr>\n",
              "      <th>31408</th>\n",
              "      <td>0.072147</td>\n",
              "      <td>119</td>\n",
              "      <td>0</td>\n",
              "      <td>2</td>\n",
              "      <td>4</td>\n",
              "      <td>4</td>\n",
              "      <td>568</td>\n",
              "      <td>312</td>\n",
              "      <td>97.024136</td>\n",
              "      <td>31</td>\n",
              "      <td>29</td>\n",
              "      <td>4.723689e+04</td>\n",
              "      <td>25947.025390</td>\n",
              "      <td>0</td>\n",
              "      <td>0</td>\n",
              "      <td>18.674334</td>\n",
              "      <td>23.547666</td>\n",
              "      <td>26.397475</td>\n",
              "      <td>33.299309</td>\n",
              "      <td>0</td>\n",
              "      <td>0</td>\n",
              "      <td>0</td>\n",
              "      <td>0</td>\n",
              "      <td>0.000000</td>\n",
              "      <td>0.000000</td>\n",
              "      <td>0.000000</td>\n",
              "      <td>142</td>\n",
              "      <td>78</td>\n",
              "      <td>0</td>\n",
              "      <td>0</td>\n",
              "      <td>7</td>\n",
              "      <td>0</td>\n",
              "      <td>5</td>\n",
              "      <td>1</td>\n",
              "      <td>1</td>\n",
              "      <td>5</td>\n",
              "      <td>0</td>\n",
              "      <td>0</td>\n",
              "      <td>0</td>\n",
              "      <td>2</td>\n",
              "      <td>8</td>\n",
              "      <td>0</td>\n",
              "    </tr>\n",
              "  </tbody>\n",
              "</table>\n",
              "</div>"
            ],
            "text/plain": [
              "             dur  proto  service  ...  ct_src_ltm  ct_srv_dst  is_sm_ips_ports\n",
              "122637  0.000005    119        2  ...           9          13                0\n",
              "137118  0.000003    119        2  ...          17          16                0\n",
              "69948   1.167584    113        0  ...           2           2                0\n",
              "45921   0.486485    113        5  ...           1           1                0\n",
              "31408   0.072147    119        0  ...           2           8                0\n",
              "\n",
              "[5 rows x 42 columns]"
            ]
          },
          "metadata": {
            "tags": []
          },
          "execution_count": 60
        }
      ]
    },
    {
      "cell_type": "markdown",
      "metadata": {
        "id": "f0CzwHRexdin"
      },
      "source": [
        "<h1>Under sampling for Anomaly detection</h1>"
      ]
    },
    {
      "cell_type": "code",
      "metadata": {
        "id": "RlCFfE26xvW0",
        "outputId": "013e51aa-5699-4449-8dc5-49b079c51f01",
        "colab": {
          "base_uri": "https://localhost:8080/"
        }
      },
      "source": [
        "!pip install imbalanced-learn"
      ],
      "execution_count": 16,
      "outputs": [
        {
          "output_type": "stream",
          "text": [
            "Requirement already satisfied: imbalanced-learn in /usr/local/lib/python3.6/dist-packages (0.4.3)\n",
            "Requirement already satisfied: scipy>=0.13.3 in /usr/local/lib/python3.6/dist-packages (from imbalanced-learn) (1.4.1)\n",
            "Requirement already satisfied: numpy>=1.8.2 in /usr/local/lib/python3.6/dist-packages (from imbalanced-learn) (1.19.5)\n",
            "Requirement already satisfied: scikit-learn>=0.20 in /usr/local/lib/python3.6/dist-packages (from imbalanced-learn) (0.22.2.post1)\n",
            "Requirement already satisfied: joblib>=0.11 in /usr/local/lib/python3.6/dist-packages (from scikit-learn>=0.20->imbalanced-learn) (1.0.0)\n"
          ],
          "name": "stdout"
        }
      ]
    },
    {
      "cell_type": "code",
      "metadata": {
        "id": "TPjitoA0x027",
        "outputId": "256360a1-4090-4080-c52c-8b0f887a47d8",
        "colab": {
          "base_uri": "https://localhost:8080/"
        }
      },
      "source": [
        "import imblearn\r\n",
        "print(imblearn.__version__)"
      ],
      "execution_count": 106,
      "outputs": [
        {
          "output_type": "stream",
          "text": [
            "0.4.3\n"
          ],
          "name": "stdout"
        }
      ]
    },
    {
      "cell_type": "code",
      "metadata": {
        "id": "EaGkyKOFxcyN",
        "outputId": "ce8ea813-6ade-44dc-8da3-fc3481d2ddb4",
        "colab": {
          "base_uri": "https://localhost:8080/"
        }
      },
      "source": [
        "# example of random oversampling to balance the class distribution\r\n",
        "from collections import Counter\r\n",
        "from sklearn.datasets import make_classification\r\n",
        "from imblearn.over_sampling import RandomOverSampler\r\n",
        "from imblearn.under_sampling import RandomUnderSampler\r\n",
        "# define dataset\r\n",
        "X, y = make_classification(n_samples=10000, weights=[0.99], flip_y=0)\r\n",
        "# summarize class distribution\r\n",
        "print(Counter(y))\r\n"
      ],
      "execution_count": 115,
      "outputs": [
        {
          "output_type": "stream",
          "text": [
            "Counter({0: 9900, 1: 100})\n"
          ],
          "name": "stdout"
        }
      ]
    },
    {
      "cell_type": "code",
      "metadata": {
        "id": "Xv2uesBWFvb7"
      },
      "source": [
        "# from imblearn.combine import SMOTETomek\r\n",
        "\r\n",
        "# smt = SMOTETomek(ratio='auto')\r\n",
        "# X_smt, y_smt = smt.fit_sample(X, y)"
      ],
      "execution_count": 116,
      "outputs": []
    },
    {
      "cell_type": "code",
      "metadata": {
        "id": "Dxufk8rnF4xF",
        "outputId": "ef16d1d5-7281-4934-df4a-0d9214048ee4",
        "colab": {
          "base_uri": "https://localhost:8080/"
        }
      },
      "source": [
        "print(Counter(y_smt))\r\n"
      ],
      "execution_count": 117,
      "outputs": [
        {
          "output_type": "stream",
          "text": [
            "Counter({0: 9900, 1: 9900})\n"
          ],
          "name": "stdout"
        }
      ]
    },
    {
      "cell_type": "code",
      "metadata": {
        "id": "LVDzYerK09Lq",
        "outputId": "2088f9fd-573e-418a-a251-f67b20c1150f",
        "colab": {
          "base_uri": "https://localhost:8080/"
        }
      },
      "source": [
        "y.shape"
      ],
      "execution_count": 108,
      "outputs": [
        {
          "output_type": "execute_result",
          "data": {
            "text/plain": [
              "(10000,)"
            ]
          },
          "metadata": {
            "tags": []
          },
          "execution_count": 108
        }
      ]
    },
    {
      "cell_type": "code",
      "metadata": {
        "id": "d-YO70wZ03vL",
        "outputId": "920b81e1-5b08-4e6e-e326-13b33ccf3858",
        "colab": {
          "base_uri": "https://localhost:8080/"
        }
      },
      "source": [
        "# define oversampling strategy\r\n",
        "undersample = RandomUnderSampler(sampling_strategy=0.97)\r\n",
        "# fit and apply the transform\r\n",
        "X_over, y_over = undersample.fit_resample(X_train, y_train)\r\n",
        "# summarize class distribution\r\n",
        "#print(Counter(y_over))\r\n",
        "# X= X_over\r\n",
        "type(y_over)"
      ],
      "execution_count": 122,
      "outputs": [
        {
          "output_type": "execute_result",
          "data": {
            "text/plain": [
              "numpy.ndarray"
            ]
          },
          "metadata": {
            "tags": []
          },
          "execution_count": 122
        }
      ]
    },
    {
      "cell_type": "code",
      "metadata": {
        "id": "NycpLS93Hdmm"
      },
      "source": [
        "# define oversampling strategy\r\n",
        "undersample = RandomUnderSampler(sampling_strategy=0.75)\r\n",
        "# fit and apply the transform\r\n",
        "X_over, y_over = undersample.fit_resample(X_over, y_over)\r\n",
        "# summarize class distribution\r\n",
        "#print(Counter(y_over))\r\n",
        "# X= X_over\r\n",
        "type(y_over)"
      ],
      "execution_count": null,
      "outputs": []
    },
    {
      "cell_type": "code",
      "metadata": {
        "id": "fLwKOP5aA8-a"
      },
      "source": [
        "import numpy"
      ],
      "execution_count": 89,
      "outputs": []
    },
    {
      "cell_type": "code",
      "metadata": {
        "id": "DZXrZpfZA0Cu",
        "outputId": "893d6910-091a-4d45-89b1-f0d2c374470d",
        "colab": {
          "base_uri": "https://localhost:8080/"
        }
      },
      "source": [
        "unique, counts = numpy.unique(y_over, return_counts=True)\r\n",
        "dict(zip(unique, counts))"
      ],
      "execution_count": 124,
      "outputs": [
        {
          "output_type": "execute_result",
          "data": {
            "text/plain": [
              "{0: 74387, 1: 76687}"
            ]
          },
          "metadata": {
            "tags": []
          },
          "execution_count": 124
        }
      ]
    },
    {
      "cell_type": "code",
      "metadata": {
        "id": "SEVMHXPm7XYh"
      },
      "source": [
        "X_over"
      ],
      "execution_count": null,
      "outputs": []
    },
    {
      "cell_type": "code",
      "metadata": {
        "id": "nU5JDgdi2kHi"
      },
      "source": [
        "# define oversampling strategy\r\n",
        "over = RandomOverSampler(sampling_strategy='minority')\r\n",
        "# fit and apply the transform\r\n",
        "X_over, y_over = over.fit_resample(X, y)\r\n",
        "# summarize class distribution\r\n",
        "print(Counter(y))"
      ],
      "execution_count": null,
      "outputs": []
    },
    {
      "cell_type": "markdown",
      "metadata": {
        "id": "RC9jjcYUS8cP"
      },
      "source": [
        "<h1>Unsupervied ML (Anomaly)</h1>"
      ]
    },
    {
      "cell_type": "code",
      "metadata": {
        "id": "6whmKwOzVZD4"
      },
      "source": [
        "%%capture \r\n",
        "!pip install pyod\r\n",
        "!pip install hdbscan\r\n",
        "!pip install combo\r\n",
        "!pip install SOM...... # https://github.com/AICoE/log-anomaly-detector/blob/master/Notebooks/SOM_retrain_notebook/SOM_UserFeedbackPOC.ipynb\r\n",
        "!pip install somtf"
      ],
      "execution_count": 57,
      "outputs": []
    },
    {
      "cell_type": "code",
      "metadata": {
        "colab": {
          "base_uri": "https://localhost:8080/"
        },
        "id": "tO9a5CgdVcDv",
        "outputId": "67e933d4-f512-435d-a6dd-d23c26e83faa"
      },
      "source": [
        "!pip install rrcf"
      ],
      "execution_count": 58,
      "outputs": [
        {
          "output_type": "stream",
          "text": [
            "Collecting rrcf\n",
            "  Downloading https://files.pythonhosted.org/packages/36/ac/e43a9774d85e97e9cd877c8da1dd3eacc0644848afe223f25b6e1b21b006/rrcf-0.4.3.tar.gz\n",
            "Requirement already satisfied: numpy in /usr/local/lib/python3.6/dist-packages (from rrcf) (1.19.5)\n",
            "Building wheels for collected packages: rrcf\n",
            "  Building wheel for rrcf (setup.py) ... \u001b[?25l\u001b[?25hdone\n",
            "  Created wheel for rrcf: filename=rrcf-0.4.3-cp36-none-any.whl size=9811 sha256=4a64efb9bfe1b51926011425d5c36109cdc66a6d7714b470c336c9c941630ab0\n",
            "  Stored in directory: /root/.cache/pip/wheels/6c/7c/b7/8983591821eb2c00a31795b29232dcedc4d7fad70a6c663870\n",
            "Successfully built rrcf\n",
            "Installing collected packages: rrcf\n",
            "Successfully installed rrcf-0.4.3\n"
          ],
          "name": "stdout"
        }
      ]
    },
    {
      "cell_type": "code",
      "metadata": {
        "id": "gtZJY7hzVqDj"
      },
      "source": [
        "import gc, os, pickle\r\n",
        "from datetime import datetime\r\n",
        "\r\n",
        "import numpy as np\r\n",
        "import pandas as pd\r\n",
        "from collections import Counter\r\n",
        "\r\n",
        "from IPython.core.interactiveshell import InteractiveShell\r\n",
        "InteractiveShell.ast_node_interactivity = \"all\"\r\n",
        "\r\n",
        "import warnings\r\n",
        "warnings.simplefilter(action='ignore', category=FutureWarning)\r\n",
        "\r\n",
        "import pyod\r\n",
        "from hdbscan import HDBSCAN\r\n",
        "import rrcf\r\n",
        "\r\n",
        "import sklearn\r\n",
        "from sklearn.model_selection import train_test_split\r\n",
        "from sklearn.decomposition import * \r\n",
        "from sklearn.preprocessing import *\r\n",
        "from sklearn.svm import *\r\n",
        "from sklearn.metrics import  precision_recall_curve, precision_score, recall_score, f1_score, accuracy_score\r\n",
        "from sklearn.metrics import roc_curve, auc, roc_auc_score, confusion_matrix, classification_report\r\n"
      ],
      "execution_count": 59,
      "outputs": []
    },
    {
      "cell_type": "code",
      "metadata": {
        "id": "qwKMr_tQVtLQ"
      },
      "source": [
        "from pyod.models import lof, cblof, cof, pca, iforest, knn, mcd, ocsvm, sod, abod, hbos #, auto_encoder, vae\r\n",
        "contamination = 0.4\r\n",
        "threshold = 0.75"
      ],
      "execution_count": 60,
      "outputs": []
    },
    {
      "cell_type": "markdown",
      "metadata": {
        "id": "aTD47EFqVxqL"
      },
      "source": [
        "<table class=\"docutils align-default\">\r\n",
        "<colgroup>\r\n",
        "<col style=\"width: 8%\">\r\n",
        "<col style=\"width: 6%\">\r\n",
        "<col style=\"width: 41%\">\r\n",
        "<col style=\"width: 2%\">\r\n",
        "<col style=\"width: 21%\">\r\n",
        "<col style=\"width: 22%\">\r\n",
        "</colgroup>\r\n",
        "<thead>\r\n",
        "<tr class=\"row-odd\"><th class=\"head\"><p>Type</p></th>\r\n",
        "<th class=\"head\"><p>Abbr</p></th>\r\n",
        "<th class=\"head\"><p>Algorithm</p></th>\r\n",
        "<th class=\"head\"><p>Year</p></th>\r\n",
        "<th class=\"head\"><p>Class</p></th>\r\n",
        "<th class=\"head\"><p>Ref</p></th>\r\n",
        "</tr>\r\n",
        "</thead>\r\n",
        "<tbody>\r\n",
        "<tr class=\"row-even\"><td><p>Linear Model</p></td>\r\n",
        "<td><p>PCA</p></td>\r\n",
        "<td><p>Principal Component Analysis (the sum of weighted projected distances to the eigenvector hyperplanes)</p></td>\r\n",
        "<td><p>2003</p></td>\r\n",
        "<td><p><a class=\"reference internal\" href=\"pyod.models.html#pyod.models.pca.PCA\" title=\"pyod.models.pca.PCA\"><code class=\"xref py py-class docutils literal notranslate\"><span class=\"pre\">pyod.models.pca.PCA</span></code></a></p></td>\r\n",
        "<td><p><span id=\"id3\">[<a class=\"reference internal\" href=\"#id53\"><span>ASCSC03</span></a>]</span></p></td>\r\n",
        "</tr>\r\n",
        "<tr class=\"row-odd\"><td><p>Linear Model</p></td>\r\n",
        "<td><p>MCD</p></td>\r\n",
        "<td><p>Minimum Covariance Determinant (use the mahalanobis distances as the outlier scores)</p></td>\r\n",
        "<td><p>1999</p></td>\r\n",
        "<td><p><a class=\"reference internal\" href=\"pyod.models.html#pyod.models.mcd.MCD\" title=\"pyod.models.mcd.MCD\"><code class=\"xref py py-class docutils literal notranslate\"><span class=\"pre\">pyod.models.mcd.MCD</span></code></a></p></td>\r\n",
        "<td><p><span id=\"id4\">[<a class=\"reference internal\" href=\"#id57\"><span>ARD99</span></a>,<a class=\"reference internal\" href=\"#id58\"><span>AHR04</span></a>]</span></p></td>\r\n",
        "</tr>\r\n",
        "<tr class=\"row-even\"><td><p>Linear Model</p></td>\r\n",
        "<td><p>OCSVM</p></td>\r\n",
        "<td><p>One-Class Support Vector Machines</p></td>\r\n",
        "<td><p>2001</p></td>\r\n",
        "<td><p><a class=\"reference internal\" href=\"pyod.models.html#pyod.models.ocsvm.OCSVM\" title=\"pyod.models.ocsvm.OCSVM\"><code class=\"xref py py-class docutils literal notranslate\"><span class=\"pre\">pyod.models.ocsvm.OCSVM</span></code></a></p></td>\r\n",
        "<td><p><span id=\"id5\">[<a class=\"reference internal\" href=\"#id68\"><span>AScholkopfPST+01</span></a>]</span></p></td>\r\n",
        "</tr>\r\n",
        "<tr class=\"row-odd\"><td><p>Linear Model</p></td>\r\n",
        "<td><p>LMDD</p></td>\r\n",
        "<td><p>Deviation-based Outlier Detection (LMDD)</p></td>\r\n",
        "<td><p>1996</p></td>\r\n",
        "<td><p><a class=\"reference internal\" href=\"pyod.models.html#pyod.models.lmdd.LMDD\" title=\"pyod.models.lmdd.LMDD\"><code class=\"xref py py-class docutils literal notranslate\"><span class=\"pre\">pyod.models.lmdd.LMDD</span></code></a></p></td>\r\n",
        "<td><p><span id=\"id6\">[<a class=\"reference internal\" href=\"#id75\"><span>AAAR96</span></a>]</span></p></td>\r\n",
        "</tr>\r\n",
        "<tr class=\"row-even\"><td><p>Proximity-Based</p></td>\r\n",
        "<td><p>LOF</p></td>\r\n",
        "<td><p>Local Outlier Factor</p></td>\r\n",
        "<td><p>2000</p></td>\r\n",
        "<td><p><a class=\"reference internal\" href=\"pyod.models.html#pyod.models.lof.LOF\" title=\"pyod.models.lof.LOF\"><code class=\"xref py py-class docutils literal notranslate\"><span class=\"pre\">pyod.models.lof.LOF</span></code></a></p></td>\r\n",
        "<td><p><span id=\"id7\">[<a class=\"reference internal\" href=\"#id55\"><span>ABKNS00</span></a>]</span></p></td>\r\n",
        "</tr>\r\n",
        "<tr class=\"row-odd\"><td><p>Proximity-Based</p></td>\r\n",
        "<td><p>COF</p></td>\r\n",
        "<td><p>Connectivity-Based Outlier Factor</p></td>\r\n",
        "<td><p>2002</p></td>\r\n",
        "<td><p><a class=\"reference internal\" href=\"pyod.models.html#pyod.models.cof.COF\" title=\"pyod.models.cof.COF\"><code class=\"xref py py-class docutils literal notranslate\"><span class=\"pre\">pyod.models.cof.COF</span></code></a></p></td>\r\n",
        "<td><p><span id=\"id8\">[<a class=\"reference internal\" href=\"#id69\"><span>ATCFC02</span></a>]</span></p></td>\r\n",
        "</tr>\r\n",
        "<tr class=\"row-even\"><td><p>Proximity-Based</p></td>\r\n",
        "<td><p>CBLOF</p></td>\r\n",
        "<td><p>Clustering-Based Local Outlier Factor</p></td>\r\n",
        "<td><p>2003</p></td>\r\n",
        "<td><p><a class=\"reference internal\" href=\"pyod.models.html#pyod.models.cblof.CBLOF\" title=\"pyod.models.cblof.CBLOF\"><code class=\"xref py py-class docutils literal notranslate\"><span class=\"pre\">pyod.models.cblof.CBLOF</span></code></a></p></td>\r\n",
        "<td><p><span id=\"id9\">[<a class=\"reference internal\" href=\"#id59\"><span>AHXD03</span></a>]</span></p></td>\r\n",
        "</tr>\r\n",
        "<tr class=\"row-odd\"><td><p>Proximity-Based</p></td>\r\n",
        "<td><p>LOCI</p></td>\r\n",
        "<td><p>LOCI: Fast outlier detection using the local correlation integral</p></td>\r\n",
        "<td><p>2003</p></td>\r\n",
        "<td><p><a class=\"reference internal\" href=\"pyod.models.html#pyod.models.loci.LOCI\" title=\"pyod.models.loci.LOCI\"><code class=\"xref py py-class docutils literal notranslate\"><span class=\"pre\">pyod.models.loci.LOCI</span></code></a></p></td>\r\n",
        "<td><p><span id=\"id10\">[<a class=\"reference internal\" href=\"#id62\"><span>APKGF03</span></a>]</span></p></td>\r\n",
        "</tr>\r\n",
        "<tr class=\"row-even\"><td><p>Proximity-Based</p></td>\r\n",
        "<td><p>HBOS</p></td>\r\n",
        "<td><p>Histogram-based Outlier Score</p></td>\r\n",
        "<td><p>2012</p></td>\r\n",
        "<td><p><a class=\"reference internal\" href=\"pyod.models.html#pyod.models.hbos.HBOS\" title=\"pyod.models.hbos.HBOS\"><code class=\"xref py py-class docutils literal notranslate\"><span class=\"pre\">pyod.models.hbos.HBOS</span></code></a></p></td>\r\n",
        "<td><p><span id=\"id11\">[<a class=\"reference internal\" href=\"#id52\"><span>AGD12</span></a>]</span></p></td>\r\n",
        "</tr>\r\n",
        "<tr class=\"row-odd\"><td><p>Proximity-Based</p></td>\r\n",
        "<td><p>kNN</p></td>\r\n",
        "<td><p>k Nearest Neighbors (use the distance to the kth nearest neighbor as the outlier score</p></td>\r\n",
        "<td><p>2000</p></td>\r\n",
        "<td><p><a class=\"reference internal\" href=\"pyod.models.html#pyod.models.knn.KNN\" title=\"pyod.models.knn.KNN\"><code class=\"xref py py-class docutils literal notranslate\"><span class=\"pre\">pyod.models.knn.KNN</span></code></a></p></td>\r\n",
        "<td><p><span id=\"id12\">[<a class=\"reference internal\" href=\"#id48\"><span>ARRS00</span></a>,<a class=\"reference internal\" href=\"#id49\"><span>AAP02</span></a>]</span></p></td>\r\n",
        "</tr>\r\n",
        "<tr class=\"row-even\"><td><p>Proximity-Based</p></td>\r\n",
        "<td><p>AvgKNN</p></td>\r\n",
        "<td><p>Average kNN (use the average distance to k nearest neighbors as the outlier score)</p></td>\r\n",
        "<td><p>2002</p></td>\r\n",
        "<td><p><a class=\"reference internal\" href=\"pyod.models.html#pyod.models.knn.KNN\" title=\"pyod.models.knn.KNN\"><code class=\"xref py py-class docutils literal notranslate\"><span class=\"pre\">pyod.models.knn.KNN</span></code></a></p></td>\r\n",
        "<td><p><span id=\"id13\">[<a class=\"reference internal\" href=\"#id48\"><span>ARRS00</span></a>,<a class=\"reference internal\" href=\"#id49\"><span>AAP02</span></a>]</span></p></td>\r\n",
        "</tr>\r\n",
        "<tr class=\"row-odd\"><td><p>Proximity-Based</p></td>\r\n",
        "<td><p>MedKNN</p></td>\r\n",
        "<td><p>Median kNN (use the median distance to k nearest neighbors as the outlier score)</p></td>\r\n",
        "<td><p>2002</p></td>\r\n",
        "<td><p><a class=\"reference internal\" href=\"pyod.models.html#pyod.models.knn.KNN\" title=\"pyod.models.knn.KNN\"><code class=\"xref py py-class docutils literal notranslate\"><span class=\"pre\">pyod.models.knn.KNN</span></code></a></p></td>\r\n",
        "<td><p><span id=\"id14\">[<a class=\"reference internal\" href=\"#id48\"><span>ARRS00</span></a>,<a class=\"reference internal\" href=\"#id49\"><span>AAP02</span></a>]</span></p></td>\r\n",
        "</tr>\r\n",
        "<tr class=\"row-even\"><td><p>Proximity-Based</p></td>\r\n",
        "<td><p>SOD</p></td>\r\n",
        "<td><p>Subspace Outlier Detection</p></td>\r\n",
        "<td><p>2009</p></td>\r\n",
        "<td><p><a class=\"reference internal\" href=\"pyod.models.html#pyod.models.sod.SOD\" title=\"pyod.models.sod.SOD\"><code class=\"xref py py-class docutils literal notranslate\"><span class=\"pre\">pyod.models.sod.SOD</span></code></a></p></td>\r\n",
        "<td><p><span id=\"id15\">[<a class=\"reference internal\" href=\"#id71\"><span>AKKrogerSZ09</span></a>]</span></p></td>\r\n",
        "</tr>\r\n",
        "<tr class=\"row-odd\"><td><p>Proximity-Based</p></td>\r\n",
        "<td><p>ROD</p></td>\r\n",
        "<td><p>Rotation-based Outlier Detection</p></td>\r\n",
        "<td><p>2020</p></td>\r\n",
        "<td><p><a class=\"reference internal\" href=\"pyod.models.html#pyod.models.rod.ROD\" title=\"pyod.models.rod.ROD\"><code class=\"xref py py-class docutils literal notranslate\"><span class=\"pre\">pyod.models.rod.ROD</span></code></a></p></td>\r\n",
        "<td><p><span id=\"id16\">[<a class=\"reference internal\" href=\"#id81\"><span>AABC20</span></a>]</span></p></td>\r\n",
        "</tr>\r\n",
        "<tr class=\"row-even\"><td><p>Probabilistic</p></td>\r\n",
        "<td><p>ABOD</p></td>\r\n",
        "<td><p>Angle-Based Outlier Detection</p></td>\r\n",
        "<td><p>2008</p></td>\r\n",
        "<td><p><a class=\"reference internal\" href=\"pyod.models.html#pyod.models.abod.ABOD\" title=\"pyod.models.abod.ABOD\"><code class=\"xref py py-class docutils literal notranslate\"><span class=\"pre\">pyod.models.abod.ABOD</span></code></a></p></td>\r\n",
        "<td><p><span id=\"id17\">[<a class=\"reference internal\" href=\"#id50\"><span>AKZ+08</span></a>]</span></p></td>\r\n",
        "</tr>\r\n",
        "<tr class=\"row-odd\"><td><p>Probabilistic</p></td>\r\n",
        "<td><p>FastABOD</p></td>\r\n",
        "<td><p>Fast Angle-Based Outlier Detection using approximation</p></td>\r\n",
        "<td><p>2008</p></td>\r\n",
        "<td><p><a class=\"reference internal\" href=\"pyod.models.html#pyod.models.abod.ABOD\" title=\"pyod.models.abod.ABOD\"><code class=\"xref py py-class docutils literal notranslate\"><span class=\"pre\">pyod.models.abod.ABOD</span></code></a></p></td>\r\n",
        "<td><p><span id=\"id18\">[<a class=\"reference internal\" href=\"#id50\"><span>AKZ+08</span></a>]</span></p></td>\r\n",
        "</tr>\r\n",
        "<tr class=\"row-even\"><td><p>Probabilistic</p></td>\r\n",
        "<td><p>COPOD</p></td>\r\n",
        "<td><p>COPOD: Copula-Based Outlier Detection</p></td>\r\n",
        "<td><p>2020</p></td>\r\n",
        "<td><p><a class=\"reference internal\" href=\"pyod.models.html#pyod.models.copod.COPOD\" title=\"pyod.models.copod.COPOD\"><code class=\"xref py py-class docutils literal notranslate\"><span class=\"pre\">pyod.models.copod.COPOD</span></code></a></p></td>\r\n",
        "<td><p><span id=\"id19\">[<a class=\"reference internal\" href=\"#id80\"><span>ALZB+20</span></a>]</span></p></td>\r\n",
        "</tr>\r\n",
        "<tr class=\"row-odd\"><td><p>Probabilistic</p></td>\r\n",
        "<td><p>MAD</p></td>\r\n",
        "<td><p>Median Absolute Deviation (MAD)</p></td>\r\n",
        "<td><p>1993</p></td>\r\n",
        "<td><p><a class=\"reference internal\" href=\"pyod.models.html#pyod.models.mad.MAD\" title=\"pyod.models.mad.MAD\"><code class=\"xref py py-class docutils literal notranslate\"><span class=\"pre\">pyod.models.mad.MAD</span></code></a></p></td>\r\n",
        "<td><p><span id=\"id20\">[<a class=\"reference internal\" href=\"#id79\"><span>AIH93</span></a>]</span></p></td>\r\n",
        "</tr>\r\n",
        "<tr class=\"row-even\"><td><p>Probabilistic</p></td>\r\n",
        "<td><p>SOS</p></td>\r\n",
        "<td><p>Stochastic Outlier Selection</p></td>\r\n",
        "<td><p>2012</p></td>\r\n",
        "<td><p><a class=\"reference internal\" href=\"pyod.models.html#pyod.models.sos.SOS\" title=\"pyod.models.sos.SOS\"><code class=\"xref py py-class docutils literal notranslate\"><span class=\"pre\">pyod.models.sos.SOS</span></code></a></p></td>\r\n",
        "<td><p><span id=\"id21\">[<a class=\"reference internal\" href=\"#id61\"><span>AJHuszarPvdH12</span></a>]</span></p></td>\r\n",
        "</tr>\r\n",
        "<tr class=\"row-odd\"><td><p>Outlier Ensembles</p></td>\r\n",
        "<td><p>IForest</p></td>\r\n",
        "<td><p>Isolation Forest</p></td>\r\n",
        "<td><p>2008</p></td>\r\n",
        "<td><p><a class=\"reference internal\" href=\"pyod.models.html#pyod.models.iforest.IForest\" title=\"pyod.models.iforest.IForest\"><code class=\"xref py py-class docutils literal notranslate\"><span class=\"pre\">pyod.models.iforest.IForest</span></code></a></p></td>\r\n",
        "<td><p><span id=\"id22\">[<a class=\"reference internal\" href=\"#id44\"><span>ALTZ08</span></a>,<a class=\"reference internal\" href=\"#id45\"><span>ALTZ12</span></a>]</span></p></td>\r\n",
        "</tr>\r\n",
        "<tr class=\"row-even\"><td><p>Outlier Ensembles</p></td>\r\n",
        "<td></td>\r\n",
        "<td><p>Feature Bagging</p></td>\r\n",
        "<td><p>2005</p></td>\r\n",
        "<td><p><a class=\"reference internal\" href=\"pyod.models.html#pyod.models.feature_bagging.FeatureBagging\" title=\"pyod.models.feature_bagging.FeatureBagging\"><code class=\"xref py py-class docutils literal notranslate\"><span class=\"pre\">pyod.models.feature_bagging.FeatureBagging</span></code></a></p></td>\r\n",
        "<td><p><span id=\"id23\">[<a class=\"reference internal\" href=\"#id51\"><span>ALK05</span></a>]</span></p></td>\r\n",
        "</tr>\r\n",
        "<tr class=\"row-odd\"><td><p>Outlier Ensembles</p></td>\r\n",
        "<td><p>LSCP</p></td>\r\n",
        "<td><p>LSCP: Locally Selective Combination of Parallel Outlier Ensembles</p></td>\r\n",
        "<td><p>2019</p></td>\r\n",
        "<td><p><a class=\"reference internal\" href=\"pyod.models.html#pyod.models.lscp.LSCP\" title=\"pyod.models.lscp.LSCP\"><code class=\"xref py py-class docutils literal notranslate\"><span class=\"pre\">pyod.models.lscp.LSCP</span></code></a></p></td>\r\n",
        "<td><p><span id=\"id24\">[<a class=\"reference internal\" href=\"#id63\"><span>AZNHL19</span></a>]</span></p></td>\r\n",
        "</tr>\r\n",
        "<tr class=\"row-even\"><td><p>Outlier Ensembles</p></td>\r\n",
        "<td><p>XGBOD</p></td>\r\n",
        "<td><p>Extreme Boosting Based Outlier Detection <strong>(Supervised)</strong></p></td>\r\n",
        "<td><p>2018</p></td>\r\n",
        "<td><p><a class=\"reference internal\" href=\"pyod.models.html#pyod.models.xgbod.XGBOD\" title=\"pyod.models.xgbod.XGBOD\"><code class=\"xref py py-class docutils literal notranslate\"><span class=\"pre\">pyod.models.xgbod.XGBOD</span></code></a></p></td>\r\n",
        "<td><p><span id=\"id25\">[<a class=\"reference internal\" href=\"#id56\"><span>AZH18</span></a>]</span></p></td>\r\n",
        "</tr>\r\n",
        "<tr class=\"row-odd\"><td><p>Outlier Ensembles</p></td>\r\n",
        "<td><p>LODA</p></td>\r\n",
        "<td><p>Lightweight On-line Detector of Anomalies</p></td>\r\n",
        "<td><p>2016</p></td>\r\n",
        "<td><p><a class=\"reference internal\" href=\"pyod.models.html#pyod.models.loda.LODA\" title=\"pyod.models.loda.LODA\"><code class=\"xref py py-class docutils literal notranslate\"><span class=\"pre\">pyod.models.loda.LODA</span></code></a></p></td>\r\n",
        "<td><p><span id=\"id26\">[<a class=\"reference internal\" href=\"#id77\"><span>APevny16</span></a>]</span></p></td>\r\n",
        "</tr>\r\n",
        "<tr class=\"row-even\"><td><p>Neural Networks</p></td>\r\n",
        "<td><p>AutoEncoder</p></td>\r\n",
        "<td><p>Fully connected AutoEncoder (use reconstruction error as the outlier score)</p></td>\r\n",
        "<td><p>2015</p></td>\r\n",
        "<td><p><a class=\"reference internal\" href=\"pyod.models.html#pyod.models.auto_encoder.AutoEncoder\" title=\"pyod.models.auto_encoder.AutoEncoder\"><code class=\"xref py py-class docutils literal notranslate\"><span class=\"pre\">pyod.models.auto_encoder.AutoEncoder</span></code></a></p></td>\r\n",
        "<td><p><span id=\"id27\">[<a class=\"reference internal\" href=\"#id54\"><span>AAgg15</span></a>]</span></p></td>\r\n",
        "</tr>\r\n",
        "<tr class=\"row-odd\"><td><p>Neural Networks</p></td>\r\n",
        "<td><p>VAE</p></td>\r\n",
        "<td><p>Variational AutoEncoder (use reconstruction error as the outlier score)</p></td>\r\n",
        "<td><p>2013</p></td>\r\n",
        "<td><p><a class=\"reference internal\" href=\"pyod.models.html#pyod.models.vae.VAE\" title=\"pyod.models.vae.VAE\"><code class=\"xref py py-class docutils literal notranslate\"><span class=\"pre\">pyod.models.vae.VAE</span></code></a></p></td>\r\n",
        "<td><p><span id=\"id28\">[<a class=\"reference internal\" href=\"#id76\"><span>AKW13</span></a>]</span></p></td>\r\n",
        "</tr>\r\n",
        "<tr class=\"row-even\"><td><p>Neural Networks</p></td>\r\n",
        "<td><p>Beta-VAE</p></td>\r\n",
        "<td><p>Variational AutoEncoder (all customized loss term by varying gamma and capacity)</p></td>\r\n",
        "<td><p>2018</p></td>\r\n",
        "<td><p><a class=\"reference internal\" href=\"pyod.models.html#pyod.models.vae.VAE\" title=\"pyod.models.vae.VAE\"><code class=\"xref py py-class docutils literal notranslate\"><span class=\"pre\">pyod.models.vae.VAE</span></code></a></p></td>\r\n",
        "<td><p><span id=\"id29\">[<a class=\"reference internal\" href=\"#id78\"><span>ABHP+18</span></a>]</span></p></td>\r\n",
        "</tr>\r\n",
        "<tr class=\"row-odd\"><td><p>Neural Networks</p></td>\r\n",
        "<td><p>SO_GAAL</p></td>\r\n",
        "<td><p>Single-Objective Generative Adversarial Active Learning</p></td>\r\n",
        "<td><p>2019</p></td>\r\n",
        "<td><p><a class=\"reference internal\" href=\"pyod.models.html#pyod.models.so_gaal.SO_GAAL\" title=\"pyod.models.so_gaal.SO_GAAL\"><code class=\"xref py py-class docutils literal notranslate\"><span class=\"pre\">pyod.models.so_gaal.SO_GAAL</span></code></a></p></td>\r\n",
        "<td><p><span id=\"id30\">[<a class=\"reference internal\" href=\"#id64\"><span>ALLZ+19</span></a>]</span></p></td>\r\n",
        "</tr>\r\n",
        "<tr class=\"row-even\"><td><p>Neural Networks</p></td>\r\n",
        "<td><p>MO_GAAL</p></td>\r\n",
        "<td><p>Multiple-Objective Generative Adversarial Active Learning</p></td>\r\n",
        "<td><p>2019</p></td>\r\n",
        "<td><p><a class=\"reference internal\" href=\"pyod.models.html#pyod.models.mo_gaal.MO_GAAL\" title=\"pyod.models.mo_gaal.MO_GAAL\"><code class=\"xref py py-class docutils literal notranslate\"><span class=\"pre\">pyod.models.mo_gaal.MO_GAAL</span></code></a></p></td>\r\n",
        "<td><p><span id=\"id31\">[<a class=\"reference internal\" href=\"#id64\"><span>ALLZ+19</span></a>]</span></p></td>\r\n",
        "</tr>\r\n",
        "</tbody>\r\n",
        "</table>"
      ]
    },
    {
      "cell_type": "markdown",
      "metadata": {
        "id": "uflPBRzzWA44"
      },
      "source": [
        "## Uses PYOD"
      ]
    },
    {
      "cell_type": "markdown",
      "metadata": {
        "id": "t4v_RIyKWGD8"
      },
      "source": [
        "<h1><b>Printing Score metrics</b></h1>"
      ]
    },
    {
      "cell_type": "code",
      "metadata": {
        "id": "XkogpL4SV6SO"
      },
      "source": [
        "def PrintScoreMetrics(algorithm,X_test,y_test):\r\n",
        "    y_pred_class = algorithm.predict(X_test)\r\n",
        "    y_pred_score = algorithm.predict_proba(X=X_test)[:, 1]\r\n",
        "\r\n",
        "\r\n",
        "    # AUC of ROC\r\n",
        "    auc_ontest = roc_auc_score(y_true=y_test, y_score=y_pred_score)\r\n",
        "    # confusion matrix\r\n",
        "    cm_ontest = confusion_matrix(y_true=y_test, y_pred=y_pred_class)\r\n",
        "    # precision score\r\n",
        "    precision_ontest = precision_score(y_true=y_test, y_pred=y_pred_class)\r\n",
        "    # recall score\r\n",
        "    recall_ontest = recall_score(y_true=y_test, y_pred=y_pred_class)\r\n",
        "    # classifition report\r\n",
        "    cls_report_ontest = classification_report(y_true=y_test, y_pred=y_pred_class)\r\n",
        "\r\n",
        "    # print the above results\r\n",
        "    print('The model scores {:1.5f} ROC AUC on the test set.'.format(auc_ontest))\r\n",
        "    print('The precision score on the test set: {:1.5f}'.format(precision_ontest))\r\n",
        "    print('The recall score on the test set: {:1.5f}'.format(recall_ontest))\r\n",
        "    print('Confusion Matrix:\\n', cm_ontest)\r\n",
        "    # Print classification report:\r\n",
        "    print('Classification Report:\\n', cls_report_ontest)"
      ],
      "execution_count": 61,
      "outputs": []
    },
    {
      "cell_type": "markdown",
      "metadata": {
        "id": "rZv1cX_6V5fo"
      },
      "source": [
        ""
      ]
    },
    {
      "cell_type": "markdown",
      "metadata": {
        "id": "WdnDSH_1mDHr"
      },
      "source": [
        "<h1><b>the LOF model</b><h1>"
      ]
    },
    {
      "cell_type": "code",
      "metadata": {
        "id": "XpSg_uGZjR9J"
      },
      "source": [
        "#===============TRAIN THE LOF MODEL ======================\n",
        "lof_clf = lof.LOF(contamination=contamination, n_jobs=-1)\n",
        "_ = lof_clf.fit(X_train)\n"
      ],
      "execution_count": 64,
      "outputs": []
    },
    {
      "cell_type": "code",
      "metadata": {
        "id": "sEC0BtSsM76E",
        "colab": {
          "base_uri": "https://localhost:8080/"
        },
        "outputId": "b3919116-5b29-4ce6-ee6f-6a0e4079d64d"
      },
      "source": [
        "#======= EVALUATE LOF MODEL =================\r\n",
        "PrintScoreMetrics(lof_clf,X_test,y_test)"
      ],
      "execution_count": 65,
      "outputs": [
        {
          "output_type": "stream",
          "text": [
            "The model scores 0.54337 ROC AUC on the test set.\n",
            "The precision score on the test set: 0.06682\n",
            "The recall score on the test set: 0.48990\n",
            "Confusion Matrix:\n",
            " [[10714  8128]\n",
            " [  606   582]]\n",
            "Classification Report:\n",
            "               precision    recall  f1-score   support\n",
            "\n",
            "         0.0       0.95      0.57      0.71     18842\n",
            "         1.0       0.07      0.49      0.12      1188\n",
            "\n",
            "    accuracy                           0.56     20030\n",
            "   macro avg       0.51      0.53      0.41     20030\n",
            "weighted avg       0.89      0.56      0.68     20030\n",
            "\n"
          ],
          "name": "stdout"
        }
      ]
    },
    {
      "cell_type": "markdown",
      "metadata": {
        "id": "WWw2wUPmlcva"
      },
      "source": [
        "<h1><b>the CBLOF model</b><h1>"
      ]
    },
    {
      "cell_type": "code",
      "metadata": {
        "id": "9HMfAuoOjSAq"
      },
      "source": [
        "#========== TRAIN CBLOF MODEL ==========\n",
        "cblof_clf = cblof.CBLOF(contamination=contamination, n_jobs=-1, n_clusters=45)\n",
        "_ = cblof_clf.fit(X_train)\n"
      ],
      "execution_count": 66,
      "outputs": []
    },
    {
      "cell_type": "code",
      "metadata": {
        "id": "OMIRzSwffHFB",
        "colab": {
          "base_uri": "https://localhost:8080/"
        },
        "outputId": "04cdc8d5-3311-48a3-c889-3f521c98c856"
      },
      "source": [
        "#======= EVALUATE CBLOF MODEL =================\r\n",
        "\r\n",
        "PrintScoreMetrics(cblof_clf,X_test,y_test)\r\n"
      ],
      "execution_count": 67,
      "outputs": [
        {
          "output_type": "stream",
          "text": [
            "The model scores 0.54299 ROC AUC on the test set.\n",
            "The precision score on the test set: 0.05039\n",
            "The recall score on the test set: 0.34259\n",
            "Confusion Matrix:\n",
            " [[11172  7670]\n",
            " [  781   407]]\n",
            "Classification Report:\n",
            "               precision    recall  f1-score   support\n",
            "\n",
            "         0.0       0.93      0.59      0.73     18842\n",
            "         1.0       0.05      0.34      0.09      1188\n",
            "\n",
            "    accuracy                           0.58     20030\n",
            "   macro avg       0.49      0.47      0.41     20030\n",
            "weighted avg       0.88      0.58      0.69     20030\n",
            "\n"
          ],
          "name": "stdout"
        }
      ]
    },
    {
      "cell_type": "markdown",
      "metadata": {
        "id": "0KtZja8qohBq"
      },
      "source": [
        "<h1><b>the Connectivity-Based Outlier Factor (cof)</b><h1>"
      ]
    },
    {
      "cell_type": "code",
      "metadata": {
        "id": "o3yKHghIjSEV"
      },
      "source": [
        "#========== TRAIN COF MODEL ==========\n",
        "\n",
        "cof_clf = cof.COF(contamination=contamination) \n",
        "_ = cof_clf.fit(X_train[:5000])\n"
      ],
      "execution_count": null,
      "outputs": []
    },
    {
      "cell_type": "code",
      "metadata": {
        "id": "GV3nL4qzoeIL"
      },
      "source": [
        "#======= EVALUATE COF MODEL =================\r\n",
        "\r\n",
        "PrintScoreMetrics(cof_clf,X_test,y_test)\r\n"
      ],
      "execution_count": null,
      "outputs": []
    },
    {
      "cell_type": "markdown",
      "metadata": {
        "id": "c5tr85k4vq0F"
      },
      "source": [
        "<h1><b>The PCA MODEL</b><h1>"
      ]
    },
    {
      "cell_type": "code",
      "metadata": {
        "id": "ixQ7uR00jSIB"
      },
      "source": [
        "# https://pyod.readthedocs.io/en/latest/_modules/pyod/models/pca.html\n",
        "#=============TRAINING PCA MODEL=========================\n",
        "pca_clf = pca.PCA(contamination=contamination)\n",
        "_ = pca_clf.fit(X_train)"
      ],
      "execution_count": null,
      "outputs": []
    },
    {
      "cell_type": "code",
      "metadata": {
        "id": "0GamMfdVwPXC"
      },
      "source": [
        "#======= EVALUATE PCA MODEL =================\r\n",
        "\r\n",
        "PrintScoreMetrics(pca_clf,X_test,y_test)\r\n"
      ],
      "execution_count": null,
      "outputs": []
    },
    {
      "cell_type": "code",
      "metadata": {
        "id": "k5lR1t6u-aut"
      },
      "source": [
        "pca_clf = pca.PCA(2, contamination=contamination)\n",
        "_ = pca_clf.fit(X_train)\n",
        "\n",
        "PrintScoreMetrics(pca_clf,X_test,y_test)\n"
      ],
      "execution_count": null,
      "outputs": []
    },
    {
      "cell_type": "markdown",
      "metadata": {
        "id": "A6AEdW_MxT9t"
      },
      "source": [
        "<h1><b>The IFOREST MODEL</b><h1>"
      ]
    },
    {
      "cell_type": "code",
      "metadata": {
        "id": "4OHfbx1qjSLS"
      },
      "source": [
        "iforest_clf = iforest.IForest(contamination=contamination, n_estimators=300, max_samples= 1028, n_jobs=-1)\n",
        "_ = iforest_clf.fit(X_train)\n"
      ],
      "execution_count": null,
      "outputs": []
    },
    {
      "cell_type": "code",
      "metadata": {
        "id": "jRVZrEo81SDY"
      },
      "source": [
        "X_test.head(3)"
      ],
      "execution_count": null,
      "outputs": []
    },
    {
      "cell_type": "code",
      "metadata": {
        "id": "a1xa5_vVyPsm"
      },
      "source": [
        "#======= EVALUATE IFOREST MODEL =================\r\n",
        "\r\n",
        "PrintScoreMetrics(iforest_clf,X_test,y_test)\r\n"
      ],
      "execution_count": null,
      "outputs": []
    },
    {
      "cell_type": "code",
      "metadata": {
        "id": "GPkBQtQ6RTst"
      },
      "source": [
        "Anom_X_test = X_test\r\n",
        "#Anom_X_test['scores']=iforest_clf.decision_function(X_test)\r\n",
        "Anom_X_test['anom_deciscion']=lof_clf.predict(X_test)\r\n",
        "Anom_X_test.head(5)"
      ],
      "execution_count": null,
      "outputs": []
    },
    {
      "cell_type": "code",
      "metadata": {
        "id": "LxL0MDPZpxQe"
      },
      "source": [
        " deciscion['anom_decision']  = pd.DataFrame(Anom_X_test['anom_deciscion'])\r\n"
      ],
      "execution_count": null,
      "outputs": []
    },
    {
      "cell_type": "code",
      "metadata": {
        "id": "0hq96QqcjwHd"
      },
      "source": [
        " Final_decision =  pd.DataFrame(columns=['Output'])\r\n"
      ],
      "execution_count": null,
      "outputs": []
    },
    {
      "cell_type": "code",
      "metadata": {
        "id": "QLrGPgekq4QC"
      },
      "source": [
        "Final_decision.head(3)"
      ],
      "execution_count": null,
      "outputs": []
    },
    {
      "cell_type": "code",
      "metadata": {
        "id": "_M8gkmtUo9rE"
      },
      "source": [
        "deciscion.head(20)"
      ],
      "execution_count": null,
      "outputs": []
    },
    {
      "cell_type": "markdown",
      "metadata": {
        "id": "tsPXPt4i9Zok"
      },
      "source": [
        "<h1>Find the accuracy of our model</h1>"
      ]
    },
    {
      "cell_type": "code",
      "metadata": {
        "id": "vz8zsvgk9e1t"
      },
      "source": [
        "for index, row in deciscion.iterrows():\r\n",
        "    if((row['anom_decision']==1) and (row['sign_deciscion']== 1)):\r\n",
        "        Final_decision.loc[index] = 1\r\n",
        "    elif((row['anom_decision']==0) and (row['sign_deciscion']== 0)):\r\n",
        "        Final_decision.loc[index] = 0\r\n",
        "    elif((row['anom_decision']==1) and (row['sign_deciscion']== 0)):\r\n",
        "        Final_decision.loc[index] = 1\r\n",
        "    else:\r\n",
        "      Final_decision.loc[index] = -1"
      ],
      "execution_count": null,
      "outputs": []
    },
    {
      "cell_type": "code",
      "metadata": {
        "id": "qEZmijyu90wF"
      },
      "source": [
        "#Final_decision.head(20)\r\n",
        "pred_attack = Final_decision.where(Final_decision['Output'] == 1).dropna()\r\n",
        "pred_attack.shape"
      ],
      "execution_count": null,
      "outputs": []
    },
    {
      "cell_type": "code",
      "metadata": {
        "id": "IPOgONURwR-S"
      },
      "source": [
        "true_attack = y_test.where(y_test['label'] == 1).dropna()\r\n",
        "true_attack.shape"
      ],
      "execution_count": null,
      "outputs": []
    },
    {
      "cell_type": "code",
      "metadata": {
        "id": "_IxdgCPA1XLL"
      },
      "source": [
        "accuracy = len(pred_attack)/len(true_attack)\r\n",
        "print(100* accuracy)"
      ],
      "execution_count": null,
      "outputs": []
    },
    {
      "cell_type": "markdown",
      "metadata": {
        "id": "ayEzNKEozXja"
      },
      "source": [
        "<h1><b>The KNN MODEL</b><h1>"
      ]
    },
    {
      "cell_type": "code",
      "metadata": {
        "id": "twvrr6d5jSOq"
      },
      "source": [
        "#========== TRAIN KNN MODEL ==========\n",
        "knn_clf = knn.KNN(contamination=contamination, radius=1.5, n_neighbors=20, n_jobs=-1) #TODO radius\n",
        "_ = knn_clf.fit(X_train)\n",
        "\n",
        "# predictions = knn_clf.predict(X_train)\n",
        "# print(f'Acc of train: {accuracy_score(y_train, predictions)}')\n",
        "# predictions = knn_clf.predict(X_test)\n",
        "# print(f'Acc of test: {accuracy_score(y_test, predictions)}')"
      ],
      "execution_count": null,
      "outputs": []
    },
    {
      "cell_type": "code",
      "metadata": {
        "id": "qg2ZR9hN0BSC"
      },
      "source": [
        "#======= EVALUATE KNN MODEL =================\r\n",
        "\r\n",
        "PrintScoreMetrics(knn_clf,X_test,y_test)"
      ],
      "execution_count": null,
      "outputs": []
    },
    {
      "cell_type": "markdown",
      "metadata": {
        "id": "7qgYsFJR1Ndc"
      },
      "source": [
        "<h1><b>The OCSVM MODEL</b><h1>"
      ]
    },
    {
      "cell_type": "code",
      "metadata": {
        "id": "I8gsbiYtjSRk"
      },
      "source": [
        "#================== TRAIN OCSVM ===============================\n",
        "ocsvm_clf = ocsvm.OCSVM(contamination=contamination)\n",
        "_ = ocsvm_clf.fit(X_train[:1000])\n"
      ],
      "execution_count": null,
      "outputs": []
    },
    {
      "cell_type": "code",
      "metadata": {
        "id": "2u3FZihu1eIO"
      },
      "source": [
        "#======= EVALUATE OCSVM MODEL =================\r\n",
        "\r\n",
        "PrintScoreMetrics(ocsvm_clf,X_test,y_test)"
      ],
      "execution_count": null,
      "outputs": []
    },
    {
      "cell_type": "markdown",
      "metadata": {
        "id": "FVMMaa4H2LGi"
      },
      "source": [
        "<h1><b>The Angle-Based Outlier Detection (ABOD) MODEL</b><h1>\r\n",
        "\r\n"
      ]
    },
    {
      "cell_type": "code",
      "metadata": {
        "id": "1T_uPrDSjRop"
      },
      "source": [
        "#================ TRAIN ABOD MODEL =====================\n",
        "X_temp = X_train.astype(np.float) \n",
        "abod_clf = abod.ABOD(contamination=contamination, n_neighbors=10, )\n",
        "_ = abod_clf.fit(X_temp)\n"
      ],
      "execution_count": null,
      "outputs": []
    },
    {
      "cell_type": "code",
      "metadata": {
        "id": "eYYW2Fy-2m-i"
      },
      "source": [
        "#======= EVALUATE ABOD MODEL =================\r\n",
        "\r\n",
        "PrintScoreMetrics(abod_clf,X_test,y_test)"
      ],
      "execution_count": null,
      "outputs": []
    },
    {
      "cell_type": "markdown",
      "metadata": {
        "id": "RBDFquUePxVn"
      },
      "source": [
        "#### ROC Curve Comparison\n",
        "\n",
        "A receiver operating characteristic curve, or ROC curve, is a graphical plot that illustrates the diagnostic ability of a binary classifier system as its discrimination threshold is varied. The ROC curve is created by plotting the true positive rate (TPR) against the false positive rate (FPR) at various threshold settings.\n",
        "\n",
        "The AUC score or AUC ROC (Area Under the Receiver Operating Characteristic Curve) score represents degree or measure of separability. **Higher the AUC, better the model is at predicting 0s as 0s and 1s as 1s. By analogy, Higher the AUC, better the model is at distinguishing between patients with disease and no disease.**\n",
        "\n",
        "Here, we show the ROC curves with AUC scores for the four models. We will use a plot package `plotly` to show an interactive figure. \n",
        "\n",
        "In the above code, we have computed TPR, FPR and threshold values for plotting ROC curves, which have been stored into `test_roc_curve_df` with four columns `False Positive Rate`, `True Positive Rate`, `Threshold`, and `Model`.\n"
      ]
    },
    {
      "cell_type": "code",
      "metadata": {
        "id": "pcgcbeioPxVo"
      },
      "source": [
        "# !pip install plotly \n",
        "# !pip install cufflinks"
      ],
      "execution_count": null,
      "outputs": []
    },
    {
      "cell_type": "code",
      "metadata": {
        "id": "as5L1aYtPxVp"
      },
      "source": [
        "#  plotly imports\n",
        "# import plotly.express as px\n",
        "# import plotly.graph_objects as go"
      ],
      "execution_count": null,
      "outputs": []
    },
    {
      "cell_type": "code",
      "metadata": {
        "id": "O5xFWgq2PxVp"
      },
      "source": [
        "# ROC_fig = px.line(test_roc_curve_df, \n",
        "#                   x='False Positive Rate',\n",
        "#                   y='True Positive Rate', \n",
        "#                   color='Model',\n",
        "#               hover_data=['Threshold'])\n",
        "\n",
        "# ROC_fig.update_layout(\n",
        "#     legend=go.layout.Legend(\n",
        "#         x=0.5,\n",
        "#         y=0.1,\n",
        "#         traceorder=\"normal\",\n",
        "#         font=dict(\n",
        "#             # family=\"sans-serif\",\n",
        "#             size=9,\n",
        "#             color=\"black\"\n",
        "#         ),\n",
        "#         bgcolor=\"LightSteelBlue\",\n",
        "#         bordercolor=\"Black\",\n",
        "#         borderwidth=2\n",
        "#     ),\n",
        "#     title=go.layout.Title(text=\"ROC Curve on Hold-out Testing Dataset\",\n",
        "#                           xref=\"paper\",\n",
        "#                           x=0\n",
        "#                           ),\n",
        "#     xaxis=go.layout.XAxis(\n",
        "#         title=go.layout.xaxis.Title(\n",
        "#             text=\"False Positive Rate\"\n",
        "#         )\n",
        "#     ),\n",
        "#     yaxis=go.layout.YAxis(\n",
        "#         title=go.layout.yaxis.Title(\n",
        "#             text=\"True Positive Rate\"\n",
        "#         )\n",
        "#     )\n",
        "# )\n",
        "\n",
        "# ROC_fig.show()"
      ],
      "execution_count": null,
      "outputs": []
    },
    {
      "cell_type": "markdown",
      "metadata": {
        "id": "k6EZft49PxWW"
      },
      "source": [
        "# Model Inspection\n",
        "\n",
        "Predictive performance is often the main goal of developing machine learning models. Yet summarising performance with an evaluation metric is often insufficient: it assumes that the evaluation metric and test dataset perfectly reflect the target domain, which is rarely true. \n",
        "\n",
        "In certain domains, a model needs a certain level of interpretability before it can be deployed. A model that is exhibiting performance issues needs to be debugged for one to understand the model’s underlying issue. \n",
        "\n",
        "The `sklearn.inspection` module provides tools to help understand the predictions from a model and what affects them. This can be used to evaluate assumptions and biases of a model, design a better model, or to diagnose issues with model performance."
      ]
    },
    {
      "cell_type": "markdown",
      "metadata": {
        "id": "YmfoVhRnPxWf"
      },
      "source": [
        "## Partial dependence plots (PDPs)\n",
        "\n",
        "Partial dependence plots (PDPs) show the dependence between the target response $y$ and a set of ‘target’ features $X$, marginalizing over the values of all other features (the ‘complement’ features). Intuitively, we can interpret the partial dependence as the expected target response as a function of the ‘target’ features.\n",
        "\n",
        "**In general, PDPs show how a feature affects predictions.** If you are familiar with linear regression models, PDPs can be interpreted similarly to the coefficients in those models. Though, PDPs for sophisticated models can capture more complex patterns than coefficients from simple models. We will show a couple examples, explain the interpretation of these plots, and then review the code to create these plots.\n",
        "\n",
        "### Example: PDP for LogisticRegression\n",
        "\n",
        "Let's plot a PDP for LogisticRegression that we have trained before. Assume that we are interested in the effect of all the features on the response `attack_cat`"
      ]
    },
    {
      "cell_type": "code",
      "metadata": {
        "id": "wVfqlCkJPxWf"
      },
      "source": [
        "# import the plot function\n",
        "from sklearn.inspection import plot_partial_dependence"
      ],
      "execution_count": null,
      "outputs": []
    },
    {
      "cell_type": "markdown",
      "metadata": {
        "id": "4YugjvwSPxWg"
      },
      "source": [
        "`plot_partial_dependence` function has five important arguments to specify which features are plotted.\n",
        "\n",
        "- `estimator`: your fitted model/classifier.\n",
        "- `X`: your training data\n",
        "- `features` : the indexes of your interested features\n",
        "- `feature_names` : the list of the features names in your training data\n",
        "- `target` : In a multi-class setting, specifies the class for which the PDPs should be computed. \n",
        "            Note that for binary classification, the positive class (index 1) is always used.\n",
        "\n",
        "Therefore, we first need to figure out the feature indexes in our training data. Remember that we have transformed our training data such that the orginal features names and orders have been changed.\n",
        "\n",
        "Let's look at what the current features names and orders in `X_train_transform`. Again, we should call `get_column_names_from_ColumnTransformer` on `col_trans` to get those new names."
      ]
    },
    {
      "cell_type": "code",
      "metadata": {
        "id": "a2n8I41kPxWg"
      },
      "source": [
        "from sklearn.pipeline import Pipeline\n",
        "def get_column_names_from_ColumnTransformer(column_transformer):    \n",
        "    col_name = []\n",
        "        \n",
        "    for transformer_in_columns in column_transformer.transformers_:\n",
        "        raw_col_name = transformer_in_columns[2]\n",
        "\n",
        "        if isinstance(transformer_in_columns[1], Pipeline): \n",
        "            transformer = transformer_in_columns[1].steps[-1][1]\n",
        "        else:\n",
        "            transformer = transformer_in_columns[1]\n",
        "        \n",
        "        try:\n",
        "            names = transformer.get_feature_names(input_features=raw_col_name)\n",
        "        \n",
        "        except AttributeError: # if no 'get_feature_names' function, use raw column name\n",
        "            \n",
        "            if transformer_in_columns[1] == \"passthrough\":\n",
        "                names = column_transformer._feature_names_in[raw_col_name]\n",
        "            else:\n",
        "                names = raw_col_name\n",
        "\n",
        "        if isinstance(names,np.ndarray): \n",
        "            col_name += names.tolist()\n",
        "        \n",
        "        elif isinstance(names,pd.Index): \n",
        "            col_name += names.tolist()\n",
        "        \n",
        "        elif isinstance(names,list):\n",
        "            col_name += names    \n",
        "\n",
        "        elif isinstance(names,str):\n",
        "            col_name.append(names)\n",
        "\n",
        "    return col_name"
      ],
      "execution_count": null,
      "outputs": []
    },
    {
      "cell_type": "code",
      "metadata": {
        "id": "hMVPrLArPxWh",
        "colab": {
          "base_uri": "https://localhost:8080/"
        },
        "outputId": "4a68c7b1-2dc3-4d2a-fe2d-3c8ed337d368"
      },
      "source": [
        "new_cols = get_column_names_from_ColumnTransformer(col_trans)\n",
        "\n",
        "new_cols"
      ],
      "execution_count": null,
      "outputs": [
        {
          "output_type": "execute_result",
          "data": {
            "text/plain": [
              "['proto_3pc',\n",
              " 'proto_a/n',\n",
              " 'proto_aes-sp3-d',\n",
              " 'proto_any',\n",
              " 'proto_argus',\n",
              " 'proto_aris',\n",
              " 'proto_arp',\n",
              " 'proto_ax.25',\n",
              " 'proto_bbn-rcc',\n",
              " 'proto_bna',\n",
              " 'proto_br-sat-mon',\n",
              " 'proto_cbt',\n",
              " 'proto_cftp',\n",
              " 'proto_chaos',\n",
              " 'proto_compaq-peer',\n",
              " 'proto_cphb',\n",
              " 'proto_cpnx',\n",
              " 'proto_crtp',\n",
              " 'proto_crudp',\n",
              " 'proto_dcn',\n",
              " 'proto_ddp',\n",
              " 'proto_ddx',\n",
              " 'proto_dgp',\n",
              " 'proto_egp',\n",
              " 'proto_eigrp',\n",
              " 'proto_emcon',\n",
              " 'proto_encap',\n",
              " 'proto_etherip',\n",
              " 'proto_fc',\n",
              " 'proto_fire',\n",
              " 'proto_ggp',\n",
              " 'proto_gmtp',\n",
              " 'proto_gre',\n",
              " 'proto_hmp',\n",
              " 'proto_i-nlsp',\n",
              " 'proto_iatp',\n",
              " 'proto_ib',\n",
              " 'proto_idpr',\n",
              " 'proto_idpr-cmtp',\n",
              " 'proto_idrp',\n",
              " 'proto_ifmp',\n",
              " 'proto_igmp',\n",
              " 'proto_igp',\n",
              " 'proto_il',\n",
              " 'proto_ip',\n",
              " 'proto_ipcomp',\n",
              " 'proto_ipcv',\n",
              " 'proto_ipip',\n",
              " 'proto_iplt',\n",
              " 'proto_ipnip',\n",
              " 'proto_ippc',\n",
              " 'proto_ipv6',\n",
              " 'proto_ipv6-frag',\n",
              " 'proto_ipv6-no',\n",
              " 'proto_ipv6-opts',\n",
              " 'proto_ipv6-route',\n",
              " 'proto_ipx-n-ip',\n",
              " 'proto_irtp',\n",
              " 'proto_isis',\n",
              " 'proto_iso-ip',\n",
              " 'proto_iso-tp4',\n",
              " 'proto_kryptolan',\n",
              " 'proto_l2tp',\n",
              " 'proto_larp',\n",
              " 'proto_leaf-1',\n",
              " 'proto_leaf-2',\n",
              " 'proto_merit-inp',\n",
              " 'proto_mfe-nsp',\n",
              " 'proto_mhrp',\n",
              " 'proto_micp',\n",
              " 'proto_mobile',\n",
              " 'proto_mtp',\n",
              " 'proto_mux',\n",
              " 'proto_narp',\n",
              " 'proto_netblt',\n",
              " 'proto_nsfnet-igp',\n",
              " 'proto_nvp',\n",
              " 'proto_ospf',\n",
              " 'proto_pgm',\n",
              " 'proto_pim',\n",
              " 'proto_pipe',\n",
              " 'proto_pnni',\n",
              " 'proto_pri-enc',\n",
              " 'proto_prm',\n",
              " 'proto_ptp',\n",
              " 'proto_pup',\n",
              " 'proto_pvp',\n",
              " 'proto_qnx',\n",
              " 'proto_rdp',\n",
              " 'proto_rsvp',\n",
              " 'proto_rvd',\n",
              " 'proto_sat-expak',\n",
              " 'proto_sat-mon',\n",
              " 'proto_sccopmce',\n",
              " 'proto_scps',\n",
              " 'proto_sctp',\n",
              " 'proto_sdrp',\n",
              " 'proto_secure-vmtp',\n",
              " 'proto_sep',\n",
              " 'proto_skip',\n",
              " 'proto_sm',\n",
              " 'proto_smp',\n",
              " 'proto_snp',\n",
              " 'proto_sprite-rpc',\n",
              " 'proto_sps',\n",
              " 'proto_srp',\n",
              " 'proto_st2',\n",
              " 'proto_stp',\n",
              " 'proto_sun-nd',\n",
              " 'proto_swipe',\n",
              " 'proto_tcf',\n",
              " 'proto_tcp',\n",
              " 'proto_tlsp',\n",
              " 'proto_tp++',\n",
              " 'proto_trunk-1',\n",
              " 'proto_trunk-2',\n",
              " 'proto_ttp',\n",
              " 'proto_udp',\n",
              " 'proto_unas',\n",
              " 'proto_uti',\n",
              " 'proto_vines',\n",
              " 'proto_visa',\n",
              " 'proto_vmtp',\n",
              " 'proto_vrrp',\n",
              " 'proto_wb-expak',\n",
              " 'proto_wb-mon',\n",
              " 'proto_wsn',\n",
              " 'proto_xnet',\n",
              " 'proto_xns-idp',\n",
              " 'proto_xtp',\n",
              " 'proto_zero',\n",
              " 'service_-',\n",
              " 'service_dhcp',\n",
              " 'service_dns',\n",
              " 'service_ftp',\n",
              " 'service_ftp-data',\n",
              " 'service_http',\n",
              " 'service_irc',\n",
              " 'service_pop3',\n",
              " 'service_radius',\n",
              " 'service_smtp',\n",
              " 'service_snmp',\n",
              " 'service_ssh',\n",
              " 'service_ssl',\n",
              " 'state_ACC',\n",
              " 'state_CLO',\n",
              " 'state_CON',\n",
              " 'state_FIN',\n",
              " 'state_INT',\n",
              " 'state_REQ',\n",
              " 'state_RST',\n",
              " 'id',\n",
              " 'dur',\n",
              " 'spkts',\n",
              " 'dpkts',\n",
              " 'sbytes',\n",
              " 'dbytes',\n",
              " 'rate',\n",
              " 'sttl',\n",
              " 'dttl',\n",
              " 'sload',\n",
              " 'dload',\n",
              " 'sloss',\n",
              " 'dloss',\n",
              " 'sinpkt',\n",
              " 'dinpkt',\n",
              " 'sjit',\n",
              " 'djit',\n",
              " 'swin',\n",
              " 'stcpb',\n",
              " 'dtcpb',\n",
              " 'dwin',\n",
              " 'tcprtt',\n",
              " 'synack',\n",
              " 'ackdat',\n",
              " 'smean',\n",
              " 'dmean',\n",
              " 'trans_depth',\n",
              " 'response_body_len',\n",
              " 'ct_srv_src',\n",
              " 'ct_state_ttl',\n",
              " 'ct_dst_ltm',\n",
              " 'ct_src_dport_ltm',\n",
              " 'ct_dst_sport_ltm',\n",
              " 'ct_dst_src_ltm',\n",
              " 'is_ftp_login',\n",
              " 'ct_ftp_cmd',\n",
              " 'ct_flw_http_mthd',\n",
              " 'ct_src_ltm',\n",
              " 'ct_srv_dst',\n",
              " 'is_sm_ips_ports']"
            ]
          },
          "metadata": {
            "tags": []
          },
          "execution_count": 131
        }
      ]
    },
    {
      "cell_type": "code",
      "metadata": {
        "id": "DmaP3x6XPxWh"
      },
      "source": [
        "models[0]"
      ],
      "execution_count": null,
      "outputs": []
    },
    {
      "cell_type": "code",
      "metadata": {
        "id": "-bhx5UuxPxWh",
        "colab": {
          "base_uri": "https://localhost:8080/",
          "height": 737
        },
        "outputId": "002f3cb3-4cf2-4337-a44d-afcac51c6394"
      },
      "source": [
        "clf_name = models[0][0] # the classifier name\n",
        "clf = models[0][1] # the classifier itself\n",
        "\n",
        "features = [0,1,2,3,4,5,6,7,8,9,10,11]\n",
        "plot_partial_dependence(estimator=clf, X=X_train_transform, \n",
        "                        features=features, feature_names=new_cols,\n",
        "                        target=1)\n",
        "\n",
        "fig = plt.gcf() # get current figure (gcf)\n",
        "fig.suptitle(\"Partial dependence of Attack or Normal on all features\\n\"\n",
        "              \"with {}\".format(clf_name))\n",
        "fig.set_size_inches(20, 10)\n",
        "fig.subplots_adjust(hspace=.4, wspace=.25, top=.9)"
      ],
      "execution_count": null,
      "outputs": [
        {
          "output_type": "error",
          "ename": "ValueError",
          "evalue": "ignored",
          "traceback": [
            "\u001b[0;31m---------------------------------------------------------------------------\u001b[0m",
            "\u001b[0;31mTypeError\u001b[0m                                 Traceback (most recent call last)",
            "\u001b[0;31mTypeError\u001b[0m: float() argument must be a string or a number, not 'csr_matrix'",
            "\nThe above exception was the direct cause of the following exception:\n",
            "\u001b[0;31mValueError\u001b[0m                                Traceback (most recent call last)",
            "\u001b[0;32m<ipython-input-135-adc14ebb8d92>\u001b[0m in \u001b[0;36m<module>\u001b[0;34m()\u001b[0m\n\u001b[1;32m      5\u001b[0m plot_partial_dependence(estimator=clf, X=X_train_transform, \n\u001b[1;32m      6\u001b[0m                         \u001b[0mfeatures\u001b[0m\u001b[0;34m=\u001b[0m\u001b[0mfeatures\u001b[0m\u001b[0;34m,\u001b[0m \u001b[0mfeature_names\u001b[0m\u001b[0;34m=\u001b[0m\u001b[0mnew_cols\u001b[0m\u001b[0;34m,\u001b[0m\u001b[0;34m\u001b[0m\u001b[0;34m\u001b[0m\u001b[0m\n\u001b[0;32m----> 7\u001b[0;31m                         target=1)\n\u001b[0m\u001b[1;32m      8\u001b[0m \u001b[0;34m\u001b[0m\u001b[0m\n\u001b[1;32m      9\u001b[0m \u001b[0mfig\u001b[0m \u001b[0;34m=\u001b[0m \u001b[0mplt\u001b[0m\u001b[0;34m.\u001b[0m\u001b[0mgcf\u001b[0m\u001b[0;34m(\u001b[0m\u001b[0;34m)\u001b[0m \u001b[0;31m# get current figure (gcf)\u001b[0m\u001b[0;34m\u001b[0m\u001b[0;34m\u001b[0m\u001b[0m\n",
            "\u001b[0;32m/usr/local/lib/python3.6/dist-packages/sklearn/inspection/_partial_dependence.py\u001b[0m in \u001b[0;36mplot_partial_dependence\u001b[0;34m(estimator, X, features, feature_names, target, response_method, n_cols, grid_resolution, percentiles, method, n_jobs, verbose, fig, line_kw, contour_kw, ax)\u001b[0m\n\u001b[1;32m    720\u001b[0m                                        target_idx, pdp_lim, deciles)\n\u001b[1;32m    721\u001b[0m     return display.plot(ax=ax, n_cols=n_cols, line_kw=line_kw,\n\u001b[0;32m--> 722\u001b[0;31m                         contour_kw=contour_kw)\n\u001b[0m\u001b[1;32m    723\u001b[0m \u001b[0;34m\u001b[0m\u001b[0m\n\u001b[1;32m    724\u001b[0m \u001b[0;34m\u001b[0m\u001b[0m\n",
            "\u001b[0;32m/usr/local/lib/python3.6/dist-packages/sklearn/inspection/_partial_dependence.py\u001b[0m in \u001b[0;36mplot\u001b[0;34m(self, ax, n_cols, line_kw, contour_kw)\u001b[0m\n\u001b[1;32m    918\u001b[0m                 lines_ravel[i] = axi.plot(values[0],\n\u001b[1;32m    919\u001b[0m                                           \u001b[0mavg_preds\u001b[0m\u001b[0;34m[\u001b[0m\u001b[0mself\u001b[0m\u001b[0;34m.\u001b[0m\u001b[0mtarget_idx\u001b[0m\u001b[0;34m]\u001b[0m\u001b[0;34m.\u001b[0m\u001b[0mravel\u001b[0m\u001b[0;34m(\u001b[0m\u001b[0;34m)\u001b[0m\u001b[0;34m,\u001b[0m\u001b[0;34m\u001b[0m\u001b[0;34m\u001b[0m\u001b[0m\n\u001b[0;32m--> 920\u001b[0;31m                                           **line_kw)[0]\n\u001b[0m\u001b[1;32m    921\u001b[0m             \u001b[0;32melse\u001b[0m\u001b[0;34m:\u001b[0m\u001b[0;34m\u001b[0m\u001b[0;34m\u001b[0m\u001b[0m\n\u001b[1;32m    922\u001b[0m                 \u001b[0;31m# contour plot\u001b[0m\u001b[0;34m\u001b[0m\u001b[0;34m\u001b[0m\u001b[0;34m\u001b[0m\u001b[0m\n",
            "\u001b[0;32m/usr/local/lib/python3.6/dist-packages/matplotlib/axes/_axes.py\u001b[0m in \u001b[0;36mplot\u001b[0;34m(self, scalex, scaley, data, *args, **kwargs)\u001b[0m\n\u001b[1;32m   1647\u001b[0m         \u001b[0mlines\u001b[0m \u001b[0;34m=\u001b[0m \u001b[0;34m[\u001b[0m\u001b[0;34m*\u001b[0m\u001b[0mself\u001b[0m\u001b[0;34m.\u001b[0m\u001b[0m_get_lines\u001b[0m\u001b[0;34m(\u001b[0m\u001b[0;34m*\u001b[0m\u001b[0margs\u001b[0m\u001b[0;34m,\u001b[0m \u001b[0mdata\u001b[0m\u001b[0;34m=\u001b[0m\u001b[0mdata\u001b[0m\u001b[0;34m,\u001b[0m \u001b[0;34m**\u001b[0m\u001b[0mkwargs\u001b[0m\u001b[0;34m)\u001b[0m\u001b[0;34m]\u001b[0m\u001b[0;34m\u001b[0m\u001b[0;34m\u001b[0m\u001b[0m\n\u001b[1;32m   1648\u001b[0m         \u001b[0;32mfor\u001b[0m \u001b[0mline\u001b[0m \u001b[0;32min\u001b[0m \u001b[0mlines\u001b[0m\u001b[0;34m:\u001b[0m\u001b[0;34m\u001b[0m\u001b[0;34m\u001b[0m\u001b[0m\n\u001b[0;32m-> 1649\u001b[0;31m             \u001b[0mself\u001b[0m\u001b[0;34m.\u001b[0m\u001b[0madd_line\u001b[0m\u001b[0;34m(\u001b[0m\u001b[0mline\u001b[0m\u001b[0;34m)\u001b[0m\u001b[0;34m\u001b[0m\u001b[0;34m\u001b[0m\u001b[0m\n\u001b[0m\u001b[1;32m   1650\u001b[0m         \u001b[0mself\u001b[0m\u001b[0;34m.\u001b[0m\u001b[0m_request_autoscale_view\u001b[0m\u001b[0;34m(\u001b[0m\u001b[0mscalex\u001b[0m\u001b[0;34m=\u001b[0m\u001b[0mscalex\u001b[0m\u001b[0;34m,\u001b[0m \u001b[0mscaley\u001b[0m\u001b[0;34m=\u001b[0m\u001b[0mscaley\u001b[0m\u001b[0;34m)\u001b[0m\u001b[0;34m\u001b[0m\u001b[0;34m\u001b[0m\u001b[0m\n\u001b[1;32m   1651\u001b[0m         \u001b[0;32mreturn\u001b[0m \u001b[0mlines\u001b[0m\u001b[0;34m\u001b[0m\u001b[0;34m\u001b[0m\u001b[0m\n",
            "\u001b[0;32m/usr/local/lib/python3.6/dist-packages/matplotlib/axes/_base.py\u001b[0m in \u001b[0;36madd_line\u001b[0;34m(self, line)\u001b[0m\n\u001b[1;32m   1848\u001b[0m             \u001b[0mline\u001b[0m\u001b[0;34m.\u001b[0m\u001b[0mset_clip_path\u001b[0m\u001b[0;34m(\u001b[0m\u001b[0mself\u001b[0m\u001b[0;34m.\u001b[0m\u001b[0mpatch\u001b[0m\u001b[0;34m)\u001b[0m\u001b[0;34m\u001b[0m\u001b[0;34m\u001b[0m\u001b[0m\n\u001b[1;32m   1849\u001b[0m \u001b[0;34m\u001b[0m\u001b[0m\n\u001b[0;32m-> 1850\u001b[0;31m         \u001b[0mself\u001b[0m\u001b[0;34m.\u001b[0m\u001b[0m_update_line_limits\u001b[0m\u001b[0;34m(\u001b[0m\u001b[0mline\u001b[0m\u001b[0;34m)\u001b[0m\u001b[0;34m\u001b[0m\u001b[0;34m\u001b[0m\u001b[0m\n\u001b[0m\u001b[1;32m   1851\u001b[0m         \u001b[0;32mif\u001b[0m \u001b[0;32mnot\u001b[0m \u001b[0mline\u001b[0m\u001b[0;34m.\u001b[0m\u001b[0mget_label\u001b[0m\u001b[0;34m(\u001b[0m\u001b[0;34m)\u001b[0m\u001b[0;34m:\u001b[0m\u001b[0;34m\u001b[0m\u001b[0;34m\u001b[0m\u001b[0m\n\u001b[1;32m   1852\u001b[0m             \u001b[0mline\u001b[0m\u001b[0;34m.\u001b[0m\u001b[0mset_label\u001b[0m\u001b[0;34m(\u001b[0m\u001b[0;34m'_line%d'\u001b[0m \u001b[0;34m%\u001b[0m \u001b[0mlen\u001b[0m\u001b[0;34m(\u001b[0m\u001b[0mself\u001b[0m\u001b[0;34m.\u001b[0m\u001b[0mlines\u001b[0m\u001b[0;34m)\u001b[0m\u001b[0;34m)\u001b[0m\u001b[0;34m\u001b[0m\u001b[0;34m\u001b[0m\u001b[0m\n",
            "\u001b[0;32m/usr/local/lib/python3.6/dist-packages/matplotlib/axes/_base.py\u001b[0m in \u001b[0;36m_update_line_limits\u001b[0;34m(self, line)\u001b[0m\n\u001b[1;32m   1870\u001b[0m         \u001b[0mFigures\u001b[0m \u001b[0mout\u001b[0m \u001b[0mthe\u001b[0m \u001b[0mdata\u001b[0m \u001b[0mlimit\u001b[0m \u001b[0mof\u001b[0m \u001b[0mthe\u001b[0m \u001b[0mgiven\u001b[0m \u001b[0mline\u001b[0m\u001b[0;34m,\u001b[0m \u001b[0mupdating\u001b[0m \u001b[0mself\u001b[0m\u001b[0;34m.\u001b[0m\u001b[0mdataLim\u001b[0m\u001b[0;34m.\u001b[0m\u001b[0;34m\u001b[0m\u001b[0;34m\u001b[0m\u001b[0m\n\u001b[1;32m   1871\u001b[0m         \"\"\"\n\u001b[0;32m-> 1872\u001b[0;31m         \u001b[0mpath\u001b[0m \u001b[0;34m=\u001b[0m \u001b[0mline\u001b[0m\u001b[0;34m.\u001b[0m\u001b[0mget_path\u001b[0m\u001b[0;34m(\u001b[0m\u001b[0;34m)\u001b[0m\u001b[0;34m\u001b[0m\u001b[0;34m\u001b[0m\u001b[0m\n\u001b[0m\u001b[1;32m   1873\u001b[0m         \u001b[0;32mif\u001b[0m \u001b[0mpath\u001b[0m\u001b[0;34m.\u001b[0m\u001b[0mvertices\u001b[0m\u001b[0;34m.\u001b[0m\u001b[0msize\u001b[0m \u001b[0;34m==\u001b[0m \u001b[0;36m0\u001b[0m\u001b[0;34m:\u001b[0m\u001b[0;34m\u001b[0m\u001b[0;34m\u001b[0m\u001b[0m\n\u001b[1;32m   1874\u001b[0m             \u001b[0;32mreturn\u001b[0m\u001b[0;34m\u001b[0m\u001b[0;34m\u001b[0m\u001b[0m\n",
            "\u001b[0;32m/usr/local/lib/python3.6/dist-packages/matplotlib/lines.py\u001b[0m in \u001b[0;36mget_path\u001b[0;34m(self)\u001b[0m\n\u001b[1;32m   1025\u001b[0m         \"\"\"\n\u001b[1;32m   1026\u001b[0m         \u001b[0;32mif\u001b[0m \u001b[0mself\u001b[0m\u001b[0;34m.\u001b[0m\u001b[0m_invalidy\u001b[0m \u001b[0;32mor\u001b[0m \u001b[0mself\u001b[0m\u001b[0;34m.\u001b[0m\u001b[0m_invalidx\u001b[0m\u001b[0;34m:\u001b[0m\u001b[0;34m\u001b[0m\u001b[0;34m\u001b[0m\u001b[0m\n\u001b[0;32m-> 1027\u001b[0;31m             \u001b[0mself\u001b[0m\u001b[0;34m.\u001b[0m\u001b[0mrecache\u001b[0m\u001b[0;34m(\u001b[0m\u001b[0;34m)\u001b[0m\u001b[0;34m\u001b[0m\u001b[0;34m\u001b[0m\u001b[0m\n\u001b[0m\u001b[1;32m   1028\u001b[0m         \u001b[0;32mreturn\u001b[0m \u001b[0mself\u001b[0m\u001b[0;34m.\u001b[0m\u001b[0m_path\u001b[0m\u001b[0;34m\u001b[0m\u001b[0;34m\u001b[0m\u001b[0m\n\u001b[1;32m   1029\u001b[0m \u001b[0;34m\u001b[0m\u001b[0m\n",
            "\u001b[0;32m/usr/local/lib/python3.6/dist-packages/matplotlib/lines.py\u001b[0m in \u001b[0;36mrecache\u001b[0;34m(self, always)\u001b[0m\n\u001b[1;32m    668\u001b[0m         \u001b[0;32mif\u001b[0m \u001b[0malways\u001b[0m \u001b[0;32mor\u001b[0m \u001b[0mself\u001b[0m\u001b[0;34m.\u001b[0m\u001b[0m_invalidx\u001b[0m\u001b[0;34m:\u001b[0m\u001b[0;34m\u001b[0m\u001b[0;34m\u001b[0m\u001b[0m\n\u001b[1;32m    669\u001b[0m             \u001b[0mxconv\u001b[0m \u001b[0;34m=\u001b[0m \u001b[0mself\u001b[0m\u001b[0;34m.\u001b[0m\u001b[0mconvert_xunits\u001b[0m\u001b[0;34m(\u001b[0m\u001b[0mself\u001b[0m\u001b[0;34m.\u001b[0m\u001b[0m_xorig\u001b[0m\u001b[0;34m)\u001b[0m\u001b[0;34m\u001b[0m\u001b[0;34m\u001b[0m\u001b[0m\n\u001b[0;32m--> 670\u001b[0;31m             \u001b[0mx\u001b[0m \u001b[0;34m=\u001b[0m \u001b[0m_to_unmasked_float_array\u001b[0m\u001b[0;34m(\u001b[0m\u001b[0mxconv\u001b[0m\u001b[0;34m)\u001b[0m\u001b[0;34m.\u001b[0m\u001b[0mravel\u001b[0m\u001b[0;34m(\u001b[0m\u001b[0;34m)\u001b[0m\u001b[0;34m\u001b[0m\u001b[0;34m\u001b[0m\u001b[0m\n\u001b[0m\u001b[1;32m    671\u001b[0m         \u001b[0;32melse\u001b[0m\u001b[0;34m:\u001b[0m\u001b[0;34m\u001b[0m\u001b[0;34m\u001b[0m\u001b[0m\n\u001b[1;32m    672\u001b[0m             \u001b[0mx\u001b[0m \u001b[0;34m=\u001b[0m \u001b[0mself\u001b[0m\u001b[0;34m.\u001b[0m\u001b[0m_x\u001b[0m\u001b[0;34m\u001b[0m\u001b[0;34m\u001b[0m\u001b[0m\n",
            "\u001b[0;32m/usr/local/lib/python3.6/dist-packages/matplotlib/cbook/__init__.py\u001b[0m in \u001b[0;36m_to_unmasked_float_array\u001b[0;34m(x)\u001b[0m\n\u001b[1;32m   1315\u001b[0m         \u001b[0;32mreturn\u001b[0m \u001b[0mnp\u001b[0m\u001b[0;34m.\u001b[0m\u001b[0mma\u001b[0m\u001b[0;34m.\u001b[0m\u001b[0masarray\u001b[0m\u001b[0;34m(\u001b[0m\u001b[0mx\u001b[0m\u001b[0;34m,\u001b[0m \u001b[0mfloat\u001b[0m\u001b[0;34m)\u001b[0m\u001b[0;34m.\u001b[0m\u001b[0mfilled\u001b[0m\u001b[0;34m(\u001b[0m\u001b[0mnp\u001b[0m\u001b[0;34m.\u001b[0m\u001b[0mnan\u001b[0m\u001b[0;34m)\u001b[0m\u001b[0;34m\u001b[0m\u001b[0;34m\u001b[0m\u001b[0m\n\u001b[1;32m   1316\u001b[0m     \u001b[0;32melse\u001b[0m\u001b[0;34m:\u001b[0m\u001b[0;34m\u001b[0m\u001b[0;34m\u001b[0m\u001b[0m\n\u001b[0;32m-> 1317\u001b[0;31m         \u001b[0;32mreturn\u001b[0m \u001b[0mnp\u001b[0m\u001b[0;34m.\u001b[0m\u001b[0masarray\u001b[0m\u001b[0;34m(\u001b[0m\u001b[0mx\u001b[0m\u001b[0;34m,\u001b[0m \u001b[0mfloat\u001b[0m\u001b[0;34m)\u001b[0m\u001b[0;34m\u001b[0m\u001b[0;34m\u001b[0m\u001b[0m\n\u001b[0m\u001b[1;32m   1318\u001b[0m \u001b[0;34m\u001b[0m\u001b[0m\n\u001b[1;32m   1319\u001b[0m \u001b[0;34m\u001b[0m\u001b[0m\n",
            "\u001b[0;32m/usr/local/lib/python3.6/dist-packages/numpy/core/_asarray.py\u001b[0m in \u001b[0;36masarray\u001b[0;34m(a, dtype, order)\u001b[0m\n\u001b[1;32m     81\u001b[0m \u001b[0;34m\u001b[0m\u001b[0m\n\u001b[1;32m     82\u001b[0m     \"\"\"\n\u001b[0;32m---> 83\u001b[0;31m     \u001b[0;32mreturn\u001b[0m \u001b[0marray\u001b[0m\u001b[0;34m(\u001b[0m\u001b[0ma\u001b[0m\u001b[0;34m,\u001b[0m \u001b[0mdtype\u001b[0m\u001b[0;34m,\u001b[0m \u001b[0mcopy\u001b[0m\u001b[0;34m=\u001b[0m\u001b[0;32mFalse\u001b[0m\u001b[0;34m,\u001b[0m \u001b[0morder\u001b[0m\u001b[0;34m=\u001b[0m\u001b[0morder\u001b[0m\u001b[0;34m)\u001b[0m\u001b[0;34m\u001b[0m\u001b[0;34m\u001b[0m\u001b[0m\n\u001b[0m\u001b[1;32m     84\u001b[0m \u001b[0;34m\u001b[0m\u001b[0m\n\u001b[1;32m     85\u001b[0m \u001b[0;34m\u001b[0m\u001b[0m\n",
            "\u001b[0;31mValueError\u001b[0m: setting an array element with a sequence."
          ]
        },
        {
          "output_type": "display_data",
          "data": {
            "image/png": "[encoded data removed]",
            "text/plain": [
              "<Figure size 432x288 with 13 Axes>"
            ]
          },
          "metadata": {
            "tags": [],
            "needs_background": "light"
          }
        }
      ]
    },
    {
      "cell_type": "code",
      "metadata": {
        "id": "ZwPf-AcVPxWj",
        "colab": {
          "base_uri": "https://localhost:8080/",
          "height": 449
        },
        "outputId": "db3900f6-7cc0-47d8-cfd2-c55ba1ac7da0"
      },
      "source": [
        "clf_name = models[0][0] # the classifier name\n",
        "clf = models[0][1] # the classifier itself\n",
        "\n",
        "features = [12,13,14,15,16,17,18,19,20]\n",
        "plot_partial_dependence(estimator=clf, X=X_train_transform, \n",
        "                        features=features, feature_names=new_cols,\n",
        "                        target=1)\n",
        "\n",
        "fig = plt.gcf() # get current figure (gcf)\n",
        "fig.suptitle(\"Partial dependence of Attack or Normal on all features\\n\"\n",
        "              \"with {}\".format(clf_name))\n",
        "fig.set_size_inches(20, 10)\n",
        "fig.subplots_adjust(hspace=.4, wspace=.5, top=.9)"
      ],
      "execution_count": null,
      "outputs": [
        {
          "output_type": "error",
          "ename": "ValueError",
          "evalue": "ignored",
          "traceback": [
            "\u001b[0;31m---------------------------------------------------------------------------\u001b[0m",
            "\u001b[0;31mIndexError\u001b[0m                                Traceback (most recent call last)",
            "\u001b[0;32m/usr/local/lib/python3.6/dist-packages/sklearn/utils/__init__.py\u001b[0m in \u001b[0;36m_get_column_indices\u001b[0;34m(X, key)\u001b[0m\n\u001b[1;32m    433\u001b[0m         \u001b[0;32mtry\u001b[0m\u001b[0;34m:\u001b[0m\u001b[0;34m\u001b[0m\u001b[0;34m\u001b[0m\u001b[0m\n\u001b[0;32m--> 434\u001b[0;31m             \u001b[0midx\u001b[0m \u001b[0;34m=\u001b[0m \u001b[0m_safe_indexing\u001b[0m\u001b[0;34m(\u001b[0m\u001b[0mnp\u001b[0m\u001b[0;34m.\u001b[0m\u001b[0marange\u001b[0m\u001b[0;34m(\u001b[0m\u001b[0mn_columns\u001b[0m\u001b[0;34m)\u001b[0m\u001b[0;34m,\u001b[0m \u001b[0mkey\u001b[0m\u001b[0;34m)\u001b[0m\u001b[0;34m\u001b[0m\u001b[0;34m\u001b[0m\u001b[0m\n\u001b[0m\u001b[1;32m    435\u001b[0m         \u001b[0;32mexcept\u001b[0m \u001b[0mIndexError\u001b[0m \u001b[0;32mas\u001b[0m \u001b[0me\u001b[0m\u001b[0;34m:\u001b[0m\u001b[0;34m\u001b[0m\u001b[0;34m\u001b[0m\u001b[0m\n",
            "\u001b[0;32m/usr/local/lib/python3.6/dist-packages/sklearn/utils/__init__.py\u001b[0m in \u001b[0;36m_safe_indexing\u001b[0;34m(X, indices, axis)\u001b[0m\n\u001b[1;32m    412\u001b[0m     \u001b[0;32melif\u001b[0m \u001b[0mhasattr\u001b[0m\u001b[0;34m(\u001b[0m\u001b[0mX\u001b[0m\u001b[0;34m,\u001b[0m \u001b[0;34m\"shape\"\u001b[0m\u001b[0;34m)\u001b[0m\u001b[0;34m:\u001b[0m\u001b[0;34m\u001b[0m\u001b[0;34m\u001b[0m\u001b[0m\n\u001b[0;32m--> 413\u001b[0;31m         \u001b[0;32mreturn\u001b[0m \u001b[0m_array_indexing\u001b[0m\u001b[0;34m(\u001b[0m\u001b[0mX\u001b[0m\u001b[0;34m,\u001b[0m \u001b[0mindices\u001b[0m\u001b[0;34m,\u001b[0m \u001b[0mindices_dtype\u001b[0m\u001b[0;34m,\u001b[0m \u001b[0maxis\u001b[0m\u001b[0;34m=\u001b[0m\u001b[0maxis\u001b[0m\u001b[0;34m)\u001b[0m\u001b[0;34m\u001b[0m\u001b[0;34m\u001b[0m\u001b[0m\n\u001b[0m\u001b[1;32m    414\u001b[0m     \u001b[0;32melse\u001b[0m\u001b[0;34m:\u001b[0m\u001b[0;34m\u001b[0m\u001b[0;34m\u001b[0m\u001b[0m\n",
            "\u001b[0;32m/usr/local/lib/python3.6/dist-packages/sklearn/utils/__init__.py\u001b[0m in \u001b[0;36m_array_indexing\u001b[0;34m(array, key, key_dtype, axis)\u001b[0m\n\u001b[1;32m    198\u001b[0m         \u001b[0mkey\u001b[0m \u001b[0;34m=\u001b[0m \u001b[0mlist\u001b[0m\u001b[0;34m(\u001b[0m\u001b[0mkey\u001b[0m\u001b[0;34m)\u001b[0m\u001b[0;34m\u001b[0m\u001b[0;34m\u001b[0m\u001b[0m\n\u001b[0;32m--> 199\u001b[0;31m     \u001b[0;32mreturn\u001b[0m \u001b[0marray\u001b[0m\u001b[0;34m[\u001b[0m\u001b[0mkey\u001b[0m\u001b[0;34m]\u001b[0m \u001b[0;32mif\u001b[0m \u001b[0maxis\u001b[0m \u001b[0;34m==\u001b[0m \u001b[0;36m0\u001b[0m \u001b[0;32melse\u001b[0m \u001b[0marray\u001b[0m\u001b[0;34m[\u001b[0m\u001b[0;34m:\u001b[0m\u001b[0;34m,\u001b[0m \u001b[0mkey\u001b[0m\u001b[0;34m]\u001b[0m\u001b[0;34m\u001b[0m\u001b[0;34m\u001b[0m\u001b[0m\n\u001b[0m\u001b[1;32m    200\u001b[0m \u001b[0;34m\u001b[0m\u001b[0m\n",
            "\u001b[0;31mIndexError\u001b[0m: index 14 is out of bounds for axis 0 with size 14",
            "\nThe above exception was the direct cause of the following exception:\n",
            "\u001b[0;31mValueError\u001b[0m                                Traceback (most recent call last)",
            "\u001b[0;32m<ipython-input-136-227a514d75cb>\u001b[0m in \u001b[0;36m<module>\u001b[0;34m()\u001b[0m\n\u001b[1;32m      5\u001b[0m plot_partial_dependence(estimator=clf, X=X_train_transform, \n\u001b[1;32m      6\u001b[0m                         \u001b[0mfeatures\u001b[0m\u001b[0;34m=\u001b[0m\u001b[0mfeatures\u001b[0m\u001b[0;34m,\u001b[0m \u001b[0mfeature_names\u001b[0m\u001b[0;34m=\u001b[0m\u001b[0mnew_cols\u001b[0m\u001b[0;34m,\u001b[0m\u001b[0;34m\u001b[0m\u001b[0;34m\u001b[0m\u001b[0m\n\u001b[0;32m----> 7\u001b[0;31m                         target=1)\n\u001b[0m\u001b[1;32m      8\u001b[0m \u001b[0;34m\u001b[0m\u001b[0m\n\u001b[1;32m      9\u001b[0m \u001b[0mfig\u001b[0m \u001b[0;34m=\u001b[0m \u001b[0mplt\u001b[0m\u001b[0;34m.\u001b[0m\u001b[0mgcf\u001b[0m\u001b[0;34m(\u001b[0m\u001b[0;34m)\u001b[0m \u001b[0;31m# get current figure (gcf)\u001b[0m\u001b[0;34m\u001b[0m\u001b[0;34m\u001b[0m\u001b[0m\n",
            "\u001b[0;32m/usr/local/lib/python3.6/dist-packages/sklearn/inspection/_partial_dependence.py\u001b[0m in \u001b[0;36mplot_partial_dependence\u001b[0;34m(estimator, X, features, feature_names, target, response_method, n_cols, grid_resolution, percentiles, method, n_jobs, verbose, fig, line_kw, contour_kw, ax)\u001b[0m\n\u001b[1;32m    676\u001b[0m                                     \u001b[0mgrid_resolution\u001b[0m\u001b[0;34m=\u001b[0m\u001b[0mgrid_resolution\u001b[0m\u001b[0;34m,\u001b[0m\u001b[0;34m\u001b[0m\u001b[0;34m\u001b[0m\u001b[0m\n\u001b[1;32m    677\u001b[0m                                     percentiles=percentiles)\n\u001b[0;32m--> 678\u001b[0;31m         for fxs in features)\n\u001b[0m\u001b[1;32m    679\u001b[0m \u001b[0;34m\u001b[0m\u001b[0m\n\u001b[1;32m    680\u001b[0m     \u001b[0;31m# For multioutput regression, we can only check the validity of target\u001b[0m\u001b[0;34m\u001b[0m\u001b[0;34m\u001b[0m\u001b[0;34m\u001b[0m\u001b[0m\n",
            "\u001b[0;32m/usr/local/lib/python3.6/dist-packages/joblib/parallel.py\u001b[0m in \u001b[0;36m__call__\u001b[0;34m(self, iterable)\u001b[0m\n\u001b[1;32m   1042\u001b[0m                 \u001b[0mself\u001b[0m\u001b[0;34m.\u001b[0m\u001b[0m_iterating\u001b[0m \u001b[0;34m=\u001b[0m \u001b[0mself\u001b[0m\u001b[0;34m.\u001b[0m\u001b[0m_original_iterator\u001b[0m \u001b[0;32mis\u001b[0m \u001b[0;32mnot\u001b[0m \u001b[0;32mNone\u001b[0m\u001b[0;34m\u001b[0m\u001b[0;34m\u001b[0m\u001b[0m\n\u001b[1;32m   1043\u001b[0m \u001b[0;34m\u001b[0m\u001b[0m\n\u001b[0;32m-> 1044\u001b[0;31m             \u001b[0;32mwhile\u001b[0m \u001b[0mself\u001b[0m\u001b[0;34m.\u001b[0m\u001b[0mdispatch_one_batch\u001b[0m\u001b[0;34m(\u001b[0m\u001b[0miterator\u001b[0m\u001b[0;34m)\u001b[0m\u001b[0;34m:\u001b[0m\u001b[0;34m\u001b[0m\u001b[0;34m\u001b[0m\u001b[0m\n\u001b[0m\u001b[1;32m   1045\u001b[0m                 \u001b[0;32mpass\u001b[0m\u001b[0;34m\u001b[0m\u001b[0;34m\u001b[0m\u001b[0m\n\u001b[1;32m   1046\u001b[0m \u001b[0;34m\u001b[0m\u001b[0m\n",
            "\u001b[0;32m/usr/local/lib/python3.6/dist-packages/joblib/parallel.py\u001b[0m in \u001b[0;36mdispatch_one_batch\u001b[0;34m(self, iterator)\u001b[0m\n\u001b[1;32m    857\u001b[0m                 \u001b[0;32mreturn\u001b[0m \u001b[0;32mFalse\u001b[0m\u001b[0;34m\u001b[0m\u001b[0;34m\u001b[0m\u001b[0m\n\u001b[1;32m    858\u001b[0m             \u001b[0;32melse\u001b[0m\u001b[0;34m:\u001b[0m\u001b[0;34m\u001b[0m\u001b[0;34m\u001b[0m\u001b[0m\n\u001b[0;32m--> 859\u001b[0;31m                 \u001b[0mself\u001b[0m\u001b[0;34m.\u001b[0m\u001b[0m_dispatch\u001b[0m\u001b[0;34m(\u001b[0m\u001b[0mtasks\u001b[0m\u001b[0;34m)\u001b[0m\u001b[0;34m\u001b[0m\u001b[0;34m\u001b[0m\u001b[0m\n\u001b[0m\u001b[1;32m    860\u001b[0m                 \u001b[0;32mreturn\u001b[0m \u001b[0;32mTrue\u001b[0m\u001b[0;34m\u001b[0m\u001b[0;34m\u001b[0m\u001b[0m\n\u001b[1;32m    861\u001b[0m \u001b[0;34m\u001b[0m\u001b[0m\n",
            "\u001b[0;32m/usr/local/lib/python3.6/dist-packages/joblib/parallel.py\u001b[0m in \u001b[0;36m_dispatch\u001b[0;34m(self, batch)\u001b[0m\n\u001b[1;32m    775\u001b[0m         \u001b[0;32mwith\u001b[0m \u001b[0mself\u001b[0m\u001b[0;34m.\u001b[0m\u001b[0m_lock\u001b[0m\u001b[0;34m:\u001b[0m\u001b[0;34m\u001b[0m\u001b[0;34m\u001b[0m\u001b[0m\n\u001b[1;32m    776\u001b[0m             \u001b[0mjob_idx\u001b[0m \u001b[0;34m=\u001b[0m \u001b[0mlen\u001b[0m\u001b[0;34m(\u001b[0m\u001b[0mself\u001b[0m\u001b[0;34m.\u001b[0m\u001b[0m_jobs\u001b[0m\u001b[0;34m)\u001b[0m\u001b[0;34m\u001b[0m\u001b[0;34m\u001b[0m\u001b[0m\n\u001b[0;32m--> 777\u001b[0;31m             \u001b[0mjob\u001b[0m \u001b[0;34m=\u001b[0m \u001b[0mself\u001b[0m\u001b[0;34m.\u001b[0m\u001b[0m_backend\u001b[0m\u001b[0;34m.\u001b[0m\u001b[0mapply_async\u001b[0m\u001b[0;34m(\u001b[0m\u001b[0mbatch\u001b[0m\u001b[0;34m,\u001b[0m \u001b[0mcallback\u001b[0m\u001b[0;34m=\u001b[0m\u001b[0mcb\u001b[0m\u001b[0;34m)\u001b[0m\u001b[0;34m\u001b[0m\u001b[0;34m\u001b[0m\u001b[0m\n\u001b[0m\u001b[1;32m    778\u001b[0m             \u001b[0;31m# A job can complete so quickly than its callback is\u001b[0m\u001b[0;34m\u001b[0m\u001b[0;34m\u001b[0m\u001b[0;34m\u001b[0m\u001b[0m\n\u001b[1;32m    779\u001b[0m             \u001b[0;31m# called before we get here, causing self._jobs to\u001b[0m\u001b[0;34m\u001b[0m\u001b[0;34m\u001b[0m\u001b[0;34m\u001b[0m\u001b[0m\n",
            "\u001b[0;32m/usr/local/lib/python3.6/dist-packages/joblib/_parallel_backends.py\u001b[0m in \u001b[0;36mapply_async\u001b[0;34m(self, func, callback)\u001b[0m\n\u001b[1;32m    206\u001b[0m     \u001b[0;32mdef\u001b[0m \u001b[0mapply_async\u001b[0m\u001b[0;34m(\u001b[0m\u001b[0mself\u001b[0m\u001b[0;34m,\u001b[0m \u001b[0mfunc\u001b[0m\u001b[0;34m,\u001b[0m \u001b[0mcallback\u001b[0m\u001b[0;34m=\u001b[0m\u001b[0;32mNone\u001b[0m\u001b[0;34m)\u001b[0m\u001b[0;34m:\u001b[0m\u001b[0;34m\u001b[0m\u001b[0;34m\u001b[0m\u001b[0m\n\u001b[1;32m    207\u001b[0m         \u001b[0;34m\"\"\"Schedule a func to be run\"\"\"\u001b[0m\u001b[0;34m\u001b[0m\u001b[0;34m\u001b[0m\u001b[0m\n\u001b[0;32m--> 208\u001b[0;31m         \u001b[0mresult\u001b[0m \u001b[0;34m=\u001b[0m \u001b[0mImmediateResult\u001b[0m\u001b[0;34m(\u001b[0m\u001b[0mfunc\u001b[0m\u001b[0;34m)\u001b[0m\u001b[0;34m\u001b[0m\u001b[0;34m\u001b[0m\u001b[0m\n\u001b[0m\u001b[1;32m    209\u001b[0m         \u001b[0;32mif\u001b[0m \u001b[0mcallback\u001b[0m\u001b[0;34m:\u001b[0m\u001b[0;34m\u001b[0m\u001b[0;34m\u001b[0m\u001b[0m\n\u001b[1;32m    210\u001b[0m             \u001b[0mcallback\u001b[0m\u001b[0;34m(\u001b[0m\u001b[0mresult\u001b[0m\u001b[0;34m)\u001b[0m\u001b[0;34m\u001b[0m\u001b[0;34m\u001b[0m\u001b[0m\n",
            "\u001b[0;32m/usr/local/lib/python3.6/dist-packages/joblib/_parallel_backends.py\u001b[0m in \u001b[0;36m__init__\u001b[0;34m(self, batch)\u001b[0m\n\u001b[1;32m    570\u001b[0m         \u001b[0;31m# Don't delay the application, to avoid keeping the input\u001b[0m\u001b[0;34m\u001b[0m\u001b[0;34m\u001b[0m\u001b[0;34m\u001b[0m\u001b[0m\n\u001b[1;32m    571\u001b[0m         \u001b[0;31m# arguments in memory\u001b[0m\u001b[0;34m\u001b[0m\u001b[0;34m\u001b[0m\u001b[0;34m\u001b[0m\u001b[0m\n\u001b[0;32m--> 572\u001b[0;31m         \u001b[0mself\u001b[0m\u001b[0;34m.\u001b[0m\u001b[0mresults\u001b[0m \u001b[0;34m=\u001b[0m \u001b[0mbatch\u001b[0m\u001b[0;34m(\u001b[0m\u001b[0;34m)\u001b[0m\u001b[0;34m\u001b[0m\u001b[0;34m\u001b[0m\u001b[0m\n\u001b[0m\u001b[1;32m    573\u001b[0m \u001b[0;34m\u001b[0m\u001b[0m\n\u001b[1;32m    574\u001b[0m     \u001b[0;32mdef\u001b[0m \u001b[0mget\u001b[0m\u001b[0;34m(\u001b[0m\u001b[0mself\u001b[0m\u001b[0;34m)\u001b[0m\u001b[0;34m:\u001b[0m\u001b[0;34m\u001b[0m\u001b[0;34m\u001b[0m\u001b[0m\n",
            "\u001b[0;32m/usr/local/lib/python3.6/dist-packages/joblib/parallel.py\u001b[0m in \u001b[0;36m__call__\u001b[0;34m(self)\u001b[0m\n\u001b[1;32m    261\u001b[0m         \u001b[0;32mwith\u001b[0m \u001b[0mparallel_backend\u001b[0m\u001b[0;34m(\u001b[0m\u001b[0mself\u001b[0m\u001b[0;34m.\u001b[0m\u001b[0m_backend\u001b[0m\u001b[0;34m,\u001b[0m \u001b[0mn_jobs\u001b[0m\u001b[0;34m=\u001b[0m\u001b[0mself\u001b[0m\u001b[0;34m.\u001b[0m\u001b[0m_n_jobs\u001b[0m\u001b[0;34m)\u001b[0m\u001b[0;34m:\u001b[0m\u001b[0;34m\u001b[0m\u001b[0;34m\u001b[0m\u001b[0m\n\u001b[1;32m    262\u001b[0m             return [func(*args, **kwargs)\n\u001b[0;32m--> 263\u001b[0;31m                     for func, args, kwargs in self.items]\n\u001b[0m\u001b[1;32m    264\u001b[0m \u001b[0;34m\u001b[0m\u001b[0m\n\u001b[1;32m    265\u001b[0m     \u001b[0;32mdef\u001b[0m \u001b[0m__reduce__\u001b[0m\u001b[0;34m(\u001b[0m\u001b[0mself\u001b[0m\u001b[0;34m)\u001b[0m\u001b[0;34m:\u001b[0m\u001b[0;34m\u001b[0m\u001b[0;34m\u001b[0m\u001b[0m\n",
            "\u001b[0;32m/usr/local/lib/python3.6/dist-packages/joblib/parallel.py\u001b[0m in \u001b[0;36m<listcomp>\u001b[0;34m(.0)\u001b[0m\n\u001b[1;32m    261\u001b[0m         \u001b[0;32mwith\u001b[0m \u001b[0mparallel_backend\u001b[0m\u001b[0;34m(\u001b[0m\u001b[0mself\u001b[0m\u001b[0;34m.\u001b[0m\u001b[0m_backend\u001b[0m\u001b[0;34m,\u001b[0m \u001b[0mn_jobs\u001b[0m\u001b[0;34m=\u001b[0m\u001b[0mself\u001b[0m\u001b[0;34m.\u001b[0m\u001b[0m_n_jobs\u001b[0m\u001b[0;34m)\u001b[0m\u001b[0;34m:\u001b[0m\u001b[0;34m\u001b[0m\u001b[0;34m\u001b[0m\u001b[0m\n\u001b[1;32m    262\u001b[0m             return [func(*args, **kwargs)\n\u001b[0;32m--> 263\u001b[0;31m                     for func, args, kwargs in self.items]\n\u001b[0m\u001b[1;32m    264\u001b[0m \u001b[0;34m\u001b[0m\u001b[0m\n\u001b[1;32m    265\u001b[0m     \u001b[0;32mdef\u001b[0m \u001b[0m__reduce__\u001b[0m\u001b[0;34m(\u001b[0m\u001b[0mself\u001b[0m\u001b[0;34m)\u001b[0m\u001b[0;34m:\u001b[0m\u001b[0;34m\u001b[0m\u001b[0;34m\u001b[0m\u001b[0m\n",
            "\u001b[0;32m/usr/local/lib/python3.6/dist-packages/sklearn/inspection/_partial_dependence.py\u001b[0m in \u001b[0;36mpartial_dependence\u001b[0;34m(estimator, X, features, response_method, percentiles, grid_resolution, method)\u001b[0m\n\u001b[1;32m    389\u001b[0m \u001b[0;34m\u001b[0m\u001b[0m\n\u001b[1;32m    390\u001b[0m     features_indices = np.asarray(\n\u001b[0;32m--> 391\u001b[0;31m         \u001b[0m_get_column_indices\u001b[0m\u001b[0;34m(\u001b[0m\u001b[0mX\u001b[0m\u001b[0;34m,\u001b[0m \u001b[0mfeatures\u001b[0m\u001b[0;34m)\u001b[0m\u001b[0;34m,\u001b[0m \u001b[0mdtype\u001b[0m\u001b[0;34m=\u001b[0m\u001b[0mnp\u001b[0m\u001b[0;34m.\u001b[0m\u001b[0mint32\u001b[0m\u001b[0;34m,\u001b[0m \u001b[0morder\u001b[0m\u001b[0;34m=\u001b[0m\u001b[0;34m'C'\u001b[0m\u001b[0;34m\u001b[0m\u001b[0;34m\u001b[0m\u001b[0m\n\u001b[0m\u001b[1;32m    392\u001b[0m     ).ravel()\n\u001b[1;32m    393\u001b[0m \u001b[0;34m\u001b[0m\u001b[0m\n",
            "\u001b[0;32m/usr/local/lib/python3.6/dist-packages/sklearn/utils/__init__.py\u001b[0m in \u001b[0;36m_get_column_indices\u001b[0;34m(X, key)\u001b[0m\n\u001b[1;32m    437\u001b[0m                 \u001b[0;34m'all features must be in [0, {}] or [-{}, 0]'\u001b[0m\u001b[0;34m\u001b[0m\u001b[0;34m\u001b[0m\u001b[0m\n\u001b[1;32m    438\u001b[0m                 \u001b[0;34m.\u001b[0m\u001b[0mformat\u001b[0m\u001b[0;34m(\u001b[0m\u001b[0mn_columns\u001b[0m \u001b[0;34m-\u001b[0m \u001b[0;36m1\u001b[0m\u001b[0;34m,\u001b[0m \u001b[0mn_columns\u001b[0m\u001b[0;34m)\u001b[0m\u001b[0;34m\u001b[0m\u001b[0;34m\u001b[0m\u001b[0m\n\u001b[0;32m--> 439\u001b[0;31m             ) from e\n\u001b[0m\u001b[1;32m    440\u001b[0m         \u001b[0;32mreturn\u001b[0m \u001b[0mnp\u001b[0m\u001b[0;34m.\u001b[0m\u001b[0matleast_1d\u001b[0m\u001b[0;34m(\u001b[0m\u001b[0midx\u001b[0m\u001b[0;34m)\u001b[0m\u001b[0;34m.\u001b[0m\u001b[0mtolist\u001b[0m\u001b[0;34m(\u001b[0m\u001b[0;34m)\u001b[0m\u001b[0;34m\u001b[0m\u001b[0;34m\u001b[0m\u001b[0m\n\u001b[1;32m    441\u001b[0m     \u001b[0;32melif\u001b[0m \u001b[0mkey_dtype\u001b[0m \u001b[0;34m==\u001b[0m \u001b[0;34m'str'\u001b[0m\u001b[0;34m:\u001b[0m\u001b[0;34m\u001b[0m\u001b[0;34m\u001b[0m\u001b[0m\n",
            "\u001b[0;31mValueError\u001b[0m: all features must be in [0, 13] or [-14, 0]"
          ]
        }
      ]
    },
    {
      "cell_type": "code",
      "metadata": {
        "id": "yYUcdpyTPxWk",
        "colab": {
          "base_uri": "https://localhost:8080/",
          "height": 449
        },
        "outputId": "1ad63676-f6e7-4b33-fad4-a57c6a068540"
      },
      "source": [
        "clf_name = models[0][0] # the classifier name\n",
        "clf = models[0][1] # the classifier itself\n",
        "\n",
        "features = [21,22,23,24,25,26,27,28,29]\n",
        "plot_partial_dependence(estimator=clf, X=X_train_transform, \n",
        "                        features=features, feature_names=new_cols,\n",
        "                        target=1)\n",
        "\n",
        "fig = plt.gcf() # get current figure (gcf)\n",
        "fig.suptitle(\"Partial dependence of Attack or Normal on all features\\n\"\n",
        "              \"with {}\".format(clf_name))\n",
        "fig.set_size_inches(20, 10)\n",
        "fig.subplots_adjust(hspace=.4, wspace=.25, top=.9)"
      ],
      "execution_count": null,
      "outputs": [
        {
          "output_type": "error",
          "ename": "ValueError",
          "evalue": "ignored",
          "traceback": [
            "\u001b[0;31m---------------------------------------------------------------------------\u001b[0m",
            "\u001b[0;31mIndexError\u001b[0m                                Traceback (most recent call last)",
            "\u001b[0;32m/usr/local/lib/python3.6/dist-packages/sklearn/utils/__init__.py\u001b[0m in \u001b[0;36m_get_column_indices\u001b[0;34m(X, key)\u001b[0m\n\u001b[1;32m    433\u001b[0m         \u001b[0;32mtry\u001b[0m\u001b[0;34m:\u001b[0m\u001b[0;34m\u001b[0m\u001b[0;34m\u001b[0m\u001b[0m\n\u001b[0;32m--> 434\u001b[0;31m             \u001b[0midx\u001b[0m \u001b[0;34m=\u001b[0m \u001b[0m_safe_indexing\u001b[0m\u001b[0;34m(\u001b[0m\u001b[0mnp\u001b[0m\u001b[0;34m.\u001b[0m\u001b[0marange\u001b[0m\u001b[0;34m(\u001b[0m\u001b[0mn_columns\u001b[0m\u001b[0;34m)\u001b[0m\u001b[0;34m,\u001b[0m \u001b[0mkey\u001b[0m\u001b[0;34m)\u001b[0m\u001b[0;34m\u001b[0m\u001b[0;34m\u001b[0m\u001b[0m\n\u001b[0m\u001b[1;32m    435\u001b[0m         \u001b[0;32mexcept\u001b[0m \u001b[0mIndexError\u001b[0m \u001b[0;32mas\u001b[0m \u001b[0me\u001b[0m\u001b[0;34m:\u001b[0m\u001b[0;34m\u001b[0m\u001b[0;34m\u001b[0m\u001b[0m\n",
            "\u001b[0;32m/usr/local/lib/python3.6/dist-packages/sklearn/utils/__init__.py\u001b[0m in \u001b[0;36m_safe_indexing\u001b[0;34m(X, indices, axis)\u001b[0m\n\u001b[1;32m    412\u001b[0m     \u001b[0;32melif\u001b[0m \u001b[0mhasattr\u001b[0m\u001b[0;34m(\u001b[0m\u001b[0mX\u001b[0m\u001b[0;34m,\u001b[0m \u001b[0;34m\"shape\"\u001b[0m\u001b[0;34m)\u001b[0m\u001b[0;34m:\u001b[0m\u001b[0;34m\u001b[0m\u001b[0;34m\u001b[0m\u001b[0m\n\u001b[0;32m--> 413\u001b[0;31m         \u001b[0;32mreturn\u001b[0m \u001b[0m_array_indexing\u001b[0m\u001b[0;34m(\u001b[0m\u001b[0mX\u001b[0m\u001b[0;34m,\u001b[0m \u001b[0mindices\u001b[0m\u001b[0;34m,\u001b[0m \u001b[0mindices_dtype\u001b[0m\u001b[0;34m,\u001b[0m \u001b[0maxis\u001b[0m\u001b[0;34m=\u001b[0m\u001b[0maxis\u001b[0m\u001b[0;34m)\u001b[0m\u001b[0;34m\u001b[0m\u001b[0;34m\u001b[0m\u001b[0m\n\u001b[0m\u001b[1;32m    414\u001b[0m     \u001b[0;32melse\u001b[0m\u001b[0;34m:\u001b[0m\u001b[0;34m\u001b[0m\u001b[0;34m\u001b[0m\u001b[0m\n",
            "\u001b[0;32m/usr/local/lib/python3.6/dist-packages/sklearn/utils/__init__.py\u001b[0m in \u001b[0;36m_array_indexing\u001b[0;34m(array, key, key_dtype, axis)\u001b[0m\n\u001b[1;32m    198\u001b[0m         \u001b[0mkey\u001b[0m \u001b[0;34m=\u001b[0m \u001b[0mlist\u001b[0m\u001b[0;34m(\u001b[0m\u001b[0mkey\u001b[0m\u001b[0;34m)\u001b[0m\u001b[0;34m\u001b[0m\u001b[0;34m\u001b[0m\u001b[0m\n\u001b[0;32m--> 199\u001b[0;31m     \u001b[0;32mreturn\u001b[0m \u001b[0marray\u001b[0m\u001b[0;34m[\u001b[0m\u001b[0mkey\u001b[0m\u001b[0;34m]\u001b[0m \u001b[0;32mif\u001b[0m \u001b[0maxis\u001b[0m \u001b[0;34m==\u001b[0m \u001b[0;36m0\u001b[0m \u001b[0;32melse\u001b[0m \u001b[0marray\u001b[0m\u001b[0;34m[\u001b[0m\u001b[0;34m:\u001b[0m\u001b[0;34m,\u001b[0m \u001b[0mkey\u001b[0m\u001b[0;34m]\u001b[0m\u001b[0;34m\u001b[0m\u001b[0;34m\u001b[0m\u001b[0m\n\u001b[0m\u001b[1;32m    200\u001b[0m \u001b[0;34m\u001b[0m\u001b[0m\n",
            "\u001b[0;31mIndexError\u001b[0m: index 21 is out of bounds for axis 0 with size 14",
            "\nThe above exception was the direct cause of the following exception:\n",
            "\u001b[0;31mValueError\u001b[0m                                Traceback (most recent call last)",
            "\u001b[0;32m<ipython-input-137-ab3ba29c9551>\u001b[0m in \u001b[0;36m<module>\u001b[0;34m()\u001b[0m\n\u001b[1;32m      5\u001b[0m plot_partial_dependence(estimator=clf, X=X_train_transform, \n\u001b[1;32m      6\u001b[0m                         \u001b[0mfeatures\u001b[0m\u001b[0;34m=\u001b[0m\u001b[0mfeatures\u001b[0m\u001b[0;34m,\u001b[0m \u001b[0mfeature_names\u001b[0m\u001b[0;34m=\u001b[0m\u001b[0mnew_cols\u001b[0m\u001b[0;34m,\u001b[0m\u001b[0;34m\u001b[0m\u001b[0;34m\u001b[0m\u001b[0m\n\u001b[0;32m----> 7\u001b[0;31m                         target=1)\n\u001b[0m\u001b[1;32m      8\u001b[0m \u001b[0;34m\u001b[0m\u001b[0m\n\u001b[1;32m      9\u001b[0m \u001b[0mfig\u001b[0m \u001b[0;34m=\u001b[0m \u001b[0mplt\u001b[0m\u001b[0;34m.\u001b[0m\u001b[0mgcf\u001b[0m\u001b[0;34m(\u001b[0m\u001b[0;34m)\u001b[0m \u001b[0;31m# get current figure (gcf)\u001b[0m\u001b[0;34m\u001b[0m\u001b[0;34m\u001b[0m\u001b[0m\n",
            "\u001b[0;32m/usr/local/lib/python3.6/dist-packages/sklearn/inspection/_partial_dependence.py\u001b[0m in \u001b[0;36mplot_partial_dependence\u001b[0;34m(estimator, X, features, feature_names, target, response_method, n_cols, grid_resolution, percentiles, method, n_jobs, verbose, fig, line_kw, contour_kw, ax)\u001b[0m\n\u001b[1;32m    676\u001b[0m                                     \u001b[0mgrid_resolution\u001b[0m\u001b[0;34m=\u001b[0m\u001b[0mgrid_resolution\u001b[0m\u001b[0;34m,\u001b[0m\u001b[0;34m\u001b[0m\u001b[0;34m\u001b[0m\u001b[0m\n\u001b[1;32m    677\u001b[0m                                     percentiles=percentiles)\n\u001b[0;32m--> 678\u001b[0;31m         for fxs in features)\n\u001b[0m\u001b[1;32m    679\u001b[0m \u001b[0;34m\u001b[0m\u001b[0m\n\u001b[1;32m    680\u001b[0m     \u001b[0;31m# For multioutput regression, we can only check the validity of target\u001b[0m\u001b[0;34m\u001b[0m\u001b[0;34m\u001b[0m\u001b[0;34m\u001b[0m\u001b[0m\n",
            "\u001b[0;32m/usr/local/lib/python3.6/dist-packages/joblib/parallel.py\u001b[0m in \u001b[0;36m__call__\u001b[0;34m(self, iterable)\u001b[0m\n\u001b[1;32m   1039\u001b[0m             \u001b[0;31m# remaining jobs.\u001b[0m\u001b[0;34m\u001b[0m\u001b[0;34m\u001b[0m\u001b[0;34m\u001b[0m\u001b[0m\n\u001b[1;32m   1040\u001b[0m             \u001b[0mself\u001b[0m\u001b[0;34m.\u001b[0m\u001b[0m_iterating\u001b[0m \u001b[0;34m=\u001b[0m \u001b[0;32mFalse\u001b[0m\u001b[0;34m\u001b[0m\u001b[0;34m\u001b[0m\u001b[0m\n\u001b[0;32m-> 1041\u001b[0;31m             \u001b[0;32mif\u001b[0m \u001b[0mself\u001b[0m\u001b[0;34m.\u001b[0m\u001b[0mdispatch_one_batch\u001b[0m\u001b[0;34m(\u001b[0m\u001b[0miterator\u001b[0m\u001b[0;34m)\u001b[0m\u001b[0;34m:\u001b[0m\u001b[0;34m\u001b[0m\u001b[0;34m\u001b[0m\u001b[0m\n\u001b[0m\u001b[1;32m   1042\u001b[0m                 \u001b[0mself\u001b[0m\u001b[0;34m.\u001b[0m\u001b[0m_iterating\u001b[0m \u001b[0;34m=\u001b[0m \u001b[0mself\u001b[0m\u001b[0;34m.\u001b[0m\u001b[0m_original_iterator\u001b[0m \u001b[0;32mis\u001b[0m \u001b[0;32mnot\u001b[0m \u001b[0;32mNone\u001b[0m\u001b[0;34m\u001b[0m\u001b[0;34m\u001b[0m\u001b[0m\n\u001b[1;32m   1043\u001b[0m \u001b[0;34m\u001b[0m\u001b[0m\n",
            "\u001b[0;32m/usr/local/lib/python3.6/dist-packages/joblib/parallel.py\u001b[0m in \u001b[0;36mdispatch_one_batch\u001b[0;34m(self, iterator)\u001b[0m\n\u001b[1;32m    857\u001b[0m                 \u001b[0;32mreturn\u001b[0m \u001b[0;32mFalse\u001b[0m\u001b[0;34m\u001b[0m\u001b[0;34m\u001b[0m\u001b[0m\n\u001b[1;32m    858\u001b[0m             \u001b[0;32melse\u001b[0m\u001b[0;34m:\u001b[0m\u001b[0;34m\u001b[0m\u001b[0;34m\u001b[0m\u001b[0m\n\u001b[0;32m--> 859\u001b[0;31m                 \u001b[0mself\u001b[0m\u001b[0;34m.\u001b[0m\u001b[0m_dispatch\u001b[0m\u001b[0;34m(\u001b[0m\u001b[0mtasks\u001b[0m\u001b[0;34m)\u001b[0m\u001b[0;34m\u001b[0m\u001b[0;34m\u001b[0m\u001b[0m\n\u001b[0m\u001b[1;32m    860\u001b[0m                 \u001b[0;32mreturn\u001b[0m \u001b[0;32mTrue\u001b[0m\u001b[0;34m\u001b[0m\u001b[0;34m\u001b[0m\u001b[0m\n\u001b[1;32m    861\u001b[0m \u001b[0;34m\u001b[0m\u001b[0m\n",
            "\u001b[0;32m/usr/local/lib/python3.6/dist-packages/joblib/parallel.py\u001b[0m in \u001b[0;36m_dispatch\u001b[0;34m(self, batch)\u001b[0m\n\u001b[1;32m    775\u001b[0m         \u001b[0;32mwith\u001b[0m \u001b[0mself\u001b[0m\u001b[0;34m.\u001b[0m\u001b[0m_lock\u001b[0m\u001b[0;34m:\u001b[0m\u001b[0;34m\u001b[0m\u001b[0;34m\u001b[0m\u001b[0m\n\u001b[1;32m    776\u001b[0m             \u001b[0mjob_idx\u001b[0m \u001b[0;34m=\u001b[0m \u001b[0mlen\u001b[0m\u001b[0;34m(\u001b[0m\u001b[0mself\u001b[0m\u001b[0;34m.\u001b[0m\u001b[0m_jobs\u001b[0m\u001b[0;34m)\u001b[0m\u001b[0;34m\u001b[0m\u001b[0;34m\u001b[0m\u001b[0m\n\u001b[0;32m--> 777\u001b[0;31m             \u001b[0mjob\u001b[0m \u001b[0;34m=\u001b[0m \u001b[0mself\u001b[0m\u001b[0;34m.\u001b[0m\u001b[0m_backend\u001b[0m\u001b[0;34m.\u001b[0m\u001b[0mapply_async\u001b[0m\u001b[0;34m(\u001b[0m\u001b[0mbatch\u001b[0m\u001b[0;34m,\u001b[0m \u001b[0mcallback\u001b[0m\u001b[0;34m=\u001b[0m\u001b[0mcb\u001b[0m\u001b[0;34m)\u001b[0m\u001b[0;34m\u001b[0m\u001b[0;34m\u001b[0m\u001b[0m\n\u001b[0m\u001b[1;32m    778\u001b[0m             \u001b[0;31m# A job can complete so quickly than its callback is\u001b[0m\u001b[0;34m\u001b[0m\u001b[0;34m\u001b[0m\u001b[0;34m\u001b[0m\u001b[0m\n\u001b[1;32m    779\u001b[0m             \u001b[0;31m# called before we get here, causing self._jobs to\u001b[0m\u001b[0;34m\u001b[0m\u001b[0;34m\u001b[0m\u001b[0;34m\u001b[0m\u001b[0m\n",
            "\u001b[0;32m/usr/local/lib/python3.6/dist-packages/joblib/_parallel_backends.py\u001b[0m in \u001b[0;36mapply_async\u001b[0;34m(self, func, callback)\u001b[0m\n\u001b[1;32m    206\u001b[0m     \u001b[0;32mdef\u001b[0m \u001b[0mapply_async\u001b[0m\u001b[0;34m(\u001b[0m\u001b[0mself\u001b[0m\u001b[0;34m,\u001b[0m \u001b[0mfunc\u001b[0m\u001b[0;34m,\u001b[0m \u001b[0mcallback\u001b[0m\u001b[0;34m=\u001b[0m\u001b[0;32mNone\u001b[0m\u001b[0;34m)\u001b[0m\u001b[0;34m:\u001b[0m\u001b[0;34m\u001b[0m\u001b[0;34m\u001b[0m\u001b[0m\n\u001b[1;32m    207\u001b[0m         \u001b[0;34m\"\"\"Schedule a func to be run\"\"\"\u001b[0m\u001b[0;34m\u001b[0m\u001b[0;34m\u001b[0m\u001b[0m\n\u001b[0;32m--> 208\u001b[0;31m         \u001b[0mresult\u001b[0m \u001b[0;34m=\u001b[0m \u001b[0mImmediateResult\u001b[0m\u001b[0;34m(\u001b[0m\u001b[0mfunc\u001b[0m\u001b[0;34m)\u001b[0m\u001b[0;34m\u001b[0m\u001b[0;34m\u001b[0m\u001b[0m\n\u001b[0m\u001b[1;32m    209\u001b[0m         \u001b[0;32mif\u001b[0m \u001b[0mcallback\u001b[0m\u001b[0;34m:\u001b[0m\u001b[0;34m\u001b[0m\u001b[0;34m\u001b[0m\u001b[0m\n\u001b[1;32m    210\u001b[0m             \u001b[0mcallback\u001b[0m\u001b[0;34m(\u001b[0m\u001b[0mresult\u001b[0m\u001b[0;34m)\u001b[0m\u001b[0;34m\u001b[0m\u001b[0;34m\u001b[0m\u001b[0m\n",
            "\u001b[0;32m/usr/local/lib/python3.6/dist-packages/joblib/_parallel_backends.py\u001b[0m in \u001b[0;36m__init__\u001b[0;34m(self, batch)\u001b[0m\n\u001b[1;32m    570\u001b[0m         \u001b[0;31m# Don't delay the application, to avoid keeping the input\u001b[0m\u001b[0;34m\u001b[0m\u001b[0;34m\u001b[0m\u001b[0;34m\u001b[0m\u001b[0m\n\u001b[1;32m    571\u001b[0m         \u001b[0;31m# arguments in memory\u001b[0m\u001b[0;34m\u001b[0m\u001b[0;34m\u001b[0m\u001b[0;34m\u001b[0m\u001b[0m\n\u001b[0;32m--> 572\u001b[0;31m         \u001b[0mself\u001b[0m\u001b[0;34m.\u001b[0m\u001b[0mresults\u001b[0m \u001b[0;34m=\u001b[0m \u001b[0mbatch\u001b[0m\u001b[0;34m(\u001b[0m\u001b[0;34m)\u001b[0m\u001b[0;34m\u001b[0m\u001b[0;34m\u001b[0m\u001b[0m\n\u001b[0m\u001b[1;32m    573\u001b[0m \u001b[0;34m\u001b[0m\u001b[0m\n\u001b[1;32m    574\u001b[0m     \u001b[0;32mdef\u001b[0m \u001b[0mget\u001b[0m\u001b[0;34m(\u001b[0m\u001b[0mself\u001b[0m\u001b[0;34m)\u001b[0m\u001b[0;34m:\u001b[0m\u001b[0;34m\u001b[0m\u001b[0;34m\u001b[0m\u001b[0m\n",
            "\u001b[0;32m/usr/local/lib/python3.6/dist-packages/joblib/parallel.py\u001b[0m in \u001b[0;36m__call__\u001b[0;34m(self)\u001b[0m\n\u001b[1;32m    261\u001b[0m         \u001b[0;32mwith\u001b[0m \u001b[0mparallel_backend\u001b[0m\u001b[0;34m(\u001b[0m\u001b[0mself\u001b[0m\u001b[0;34m.\u001b[0m\u001b[0m_backend\u001b[0m\u001b[0;34m,\u001b[0m \u001b[0mn_jobs\u001b[0m\u001b[0;34m=\u001b[0m\u001b[0mself\u001b[0m\u001b[0;34m.\u001b[0m\u001b[0m_n_jobs\u001b[0m\u001b[0;34m)\u001b[0m\u001b[0;34m:\u001b[0m\u001b[0;34m\u001b[0m\u001b[0;34m\u001b[0m\u001b[0m\n\u001b[1;32m    262\u001b[0m             return [func(*args, **kwargs)\n\u001b[0;32m--> 263\u001b[0;31m                     for func, args, kwargs in self.items]\n\u001b[0m\u001b[1;32m    264\u001b[0m \u001b[0;34m\u001b[0m\u001b[0m\n\u001b[1;32m    265\u001b[0m     \u001b[0;32mdef\u001b[0m \u001b[0m__reduce__\u001b[0m\u001b[0;34m(\u001b[0m\u001b[0mself\u001b[0m\u001b[0;34m)\u001b[0m\u001b[0;34m:\u001b[0m\u001b[0;34m\u001b[0m\u001b[0;34m\u001b[0m\u001b[0m\n",
            "\u001b[0;32m/usr/local/lib/python3.6/dist-packages/joblib/parallel.py\u001b[0m in \u001b[0;36m<listcomp>\u001b[0;34m(.0)\u001b[0m\n\u001b[1;32m    261\u001b[0m         \u001b[0;32mwith\u001b[0m \u001b[0mparallel_backend\u001b[0m\u001b[0;34m(\u001b[0m\u001b[0mself\u001b[0m\u001b[0;34m.\u001b[0m\u001b[0m_backend\u001b[0m\u001b[0;34m,\u001b[0m \u001b[0mn_jobs\u001b[0m\u001b[0;34m=\u001b[0m\u001b[0mself\u001b[0m\u001b[0;34m.\u001b[0m\u001b[0m_n_jobs\u001b[0m\u001b[0;34m)\u001b[0m\u001b[0;34m:\u001b[0m\u001b[0;34m\u001b[0m\u001b[0;34m\u001b[0m\u001b[0m\n\u001b[1;32m    262\u001b[0m             return [func(*args, **kwargs)\n\u001b[0;32m--> 263\u001b[0;31m                     for func, args, kwargs in self.items]\n\u001b[0m\u001b[1;32m    264\u001b[0m \u001b[0;34m\u001b[0m\u001b[0m\n\u001b[1;32m    265\u001b[0m     \u001b[0;32mdef\u001b[0m \u001b[0m__reduce__\u001b[0m\u001b[0;34m(\u001b[0m\u001b[0mself\u001b[0m\u001b[0;34m)\u001b[0m\u001b[0;34m:\u001b[0m\u001b[0;34m\u001b[0m\u001b[0;34m\u001b[0m\u001b[0m\n",
            "\u001b[0;32m/usr/local/lib/python3.6/dist-packages/sklearn/inspection/_partial_dependence.py\u001b[0m in \u001b[0;36mpartial_dependence\u001b[0;34m(estimator, X, features, response_method, percentiles, grid_resolution, method)\u001b[0m\n\u001b[1;32m    389\u001b[0m \u001b[0;34m\u001b[0m\u001b[0m\n\u001b[1;32m    390\u001b[0m     features_indices = np.asarray(\n\u001b[0;32m--> 391\u001b[0;31m         \u001b[0m_get_column_indices\u001b[0m\u001b[0;34m(\u001b[0m\u001b[0mX\u001b[0m\u001b[0;34m,\u001b[0m \u001b[0mfeatures\u001b[0m\u001b[0;34m)\u001b[0m\u001b[0;34m,\u001b[0m \u001b[0mdtype\u001b[0m\u001b[0;34m=\u001b[0m\u001b[0mnp\u001b[0m\u001b[0;34m.\u001b[0m\u001b[0mint32\u001b[0m\u001b[0;34m,\u001b[0m \u001b[0morder\u001b[0m\u001b[0;34m=\u001b[0m\u001b[0;34m'C'\u001b[0m\u001b[0;34m\u001b[0m\u001b[0;34m\u001b[0m\u001b[0m\n\u001b[0m\u001b[1;32m    392\u001b[0m     ).ravel()\n\u001b[1;32m    393\u001b[0m \u001b[0;34m\u001b[0m\u001b[0m\n",
            "\u001b[0;32m/usr/local/lib/python3.6/dist-packages/sklearn/utils/__init__.py\u001b[0m in \u001b[0;36m_get_column_indices\u001b[0;34m(X, key)\u001b[0m\n\u001b[1;32m    437\u001b[0m                 \u001b[0;34m'all features must be in [0, {}] or [-{}, 0]'\u001b[0m\u001b[0;34m\u001b[0m\u001b[0;34m\u001b[0m\u001b[0m\n\u001b[1;32m    438\u001b[0m                 \u001b[0;34m.\u001b[0m\u001b[0mformat\u001b[0m\u001b[0;34m(\u001b[0m\u001b[0mn_columns\u001b[0m \u001b[0;34m-\u001b[0m \u001b[0;36m1\u001b[0m\u001b[0;34m,\u001b[0m \u001b[0mn_columns\u001b[0m\u001b[0;34m)\u001b[0m\u001b[0;34m\u001b[0m\u001b[0;34m\u001b[0m\u001b[0m\n\u001b[0;32m--> 439\u001b[0;31m             ) from e\n\u001b[0m\u001b[1;32m    440\u001b[0m         \u001b[0;32mreturn\u001b[0m \u001b[0mnp\u001b[0m\u001b[0;34m.\u001b[0m\u001b[0matleast_1d\u001b[0m\u001b[0;34m(\u001b[0m\u001b[0midx\u001b[0m\u001b[0;34m)\u001b[0m\u001b[0;34m.\u001b[0m\u001b[0mtolist\u001b[0m\u001b[0;34m(\u001b[0m\u001b[0;34m)\u001b[0m\u001b[0;34m\u001b[0m\u001b[0;34m\u001b[0m\u001b[0m\n\u001b[1;32m    441\u001b[0m     \u001b[0;32melif\u001b[0m \u001b[0mkey_dtype\u001b[0m \u001b[0;34m==\u001b[0m \u001b[0;34m'str'\u001b[0m\u001b[0;34m:\u001b[0m\u001b[0;34m\u001b[0m\u001b[0;34m\u001b[0m\u001b[0m\n",
            "\u001b[0;31mValueError\u001b[0m: all features must be in [0, 13] or [-14, 0]"
          ]
        }
      ]
    },
    {
      "cell_type": "code",
      "metadata": {
        "id": "nTpWH4kHPxWk",
        "colab": {
          "base_uri": "https://localhost:8080/",
          "height": 449
        },
        "outputId": "289b371b-d937-4a13-ddd8-d8ebf53994bd"
      },
      "source": [
        "clf_name = models[0][0] # the classifier name\n",
        "clf = models[0][1] # the classifier itself\n",
        "\n",
        "features = [30,31,32,33,34,35,36,37,38]\n",
        "plot_partial_dependence(estimator=clf, X=X_train_transform, \n",
        "                        features=features, feature_names=new_cols,\n",
        "                        target=1)\n",
        "\n",
        "fig = plt.gcf() # get current figure (gcf)\n",
        "fig.suptitle(\"Partial dependence of Attack or Normal on all features\\n\"\n",
        "              \"with {}\".format(clf_name))\n",
        "fig.set_size_inches(20, 10)\n",
        "fig.subplots_adjust(hspace=.4, wspace=.35, top=0.9)"
      ],
      "execution_count": null,
      "outputs": [
        {
          "output_type": "error",
          "ename": "ValueError",
          "evalue": "ignored",
          "traceback": [
            "\u001b[0;31m---------------------------------------------------------------------------\u001b[0m",
            "\u001b[0;31mIndexError\u001b[0m                                Traceback (most recent call last)",
            "\u001b[0;32m/usr/local/lib/python3.6/dist-packages/sklearn/utils/__init__.py\u001b[0m in \u001b[0;36m_get_column_indices\u001b[0;34m(X, key)\u001b[0m\n\u001b[1;32m    433\u001b[0m         \u001b[0;32mtry\u001b[0m\u001b[0;34m:\u001b[0m\u001b[0;34m\u001b[0m\u001b[0;34m\u001b[0m\u001b[0m\n\u001b[0;32m--> 434\u001b[0;31m             \u001b[0midx\u001b[0m \u001b[0;34m=\u001b[0m \u001b[0m_safe_indexing\u001b[0m\u001b[0;34m(\u001b[0m\u001b[0mnp\u001b[0m\u001b[0;34m.\u001b[0m\u001b[0marange\u001b[0m\u001b[0;34m(\u001b[0m\u001b[0mn_columns\u001b[0m\u001b[0;34m)\u001b[0m\u001b[0;34m,\u001b[0m \u001b[0mkey\u001b[0m\u001b[0;34m)\u001b[0m\u001b[0;34m\u001b[0m\u001b[0;34m\u001b[0m\u001b[0m\n\u001b[0m\u001b[1;32m    435\u001b[0m         \u001b[0;32mexcept\u001b[0m \u001b[0mIndexError\u001b[0m \u001b[0;32mas\u001b[0m \u001b[0me\u001b[0m\u001b[0;34m:\u001b[0m\u001b[0;34m\u001b[0m\u001b[0;34m\u001b[0m\u001b[0m\n",
            "\u001b[0;32m/usr/local/lib/python3.6/dist-packages/sklearn/utils/__init__.py\u001b[0m in \u001b[0;36m_safe_indexing\u001b[0;34m(X, indices, axis)\u001b[0m\n\u001b[1;32m    412\u001b[0m     \u001b[0;32melif\u001b[0m \u001b[0mhasattr\u001b[0m\u001b[0;34m(\u001b[0m\u001b[0mX\u001b[0m\u001b[0;34m,\u001b[0m \u001b[0;34m\"shape\"\u001b[0m\u001b[0;34m)\u001b[0m\u001b[0;34m:\u001b[0m\u001b[0;34m\u001b[0m\u001b[0;34m\u001b[0m\u001b[0m\n\u001b[0;32m--> 413\u001b[0;31m         \u001b[0;32mreturn\u001b[0m \u001b[0m_array_indexing\u001b[0m\u001b[0;34m(\u001b[0m\u001b[0mX\u001b[0m\u001b[0;34m,\u001b[0m \u001b[0mindices\u001b[0m\u001b[0;34m,\u001b[0m \u001b[0mindices_dtype\u001b[0m\u001b[0;34m,\u001b[0m \u001b[0maxis\u001b[0m\u001b[0;34m=\u001b[0m\u001b[0maxis\u001b[0m\u001b[0;34m)\u001b[0m\u001b[0;34m\u001b[0m\u001b[0;34m\u001b[0m\u001b[0m\n\u001b[0m\u001b[1;32m    414\u001b[0m     \u001b[0;32melse\u001b[0m\u001b[0;34m:\u001b[0m\u001b[0;34m\u001b[0m\u001b[0;34m\u001b[0m\u001b[0m\n",
            "\u001b[0;32m/usr/local/lib/python3.6/dist-packages/sklearn/utils/__init__.py\u001b[0m in \u001b[0;36m_array_indexing\u001b[0;34m(array, key, key_dtype, axis)\u001b[0m\n\u001b[1;32m    198\u001b[0m         \u001b[0mkey\u001b[0m \u001b[0;34m=\u001b[0m \u001b[0mlist\u001b[0m\u001b[0;34m(\u001b[0m\u001b[0mkey\u001b[0m\u001b[0;34m)\u001b[0m\u001b[0;34m\u001b[0m\u001b[0;34m\u001b[0m\u001b[0m\n\u001b[0;32m--> 199\u001b[0;31m     \u001b[0;32mreturn\u001b[0m \u001b[0marray\u001b[0m\u001b[0;34m[\u001b[0m\u001b[0mkey\u001b[0m\u001b[0;34m]\u001b[0m \u001b[0;32mif\u001b[0m \u001b[0maxis\u001b[0m \u001b[0;34m==\u001b[0m \u001b[0;36m0\u001b[0m \u001b[0;32melse\u001b[0m \u001b[0marray\u001b[0m\u001b[0;34m[\u001b[0m\u001b[0;34m:\u001b[0m\u001b[0;34m,\u001b[0m \u001b[0mkey\u001b[0m\u001b[0;34m]\u001b[0m\u001b[0;34m\u001b[0m\u001b[0;34m\u001b[0m\u001b[0m\n\u001b[0m\u001b[1;32m    200\u001b[0m \u001b[0;34m\u001b[0m\u001b[0m\n",
            "\u001b[0;31mIndexError\u001b[0m: index 30 is out of bounds for axis 0 with size 14",
            "\nThe above exception was the direct cause of the following exception:\n",
            "\u001b[0;31mValueError\u001b[0m                                Traceback (most recent call last)",
            "\u001b[0;32m<ipython-input-138-6492f722af94>\u001b[0m in \u001b[0;36m<module>\u001b[0;34m()\u001b[0m\n\u001b[1;32m      5\u001b[0m plot_partial_dependence(estimator=clf, X=X_train_transform, \n\u001b[1;32m      6\u001b[0m                         \u001b[0mfeatures\u001b[0m\u001b[0;34m=\u001b[0m\u001b[0mfeatures\u001b[0m\u001b[0;34m,\u001b[0m \u001b[0mfeature_names\u001b[0m\u001b[0;34m=\u001b[0m\u001b[0mnew_cols\u001b[0m\u001b[0;34m,\u001b[0m\u001b[0;34m\u001b[0m\u001b[0;34m\u001b[0m\u001b[0m\n\u001b[0;32m----> 7\u001b[0;31m                         target=1)\n\u001b[0m\u001b[1;32m      8\u001b[0m \u001b[0;34m\u001b[0m\u001b[0m\n\u001b[1;32m      9\u001b[0m \u001b[0mfig\u001b[0m \u001b[0;34m=\u001b[0m \u001b[0mplt\u001b[0m\u001b[0;34m.\u001b[0m\u001b[0mgcf\u001b[0m\u001b[0;34m(\u001b[0m\u001b[0;34m)\u001b[0m \u001b[0;31m# get current figure (gcf)\u001b[0m\u001b[0;34m\u001b[0m\u001b[0;34m\u001b[0m\u001b[0m\n",
            "\u001b[0;32m/usr/local/lib/python3.6/dist-packages/sklearn/inspection/_partial_dependence.py\u001b[0m in \u001b[0;36mplot_partial_dependence\u001b[0;34m(estimator, X, features, feature_names, target, response_method, n_cols, grid_resolution, percentiles, method, n_jobs, verbose, fig, line_kw, contour_kw, ax)\u001b[0m\n\u001b[1;32m    676\u001b[0m                                     \u001b[0mgrid_resolution\u001b[0m\u001b[0;34m=\u001b[0m\u001b[0mgrid_resolution\u001b[0m\u001b[0;34m,\u001b[0m\u001b[0;34m\u001b[0m\u001b[0;34m\u001b[0m\u001b[0m\n\u001b[1;32m    677\u001b[0m                                     percentiles=percentiles)\n\u001b[0;32m--> 678\u001b[0;31m         for fxs in features)\n\u001b[0m\u001b[1;32m    679\u001b[0m \u001b[0;34m\u001b[0m\u001b[0m\n\u001b[1;32m    680\u001b[0m     \u001b[0;31m# For multioutput regression, we can only check the validity of target\u001b[0m\u001b[0;34m\u001b[0m\u001b[0;34m\u001b[0m\u001b[0;34m\u001b[0m\u001b[0m\n",
            "\u001b[0;32m/usr/local/lib/python3.6/dist-packages/joblib/parallel.py\u001b[0m in \u001b[0;36m__call__\u001b[0;34m(self, iterable)\u001b[0m\n\u001b[1;32m   1039\u001b[0m             \u001b[0;31m# remaining jobs.\u001b[0m\u001b[0;34m\u001b[0m\u001b[0;34m\u001b[0m\u001b[0;34m\u001b[0m\u001b[0m\n\u001b[1;32m   1040\u001b[0m             \u001b[0mself\u001b[0m\u001b[0;34m.\u001b[0m\u001b[0m_iterating\u001b[0m \u001b[0;34m=\u001b[0m \u001b[0;32mFalse\u001b[0m\u001b[0;34m\u001b[0m\u001b[0;34m\u001b[0m\u001b[0m\n\u001b[0;32m-> 1041\u001b[0;31m             \u001b[0;32mif\u001b[0m \u001b[0mself\u001b[0m\u001b[0;34m.\u001b[0m\u001b[0mdispatch_one_batch\u001b[0m\u001b[0;34m(\u001b[0m\u001b[0miterator\u001b[0m\u001b[0;34m)\u001b[0m\u001b[0;34m:\u001b[0m\u001b[0;34m\u001b[0m\u001b[0;34m\u001b[0m\u001b[0m\n\u001b[0m\u001b[1;32m   1042\u001b[0m                 \u001b[0mself\u001b[0m\u001b[0;34m.\u001b[0m\u001b[0m_iterating\u001b[0m \u001b[0;34m=\u001b[0m \u001b[0mself\u001b[0m\u001b[0;34m.\u001b[0m\u001b[0m_original_iterator\u001b[0m \u001b[0;32mis\u001b[0m \u001b[0;32mnot\u001b[0m \u001b[0;32mNone\u001b[0m\u001b[0;34m\u001b[0m\u001b[0;34m\u001b[0m\u001b[0m\n\u001b[1;32m   1043\u001b[0m \u001b[0;34m\u001b[0m\u001b[0m\n",
            "\u001b[0;32m/usr/local/lib/python3.6/dist-packages/joblib/parallel.py\u001b[0m in \u001b[0;36mdispatch_one_batch\u001b[0;34m(self, iterator)\u001b[0m\n\u001b[1;32m    857\u001b[0m                 \u001b[0;32mreturn\u001b[0m \u001b[0;32mFalse\u001b[0m\u001b[0;34m\u001b[0m\u001b[0;34m\u001b[0m\u001b[0m\n\u001b[1;32m    858\u001b[0m             \u001b[0;32melse\u001b[0m\u001b[0;34m:\u001b[0m\u001b[0;34m\u001b[0m\u001b[0;34m\u001b[0m\u001b[0m\n\u001b[0;32m--> 859\u001b[0;31m                 \u001b[0mself\u001b[0m\u001b[0;34m.\u001b[0m\u001b[0m_dispatch\u001b[0m\u001b[0;34m(\u001b[0m\u001b[0mtasks\u001b[0m\u001b[0;34m)\u001b[0m\u001b[0;34m\u001b[0m\u001b[0;34m\u001b[0m\u001b[0m\n\u001b[0m\u001b[1;32m    860\u001b[0m                 \u001b[0;32mreturn\u001b[0m \u001b[0;32mTrue\u001b[0m\u001b[0;34m\u001b[0m\u001b[0;34m\u001b[0m\u001b[0m\n\u001b[1;32m    861\u001b[0m \u001b[0;34m\u001b[0m\u001b[0m\n",
            "\u001b[0;32m/usr/local/lib/python3.6/dist-packages/joblib/parallel.py\u001b[0m in \u001b[0;36m_dispatch\u001b[0;34m(self, batch)\u001b[0m\n\u001b[1;32m    775\u001b[0m         \u001b[0;32mwith\u001b[0m \u001b[0mself\u001b[0m\u001b[0;34m.\u001b[0m\u001b[0m_lock\u001b[0m\u001b[0;34m:\u001b[0m\u001b[0;34m\u001b[0m\u001b[0;34m\u001b[0m\u001b[0m\n\u001b[1;32m    776\u001b[0m             \u001b[0mjob_idx\u001b[0m \u001b[0;34m=\u001b[0m \u001b[0mlen\u001b[0m\u001b[0;34m(\u001b[0m\u001b[0mself\u001b[0m\u001b[0;34m.\u001b[0m\u001b[0m_jobs\u001b[0m\u001b[0;34m)\u001b[0m\u001b[0;34m\u001b[0m\u001b[0;34m\u001b[0m\u001b[0m\n\u001b[0;32m--> 777\u001b[0;31m             \u001b[0mjob\u001b[0m \u001b[0;34m=\u001b[0m \u001b[0mself\u001b[0m\u001b[0;34m.\u001b[0m\u001b[0m_backend\u001b[0m\u001b[0;34m.\u001b[0m\u001b[0mapply_async\u001b[0m\u001b[0;34m(\u001b[0m\u001b[0mbatch\u001b[0m\u001b[0;34m,\u001b[0m \u001b[0mcallback\u001b[0m\u001b[0;34m=\u001b[0m\u001b[0mcb\u001b[0m\u001b[0;34m)\u001b[0m\u001b[0;34m\u001b[0m\u001b[0;34m\u001b[0m\u001b[0m\n\u001b[0m\u001b[1;32m    778\u001b[0m             \u001b[0;31m# A job can complete so quickly than its callback is\u001b[0m\u001b[0;34m\u001b[0m\u001b[0;34m\u001b[0m\u001b[0;34m\u001b[0m\u001b[0m\n\u001b[1;32m    779\u001b[0m             \u001b[0;31m# called before we get here, causing self._jobs to\u001b[0m\u001b[0;34m\u001b[0m\u001b[0;34m\u001b[0m\u001b[0;34m\u001b[0m\u001b[0m\n",
            "\u001b[0;32m/usr/local/lib/python3.6/dist-packages/joblib/_parallel_backends.py\u001b[0m in \u001b[0;36mapply_async\u001b[0;34m(self, func, callback)\u001b[0m\n\u001b[1;32m    206\u001b[0m     \u001b[0;32mdef\u001b[0m \u001b[0mapply_async\u001b[0m\u001b[0;34m(\u001b[0m\u001b[0mself\u001b[0m\u001b[0;34m,\u001b[0m \u001b[0mfunc\u001b[0m\u001b[0;34m,\u001b[0m \u001b[0mcallback\u001b[0m\u001b[0;34m=\u001b[0m\u001b[0;32mNone\u001b[0m\u001b[0;34m)\u001b[0m\u001b[0;34m:\u001b[0m\u001b[0;34m\u001b[0m\u001b[0;34m\u001b[0m\u001b[0m\n\u001b[1;32m    207\u001b[0m         \u001b[0;34m\"\"\"Schedule a func to be run\"\"\"\u001b[0m\u001b[0;34m\u001b[0m\u001b[0;34m\u001b[0m\u001b[0m\n\u001b[0;32m--> 208\u001b[0;31m         \u001b[0mresult\u001b[0m \u001b[0;34m=\u001b[0m \u001b[0mImmediateResult\u001b[0m\u001b[0;34m(\u001b[0m\u001b[0mfunc\u001b[0m\u001b[0;34m)\u001b[0m\u001b[0;34m\u001b[0m\u001b[0;34m\u001b[0m\u001b[0m\n\u001b[0m\u001b[1;32m    209\u001b[0m         \u001b[0;32mif\u001b[0m \u001b[0mcallback\u001b[0m\u001b[0;34m:\u001b[0m\u001b[0;34m\u001b[0m\u001b[0;34m\u001b[0m\u001b[0m\n\u001b[1;32m    210\u001b[0m             \u001b[0mcallback\u001b[0m\u001b[0;34m(\u001b[0m\u001b[0mresult\u001b[0m\u001b[0;34m)\u001b[0m\u001b[0;34m\u001b[0m\u001b[0;34m\u001b[0m\u001b[0m\n",
            "\u001b[0;32m/usr/local/lib/python3.6/dist-packages/joblib/_parallel_backends.py\u001b[0m in \u001b[0;36m__init__\u001b[0;34m(self, batch)\u001b[0m\n\u001b[1;32m    570\u001b[0m         \u001b[0;31m# Don't delay the application, to avoid keeping the input\u001b[0m\u001b[0;34m\u001b[0m\u001b[0;34m\u001b[0m\u001b[0;34m\u001b[0m\u001b[0m\n\u001b[1;32m    571\u001b[0m         \u001b[0;31m# arguments in memory\u001b[0m\u001b[0;34m\u001b[0m\u001b[0;34m\u001b[0m\u001b[0;34m\u001b[0m\u001b[0m\n\u001b[0;32m--> 572\u001b[0;31m         \u001b[0mself\u001b[0m\u001b[0;34m.\u001b[0m\u001b[0mresults\u001b[0m \u001b[0;34m=\u001b[0m \u001b[0mbatch\u001b[0m\u001b[0;34m(\u001b[0m\u001b[0;34m)\u001b[0m\u001b[0;34m\u001b[0m\u001b[0;34m\u001b[0m\u001b[0m\n\u001b[0m\u001b[1;32m    573\u001b[0m \u001b[0;34m\u001b[0m\u001b[0m\n\u001b[1;32m    574\u001b[0m     \u001b[0;32mdef\u001b[0m \u001b[0mget\u001b[0m\u001b[0;34m(\u001b[0m\u001b[0mself\u001b[0m\u001b[0;34m)\u001b[0m\u001b[0;34m:\u001b[0m\u001b[0;34m\u001b[0m\u001b[0;34m\u001b[0m\u001b[0m\n",
            "\u001b[0;32m/usr/local/lib/python3.6/dist-packages/joblib/parallel.py\u001b[0m in \u001b[0;36m__call__\u001b[0;34m(self)\u001b[0m\n\u001b[1;32m    261\u001b[0m         \u001b[0;32mwith\u001b[0m \u001b[0mparallel_backend\u001b[0m\u001b[0;34m(\u001b[0m\u001b[0mself\u001b[0m\u001b[0;34m.\u001b[0m\u001b[0m_backend\u001b[0m\u001b[0;34m,\u001b[0m \u001b[0mn_jobs\u001b[0m\u001b[0;34m=\u001b[0m\u001b[0mself\u001b[0m\u001b[0;34m.\u001b[0m\u001b[0m_n_jobs\u001b[0m\u001b[0;34m)\u001b[0m\u001b[0;34m:\u001b[0m\u001b[0;34m\u001b[0m\u001b[0;34m\u001b[0m\u001b[0m\n\u001b[1;32m    262\u001b[0m             return [func(*args, **kwargs)\n\u001b[0;32m--> 263\u001b[0;31m                     for func, args, kwargs in self.items]\n\u001b[0m\u001b[1;32m    264\u001b[0m \u001b[0;34m\u001b[0m\u001b[0m\n\u001b[1;32m    265\u001b[0m     \u001b[0;32mdef\u001b[0m \u001b[0m__reduce__\u001b[0m\u001b[0;34m(\u001b[0m\u001b[0mself\u001b[0m\u001b[0;34m)\u001b[0m\u001b[0;34m:\u001b[0m\u001b[0;34m\u001b[0m\u001b[0;34m\u001b[0m\u001b[0m\n",
            "\u001b[0;32m/usr/local/lib/python3.6/dist-packages/joblib/parallel.py\u001b[0m in \u001b[0;36m<listcomp>\u001b[0;34m(.0)\u001b[0m\n\u001b[1;32m    261\u001b[0m         \u001b[0;32mwith\u001b[0m \u001b[0mparallel_backend\u001b[0m\u001b[0;34m(\u001b[0m\u001b[0mself\u001b[0m\u001b[0;34m.\u001b[0m\u001b[0m_backend\u001b[0m\u001b[0;34m,\u001b[0m \u001b[0mn_jobs\u001b[0m\u001b[0;34m=\u001b[0m\u001b[0mself\u001b[0m\u001b[0;34m.\u001b[0m\u001b[0m_n_jobs\u001b[0m\u001b[0;34m)\u001b[0m\u001b[0;34m:\u001b[0m\u001b[0;34m\u001b[0m\u001b[0;34m\u001b[0m\u001b[0m\n\u001b[1;32m    262\u001b[0m             return [func(*args, **kwargs)\n\u001b[0;32m--> 263\u001b[0;31m                     for func, args, kwargs in self.items]\n\u001b[0m\u001b[1;32m    264\u001b[0m \u001b[0;34m\u001b[0m\u001b[0m\n\u001b[1;32m    265\u001b[0m     \u001b[0;32mdef\u001b[0m \u001b[0m__reduce__\u001b[0m\u001b[0;34m(\u001b[0m\u001b[0mself\u001b[0m\u001b[0;34m)\u001b[0m\u001b[0;34m:\u001b[0m\u001b[0;34m\u001b[0m\u001b[0;34m\u001b[0m\u001b[0m\n",
            "\u001b[0;32m/usr/local/lib/python3.6/dist-packages/sklearn/inspection/_partial_dependence.py\u001b[0m in \u001b[0;36mpartial_dependence\u001b[0;34m(estimator, X, features, response_method, percentiles, grid_resolution, method)\u001b[0m\n\u001b[1;32m    389\u001b[0m \u001b[0;34m\u001b[0m\u001b[0m\n\u001b[1;32m    390\u001b[0m     features_indices = np.asarray(\n\u001b[0;32m--> 391\u001b[0;31m         \u001b[0m_get_column_indices\u001b[0m\u001b[0;34m(\u001b[0m\u001b[0mX\u001b[0m\u001b[0;34m,\u001b[0m \u001b[0mfeatures\u001b[0m\u001b[0;34m)\u001b[0m\u001b[0;34m,\u001b[0m \u001b[0mdtype\u001b[0m\u001b[0;34m=\u001b[0m\u001b[0mnp\u001b[0m\u001b[0;34m.\u001b[0m\u001b[0mint32\u001b[0m\u001b[0;34m,\u001b[0m \u001b[0morder\u001b[0m\u001b[0;34m=\u001b[0m\u001b[0;34m'C'\u001b[0m\u001b[0;34m\u001b[0m\u001b[0;34m\u001b[0m\u001b[0m\n\u001b[0m\u001b[1;32m    392\u001b[0m     ).ravel()\n\u001b[1;32m    393\u001b[0m \u001b[0;34m\u001b[0m\u001b[0m\n",
            "\u001b[0;32m/usr/local/lib/python3.6/dist-packages/sklearn/utils/__init__.py\u001b[0m in \u001b[0;36m_get_column_indices\u001b[0;34m(X, key)\u001b[0m\n\u001b[1;32m    437\u001b[0m                 \u001b[0;34m'all features must be in [0, {}] or [-{}, 0]'\u001b[0m\u001b[0;34m\u001b[0m\u001b[0;34m\u001b[0m\u001b[0m\n\u001b[1;32m    438\u001b[0m                 \u001b[0;34m.\u001b[0m\u001b[0mformat\u001b[0m\u001b[0;34m(\u001b[0m\u001b[0mn_columns\u001b[0m \u001b[0;34m-\u001b[0m \u001b[0;36m1\u001b[0m\u001b[0;34m,\u001b[0m \u001b[0mn_columns\u001b[0m\u001b[0;34m)\u001b[0m\u001b[0;34m\u001b[0m\u001b[0;34m\u001b[0m\u001b[0m\n\u001b[0;32m--> 439\u001b[0;31m             ) from e\n\u001b[0m\u001b[1;32m    440\u001b[0m         \u001b[0;32mreturn\u001b[0m \u001b[0mnp\u001b[0m\u001b[0;34m.\u001b[0m\u001b[0matleast_1d\u001b[0m\u001b[0;34m(\u001b[0m\u001b[0midx\u001b[0m\u001b[0;34m)\u001b[0m\u001b[0;34m.\u001b[0m\u001b[0mtolist\u001b[0m\u001b[0;34m(\u001b[0m\u001b[0;34m)\u001b[0m\u001b[0;34m\u001b[0m\u001b[0;34m\u001b[0m\u001b[0m\n\u001b[1;32m    441\u001b[0m     \u001b[0;32melif\u001b[0m \u001b[0mkey_dtype\u001b[0m \u001b[0;34m==\u001b[0m \u001b[0;34m'str'\u001b[0m\u001b[0;34m:\u001b[0m\u001b[0;34m\u001b[0m\u001b[0;34m\u001b[0m\u001b[0m\n",
            "\u001b[0;31mValueError\u001b[0m: all features must be in [0, 13] or [-14, 0]"
          ]
        }
      ]
    },
    {
      "cell_type": "markdown",
      "metadata": {
        "id": "vw7oLPjLPxWm"
      },
      "source": [
        "We could also plot a 2-way PDP, for example, visualizing the effect of the joint of `swin` and `ct_src_dport_itm` on the response by specifying a `tuple` that contains the indexes of them."
      ]
    },
    {
      "cell_type": "code",
      "metadata": {
        "id": "p4vcXX4PPxWm",
        "outputId": "9dced4c6-f6bd-4c85-95bc-bd32f1eb7e0f"
      },
      "source": [
        "features = [(7, 16)]\n",
        "plot_partial_dependence(estimator=clf, X=X_train_transform, \n",
        "                        features=features, feature_names=new_cols,\n",
        "                        target=1)\n",
        "\n",
        "fig = plt.gcf() # get current figure (gcf)\n",
        "fig.suptitle(\"Partial dependence of Attack or Normal \\n\"\n",
        "              \"with {}\".format(clf_name))\n",
        "fig.set_size_inches(7.5, 6.5)\n",
        "fig.subplots_adjust(hspace=0.3)\n",
        "#We can do whatever we want in this code, cause our data features are too many, here just show one instance of top two features of permutation plots"
      ],
      "execution_count": null,
      "outputs": [
        {
          "output_type": "display_data",
          "data": {
            "image/png": "[encoded data removed]",
            "text/plain": [
              "<Figure size 540x468 with 2 Axes>"
            ]
          },
          "metadata": {
            "tags": []
          }
        }
      ]
    },
    {
      "cell_type": "markdown",
      "metadata": {
        "id": "rLMbzDplPxWn"
      },
      "source": [
        "We could also plot the one-way and two-way PDP together. "
      ]
    },
    {
      "cell_type": "code",
      "metadata": {
        "id": "GMgp6pVjPxWn",
        "outputId": "21ce7a7b-42d0-4e2d-e711-512f9c6de4e4"
      },
      "source": [
        "features = [16, 7,(16, 7)]\n",
        "plot_partial_dependence(estimator=clf, X=X_train_transform, \n",
        "                        features=features, feature_names=new_cols,\n",
        "                        target=1)\n",
        "\n",
        "fig = plt.gcf() # get current figure (gcf)\n",
        "fig.suptitle(\"Partial dependence of Attack or Normal (one-way and two-way)\\n\"\n",
        "              \"with {}\".format(clf_name))\n",
        "fig.set_size_inches(16.5, 6.5)\n",
        "fig.subplots_adjust(wspace = 0.3)"
      ],
      "execution_count": null,
      "outputs": [
        {
          "output_type": "display_data",
          "data": {
            "image/png": "[encoded data removed]",
            "text/plain": [
              "<Figure size 1188x468 with 4 Axes>"
            ]
          },
          "metadata": {
            "tags": []
          }
        }
      ]
    },
    {
      "cell_type": "code",
      "metadata": {
        "id": "t25mazgGPxWp",
        "outputId": "b86d5f15-1e40-4fe6-e687-1274b1ad855c"
      },
      "source": [
        "features = [37, 38, (37, 38)]\n",
        "plot_partial_dependence(estimator=clf, X=X_train_transform, \n",
        "                        features=features, feature_names=new_cols,\n",
        "                        target=1)\n",
        "\n",
        "fig = plt.gcf() # get current figure (gcf)\n",
        "fig.suptitle(\"Partial dependence of Attack or Normal  (one-way and two-way)\\n\"\n",
        "              \"with {}\".format(clf_name))\n",
        "fig.set_size_inches(16.5, 6.5)\n",
        "fig.subplots_adjust(wspace = 0.3)"
      ],
      "execution_count": null,
      "outputs": [
        {
          "output_type": "display_data",
          "data": {
            "image/png": "[encoded data removed]",
            "text/plain": [
              "<Figure size 1188x468 with 4 Axes>"
            ]
          },
          "metadata": {
            "tags": []
          }
        }
      ]
    },
    {
      "cell_type": "code",
      "metadata": {
        "id": "obZeCE3HPxWq",
        "outputId": "379b2d56-ed7c-46e3-d933-8c0b4bfbc3e7"
      },
      "source": [
        "features = [7, 37, (7,37)]\n",
        "plot_partial_dependence(estimator=clf, X=X_train_transform, \n",
        "                        features=features, feature_names=new_cols,\n",
        "                        target=1)\n",
        "\n",
        "fig = plt.gcf() # get current figure (gcf)\n",
        "fig.suptitle(\"Partial dependence of Attack or Normal (one-way and two-way)\\n\"\n",
        "              \"with {}\".format(clf_name))\n",
        "fig.set_size_inches(16.5, 6.5)\n",
        "fig.subplots_adjust(wspace = 0.3)"
      ],
      "execution_count": null,
      "outputs": [
        {
          "output_type": "display_data",
          "data": {
            "image/png": "[encoded data removed]",
            "text/plain": [
              "<Figure size 1188x468 with 4 Axes>"
            ]
          },
          "metadata": {
            "tags": []
          }
        }
      ]
    },
    {
      "cell_type": "code",
      "metadata": {
        "id": "cJ0-RXiUPxWq",
        "outputId": "6129bc35-8c8c-43fa-a47a-4c3637c9bcf9"
      },
      "source": [
        "features = [7, 38, (7,38)]\n",
        "plot_partial_dependence(estimator=clf, X=X_train_transform, \n",
        "                        features=features, feature_names=new_cols,\n",
        "                        target=1)\n",
        "\n",
        "fig = plt.gcf() # get current figure (gcf)\n",
        "fig.suptitle(\"Partial dependence of Attack or Normal (one-way and two-way)\\n\"\n",
        "              \"with {}\".format(clf_name))\n",
        "fig.set_size_inches(16.5, 6.5)\n",
        "fig.subplots_adjust(wspace = 0.3)"
      ],
      "execution_count": null,
      "outputs": [
        {
          "output_type": "display_data",
          "data": {
            "image/png": "[encoded data removed]",
            "text/plain": [
              "<Figure size 1188x468 with 4 Axes>"
            ]
          },
          "metadata": {
            "tags": []
          }
        }
      ]
    },
    {
      "cell_type": "code",
      "metadata": {
        "id": "UPqF5LenPxWr",
        "outputId": "6bb67ea7-d5ae-424b-f6a1-6976da89bfae"
      },
      "source": [
        "features = [16, 37, (16,37)]\n",
        "plot_partial_dependence(estimator=clf, X=X_train_transform, \n",
        "                        features=features, feature_names=new_cols,\n",
        "                        target=1)\n",
        "\n",
        "fig = plt.gcf() # get current figure (gcf)\n",
        "fig.suptitle(\"Partial dependence of Attack or Normal  (one-way and two-way)\\n\"\n",
        "              \"with {}\".format(clf_name))\n",
        "fig.set_size_inches(16.5, 6.5)\n",
        "fig.subplots_adjust(wspace = 0.3)"
      ],
      "execution_count": null,
      "outputs": [
        {
          "output_type": "display_data",
          "data": {
            "image/png": "[encoded data removed]",
            "text/plain": [
              "<Figure size 1188x468 with 4 Axes>"
            ]
          },
          "metadata": {
            "tags": []
          }
        }
      ]
    },
    {
      "cell_type": "code",
      "metadata": {
        "id": "o7aUubhxPxWs",
        "outputId": "8b9ac26a-8a27-4073-dd94-bbbe989f1cdb"
      },
      "source": [
        "features = [16, 38, (16,38)]\n",
        "plot_partial_dependence(estimator=clf, X=X_train_transform, \n",
        "                        features=features, feature_names=new_cols,\n",
        "                        target=1)\n",
        "\n",
        "fig = plt.gcf() # get current figure (gcf)\n",
        "fig.suptitle(\"Partial dependence of Attack or Normal (one-way and two-way)\\n\"\n",
        "              \"with {}\".format(clf_name))\n",
        "fig.set_size_inches(16.5, 6.5)\n",
        "fig.subplots_adjust(wspace = 0.3)"
      ],
      "execution_count": null,
      "outputs": [
        {
          "output_type": "display_data",
          "data": {
            "image/png": "[encoded data removed]",
            "text/plain": [
              "<Figure size 1188x468 with 4 Axes>"
            ]
          },
          "metadata": {
            "tags": []
          }
        }
      ]
    },
    {
      "cell_type": "markdown",
      "metadata": {
        "id": "GRgHqW8VPxWs"
      },
      "source": [
        "### Example: PDP for RandomTree\n",
        "Let's plot the effect (one-way and two-way) for `RandomForest`."
      ]
    },
    {
      "cell_type": "code",
      "metadata": {
        "id": "_SGLrcnTPxWs",
        "outputId": "00f4408f-560e-42a3-ff09-67ec31f9299b"
      },
      "source": [
        "models[2]"
      ],
      "execution_count": null,
      "outputs": [
        {
          "output_type": "execute_result",
          "data": {
            "text/plain": [
              "('RandomForest',\n",
              " RandomForestClassifier(bootstrap=True, ccp_alpha=0.0, class_weight=None,\n",
              "                        criterion='gini', max_depth=None, max_features='auto',\n",
              "                        max_leaf_nodes=None, max_samples=None,\n",
              "                        min_impurity_decrease=0.0, min_impurity_split=None,\n",
              "                        min_samples_leaf=1, min_samples_split=2,\n",
              "                        min_weight_fraction_leaf=0.0, n_estimators=100,\n",
              "                        n_jobs=None, oob_score=False, random_state=123,\n",
              "                        verbose=0, warm_start=False))"
            ]
          },
          "metadata": {
            "tags": []
          },
          "execution_count": 118
        }
      ]
    },
    {
      "cell_type": "code",
      "metadata": {
        "id": "-YbztYyEPxXH",
        "outputId": "7e861467-93e4-4cf2-862f-2c5e35573425"
      },
      "source": [
        "clf_name = models[2][0]\n",
        "clf = models[2][1]\n",
        "\n",
        "features = [(16, 7)]\n",
        "plot_partial_dependence(estimator=clf, X=X_train_transform, \n",
        "                        features=features, feature_names=new_cols,\n",
        "                        target=1)\n",
        "\n",
        "fig = plt.gcf() # get current figure (gcf)\n",
        "fig.suptitle(\"Partial dependence of Attack Type\\n\"\n",
        "              \"with {}\".format(clf_name))\n",
        "fig.set_size_inches(7.5, 6.5)\n",
        "fig.subplots_adjust(hspace=0.3)"
      ],
      "execution_count": null,
      "outputs": [
        {
          "output_type": "display_data",
          "data": {
            "image/png": "[encoded data removed]",
            "text/plain": [
              "<Figure size 540x468 with 2 Axes>"
            ]
          },
          "metadata": {
            "tags": []
          }
        }
      ]
    },
    {
      "cell_type": "markdown",
      "metadata": {
        "id": "-Mwid9-PPxXI"
      },
      "source": [
        "## Permutation Feature Importance \n",
        "\n",
        "Previous section shows that Partial Dependence Plots could present how a feature affects predictions. In this section, we focus on another basic question:  What features have the biggest impact on predictions?\n",
        "\n",
        "This concept is called **feature importance**.\n",
        "\n",
        "There are multiple ways to measure feature importance. Some approaches answer subtly different versions of the question above. Other approaches have documented shortcomings.\n",
        "\n",
        "We'll focus on **Permutation Feature Importance**. Compared to most other approaches, Permutation Feature Importance is:\n",
        "\n",
        "- fast to calculate,\n",
        "- widely used and understood, and\n",
        "- consistent with properties we would want a feature importance measure to have.\n",
        "\n",
        "The Permutation Feature Importance is defined to be the **decrease in a model score** when a single feature value is randomly shuffled. This procedure breaks the relationship between the feature and the target, thus the drop in the model score is indicative of how much the model depends on the feature. \n",
        "\n",
        "The above definition might be confused. Here is a clear example to show you how it works: https://www.kaggle.com/dansbecker/permutation-importance"
      ]
    },
    {
      "cell_type": "code",
      "metadata": {
        "id": "MrH547kDPxXJ"
      },
      "source": [
        "# import permutation function\n",
        "from sklearn.inspection import permutation_importance"
      ],
      "execution_count": null,
      "outputs": []
    },
    {
      "cell_type": "markdown",
      "metadata": {
        "id": "XaHjOXdZPxXK"
      },
      "source": [
        "### Example: Permutation Feature Importance for Logistic Regression\n",
        "\n",
        "#### Permutation Feature Importance on Training Data\n",
        "Let's first plot the Permutation Feature Importance on **training data** with the trained Logistic Regression. "
      ]
    },
    {
      "cell_type": "code",
      "metadata": {
        "id": "SYgD-XGGPxXK",
        "outputId": "99079e70-7f45-4f41-a44b-a60b2e9065b5"
      },
      "source": [
        "clf_name = models[0][0]\n",
        "clf = models[0][1]\n",
        "result = permutation_importance(estimator=clf, \n",
        "                                X=X_train_transform, \n",
        "                                y=y2_train_transform, \n",
        "                                scoring=\"accuracy\",\n",
        "                                n_repeats=50,\n",
        "                                random_state=123)\n",
        "sorted_idx = result.importances_mean.argsort()\n",
        "\n",
        "fig, ax = plt.subplots()\n",
        "\n",
        "ax.boxplot(result.importances[sorted_idx].T,\n",
        "           vert=False, labels=np.array(new_cols)[sorted_idx])\n",
        "ax.set_title(\"Permutation Importances (training set)\\n\"\n",
        "            \"with {}\".format(clf_name))\n",
        "\n",
        "fig.set_size_inches(15, 13)\n",
        "plt.show()"
      ],
      "execution_count": null,
      "outputs": [
        {
          "output_type": "display_data",
          "data": {
            "image/png": "[encoded data removed]",
            "text/plain": [
              "<Figure size 1080x936 with 1 Axes>"
            ]
          },
          "metadata": {
            "tags": []
          }
        }
      ]
    },
    {
      "cell_type": "markdown",
      "metadata": {
        "id": "fSNrTaYOPxXL"
      },
      "source": [
        "**Interpretation**\n",
        "\n",
        "- The values towards the top are the most important features, and those towards the bottom matter least.\n",
        "\n",
        "- The values show how much model performance decreased with a random shuffling (in this case, using `accuracy` as the performance metric).\n",
        "\n",
        "The above plot shows that `ct_src_dport_itm` is the most important feature in the Logistic Regression model because once we shuffle the `ct_src_dport_itm`` column of the training data, leaving the target and all other columns in place, the **decrease** of the `accuracy` score of predictions is around 0.24. This is significant finding."
      ]
    },
    {
      "cell_type": "markdown",
      "metadata": {
        "id": "leIIuyYQPxXM"
      },
      "source": [
        "#### Permutation Feature Importance on Hold-out Testing Data\n",
        "\n",
        "Permutation importances can either be computed on the training set or an held-out testing or validation set. \n",
        "- Using a held-out set makes it possible to highlight which features contribute the most to the generalization power of the inspected model. \n",
        "\n",
        "- Features that are important on the training set but not on the held-out set might cause the model to overfit.\n",
        "\n",
        "Let's plot the Permutation Feature Importance on **hold-out testing data**"
      ]
    },
    {
      "cell_type": "code",
      "metadata": {
        "id": "-ECxsS02PxXN",
        "outputId": "46dd9aa9-b1f1-4a7c-f26d-5dbd765f15c9"
      },
      "source": [
        "result = permutation_importance(estimator=clf, \n",
        "                                X=X_test_transform, \n",
        "                                y=y2_test_transform, \n",
        "                                scoring=\"accuracy\",\n",
        "                                n_repeats=50,\n",
        "                                random_state=123)\n",
        "sorted_idx = result.importances_mean.argsort()\n",
        "\n",
        "fig, ax = plt.subplots()\n",
        "\n",
        "ax.boxplot(result.importances[sorted_idx].T,\n",
        "           vert=False, labels=np.array(new_cols)[sorted_idx])\n",
        "ax.set_title(\"Permutation Importances (hold-out testing set)\\n\"\n",
        "            \"with {}\".format(clf_name))\n",
        "fig.set_size_inches(15, 13)\n",
        "\n",
        "plt.show()"
      ],
      "execution_count": null,
      "outputs": [
        {
          "output_type": "display_data",
          "data": {
            "image/png": "[encoded data removed]",
            "text/plain": [
              "<Figure size 1080x936 with 1 Axes>"
            ]
          },
          "metadata": {
            "tags": []
          }
        }
      ]
    },
    {
      "cell_type": "code",
      "metadata": {
        "id": "Y75CfTyTPxXO"
      },
      "source": [
        ""
      ],
      "execution_count": null,
      "outputs": []
    }
  ]
}