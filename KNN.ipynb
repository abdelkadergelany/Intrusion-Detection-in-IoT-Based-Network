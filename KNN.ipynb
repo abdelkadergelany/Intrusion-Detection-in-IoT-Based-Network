{
  "nbformat": 4,
  "nbformat_minor": 0,
  "metadata": {
    "colab": {
      "name": "KNN.ipynb",
      "provenance": [],
      "authorship_tag": "ABX9TyMADIN0VqwVuHokhFyu8qH3",
      "include_colab_link": true
    },
    "kernelspec": {
      "name": "python3",
      "display_name": "Python 3"
    }
  },
  "cells": [
    {
      "cell_type": "markdown",
      "metadata": {
        "id": "view-in-github",
        "colab_type": "text"
      },
      "source": [
        "<a href=\"https://colab.research.google.com/github/abdelkadergelany/Intrusion-Detection-in-IoT-Based-Network/blob/main/KNN.ipynb\" target=\"_parent\"><img src=\"https://colab.research.google.com/assets/colab-badge.svg\" alt=\"Open In Colab\"/></a>"
      ]
    },
    {
      "cell_type": "code",
      "metadata": {
        "id": "5cTbVfkmPnP2"
      },
      "source": [
        "import random\r\n",
        "import operator\r\n",
        "import math\r\n",
        "import numpy\r\n",
        "\r\n",
        "import pandas as pd\r\n",
        "import sklearn.metrics\r\n",
        "import sklearn.model_selection\r\n",
        "import sklearn.linear_model\r\n",
        "import sklearn.preprocessing\r\n",
        "import matplotlib.pyplot as plt\r\n"
      ],
      "execution_count": 7,
      "outputs": []
    },
    {
      "cell_type": "code",
      "metadata": {
        "id": "b_RKR7CN6gQo"
      },
      "source": [
        "def cosine_similarity(v1, v2):\r\n",
        "\r\n",
        "    sum_xx, sum_xy, sum_yy = 0.0, 0.0, 0.0\r\n",
        " #   print \"len: %d\" %(len(v1))\r\n",
        "    for i in range(0, len(v1)-1):\r\n",
        " #       print (v1[i])\r\n",
        "        sum_xx += math.pow(float(v1[i]), 2)\r\n",
        "        sum_xy += float(v1[i]) * float(v2[i])\r\n",
        "        sum_yy += math.pow(float(v2[i]), 2)\r\n",
        "\r\n",
        "    return sum_xy / math.sqrt(sum_xx * sum_yy)"
      ],
      "execution_count": null,
      "outputs": []
    },
    {
      "cell_type": "code",
      "metadata": {
        "id": "FjCLTynC6rUf"
      },
      "source": [
        "\r\n",
        "\r\n",
        "def cosine_distance(v1, v2):\r\n",
        "    1-cosine_similarity(v1,v2)\r\n",
        "\r\n",
        "# KNN prediction and model training\r\n",
        "def knn_predict(test_data, train_data, k_value, category):\r\n",
        "    totalcount = 0\r\n",
        "    for i in test_data: #select tested data\r\n",
        "        cos_similarity_list = [] # all distance array\r\n",
        "\r\n",
        "        classNum=dict() #a dictionary of nebor\r\n",
        "        classNum['Normal'] = 0\r\n",
        "        classNum['Reconnaissance'] = 0\r\n",
        "        classNum['Exploits'] = 0\r\n",
        "        classNum['Fuzzers'] = 0\r\n",
        "        classNum['DoS'] = 0\r\n",
        "        classNum['Generic'] = 0\r\n",
        "        classNum['Shellcode'] = 0\r\n",
        "        classNum['Analysis'] = 0\r\n",
        "        classNum['Worms'] = 0\r\n",
        "        classNum['Backdoors'] = 0\r\n",
        "\r\n",
        "        jcount = 0\r\n",
        "\r\n",
        "        for j in train_data: # find in train data to get the nearest point\r\n",
        "       #     print \"i: %s\" %(i)\r\n",
        "            cos_sm = cosine_similarity(i, j)  #  1 test data  train set\r\n",
        "            cos_similarity_list.append((category[jcount], cos_sm)) #the distance with the category\r\n",
        "#            print cos_similarity_list # just for debugging and observing; in general running, this line will not be used.\r\n",
        "            print  (\"count: %s\", jcount)\r\n",
        "            cos_similarity_list.sort(key=operator.itemgetter(1), reverse=True) #use cos piority\r\n",
        "            ''' similarity priority list has been built; we can find the first k nearest neighbors '''\r\n",
        "            jcount += 1\r\n",
        "            totalcount += 1\r\n",
        "            print  (\"Processing: %s\", totalcount)\r\n",
        "\r\n",
        "        knn = cos_similarity_list[:k_value]  # select first k neighbors\r\n",
        "\r\n",
        "        print(knn)\r\n",
        "        for k in knn: #k[0] is the most simliar.\r\n",
        "            if k[0] == 'Normal':\r\n",
        "                classNum['Normal'] += 1\r\n",
        "            elif k[0] == 'Reconnaissance':\r\n",
        "                classNum['Reconnaissance'] += 1\r\n",
        "            elif k[0] == 'Exploits':\r\n",
        "                classNum['Exploits'] += 1\r\n",
        "            elif k[0] == 'Fuzzers':\r\n",
        "                classNum['Fuzzers'] += 1\r\n",
        "            elif k[0] == 'DoS':\r\n",
        "                classNum['DoS'] += 1\r\n",
        "            elif k[0] == 'Generic':\r\n",
        "                classNum['Generic'] += 1\r\n",
        "            elif k[0] == 'Shellcode':\r\n",
        "                classNum['Shellcode'] += 1\r\n",
        "            elif k[0] == 'Analysis':\r\n",
        "                classNum['Analysis'] += 1\r\n",
        "            elif k[0] == 'Worms':\r\n",
        "                classNum['Worms'] += 1\r\n",
        "            elif k[0] == 'Backdoors':\r\n",
        "                classNum['Backdoors'] += 1\r\n",
        "\r\n",
        "    \r\n",
        "#        print  \"result: %d %d %d %d %d\" %(classNum['Normal'],  classNum['Reconnaissance'], classNum['Exploits'], classNum['Fuzzers'], classNum['DoS'])\r\n",
        "        max_value = max(classNum, key=classNum.get) # max(classNum)\r\n",
        "        print (\"max_value %s\",max_value)\r\n",
        "\r\n",
        "    #    recover_key(classNum, max_value)\r\n",
        "\r\n",
        " #       max_index = recover_key(classNum, max_value)\r\n",
        " #       print \"max_index %s\" %(max_index)\r\n",
        "        i.append(max_value) # append prediction; tag category"
      ],
      "execution_count": null,
      "outputs": []
    },
    {
      "cell_type": "code",
      "metadata": {
        "id": "NiAWWNtr6wng"
      },
      "source": [
        "\r\n",
        "def recover_key(dictionary, value):\r\n",
        "     for a_key in dictionary.keys():\r\n",
        "         if (dictionary[a_key] == value):\r\n",
        "             return a_key\r\n",
        "\r\n",
        "# Accuracy calculation function\r\n",
        "def accuracy(test_data, true_result):\r\n",
        "    correct = 0\r\n",
        "    for i in test_data:\r\n",
        "        #print len(i)\r\n",
        "        #print i[len(i)-1]\r\n",
        "\r\n",
        "        jcount = 0\r\n",
        "        if true_result[jcount] == i[len(i)-1]:\r\n",
        "            correct += 1\r\n",
        "            jcount+=1\r\n",
        "\r\n",
        "    accuracy = float(correct) / len(test_data) * 100  # accuracy\r\n",
        "    return accuracy\r\n",
        "\r\n",
        "\r\n",
        "def KNN(K, train_x, train_y, test_x, test_y):\r\n",
        "   # dataset = getdata('UNSW_NB15_training-set_selected.csv')  # getdata function call with csv file as parameter\r\n",
        "#    print len(dataset)\r\n",
        " #   train_dataset, test_dataset = shuffle(dataset)  # train test data split\r\n",
        "  #  K = 3  # Assumed K value\r\n",
        "\r\n",
        "    train_dataset = train_x.tolist()\r\n",
        "    print (\"Number of training X: %s\",len(train_dataset))\r\n",
        "    print (\"Number of training Y: %s\", len(train_y))\r\n",
        "    test_dataset = test_x.tolist()\r\n",
        "    print (\"Number of testing X: %s\", len(test_dataset))\r\n",
        "\r\n",
        "    print (\"Training Set KNN Process:\")\r\n",
        "    knn_predict(train_dataset, train_dataset, K, train_y)\r\n",
        "    print (\"Testing Set KNN Process:\")\r\n",
        "    knn_predict(test_dataset, train_dataset, K, train_y)\r\n",
        "    atrain = round(accuracy(train_dataset, train_y),5)\r\n",
        "    TrainError = float(100.00000- float(atrain))\r\n",
        "    atest = round(accuracy(test_dataset, test_y),5)\r\n",
        "    TestError = 100.00000- atest\r\n",
        "    # print test_dataset\r\n",
        "    print (\"Accuracy of train_dataset : \", atrain)\r\n",
        "    print (\"Train error : \", TrainError)\r\n",
        "    print (\"Accuracy of test_dataset: \", atest)\r\n",
        "    print (\"Test error: \", TestError)\r\n",
        "    return TrainError, TestError, atrain, atest\r\n"
      ],
      "execution_count": null,
      "outputs": []
    },
    {
      "cell_type": "code",
      "metadata": {
        "id": "G--h9HPj6z5v"
      },
      "source": [
        "def load_train_data(train_ratio=0.12):\r\n",
        "    data = pd.read_csv('https://raw.githubusercontent.com/Nir-J/ML-Projects/master/UNSW-Network_Packet_Classification/UNSW_NB15_training-set.csv', header=None,\r\n",
        "                       names=['x%i' % (i) for i in range(33)] + ['logic']+['y'])\r\n",
        "    Xt = numpy.asarray(data[['x%i' % (i) for i in range(33)]])\r\n",
        "    yt = numpy.asarray(data['y'])\r\n",
        "    print(yt)\r\n",
        "    return sklearn.model_selection.train_test_split(Xt, yt, test_size=1 - train_ratio, random_state=0)"
      ],
      "execution_count": 31,
      "outputs": []
    },
    {
      "cell_type": "code",
      "metadata": {
        "id": "GI55Bue-8152"
      },
      "source": [
        ""
      ],
      "execution_count": null,
      "outputs": []
    },
    {
      "cell_type": "code",
      "metadata": {
        "id": "3Yv0pCYU62Tx"
      },
      "source": [
        "def load_test_data(train_ratio=0.88):\r\n",
        "    data = pd.read_csv('https://raw.githubusercontent.com/Nir-J/ML-Projects/master/UNSW-Network_Packet_Classification/UNSW_NB15_testing-set.csv', header=None,\r\n",
        "                       names=['x%i' % (i) for i in range(33)] + ['logic']+['y'])\r\n",
        "    Xtt = numpy.asarray(data[['x%i' % (i) for i in range(33)]])\r\n",
        "    ytt = numpy.asarray(data['y'])\r\n",
        "    return sklearn.model_selection.train_test_split(Xtt, ytt, test_size=1 - train_ratio, random_state=0)"
      ],
      "execution_count": null,
      "outputs": []
    },
    {
      "cell_type": "code",
      "metadata": {
        "id": "FO2_hIhA66LH"
      },
      "source": [
        "def scale_features(X_train, X_test, low=0, upp=1):\r\n",
        "    minmax_scaler = sklearn.preprocessing.MinMaxScaler(feature_range=(low, upp)).fit(numpy.vstack((X_train)))  \r\n",
        "    # Transforms features by scaling each feature to a given range(0~1) in order to reinforce dataset and fit training set.\r\n",
        "    X_train_scale = minmax_scaler.transform(X_train)\r\n",
        "    X_test_scale = minmax_scaler.transform(X_test)\r\n",
        "    return X_train_scale, X_test_scale"
      ],
      "execution_count": null,
      "outputs": []
    },
    {
      "cell_type": "code",
      "metadata": {
        "id": "W76oMglj7TSJ"
      },
      "source": [
        "\"\"\"preprocessing x and y of training data\"\"\"\r\n",
        "x_train2, t1, y_train, t2 = load_train_data(train_ratio=0.003) #1\r\n",
        "\"\"\"preprocessing x and y of testing data\"\"\"\r\n",
        "t3, X_test, t4, y_test = load_test_data(train_ratio=(1-0.003)) #2\r\n",
        "\r\n",
        "\"\"\"scale X dataset\"\"\"\r\n",
        "X_train_scale, X_test_scale = scale_features(x_train2, X_test, 0, 1)\r\n",
        "TrainError = []\r\n",
        "TestError = []\r\n",
        "TrainAccuracy = []\r\n",
        "TestAccuracy = []\r\n",
        "plt.figure(2)\r\n",
        "ax1 = plt.subplot(211)\r\n",
        "ax2 = plt.subplot(212)\r\n",
        "plt.figure(3)\r\n",
        "bx1 = plt.subplot(311)\r\n",
        "bx2 = plt.subplot(312)\r\n",
        "x = []\r\n",
        "\r\n",
        "'''knn start: for small sample, start from 1; this from 9 is for this big sample set. Because there are same similarity in diffrent kind.'''\r\n",
        "for k in range(13,3,-1): #3\r\n",
        "    print (\"K: %d\",k)\r\n",
        "    TrainErrorTemp, TestErrorTemp, AoTrain, AoTest = KNN(k, x_train2, y_train, X_test, y_test)\r\n",
        "    TrainError.append(TrainErrorTemp)\r\n",
        "    TestError.append(TestErrorTemp)\r\n",
        "    TrainAccuracy.append(AoTrain)\r\n",
        "    TestAccuracy.append( AoTest)\r\n",
        "    print (\" \")\r\n",
        "    x.append(k)"
      ],
      "execution_count": null,
      "outputs": []
    },
    {
      "cell_type": "code",
      "metadata": {
        "colab": {
          "base_uri": "https://localhost:8080/",
          "height": 371
        },
        "id": "pL6m55kiphRH",
        "outputId": "a216be62-9d17-4bf0-9113-179aef02c5f6"
      },
      "source": [
        "plt.sca(ax1)\r\n",
        "plt.plot(x, TrainError)\r\n",
        "\r\n",
        "plt.sca(ax2)\r\n",
        "plt.plot(x, TestError)\r\n",
        "\r\n",
        "plt.sca(bx1)\r\n",
        "plt.plot(x, TrainAccuracy)\r\n",
        "\r\n",
        "plt.sca(bx2)\r\n",
        "plt.plot(x, TestAccuracy)\r\n",
        "\r\n",
        "plt.xlabel('x axis') # make axis labels\r\n",
        "plt.ylabel('y axis')\r\n",
        "plt.show()"
      ],
      "execution_count": 25,
      "outputs": [
        {
          "output_type": "error",
          "ename": "ValueError",
          "evalue": "ignored",
          "traceback": [
            "\u001b[0;31m---------------------------------------------------------------------------\u001b[0m",
            "\u001b[0;31mValueError\u001b[0m                                Traceback (most recent call last)",
            "\u001b[0;32m<ipython-input-25-ab8cdea57987>\u001b[0m in \u001b[0;36m<module>\u001b[0;34m()\u001b[0m\n\u001b[0;32m----> 1\u001b[0;31m \u001b[0mplt\u001b[0m\u001b[0;34m.\u001b[0m\u001b[0msca\u001b[0m\u001b[0;34m(\u001b[0m\u001b[0max1\u001b[0m\u001b[0;34m)\u001b[0m\u001b[0;34m\u001b[0m\u001b[0;34m\u001b[0m\u001b[0m\n\u001b[0m\u001b[1;32m      2\u001b[0m \u001b[0mplt\u001b[0m\u001b[0;34m.\u001b[0m\u001b[0mplot\u001b[0m\u001b[0;34m(\u001b[0m\u001b[0mx\u001b[0m\u001b[0;34m,\u001b[0m \u001b[0mTrainError\u001b[0m\u001b[0;34m)\u001b[0m\u001b[0;34m\u001b[0m\u001b[0;34m\u001b[0m\u001b[0m\n\u001b[1;32m      3\u001b[0m \u001b[0;34m\u001b[0m\u001b[0m\n\u001b[1;32m      4\u001b[0m \u001b[0mplt\u001b[0m\u001b[0;34m.\u001b[0m\u001b[0msca\u001b[0m\u001b[0;34m(\u001b[0m\u001b[0max2\u001b[0m\u001b[0;34m)\u001b[0m\u001b[0;34m\u001b[0m\u001b[0;34m\u001b[0m\u001b[0m\n\u001b[1;32m      5\u001b[0m \u001b[0mplt\u001b[0m\u001b[0;34m.\u001b[0m\u001b[0mplot\u001b[0m\u001b[0;34m(\u001b[0m\u001b[0mx\u001b[0m\u001b[0;34m,\u001b[0m \u001b[0mTestError\u001b[0m\u001b[0;34m)\u001b[0m\u001b[0;34m\u001b[0m\u001b[0;34m\u001b[0m\u001b[0m\n",
            "\u001b[0;32m/usr/local/lib/python3.6/dist-packages/matplotlib/pyplot.py\u001b[0m in \u001b[0;36msca\u001b[0;34m(ax)\u001b[0m\n\u001b[1;32m    856\u001b[0m             \u001b[0mm\u001b[0m\u001b[0;34m.\u001b[0m\u001b[0mcanvas\u001b[0m\u001b[0;34m.\u001b[0m\u001b[0mfigure\u001b[0m\u001b[0;34m.\u001b[0m\u001b[0msca\u001b[0m\u001b[0;34m(\u001b[0m\u001b[0max\u001b[0m\u001b[0;34m)\u001b[0m\u001b[0;34m\u001b[0m\u001b[0;34m\u001b[0m\u001b[0m\n\u001b[1;32m    857\u001b[0m             \u001b[0;32mreturn\u001b[0m\u001b[0;34m\u001b[0m\u001b[0;34m\u001b[0m\u001b[0m\n\u001b[0;32m--> 858\u001b[0;31m     \u001b[0;32mraise\u001b[0m \u001b[0mValueError\u001b[0m\u001b[0;34m(\u001b[0m\u001b[0;34m\"Axes instance argument was not found in a figure\"\u001b[0m\u001b[0;34m)\u001b[0m\u001b[0;34m\u001b[0m\u001b[0;34m\u001b[0m\u001b[0m\n\u001b[0m\u001b[1;32m    859\u001b[0m \u001b[0;34m\u001b[0m\u001b[0m\n\u001b[1;32m    860\u001b[0m \u001b[0;34m\u001b[0m\u001b[0m\n",
            "\u001b[0;31mValueError\u001b[0m: Axes instance argument was not found in a figure"
          ]
        }
      ]
    }
  ]
}