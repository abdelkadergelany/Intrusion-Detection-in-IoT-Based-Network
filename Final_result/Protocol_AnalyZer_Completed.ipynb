{
  "nbformat": 4,
  "nbformat_minor": 0,
  "metadata": {
    "colab": {
      "name": "Protocol_AnalyZer.ipynb",
      "provenance": [],
      "include_colab_link": true
    },
    "kernelspec": {
      "name": "python3",
      "display_name": "Python 3"
    }
  },
  "cells": [
    {
      "cell_type": "markdown",
      "metadata": {
        "id": "view-in-github",
        "colab_type": "text"
      },
      "source": [
        "<a href=\"https://colab.research.google.com/github/abdelkadergelany/Intrusion-Detection-in-IoT-Based-Network/blob/main/Final_result/Protocol_AnalyZer_Completed.ipynb\" target=\"_parent\"><img src=\"https://colab.research.google.com/assets/colab-badge.svg\" alt=\"Open In Colab\"/></a>"
      ]
    },
    {
      "cell_type": "markdown",
      "metadata": {
        "id": "R6eYTD8r2T-B"
      },
      "source": [
        "#Importing  Libraries"
      ]
    },
    {
      "cell_type": "code",
      "metadata": {
        "id": "okoPdTts1-_3"
      },
      "source": [
        "# data cleaning and plots\r\n",
        "import pandas as pd\r\n",
        "import numpy as np\r\n",
        "import seaborn as sns\r\n",
        "import matplotlib.pyplot as plt\r\n",
        "plt.style.use('ggplot')\r\n",
        "%matplotlib inline\r\n",
        "\r\n",
        "# sklearn: data preprocessing\r\n",
        "from sklearn.compose import ColumnTransformer\r\n",
        "from sklearn.preprocessing import StandardScaler, LabelEncoder, OneHotEncoder ,MinMaxScaler\r\n",
        "from sklearn import preprocessing,svm,metrics\r\n",
        "\r\n",
        "# sklearn: train model\r\n",
        "from sklearn.model_selection import train_test_split\r\n",
        "from sklearn.model_selection import cross_val_score, cross_validate, StratifiedKFold\r\n",
        "from sklearn.metrics import precision_recall_curve, precision_score, recall_score, f1_score, accuracy_score\r\n",
        "from sklearn.metrics import roc_curve, auc, roc_auc_score, confusion_matrix, classification_report\r\n",
        "\r\n",
        "# sklearn classifiers\r\n",
        "from sklearn.linear_model import LogisticRegression\r\n",
        "from sklearn.tree import DecisionTreeClassifier\r\n",
        "from sklearn.ensemble import RandomForestClassifier,ExtraTreesClassifier\r\n",
        "from sklearn.neural_network import MLPClassifier\r\n",
        "\r\n",
        "#Feature selection\r\n",
        "from sklearn.feature_selection import chi2,RFE\r\n",
        "from sklearn.feature_selection import SelectKBest\r\n",
        "import xgboost, lightgbm\r\n",
        "from sklearn.svm import SVR"
      ],
      "execution_count": 87,
      "outputs": []
    },
    {
      "cell_type": "markdown",
      "metadata": {
        "id": "2toVkH3A2t5N"
      },
      "source": [
        "# Data Processing\r\n",
        "\r\n",
        "## Load Data\r\n",
        "\r\n",
        "**UNSW-NB15: a comprehensive data set for network intrusion detection systems**\r\n",
        "\r\n",
        "\r\n",
        "attack_cat: This dataset has nine types of attacks, namely, Fuzzers, Analysis, Backdoors, DoS, Exploits, Generic, Reconnaissance, Shellcode and Worms.\r\n",
        "\r\n",
        "Label: 0 for normal and 1 for attack records"
      ]
    },
    {
      "cell_type": "code",
      "metadata": {
        "id": "20vRx86K2vu_"
      },
      "source": [
        "# Load data\r\n",
        "train = pd.read_csv('https://raw.githubusercontent.com/Nir-J/ML-Projects/master/UNSW-Network_Packet_Classification/UNSW_NB15_training-set.csv')\r\n",
        "test = pd.read_csv('https://raw.githubusercontent.com/Nir-J/ML-Projects/master/UNSW-Network_Packet_Classification/UNSW_NB15_testing-set.csv')\r\n",
        "combined_data = pd.concat([train, test]).drop(['id'],axis=1)"
      ],
      "execution_count": 88,
      "outputs": []
    },
    {
      "cell_type": "code",
      "metadata": {
        "colab": {
          "base_uri": "https://localhost:8080/",
          "height": 224
        },
        "id": "lgdTzn3B20s4",
        "outputId": "63780b34-8147-4a96-bec0-f181f00fb45f"
      },
      "source": [
        "# Look at the first 5 rows\r\n",
        "combined_data.head(n=5)"
      ],
      "execution_count": 20,
      "outputs": [
        {
          "output_type": "execute_result",
          "data": {
            "text/html": [
              "<div>\n",
              "<style scoped>\n",
              "    .dataframe tbody tr th:only-of-type {\n",
              "        vertical-align: middle;\n",
              "    }\n",
              "\n",
              "    .dataframe tbody tr th {\n",
              "        vertical-align: top;\n",
              "    }\n",
              "\n",
              "    .dataframe thead th {\n",
              "        text-align: right;\n",
              "    }\n",
              "</style>\n",
              "<table border=\"1\" class=\"dataframe\">\n",
              "  <thead>\n",
              "    <tr style=\"text-align: right;\">\n",
              "      <th></th>\n",
              "      <th>dur</th>\n",
              "      <th>proto</th>\n",
              "      <th>service</th>\n",
              "      <th>state</th>\n",
              "      <th>spkts</th>\n",
              "      <th>dpkts</th>\n",
              "      <th>sbytes</th>\n",
              "      <th>dbytes</th>\n",
              "      <th>rate</th>\n",
              "      <th>sttl</th>\n",
              "      <th>dttl</th>\n",
              "      <th>sload</th>\n",
              "      <th>dload</th>\n",
              "      <th>sloss</th>\n",
              "      <th>dloss</th>\n",
              "      <th>sinpkt</th>\n",
              "      <th>dinpkt</th>\n",
              "      <th>sjit</th>\n",
              "      <th>djit</th>\n",
              "      <th>swin</th>\n",
              "      <th>stcpb</th>\n",
              "      <th>dtcpb</th>\n",
              "      <th>dwin</th>\n",
              "      <th>tcprtt</th>\n",
              "      <th>synack</th>\n",
              "      <th>ackdat</th>\n",
              "      <th>smean</th>\n",
              "      <th>dmean</th>\n",
              "      <th>trans_depth</th>\n",
              "      <th>response_body_len</th>\n",
              "      <th>ct_srv_src</th>\n",
              "      <th>ct_state_ttl</th>\n",
              "      <th>ct_dst_ltm</th>\n",
              "      <th>ct_src_dport_ltm</th>\n",
              "      <th>ct_dst_sport_ltm</th>\n",
              "      <th>ct_dst_src_ltm</th>\n",
              "      <th>is_ftp_login</th>\n",
              "      <th>ct_ftp_cmd</th>\n",
              "      <th>ct_flw_http_mthd</th>\n",
              "      <th>ct_src_ltm</th>\n",
              "      <th>ct_srv_dst</th>\n",
              "      <th>is_sm_ips_ports</th>\n",
              "      <th>attack_cat</th>\n",
              "      <th>label</th>\n",
              "    </tr>\n",
              "  </thead>\n",
              "  <tbody>\n",
              "    <tr>\n",
              "      <th>0</th>\n",
              "      <td>0.121478</td>\n",
              "      <td>tcp</td>\n",
              "      <td>-</td>\n",
              "      <td>FIN</td>\n",
              "      <td>6</td>\n",
              "      <td>4</td>\n",
              "      <td>258</td>\n",
              "      <td>172</td>\n",
              "      <td>74.087490</td>\n",
              "      <td>252</td>\n",
              "      <td>254</td>\n",
              "      <td>14158.942380</td>\n",
              "      <td>8495.365234</td>\n",
              "      <td>0</td>\n",
              "      <td>0</td>\n",
              "      <td>24.295600</td>\n",
              "      <td>8.375000</td>\n",
              "      <td>30.177547</td>\n",
              "      <td>11.830604</td>\n",
              "      <td>255</td>\n",
              "      <td>621772692</td>\n",
              "      <td>2202533631</td>\n",
              "      <td>255</td>\n",
              "      <td>0.000000</td>\n",
              "      <td>0.000000</td>\n",
              "      <td>0.000000</td>\n",
              "      <td>43</td>\n",
              "      <td>43</td>\n",
              "      <td>0</td>\n",
              "      <td>0</td>\n",
              "      <td>1</td>\n",
              "      <td>0</td>\n",
              "      <td>1</td>\n",
              "      <td>1</td>\n",
              "      <td>1</td>\n",
              "      <td>1</td>\n",
              "      <td>0</td>\n",
              "      <td>0</td>\n",
              "      <td>0</td>\n",
              "      <td>1</td>\n",
              "      <td>1</td>\n",
              "      <td>0</td>\n",
              "      <td>Normal</td>\n",
              "      <td>0</td>\n",
              "    </tr>\n",
              "    <tr>\n",
              "      <th>1</th>\n",
              "      <td>0.649902</td>\n",
              "      <td>tcp</td>\n",
              "      <td>-</td>\n",
              "      <td>FIN</td>\n",
              "      <td>14</td>\n",
              "      <td>38</td>\n",
              "      <td>734</td>\n",
              "      <td>42014</td>\n",
              "      <td>78.473372</td>\n",
              "      <td>62</td>\n",
              "      <td>252</td>\n",
              "      <td>8395.112305</td>\n",
              "      <td>503571.312500</td>\n",
              "      <td>2</td>\n",
              "      <td>17</td>\n",
              "      <td>49.915000</td>\n",
              "      <td>15.432865</td>\n",
              "      <td>61.426934</td>\n",
              "      <td>1387.778330</td>\n",
              "      <td>255</td>\n",
              "      <td>1417884146</td>\n",
              "      <td>3077387971</td>\n",
              "      <td>255</td>\n",
              "      <td>0.000000</td>\n",
              "      <td>0.000000</td>\n",
              "      <td>0.000000</td>\n",
              "      <td>52</td>\n",
              "      <td>1106</td>\n",
              "      <td>0</td>\n",
              "      <td>0</td>\n",
              "      <td>43</td>\n",
              "      <td>1</td>\n",
              "      <td>1</td>\n",
              "      <td>1</td>\n",
              "      <td>1</td>\n",
              "      <td>2</td>\n",
              "      <td>0</td>\n",
              "      <td>0</td>\n",
              "      <td>0</td>\n",
              "      <td>1</td>\n",
              "      <td>6</td>\n",
              "      <td>0</td>\n",
              "      <td>Normal</td>\n",
              "      <td>0</td>\n",
              "    </tr>\n",
              "    <tr>\n",
              "      <th>2</th>\n",
              "      <td>1.623129</td>\n",
              "      <td>tcp</td>\n",
              "      <td>-</td>\n",
              "      <td>FIN</td>\n",
              "      <td>8</td>\n",
              "      <td>16</td>\n",
              "      <td>364</td>\n",
              "      <td>13186</td>\n",
              "      <td>14.170161</td>\n",
              "      <td>62</td>\n",
              "      <td>252</td>\n",
              "      <td>1572.271851</td>\n",
              "      <td>60929.230470</td>\n",
              "      <td>1</td>\n",
              "      <td>6</td>\n",
              "      <td>231.875571</td>\n",
              "      <td>102.737203</td>\n",
              "      <td>17179.586860</td>\n",
              "      <td>11420.926230</td>\n",
              "      <td>255</td>\n",
              "      <td>2116150707</td>\n",
              "      <td>2963114973</td>\n",
              "      <td>255</td>\n",
              "      <td>0.111897</td>\n",
              "      <td>0.061458</td>\n",
              "      <td>0.050439</td>\n",
              "      <td>46</td>\n",
              "      <td>824</td>\n",
              "      <td>0</td>\n",
              "      <td>0</td>\n",
              "      <td>7</td>\n",
              "      <td>1</td>\n",
              "      <td>2</td>\n",
              "      <td>1</td>\n",
              "      <td>1</td>\n",
              "      <td>3</td>\n",
              "      <td>0</td>\n",
              "      <td>0</td>\n",
              "      <td>0</td>\n",
              "      <td>2</td>\n",
              "      <td>6</td>\n",
              "      <td>0</td>\n",
              "      <td>Normal</td>\n",
              "      <td>0</td>\n",
              "    </tr>\n",
              "    <tr>\n",
              "      <th>3</th>\n",
              "      <td>1.681642</td>\n",
              "      <td>tcp</td>\n",
              "      <td>ftp</td>\n",
              "      <td>FIN</td>\n",
              "      <td>12</td>\n",
              "      <td>12</td>\n",
              "      <td>628</td>\n",
              "      <td>770</td>\n",
              "      <td>13.677108</td>\n",
              "      <td>62</td>\n",
              "      <td>252</td>\n",
              "      <td>2740.178955</td>\n",
              "      <td>3358.622070</td>\n",
              "      <td>1</td>\n",
              "      <td>3</td>\n",
              "      <td>152.876547</td>\n",
              "      <td>90.235726</td>\n",
              "      <td>259.080172</td>\n",
              "      <td>4991.784669</td>\n",
              "      <td>255</td>\n",
              "      <td>1107119177</td>\n",
              "      <td>1047442890</td>\n",
              "      <td>255</td>\n",
              "      <td>0.000000</td>\n",
              "      <td>0.000000</td>\n",
              "      <td>0.000000</td>\n",
              "      <td>52</td>\n",
              "      <td>64</td>\n",
              "      <td>0</td>\n",
              "      <td>0</td>\n",
              "      <td>1</td>\n",
              "      <td>1</td>\n",
              "      <td>2</td>\n",
              "      <td>1</td>\n",
              "      <td>1</td>\n",
              "      <td>3</td>\n",
              "      <td>1</td>\n",
              "      <td>1</td>\n",
              "      <td>0</td>\n",
              "      <td>2</td>\n",
              "      <td>1</td>\n",
              "      <td>0</td>\n",
              "      <td>Normal</td>\n",
              "      <td>0</td>\n",
              "    </tr>\n",
              "    <tr>\n",
              "      <th>4</th>\n",
              "      <td>0.449454</td>\n",
              "      <td>tcp</td>\n",
              "      <td>-</td>\n",
              "      <td>FIN</td>\n",
              "      <td>10</td>\n",
              "      <td>6</td>\n",
              "      <td>534</td>\n",
              "      <td>268</td>\n",
              "      <td>33.373826</td>\n",
              "      <td>254</td>\n",
              "      <td>252</td>\n",
              "      <td>8561.499023</td>\n",
              "      <td>3987.059814</td>\n",
              "      <td>2</td>\n",
              "      <td>1</td>\n",
              "      <td>47.750333</td>\n",
              "      <td>75.659602</td>\n",
              "      <td>2415.837634</td>\n",
              "      <td>115.807000</td>\n",
              "      <td>255</td>\n",
              "      <td>2436137549</td>\n",
              "      <td>1977154190</td>\n",
              "      <td>255</td>\n",
              "      <td>0.128381</td>\n",
              "      <td>0.071147</td>\n",
              "      <td>0.057234</td>\n",
              "      <td>53</td>\n",
              "      <td>45</td>\n",
              "      <td>0</td>\n",
              "      <td>0</td>\n",
              "      <td>43</td>\n",
              "      <td>1</td>\n",
              "      <td>2</td>\n",
              "      <td>2</td>\n",
              "      <td>1</td>\n",
              "      <td>40</td>\n",
              "      <td>0</td>\n",
              "      <td>0</td>\n",
              "      <td>0</td>\n",
              "      <td>2</td>\n",
              "      <td>39</td>\n",
              "      <td>0</td>\n",
              "      <td>Normal</td>\n",
              "      <td>0</td>\n",
              "    </tr>\n",
              "  </tbody>\n",
              "</table>\n",
              "</div>"
            ],
            "text/plain": [
              "        dur proto service state  ...  ct_srv_dst  is_sm_ips_ports  attack_cat  label\n",
              "0  0.121478   tcp       -   FIN  ...           1                0      Normal      0\n",
              "1  0.649902   tcp       -   FIN  ...           6                0      Normal      0\n",
              "2  1.623129   tcp       -   FIN  ...           6                0      Normal      0\n",
              "3  1.681642   tcp     ftp   FIN  ...           1                0      Normal      0\n",
              "4  0.449454   tcp       -   FIN  ...          39                0      Normal      0\n",
              "\n",
              "[5 rows x 44 columns]"
            ]
          },
          "metadata": {
            "tags": []
          },
          "execution_count": 20
        }
      ]
    },
    {
      "cell_type": "code",
      "metadata": {
        "colab": {
          "base_uri": "https://localhost:8080/"
        },
        "id": "aPSWglJP3H_B",
        "outputId": "fb5036ec-ba1d-4583-ce82-f457ee547b31"
      },
      "source": [
        "# information of the data: \r\n",
        "combined_data.info()"
      ],
      "execution_count": 21,
      "outputs": [
        {
          "output_type": "stream",
          "text": [
            "<class 'pandas.core.frame.DataFrame'>\n",
            "Int64Index: 257673 entries, 0 to 82331\n",
            "Data columns (total 44 columns):\n",
            " #   Column             Non-Null Count   Dtype  \n",
            "---  ------             --------------   -----  \n",
            " 0   dur                257673 non-null  float64\n",
            " 1   proto              257673 non-null  object \n",
            " 2   service            257673 non-null  object \n",
            " 3   state              257673 non-null  object \n",
            " 4   spkts              257673 non-null  int64  \n",
            " 5   dpkts              257673 non-null  int64  \n",
            " 6   sbytes             257673 non-null  int64  \n",
            " 7   dbytes             257673 non-null  int64  \n",
            " 8   rate               257673 non-null  float64\n",
            " 9   sttl               257673 non-null  int64  \n",
            " 10  dttl               257673 non-null  int64  \n",
            " 11  sload              257673 non-null  float64\n",
            " 12  dload              257673 non-null  float64\n",
            " 13  sloss              257673 non-null  int64  \n",
            " 14  dloss              257673 non-null  int64  \n",
            " 15  sinpkt             257673 non-null  float64\n",
            " 16  dinpkt             257673 non-null  float64\n",
            " 17  sjit               257673 non-null  float64\n",
            " 18  djit               257673 non-null  float64\n",
            " 19  swin               257673 non-null  int64  \n",
            " 20  stcpb              257673 non-null  int64  \n",
            " 21  dtcpb              257673 non-null  int64  \n",
            " 22  dwin               257673 non-null  int64  \n",
            " 23  tcprtt             257673 non-null  float64\n",
            " 24  synack             257673 non-null  float64\n",
            " 25  ackdat             257673 non-null  float64\n",
            " 26  smean              257673 non-null  int64  \n",
            " 27  dmean              257673 non-null  int64  \n",
            " 28  trans_depth        257673 non-null  int64  \n",
            " 29  response_body_len  257673 non-null  int64  \n",
            " 30  ct_srv_src         257673 non-null  int64  \n",
            " 31  ct_state_ttl       257673 non-null  int64  \n",
            " 32  ct_dst_ltm         257673 non-null  int64  \n",
            " 33  ct_src_dport_ltm   257673 non-null  int64  \n",
            " 34  ct_dst_sport_ltm   257673 non-null  int64  \n",
            " 35  ct_dst_src_ltm     257673 non-null  int64  \n",
            " 36  is_ftp_login       257673 non-null  int64  \n",
            " 37  ct_ftp_cmd         257673 non-null  int64  \n",
            " 38  ct_flw_http_mthd   257673 non-null  int64  \n",
            " 39  ct_src_ltm         257673 non-null  int64  \n",
            " 40  ct_srv_dst         257673 non-null  int64  \n",
            " 41  is_sm_ips_ports    257673 non-null  int64  \n",
            " 42  attack_cat         257673 non-null  object \n",
            " 43  label              257673 non-null  int64  \n",
            "dtypes: float64(11), int64(29), object(4)\n",
            "memory usage: 88.5+ MB\n"
          ],
          "name": "stdout"
        }
      ]
    },
    {
      "cell_type": "code",
      "metadata": {
        "colab": {
          "base_uri": "https://localhost:8080/"
        },
        "id": "V5egWKlu3N_A",
        "outputId": "c1dfc176-ad39-4f02-c694-f65efa35aaf2"
      },
      "source": [
        "# check if there are Null values\r\n",
        "combined_data.isnull().sum()"
      ],
      "execution_count": 22,
      "outputs": [
        {
          "output_type": "execute_result",
          "data": {
            "text/plain": [
              "dur                  0\n",
              "proto                0\n",
              "service              0\n",
              "state                0\n",
              "spkts                0\n",
              "dpkts                0\n",
              "sbytes               0\n",
              "dbytes               0\n",
              "rate                 0\n",
              "sttl                 0\n",
              "dttl                 0\n",
              "sload                0\n",
              "dload                0\n",
              "sloss                0\n",
              "dloss                0\n",
              "sinpkt               0\n",
              "dinpkt               0\n",
              "sjit                 0\n",
              "djit                 0\n",
              "swin                 0\n",
              "stcpb                0\n",
              "dtcpb                0\n",
              "dwin                 0\n",
              "tcprtt               0\n",
              "synack               0\n",
              "ackdat               0\n",
              "smean                0\n",
              "dmean                0\n",
              "trans_depth          0\n",
              "response_body_len    0\n",
              "ct_srv_src           0\n",
              "ct_state_ttl         0\n",
              "ct_dst_ltm           0\n",
              "ct_src_dport_ltm     0\n",
              "ct_dst_sport_ltm     0\n",
              "ct_dst_src_ltm       0\n",
              "is_ftp_login         0\n",
              "ct_ftp_cmd           0\n",
              "ct_flw_http_mthd     0\n",
              "ct_src_ltm           0\n",
              "ct_srv_dst           0\n",
              "is_sm_ips_ports      0\n",
              "attack_cat           0\n",
              "label                0\n",
              "dtype: int64"
            ]
          },
          "metadata": {
            "tags": []
          },
          "execution_count": 22
        }
      ]
    },
    {
      "cell_type": "code",
      "metadata": {
        "colab": {
          "base_uri": "https://localhost:8080/"
        },
        "id": "4MmJEb_z3UE4",
        "outputId": "d2c8891d-1f84-4ab2-9fab-5613c2a25325"
      },
      "source": [
        "# Discard the rows with missing values\r\n",
        "\r\n",
        "data_to_use = combined_data.dropna()\r\n",
        "\r\n",
        "# Shape of the data: we could see that the number of rows remains the same as no null values were reported\r\n",
        "data_to_use.shape"
      ],
      "execution_count": 23,
      "outputs": [
        {
          "output_type": "execute_result",
          "data": {
            "text/plain": [
              "(257673, 44)"
            ]
          },
          "metadata": {
            "tags": []
          },
          "execution_count": 23
        }
      ]
    },
    {
      "cell_type": "markdown",
      "metadata": {
        "id": "oJ4mI3dJ3bh3"
      },
      "source": [
        "<h1>Contamination mean pollution (outliers) in data</h1>"
      ]
    },
    {
      "cell_type": "code",
      "metadata": {
        "colab": {
          "base_uri": "https://localhost:8080/"
        },
        "id": "7Fg3Hftk3b8A",
        "outputId": "5b0e6a3f-6204-48a4-83e4-f01ccf29ffaa"
      },
      "source": [
        "# Contaminsation mean pollution (outliers) in data\r\n",
        "tmp = train.where(train['attack_cat'] == \"Normal\").dropna()\r\n",
        "contamination = round(1 - len(tmp)/len(train), 2)\r\n",
        "print(\"train contamination \", contamination)\r\n",
        "\r\n",
        "tmp = test.where(test['attack_cat'] == \"Normal\").dropna()\r\n",
        "print(\"test  contamination \", round(1 - len(tmp)/len(test),2),'\\n')\r\n",
        "\r\n",
        "if contamination > 0.5:\r\n",
        "    print(f'contamination is {contamination}, which is greater than 0.5. Fixing...')\r\n",
        "    contamination = round(1-contamination,2)\r\n",
        "    print(f'contamination is now {contamination}')"
      ],
      "execution_count": 24,
      "outputs": [
        {
          "output_type": "stream",
          "text": [
            "train contamination  0.68\n",
            "test  contamination  0.55 \n",
            "\n",
            "contamination is 0.68, which is greater than 0.5. Fixing...\n",
            "contamination is now 0.32\n"
          ],
          "name": "stdout"
        }
      ]
    },
    {
      "cell_type": "markdown",
      "metadata": {
        "id": "mWjHtC0tDaTO"
      },
      "source": [
        "#Visualizing The Contamination\r\n",
        "\r\n",
        "\r\n",
        "\r\n"
      ]
    },
    {
      "cell_type": "code",
      "metadata": {
        "id": "vsDgmeOHh57C"
      },
      "source": [
        "#Visualize Class ratio\r\n",
        "\r\n",
        "def class_ratio(title,data):\r\n",
        "    val_class = data['label'].values\r\n",
        "\r\n",
        "    print('The class ratio for the  dataset:', data_ratio(val_class))\r\n",
        "    sns.countplot(val_class,label=\"Sum\").set_title(title + 'contamination ratio')"
      ],
      "execution_count": 25,
      "outputs": []
    },
    {
      "cell_type": "code",
      "metadata": {
        "id": "RODqVVNvPxVU"
      },
      "source": [
        "# Calculate Y2 ratio\n",
        "def data_ratio(y2):\n",
        "    '''\n",
        "    Calculate Y2's ratio\n",
        "    '''\n",
        "    unique, count = np.unique(y2, return_counts=True)\n",
        "    ratio = round(count[0]/count[1], 1)\n",
        "    return f'{ratio}:1 ({count[0]}/{count[1]})'"
      ],
      "execution_count": 26,
      "outputs": []
    },
    {
      "cell_type": "code",
      "metadata": {
        "id": "iHdZivEPqpxy"
      },
      "source": [
        "combined_data = pd.concat([train, test]).drop(['id'],axis=1)\r\n",
        "attacks_type = combined_data['attack_cat'].values\r\n",
        "class_type = combined_data['label'].values"
      ],
      "execution_count": 27,
      "outputs": []
    },
    {
      "cell_type": "code",
      "metadata": {
        "id": "GWkqIcgiaoK6",
        "outputId": "450ec7b6-bcc4-4576-9ecf-87fb79990437",
        "colab": {
          "base_uri": "https://localhost:8080/"
        }
      },
      "source": [
        "combined_data['label'].values"
      ],
      "execution_count": 28,
      "outputs": [
        {
          "output_type": "execute_result",
          "data": {
            "text/plain": [
              "array([0, 0, 0, ..., 0, 0, 0])"
            ]
          },
          "metadata": {
            "tags": []
          },
          "execution_count": 28
        }
      ]
    },
    {
      "cell_type": "code",
      "metadata": {
        "id": "ku2dx9RyPxVU",
        "colab": {
          "base_uri": "https://localhost:8080/",
          "height": 690
        },
        "outputId": "3f3b2081-5996-4c61-88f4-8fb6414485a4"
      },
      "source": [
        "print('The class ratio for the original data:', data_ratio(attacks_type))\n",
        "plt.figure(figsize=(13,5))\n",
        "sns.countplot(attacks_type,label=\"Sum\")\n",
        "plt.show()\n",
        "\n",
        "print('The class ratio for the original data:', data_ratio(class_type))\n",
        "sns.countplot(class_type,label=\"Sum\")\n",
        "plt.show()"
      ],
      "execution_count": 39,
      "outputs": [
        {
          "output_type": "stream",
          "text": [
            "The class ratio for the original data: 1.1:1 (2677/2329)\n"
          ],
          "name": "stdout"
        },
        {
          "output_type": "stream",
          "text": [
            "/usr/local/lib/python3.7/dist-packages/seaborn/_decorators.py:43: FutureWarning: Pass the following variable as a keyword arg: x. From version 0.12, the only valid positional argument will be `data`, and passing other arguments without an explicit keyword will result in an error or misinterpretation.\n",
            "  FutureWarning\n"
          ],
          "name": "stderr"
        },
        {
          "output_type": "display_data",
          "data": {
            "image/png": "[encoded data removed]",
            "text/plain": [
              "<Figure size 936x360 with 1 Axes>"
            ]
          },
          "metadata": {
            "tags": [],
            "needs_background": "light"
          }
        },
        {
          "output_type": "stream",
          "text": [
            "The class ratio for the original data: 0.6:1 (93000/164673)\n"
          ],
          "name": "stdout"
        },
        {
          "output_type": "stream",
          "text": [
            "/usr/local/lib/python3.7/dist-packages/seaborn/_decorators.py:43: FutureWarning: Pass the following variable as a keyword arg: x. From version 0.12, the only valid positional argument will be `data`, and passing other arguments without an explicit keyword will result in an error or misinterpretation.\n",
            "  FutureWarning\n"
          ],
          "name": "stderr"
        },
        {
          "output_type": "display_data",
          "data": {
            "image/png": "[encoded data removed]",
            "text/plain": [
              "<Figure size 432x288 with 1 Axes>"
            ]
          },
          "metadata": {
            "tags": [],
            "needs_background": "light"
          }
        }
      ]
    },
    {
      "cell_type": "code",
      "metadata": {
        "colab": {
          "base_uri": "https://localhost:8080/",
          "height": 131
        },
        "id": "Eic_vZPdU81V",
        "outputId": "3470db95-3243-423a-e610-91a7ad744ca8"
      },
      "source": [
        "combined_data.head(2)"
      ],
      "execution_count": 30,
      "outputs": [
        {
          "output_type": "execute_result",
          "data": {
            "text/html": [
              "<div>\n",
              "<style scoped>\n",
              "    .dataframe tbody tr th:only-of-type {\n",
              "        vertical-align: middle;\n",
              "    }\n",
              "\n",
              "    .dataframe tbody tr th {\n",
              "        vertical-align: top;\n",
              "    }\n",
              "\n",
              "    .dataframe thead th {\n",
              "        text-align: right;\n",
              "    }\n",
              "</style>\n",
              "<table border=\"1\" class=\"dataframe\">\n",
              "  <thead>\n",
              "    <tr style=\"text-align: right;\">\n",
              "      <th></th>\n",
              "      <th>dur</th>\n",
              "      <th>proto</th>\n",
              "      <th>service</th>\n",
              "      <th>state</th>\n",
              "      <th>spkts</th>\n",
              "      <th>dpkts</th>\n",
              "      <th>sbytes</th>\n",
              "      <th>dbytes</th>\n",
              "      <th>rate</th>\n",
              "      <th>sttl</th>\n",
              "      <th>dttl</th>\n",
              "      <th>sload</th>\n",
              "      <th>dload</th>\n",
              "      <th>sloss</th>\n",
              "      <th>dloss</th>\n",
              "      <th>sinpkt</th>\n",
              "      <th>dinpkt</th>\n",
              "      <th>sjit</th>\n",
              "      <th>djit</th>\n",
              "      <th>swin</th>\n",
              "      <th>stcpb</th>\n",
              "      <th>dtcpb</th>\n",
              "      <th>dwin</th>\n",
              "      <th>tcprtt</th>\n",
              "      <th>synack</th>\n",
              "      <th>ackdat</th>\n",
              "      <th>smean</th>\n",
              "      <th>dmean</th>\n",
              "      <th>trans_depth</th>\n",
              "      <th>response_body_len</th>\n",
              "      <th>ct_srv_src</th>\n",
              "      <th>ct_state_ttl</th>\n",
              "      <th>ct_dst_ltm</th>\n",
              "      <th>ct_src_dport_ltm</th>\n",
              "      <th>ct_dst_sport_ltm</th>\n",
              "      <th>ct_dst_src_ltm</th>\n",
              "      <th>is_ftp_login</th>\n",
              "      <th>ct_ftp_cmd</th>\n",
              "      <th>ct_flw_http_mthd</th>\n",
              "      <th>ct_src_ltm</th>\n",
              "      <th>ct_srv_dst</th>\n",
              "      <th>is_sm_ips_ports</th>\n",
              "      <th>attack_cat</th>\n",
              "      <th>label</th>\n",
              "    </tr>\n",
              "  </thead>\n",
              "  <tbody>\n",
              "    <tr>\n",
              "      <th>0</th>\n",
              "      <td>0.121478</td>\n",
              "      <td>tcp</td>\n",
              "      <td>-</td>\n",
              "      <td>FIN</td>\n",
              "      <td>6</td>\n",
              "      <td>4</td>\n",
              "      <td>258</td>\n",
              "      <td>172</td>\n",
              "      <td>74.087490</td>\n",
              "      <td>252</td>\n",
              "      <td>254</td>\n",
              "      <td>14158.942380</td>\n",
              "      <td>8495.365234</td>\n",
              "      <td>0</td>\n",
              "      <td>0</td>\n",
              "      <td>24.2956</td>\n",
              "      <td>8.375000</td>\n",
              "      <td>30.177547</td>\n",
              "      <td>11.830604</td>\n",
              "      <td>255</td>\n",
              "      <td>621772692</td>\n",
              "      <td>2202533631</td>\n",
              "      <td>255</td>\n",
              "      <td>0.0</td>\n",
              "      <td>0.0</td>\n",
              "      <td>0.0</td>\n",
              "      <td>43</td>\n",
              "      <td>43</td>\n",
              "      <td>0</td>\n",
              "      <td>0</td>\n",
              "      <td>1</td>\n",
              "      <td>0</td>\n",
              "      <td>1</td>\n",
              "      <td>1</td>\n",
              "      <td>1</td>\n",
              "      <td>1</td>\n",
              "      <td>0</td>\n",
              "      <td>0</td>\n",
              "      <td>0</td>\n",
              "      <td>1</td>\n",
              "      <td>1</td>\n",
              "      <td>0</td>\n",
              "      <td>Normal</td>\n",
              "      <td>0</td>\n",
              "    </tr>\n",
              "    <tr>\n",
              "      <th>1</th>\n",
              "      <td>0.649902</td>\n",
              "      <td>tcp</td>\n",
              "      <td>-</td>\n",
              "      <td>FIN</td>\n",
              "      <td>14</td>\n",
              "      <td>38</td>\n",
              "      <td>734</td>\n",
              "      <td>42014</td>\n",
              "      <td>78.473372</td>\n",
              "      <td>62</td>\n",
              "      <td>252</td>\n",
              "      <td>8395.112305</td>\n",
              "      <td>503571.312500</td>\n",
              "      <td>2</td>\n",
              "      <td>17</td>\n",
              "      <td>49.9150</td>\n",
              "      <td>15.432865</td>\n",
              "      <td>61.426934</td>\n",
              "      <td>1387.778330</td>\n",
              "      <td>255</td>\n",
              "      <td>1417884146</td>\n",
              "      <td>3077387971</td>\n",
              "      <td>255</td>\n",
              "      <td>0.0</td>\n",
              "      <td>0.0</td>\n",
              "      <td>0.0</td>\n",
              "      <td>52</td>\n",
              "      <td>1106</td>\n",
              "      <td>0</td>\n",
              "      <td>0</td>\n",
              "      <td>43</td>\n",
              "      <td>1</td>\n",
              "      <td>1</td>\n",
              "      <td>1</td>\n",
              "      <td>1</td>\n",
              "      <td>2</td>\n",
              "      <td>0</td>\n",
              "      <td>0</td>\n",
              "      <td>0</td>\n",
              "      <td>1</td>\n",
              "      <td>6</td>\n",
              "      <td>0</td>\n",
              "      <td>Normal</td>\n",
              "      <td>0</td>\n",
              "    </tr>\n",
              "  </tbody>\n",
              "</table>\n",
              "</div>"
            ],
            "text/plain": [
              "        dur proto service state  ...  ct_srv_dst  is_sm_ips_ports  attack_cat  label\n",
              "0  0.121478   tcp       -   FIN  ...           1                0      Normal      0\n",
              "1  0.649902   tcp       -   FIN  ...           6                0      Normal      0\n",
              "\n",
              "[2 rows x 44 columns]"
            ]
          },
          "metadata": {
            "tags": []
          },
          "execution_count": 30
        }
      ]
    },
    {
      "cell_type": "markdown",
      "metadata": {
        "id": "wVQe771pT_k5"
      },
      "source": [
        "#Protocol Analyzer"
      ]
    },
    {
      "cell_type": "code",
      "metadata": {
        "colab": {
          "base_uri": "https://localhost:8080/"
        },
        "id": "n2YQ3SMqhngX",
        "outputId": "67043b9b-c5e5-4720-f4ed-bafbae4094df"
      },
      "source": [
        "#Explore different protocols\r\n",
        "import collections\r\n",
        "from tabulate import tabulate\r\n",
        "counter = collections.Counter(combined_data['proto'])  \r\n",
        "print(tabulate(counter.most_common(),headers = ['Type','Occurences']))"
      ],
      "execution_count": 31,
      "outputs": [
        {
          "output_type": "stream",
          "text": [
            "Type           Occurences\n",
            "-----------  ------------\n",
            "tcp                123041\n",
            "udp                 92701\n",
            "unas                15599\n",
            "arp                  3846\n",
            "ospf                 3271\n",
            "sctp                 1474\n",
            "any                   396\n",
            "gre                   313\n",
            "rsvp                  264\n",
            "ipv6                  262\n",
            "sun-nd                255\n",
            "swipe                 253\n",
            "mobile                253\n",
            "pim                   253\n",
            "sep                   251\n",
            "prm                   133\n",
            "xns-idp               133\n",
            "leaf-1                133\n",
            "ddp                   132\n",
            "ipv6-frag             132\n",
            "cftp                  132\n",
            "wsn                   132\n",
            "pvp                   132\n",
            "wb-expak              132\n",
            "mtp                   132\n",
            "pri-enc               132\n",
            "sat-mon               132\n",
            "cphb                  132\n",
            "iso-ip                132\n",
            "xtp                   132\n",
            "il                    132\n",
            "mfe-nsp               132\n",
            "3pc                   132\n",
            "ipv6-route            132\n",
            "idrp                  132\n",
            "bna                   132\n",
            "kryptolan             132\n",
            "cpnx                  132\n",
            "wb-mon                132\n",
            "vmtp                  132\n",
            "ib                    132\n",
            "dgp                   132\n",
            "eigrp                 132\n",
            "ax.25                 132\n",
            "gmtp                  132\n",
            "pnni                  132\n",
            "pgm                   132\n",
            "idpr-cmtp             132\n",
            "zero                  132\n",
            "rvd                   132\n",
            "narp                  132\n",
            "fc                    132\n",
            "pipe                  132\n",
            "ipcomp                132\n",
            "ipv6-no               132\n",
            "sat-expak             132\n",
            "ipv6-opts             132\n",
            "snp                   132\n",
            "ipcv                  132\n",
            "br-sat-mon            132\n",
            "ttp                   132\n",
            "tcf                   132\n",
            "nsfnet-igp            132\n",
            "sprite-rpc            132\n",
            "aes-sp3-d             132\n",
            "sccopmce              132\n",
            "qnx                   132\n",
            "scps                  132\n",
            "etherip               132\n",
            "aris                  132\n",
            "compaq-peer           132\n",
            "vrrp                  132\n",
            "iatp                  132\n",
            "stp                   132\n",
            "l2tp                  132\n",
            "srp                   132\n",
            "sm                    132\n",
            "isis                  132\n",
            "smp                   132\n",
            "fire                  132\n",
            "ptp                   132\n",
            "sps                   132\n",
            "merit-inp             132\n",
            "idpr                  132\n",
            "skip                  132\n",
            "larp                  132\n",
            "ipip                  132\n",
            "micp                  132\n",
            "encap                 132\n",
            "ifmp                  132\n",
            "tp++                  132\n",
            "a/n                   132\n",
            "i-nlsp                132\n",
            "ipx-n-ip              132\n",
            "sdrp                  132\n",
            "tlsp                  132\n",
            "mhrp                  132\n",
            "ddx                   132\n",
            "ippc                  132\n",
            "visa                  132\n",
            "secure-vmtp           132\n",
            "uti                   132\n",
            "vines                 132\n",
            "crudp                 132\n",
            "iplt                  132\n",
            "ggp                   132\n",
            "ip                    132\n",
            "ipnip                 132\n",
            "st2                   132\n",
            "bbn-rcc               132\n",
            "emcon                 132\n",
            "igp                   132\n",
            "nvp                   132\n",
            "pup                   132\n",
            "xnet                  132\n",
            "chaos                 132\n",
            "mux                   132\n",
            "dcn                   132\n",
            "trunk-1               132\n",
            "leaf-2                132\n",
            "irtp                  132\n",
            "iso-tp4               132\n",
            "trunk-2               132\n",
            "cbt                   132\n",
            "crtp                  131\n",
            "argus                 131\n",
            "egp                   131\n",
            "hmp                   131\n",
            "rdp                   131\n",
            "netblt                131\n",
            "igmp                   48\n",
            "icmp                   15\n",
            "rtp                     1\n"
          ],
          "name": "stdout"
        }
      ]
    },
    {
      "cell_type": "code",
      "metadata": {
        "id": "gF6LVK7VUM4F"
      },
      "source": [
        "#Separate data according to protocol\r\n",
        "udp_data = combined_data.where(combined_data['proto'] == \"udp\").dropna()\r\n",
        "tcp_data = combined_data.where(combined_data['proto'] == \"tcp\").dropna()\r\n",
        "other_prot_data =  combined_data.where(combined_data['proto'] != \"tcp\").dropna()\r\n",
        "other_prot_data =  other_prot_data.where(other_prot_data['proto'] != \"udp\").dropna()\r\n"
      ],
      "execution_count": 89,
      "outputs": []
    },
    {
      "cell_type": "code",
      "metadata": {
        "id": "Yy8mnX0-OBhc",
        "outputId": "26105779-2c92-48f2-aa24-469927f7cbba",
        "colab": {
          "base_uri": "https://localhost:8080/"
        }
      },
      "source": [
        "udp_data.shape"
      ],
      "execution_count": 33,
      "outputs": [
        {
          "output_type": "execute_result",
          "data": {
            "text/plain": [
              "(92701, 44)"
            ]
          },
          "metadata": {
            "tags": []
          },
          "execution_count": 33
        }
      ]
    },
    {
      "cell_type": "code",
      "metadata": {
        "id": "2PuYwLz4OFEa",
        "outputId": "740d7c78-3e67-4686-8491-20b839150704",
        "colab": {
          "base_uri": "https://localhost:8080/"
        }
      },
      "source": [
        "tcp_data.shape"
      ],
      "execution_count": 34,
      "outputs": [
        {
          "output_type": "execute_result",
          "data": {
            "text/plain": [
              "(123041, 44)"
            ]
          },
          "metadata": {
            "tags": []
          },
          "execution_count": 34
        }
      ]
    },
    {
      "cell_type": "code",
      "metadata": {
        "id": "7ovclqGmOK2R",
        "outputId": "8130366a-4713-46fb-a026-81d863f705ac",
        "colab": {
          "base_uri": "https://localhost:8080/"
        }
      },
      "source": [
        "other_prot_data.shape"
      ],
      "execution_count": 35,
      "outputs": [
        {
          "output_type": "execute_result",
          "data": {
            "text/plain": [
              "(41931, 44)"
            ]
          },
          "metadata": {
            "tags": []
          },
          "execution_count": 35
        }
      ]
    },
    {
      "cell_type": "code",
      "metadata": {
        "colab": {
          "base_uri": "https://localhost:8080/",
          "height": 353
        },
        "id": "IoXR5syeWAdo",
        "outputId": "86b56f5d-c795-4a65-d1ac-9e15cb1aff5a"
      },
      "source": [
        "class_ratio('udp ',udp_data)\r\n"
      ],
      "execution_count": 36,
      "outputs": [
        {
          "output_type": "stream",
          "text": [
            "The class ratio for the  dataset: 0.3:1 (22019/70682)\n"
          ],
          "name": "stdout"
        },
        {
          "output_type": "stream",
          "text": [
            "/usr/local/lib/python3.7/dist-packages/seaborn/_decorators.py:43: FutureWarning: Pass the following variable as a keyword arg: x. From version 0.12, the only valid positional argument will be `data`, and passing other arguments without an explicit keyword will result in an error or misinterpretation.\n",
            "  FutureWarning\n"
          ],
          "name": "stderr"
        },
        {
          "output_type": "display_data",
          "data": {
            "image/png": "[encoded data removed]",
            "text/plain": [
              "<Figure size 432x288 with 1 Axes>"
            ]
          },
          "metadata": {
            "tags": [],
            "needs_background": "light"
          }
        }
      ]
    },
    {
      "cell_type": "code",
      "metadata": {
        "id": "uRlcxDjkFgk0",
        "colab": {
          "base_uri": "https://localhost:8080/",
          "height": 353
        },
        "outputId": "7843def5-a143-4f63-92d3-b2551eace3e1"
      },
      "source": [
        "class_ratio('tcp ',tcp_data)"
      ],
      "execution_count": 37,
      "outputs": [
        {
          "output_type": "stream",
          "text": [
            "The class ratio for the  dataset: 1.2:1 (66969/56072)\n"
          ],
          "name": "stdout"
        },
        {
          "output_type": "stream",
          "text": [
            "/usr/local/lib/python3.7/dist-packages/seaborn/_decorators.py:43: FutureWarning: Pass the following variable as a keyword arg: x. From version 0.12, the only valid positional argument will be `data`, and passing other arguments without an explicit keyword will result in an error or misinterpretation.\n",
            "  FutureWarning\n"
          ],
          "name": "stderr"
        },
        {
          "output_type": "display_data",
          "data": {
            "image/png": "[encoded data removed]",
            "text/plain": [
              "<Figure size 432x288 with 1 Axes>"
            ]
          },
          "metadata": {
            "tags": [],
            "needs_background": "light"
          }
        }
      ]
    },
    {
      "cell_type": "code",
      "metadata": {
        "id": "N43AhKopFmMV",
        "colab": {
          "base_uri": "https://localhost:8080/",
          "height": 353
        },
        "outputId": "3defd2b8-d08f-483f-9d6f-6ab7aa78f050"
      },
      "source": [
        "class_ratio('other_protocol ',other_prot_data)"
      ],
      "execution_count": 38,
      "outputs": [
        {
          "output_type": "stream",
          "text": [
            "The class ratio for the  dataset: 0.1:1 (4012/37919)\n"
          ],
          "name": "stdout"
        },
        {
          "output_type": "stream",
          "text": [
            "/usr/local/lib/python3.7/dist-packages/seaborn/_decorators.py:43: FutureWarning: Pass the following variable as a keyword arg: x. From version 0.12, the only valid positional argument will be `data`, and passing other arguments without an explicit keyword will result in an error or misinterpretation.\n",
            "  FutureWarning\n"
          ],
          "name": "stderr"
        },
        {
          "output_type": "display_data",
          "data": {
            "image/png": "[encoded data removed]",
            "text/plain": [
              "<Figure size 432x288 with 1 Axes>"
            ]
          },
          "metadata": {
            "tags": [],
            "needs_background": "light"
          }
        }
      ]
    },
    {
      "cell_type": "code",
      "metadata": {
        "colab": {
          "base_uri": "https://localhost:8080/"
        },
        "id": "rjXB-AztrFBM",
        "outputId": "53f11217-bdc3-426b-c021-15d3ed0e48a8"
      },
      "source": [
        "#Under sampling\r\n",
        "!pip install imbalanced-learn\r\n"
      ],
      "execution_count": 40,
      "outputs": [
        {
          "output_type": "stream",
          "text": [
            "Requirement already satisfied: imbalanced-learn in /usr/local/lib/python3.7/dist-packages (0.4.3)\n",
            "Requirement already satisfied: scipy>=0.13.3 in /usr/local/lib/python3.7/dist-packages (from imbalanced-learn) (1.4.1)\n",
            "Requirement already satisfied: numpy>=1.8.2 in /usr/local/lib/python3.7/dist-packages (from imbalanced-learn) (1.19.5)\n",
            "Requirement already satisfied: scikit-learn>=0.20 in /usr/local/lib/python3.7/dist-packages (from imbalanced-learn) (0.22.2.post1)\n",
            "Requirement already satisfied: joblib>=0.11 in /usr/local/lib/python3.7/dist-packages (from scikit-learn>=0.20->imbalanced-learn) (1.0.1)\n"
          ],
          "name": "stdout"
        }
      ]
    },
    {
      "cell_type": "code",
      "metadata": {
        "id": "2olQveYorNvc",
        "colab": {
          "base_uri": "https://localhost:8080/"
        },
        "outputId": "b0bc631c-81a7-44f7-f14c-2564d058f8c5"
      },
      "source": [
        "import imblearn\r\n",
        "print(imblearn.__version__)"
      ],
      "execution_count": 41,
      "outputs": [
        {
          "output_type": "stream",
          "text": [
            "0.4.3\n"
          ],
          "name": "stdout"
        },
        {
          "output_type": "stream",
          "text": [
            "/usr/local/lib/python3.7/dist-packages/sklearn/externals/six.py:31: FutureWarning: The module is deprecated in version 0.21 and will be removed in version 0.23 since we've dropped support for Python 2.7. Please rely on the official version of six (https://pypi.org/project/six/).\n",
            "  \"(https://pypi.org/project/six/).\", FutureWarning)\n",
            "/usr/local/lib/python3.7/dist-packages/sklearn/utils/deprecation.py:144: FutureWarning: The sklearn.neighbors.base module is  deprecated in version 0.22 and will be removed in version 0.24. The corresponding classes / functions should instead be imported from sklearn.neighbors. Anything that cannot be imported from sklearn.neighbors is now part of the private API.\n",
            "  warnings.warn(message, FutureWarning)\n"
          ],
          "name": "stderr"
        }
      ]
    },
    {
      "cell_type": "code",
      "metadata": {
        "id": "axT5hkC5rWR6"
      },
      "source": [
        "from collections import Counter\r\n",
        "from sklearn.datasets import make_classification\r\n",
        "from imblearn.over_sampling import RandomOverSampler\r\n",
        "from imblearn.under_sampling import RandomUnderSampler"
      ],
      "execution_count": 42,
      "outputs": []
    },
    {
      "cell_type": "markdown",
      "metadata": {
        "id": "cmEOF2KxuxYb"
      },
      "source": [
        "<h1>define undersampling strategy</h1>"
      ]
    },
    {
      "cell_type": "code",
      "metadata": {
        "id": "HPDxLOA2sxId"
      },
      "source": [
        "# define undersampling strategy\r\n",
        "def undersampling(strategy,X_train, y_train):\r\n",
        "    undersample = RandomUnderSampler(sampling_strategy=strategy)\r\n",
        "    # fit and apply the transform\r\n",
        "    X_over, y_over = undersample.fit_resample(X_train, y_train)\r\n",
        "    return  X_over,y_over"
      ],
      "execution_count": 43,
      "outputs": []
    },
    {
      "cell_type": "markdown",
      "metadata": {
        "id": "-3Q7j5DRu3RW"
      },
      "source": [
        "<h1>define Oversampling strategy</h1>"
      ]
    },
    {
      "cell_type": "code",
      "metadata": {
        "id": "vDmBjClqu9xd"
      },
      "source": [
        "# define Oversampling strategy\r\n",
        "def oversampling(strategy,X_train, y_train):\r\n",
        "    oversample = RandomOverSampler(sampling_strategy=strategy)\r\n",
        "    # fit and apply the transform\r\n",
        "    X_over, y_over = oversample.fit_resample(X_train, y_train)\r\n",
        "    return  X_over,y_over"
      ],
      "execution_count": 44,
      "outputs": []
    },
    {
      "cell_type": "code",
      "metadata": {
        "colab": {
          "base_uri": "https://localhost:8080/"
        },
        "id": "FRfDHanZD-_h",
        "outputId": "d88cfe09-5084-4cff-ee3f-f59084ce33ff"
      },
      "source": [
        "#tcp_data.shape\r\n",
        "print(Counter(udp_data['label']))"
      ],
      "execution_count": 45,
      "outputs": [
        {
          "output_type": "stream",
          "text": [
            "Counter({1.0: 70682, 0.0: 22019})\n"
          ],
          "name": "stdout"
        }
      ]
    },
    {
      "cell_type": "markdown",
      "metadata": {
        "id": "DHozOBtj59Sx"
      },
      "source": [
        "#Encoding non numeric Values"
      ]
    },
    {
      "cell_type": "code",
      "metadata": {
        "id": "kfKBPifR6CqI"
      },
      "source": [
        "#define function to encode categorical values from data\r\n",
        "def encode_data(data):\r\n",
        "    le1 = LabelEncoder()\r\n",
        "    le = LabelEncoder()\r\n",
        "    vector = data['attack_cat']\r\n",
        "\r\n",
        "    print(\"attack cat:\", set(list(vector))) # use print to make it print on single line \r\n",
        "\r\n",
        "    data['attack_cat'] = le1.fit_transform(vector)\r\n",
        "    data['proto'] = le.fit_transform(data['proto'])\r\n",
        "    data['service'] = le.fit_transform(data['service'])\r\n",
        "    data['state'] = le.fit_transform(data['state'])\r\n",
        "    return data\r\n"
      ],
      "execution_count": 90,
      "outputs": []
    },
    {
      "cell_type": "code",
      "metadata": {
        "colab": {
          "base_uri": "https://localhost:8080/"
        },
        "id": "deGUV9FZbDA1",
        "outputId": "db4492fc-88ec-4dee-ce65-4f8b6218600b"
      },
      "source": [
        "udp_data = encode_data( udp_data)\r\n",
        "tcp_data = encode_data( tcp_data)\r\n",
        "other_prot_data = encode_data( other_prot_data)"
      ],
      "execution_count": 91,
      "outputs": [
        {
          "output_type": "stream",
          "text": [
            "attack cat: {'Normal', 'Reconnaissance', 'Worms', 'Generic', 'Backdoor', 'Shellcode', 'Exploits', 'DoS', 'Fuzzers'}\n",
            "attack cat: {'Normal', 'Reconnaissance', 'Analysis', 'Worms', 'Backdoor', 'Generic', 'Shellcode', 'Exploits', 'DoS', 'Fuzzers'}\n",
            "attack cat: {'Normal', 'Reconnaissance', 'Analysis', 'Generic', 'Backdoor', 'Exploits', 'DoS', 'Fuzzers'}\n"
          ],
          "name": "stdout"
        }
      ]
    },
    {
      "cell_type": "code",
      "metadata": {
        "id": "4RyBeclH6DzA",
        "outputId": "79fbfd9c-fcff-4946-d43f-2c106aea8881",
        "colab": {
          "base_uri": "https://localhost:8080/",
          "height": 165
        }
      },
      "source": [
        "udp_data.head(2)"
      ],
      "execution_count": 67,
      "outputs": [
        {
          "output_type": "execute_result",
          "data": {
            "text/html": [
              "<div>\n",
              "<style scoped>\n",
              "    .dataframe tbody tr th:only-of-type {\n",
              "        vertical-align: middle;\n",
              "    }\n",
              "\n",
              "    .dataframe tbody tr th {\n",
              "        vertical-align: top;\n",
              "    }\n",
              "\n",
              "    .dataframe thead th {\n",
              "        text-align: right;\n",
              "    }\n",
              "</style>\n",
              "<table border=\"1\" class=\"dataframe\">\n",
              "  <thead>\n",
              "    <tr style=\"text-align: right;\">\n",
              "      <th></th>\n",
              "      <th>dur</th>\n",
              "      <th>proto</th>\n",
              "      <th>service</th>\n",
              "      <th>state</th>\n",
              "      <th>spkts</th>\n",
              "      <th>dpkts</th>\n",
              "      <th>sbytes</th>\n",
              "      <th>dbytes</th>\n",
              "      <th>rate</th>\n",
              "      <th>sttl</th>\n",
              "      <th>dttl</th>\n",
              "      <th>sload</th>\n",
              "      <th>dload</th>\n",
              "      <th>sloss</th>\n",
              "      <th>dloss</th>\n",
              "      <th>sinpkt</th>\n",
              "      <th>dinpkt</th>\n",
              "      <th>sjit</th>\n",
              "      <th>djit</th>\n",
              "      <th>swin</th>\n",
              "      <th>stcpb</th>\n",
              "      <th>dtcpb</th>\n",
              "      <th>dwin</th>\n",
              "      <th>tcprtt</th>\n",
              "      <th>synack</th>\n",
              "      <th>ackdat</th>\n",
              "      <th>smean</th>\n",
              "      <th>dmean</th>\n",
              "      <th>trans_depth</th>\n",
              "      <th>response_body_len</th>\n",
              "      <th>ct_srv_src</th>\n",
              "      <th>ct_state_ttl</th>\n",
              "      <th>ct_dst_ltm</th>\n",
              "      <th>ct_src_dport_ltm</th>\n",
              "      <th>ct_dst_sport_ltm</th>\n",
              "      <th>ct_dst_src_ltm</th>\n",
              "      <th>is_ftp_login</th>\n",
              "      <th>ct_ftp_cmd</th>\n",
              "      <th>ct_flw_http_mthd</th>\n",
              "      <th>ct_src_ltm</th>\n",
              "      <th>ct_srv_dst</th>\n",
              "      <th>is_sm_ips_ports</th>\n",
              "      <th>attack_cat</th>\n",
              "      <th>label</th>\n",
              "    </tr>\n",
              "  </thead>\n",
              "  <tbody>\n",
              "    <tr>\n",
              "      <th>0</th>\n",
              "      <td>3.333555e-08</td>\n",
              "      <td>0.0</td>\n",
              "      <td>1.0</td>\n",
              "      <td>0.5</td>\n",
              "      <td>0.001957</td>\n",
              "      <td>0.0</td>\n",
              "      <td>0.000607</td>\n",
              "      <td>0.0</td>\n",
              "      <td>0.500000</td>\n",
              "      <td>0.995575</td>\n",
              "      <td>0.0</td>\n",
              "      <td>0.046092</td>\n",
              "      <td>0.0</td>\n",
              "      <td>0.0</td>\n",
              "      <td>0.0</td>\n",
              "      <td>2.370469e-08</td>\n",
              "      <td>0.0</td>\n",
              "      <td>0.0</td>\n",
              "      <td>0.0</td>\n",
              "      <td>0.0</td>\n",
              "      <td>0.0</td>\n",
              "      <td>0.0</td>\n",
              "      <td>0.0</td>\n",
              "      <td>0.0</td>\n",
              "      <td>0.0</td>\n",
              "      <td>0.0</td>\n",
              "      <td>0.030405</td>\n",
              "      <td>0.0</td>\n",
              "      <td>0.0</td>\n",
              "      <td>0.0</td>\n",
              "      <td>0.000000</td>\n",
              "      <td>0.333333</td>\n",
              "      <td>0.0</td>\n",
              "      <td>0.0</td>\n",
              "      <td>0.0</td>\n",
              "      <td>0.048387</td>\n",
              "      <td>0.0</td>\n",
              "      <td>0.0</td>\n",
              "      <td>0.0</td>\n",
              "      <td>0.016949</td>\n",
              "      <td>0.000000</td>\n",
              "      <td>0.0</td>\n",
              "      <td>0.625</td>\n",
              "      <td>0.0</td>\n",
              "    </tr>\n",
              "    <tr>\n",
              "      <th>1</th>\n",
              "      <td>2.000133e-07</td>\n",
              "      <td>0.0</td>\n",
              "      <td>0.0</td>\n",
              "      <td>0.5</td>\n",
              "      <td>0.001957</td>\n",
              "      <td>0.0</td>\n",
              "      <td>0.007407</td>\n",
              "      <td>0.0</td>\n",
              "      <td>0.083333</td>\n",
              "      <td>0.995575</td>\n",
              "      <td>0.0</td>\n",
              "      <td>0.078713</td>\n",
              "      <td>0.0</td>\n",
              "      <td>0.0</td>\n",
              "      <td>0.0</td>\n",
              "      <td>1.422281e-07</td>\n",
              "      <td>0.0</td>\n",
              "      <td>0.0</td>\n",
              "      <td>0.0</td>\n",
              "      <td>0.0</td>\n",
              "      <td>0.0</td>\n",
              "      <td>0.0</td>\n",
              "      <td>0.0</td>\n",
              "      <td>0.0</td>\n",
              "      <td>0.0</td>\n",
              "      <td>0.0</td>\n",
              "      <td>0.461486</td>\n",
              "      <td>0.0</td>\n",
              "      <td>0.0</td>\n",
              "      <td>0.0</td>\n",
              "      <td>0.096774</td>\n",
              "      <td>0.333333</td>\n",
              "      <td>0.0</td>\n",
              "      <td>0.0</td>\n",
              "      <td>0.0</td>\n",
              "      <td>0.032258</td>\n",
              "      <td>0.0</td>\n",
              "      <td>0.0</td>\n",
              "      <td>0.0</td>\n",
              "      <td>0.016949</td>\n",
              "      <td>0.032787</td>\n",
              "      <td>0.0</td>\n",
              "      <td>0.625</td>\n",
              "      <td>0.0</td>\n",
              "    </tr>\n",
              "  </tbody>\n",
              "</table>\n",
              "</div>"
            ],
            "text/plain": [
              "            dur  proto  service  ...  is_sm_ips_ports  attack_cat  label\n",
              "0  3.333555e-08    0.0      1.0  ...              0.0       0.625    0.0\n",
              "1  2.000133e-07    0.0      0.0  ...              0.0       0.625    0.0\n",
              "\n",
              "[2 rows x 44 columns]"
            ]
          },
          "metadata": {
            "tags": []
          },
          "execution_count": 67
        }
      ]
    },
    {
      "cell_type": "markdown",
      "metadata": {
        "id": "0n5ay-WjM7HR"
      },
      "source": [
        "#Normalizing Dataset"
      ]
    },
    {
      "cell_type": "code",
      "metadata": {
        "id": "k4HuAyi2M6XH"
      },
      "source": [
        "def normalize_data(data):\r\n",
        "    scaler = preprocessing.MinMaxScaler()\r\n",
        "    names = data.columns\r\n",
        "    d = scaler.fit_transform(data)\r\n",
        "    scaled_df = pd.DataFrame(d, columns=names)\r\n",
        "    return scaled_df"
      ],
      "execution_count": 92,
      "outputs": []
    },
    {
      "cell_type": "code",
      "metadata": {
        "id": "K3s6H1AxjpMG"
      },
      "source": [
        "udp_data = normalize_data( udp_data)\r\n",
        "tcp_data = normalize_data( tcp_data)\r\n",
        "other_prot_data = normalize_data( other_prot_data)"
      ],
      "execution_count": 49,
      "outputs": []
    },
    {
      "cell_type": "markdown",
      "metadata": {
        "id": "yE2wDic3BLpW"
      },
      "source": [
        "<h1>Splitting the dataset</h1>"
      ]
    },
    {
      "cell_type": "code",
      "metadata": {
        "id": "_BTYw5gjBJr2"
      },
      "source": [
        "# droped label\r\n",
        "udp_data_x = udp_data.drop(['attack_cat','label'], axis=1) \r\n",
        "udp_data_y = udp_data.loc[:,['label']]\r\n",
        "\r\n",
        "tcp_data_x = tcp_data.drop(['attack_cat','label'], axis=1) \r\n",
        "tcp_data_y = tcp_data.loc[:,['label']]\r\n",
        "\r\n",
        "other_data_x = other_prot_data.drop(['attack_cat','label'], axis=1) \r\n",
        "other_data_y = other_prot_data.loc[:,['label']]\r\n",
        "\r\n",
        "udp_X_train, udp_X_test, udp_y_train, udp_y_test = train_test_split(udp_data_x, udp_data_y, test_size=.20, random_state=42) \r\n",
        "tcp_X_train, tcp_X_test, tcp_y_train, tcp_y_test = train_test_split(tcp_data_x, tcp_data_y, test_size=.20, random_state=42) \r\n",
        "other_X_train, other_X_test, other_y_train, other_y_test = train_test_split(other_data_x, other_data_y, test_size=.20, random_state=42) "
      ],
      "execution_count": 93,
      "outputs": []
    },
    {
      "cell_type": "markdown",
      "metadata": {
        "id": "zI9fv4oq-BSw"
      },
      "source": [
        "#Features selection"
      ]
    },
    {
      "cell_type": "code",
      "metadata": {
        "id": "zYvAgKYNaqCn"
      },
      "source": [
        "#Feature selection with chi2\r\n",
        "def feat_select_chi2(data_x,data_y):\r\n",
        "  chi2_selector = SelectKBest(chi2, k=25)\r\n",
        "  X_train_kbest = chi2_selector.fit_transform(data_x, data_y)\r\n",
        "  return X_train_kbest"
      ],
      "execution_count": 94,
      "outputs": []
    },
    {
      "cell_type": "code",
      "metadata": {
        "id": "j18loaX-LSe4"
      },
      "source": [
        "#Feature selection with RFE\r\n",
        "def feat_select_RFE(data_x,data_y):\r\n",
        "  estimator = DecisionTreeClassifier()\r\n",
        "  selector = RFE(estimator, n_features_to_select=25, step=1)\r\n",
        "  data_transform = selector.fit_transform(data_x, data_y) \r\n",
        "  return data_transform"
      ],
      "execution_count": 95,
      "outputs": []
    },
    {
      "cell_type": "code",
      "metadata": {
        "colab": {
          "base_uri": "https://localhost:8080/"
        },
        "id": "GkYk5H5K2Rny",
        "outputId": "46ecf6af-0796-48cb-f8a8-cd2015c76dce"
      },
      "source": [
        "type(udp_y_train)"
      ],
      "execution_count": null,
      "outputs": [
        {
          "output_type": "execute_result",
          "data": {
            "text/plain": [
              "pandas.core.frame.DataFrame"
            ]
          },
          "metadata": {
            "tags": []
          },
          "execution_count": 61
        }
      ]
    },
    {
      "cell_type": "markdown",
      "metadata": {
        "id": "I41YZ0iSb0Bv"
      },
      "source": [
        "<h1>Estimate score </h1>"
      ]
    },
    {
      "cell_type": "code",
      "metadata": {
        "id": "Bc-uM5Pzb6he"
      },
      "source": [
        "# ===== Step 1: cross-validation ========\r\n",
        "\r\n",
        "def estimate_score(clf,x_train,y_train):\r\n",
        "    #clf = svm.SVC(kernel='linear') # Linear Kernel\r\n",
        "\r\n",
        "    # define  Stratified 5-fold cross-validator, it provides train/validate indices to split data in train/validate sets.\r\n",
        "    cv = StratifiedKFold(n_splits=5, shuffle=True, random_state=123)\r\n",
        "\r\n",
        "    # define metrics for evaluating\r\n",
        "    scoring = ['accuracy', 'precision', 'recall', 'f1', 'roc_auc']\r\n",
        "\r\n",
        "    #perform the 5-fold CV and get the metrics results\r\n",
        "    cv_results = cross_validate(estimator=clf,\r\n",
        "                            X = x_train,\r\n",
        "                            y = y_train, \r\n",
        "                            scoring = scoring,\r\n",
        "                            cv = cv,\r\n",
        "                            return_train_score = False)\r\n",
        "    return cv_results"
      ],
      "execution_count": 96,
      "outputs": []
    },
    {
      "cell_type": "code",
      "metadata": {
        "id": "AnUSVE3ZY4nw"
      },
      "source": [
        "# ======== Step 2: Evaluate the model using testing data =======\r\n",
        "\r\n",
        "def evaluate_model(type,clf,x_train_d,x_test_d,y_train_d,y_test_d):\r\n",
        "    \r\n",
        "    # fit the Logistic Regression model\r\n",
        "    if type == 'knn':\r\n",
        "        clf.fit(X=x_train_d)\r\n",
        "    else:\r\n",
        "        clf.fit(X=x_train_d, y=y_train_d)\r\n",
        "\r\n",
        "    # predition on testing data\r\n",
        "    y_pred_class = clf.predict(X=x_test_d)\r\n",
        "    #y_pred_score = clf.predict_proba(X=x_test_d)[:, 1]\r\n",
        "\r\n",
        "    # AUC of ROC\r\n",
        "    #auc_ontest = roc_auc_score(y_true=y_test_d, y_score=y_pred_score)\r\n",
        "    # confusion matrix\r\n",
        "    cm_ontest = confusion_matrix(y_true=y_test_d, y_pred=y_pred_class)\r\n",
        "    # precision score\r\n",
        "    precision_ontest = precision_score(y_true=y_test_d, y_pred=y_pred_class)\r\n",
        "    # recall score\r\n",
        "    recall_ontest = recall_score(y_true=y_test_d, y_pred=y_pred_class)\r\n",
        "    # classifition report\r\n",
        "    cls_report_ontest = classification_report(y_true=y_test_d, y_pred=y_pred_class)\r\n",
        "\r\n",
        "    # print the above results\r\n",
        "    #print('The model scores {:1.5f} ROC AUC on the test set.'.format(auc_ontest))\r\n",
        "    print('The precision score on the test set: {:1.5f}'.format(precision_ontest))\r\n",
        "    print('The recall score on the test set: {:1.5f}'.format(recall_ontest))\r\n",
        "    print('Confusion Matrix:\\n', cm_ontest)\r\n",
        "    # Print classification report:\r\n",
        "    print('Classification Report:\\n', cls_report_ontest)"
      ],
      "execution_count": 97,
      "outputs": []
    },
    {
      "cell_type": "markdown",
      "metadata": {
        "id": "6yLpw-iDdemz"
      },
      "source": [
        "<h1>Print CV _Results</h1>"
      ]
    },
    {
      "cell_type": "code",
      "metadata": {
        "id": "Ip8AAEkIdkok"
      },
      "source": [
        "def print_cv_results(cv_results):\r\n",
        "    for key, value in cv_results.items(): \r\n",
        "      print( key,value.mean())"
      ],
      "execution_count": 1,
      "outputs": []
    },
    {
      "cell_type": "markdown",
      "metadata": {
        "id": "uZCInBoY4wTt"
      },
      "source": [
        "#UDP Modul"
      ]
    },
    {
      "cell_type": "markdown",
      "metadata": {
        "id": "_pwGiFDYgzyX"
      },
      "source": [
        "<h1>Estimation of SVM on Chi2 </h1>"
      ]
    },
    {
      "cell_type": "code",
      "metadata": {
        "id": "PZrcnlcrfnv-"
      },
      "source": [
        "clf_svm = svm.SVC(kernel='linear')\r\n",
        "estimation = estimate_score(clf_svm,feat_select_chi2(udp_X_train,udp_y_train),udp_y_train['label'].values)\r\n",
        "print_cv_results(estimation)"
      ],
      "execution_count": null,
      "outputs": []
    },
    {
      "cell_type": "markdown",
      "metadata": {
        "id": "8T36saJZs0I0"
      },
      "source": [
        "<h1>Estimation of SVM on RFE </h1>"
      ]
    },
    {
      "cell_type": "code",
      "metadata": {
        "colab": {
          "base_uri": "https://localhost:8080/"
        },
        "id": "qEVPfipkqJQW",
        "outputId": "6b44dbce-9fe8-4428-8b60-ce3d2e0a0ba1"
      },
      "source": [
        "estimation = estimate_score(clf_svm,feat_select_RFE(udp_X_train,udp_y_train),udp_y_train['label'].values)\r\n",
        "print_cv_results(estimation)"
      ],
      "execution_count": 59,
      "outputs": [
        {
          "output_type": "stream",
          "text": [
            "/usr/local/lib/python3.7/dist-packages/sklearn/utils/validation.py:760: DataConversionWarning: A column-vector y was passed when a 1d array was expected. Please change the shape of y to (n_samples, ), for example using ravel().\n",
            "  y = column_or_1d(y, warn=True)\n"
          ],
          "name": "stderr"
        },
        {
          "output_type": "stream",
          "text": [
            "fit_time 26.558034086227416\n",
            "score_time 5.819858884811401\n",
            "test_accuracy 0.9421790722761598\n",
            "test_precision 0.9375389753233927\n",
            "test_recall 0.9900502913105113\n",
            "test_f1 0.9630778138166265\n",
            "test_roc_auc 0.9880111033486203\n"
          ],
          "name": "stdout"
        }
      ]
    },
    {
      "cell_type": "markdown",
      "metadata": {
        "id": "JPnfBVxaqWwe"
      },
      "source": [
        "<h1>Evaluation of Chi2-SVM on Test data</h1>"
      ]
    },
    {
      "cell_type": "code",
      "metadata": {
        "colab": {
          "base_uri": "https://localhost:8080/"
        },
        "id": "f-0Jx_34qWVX",
        "outputId": "138f186c-4efb-4899-b6ae-d20e6b50b94d"
      },
      "source": [
        "evaluate_model('null',clf_svm,feat_select_chi2(udp_X_train,udp_y_train),feat_select_chi2(udp_X_test,udp_y_test),udp_y_train['label'].values,udp_y_test['label'].values)"
      ],
      "execution_count": 62,
      "outputs": [
        {
          "output_type": "stream",
          "text": [
            "The precision score on the test set: 0.93897\n",
            "The recall score on the test set: 0.98944\n",
            "Confusion Matrix:\n",
            " [[ 3430   913]\n",
            " [  150 14048]]\n",
            "Classification Report:\n",
            "               precision    recall  f1-score   support\n",
            "\n",
            "         0.0       0.96      0.79      0.87      4343\n",
            "         1.0       0.94      0.99      0.96     14198\n",
            "\n",
            "    accuracy                           0.94     18541\n",
            "   macro avg       0.95      0.89      0.91     18541\n",
            "weighted avg       0.94      0.94      0.94     18541\n",
            "\n"
          ],
          "name": "stdout"
        }
      ]
    },
    {
      "cell_type": "markdown",
      "metadata": {
        "id": "aT_4swqWsvin"
      },
      "source": [
        "<h1>Evaluation of RFE-SVM on Test data</h1>"
      ]
    },
    {
      "cell_type": "code",
      "metadata": {
        "colab": {
          "base_uri": "https://localhost:8080/"
        },
        "id": "e9oq_VhssxkG",
        "outputId": "736e03d1-05cb-486a-e336-56319b255441"
      },
      "source": [
        "evaluate_model('null',clf_svm,feat_select_RFE(udp_X_train,udp_y_train),feat_select_RFE(udp_X_test,udp_y_test),udp_y_train['label'].values,udp_y_test['label'].values)"
      ],
      "execution_count": 63,
      "outputs": [
        {
          "output_type": "stream",
          "text": [
            "/usr/local/lib/python3.7/dist-packages/sklearn/utils/validation.py:760: DataConversionWarning: A column-vector y was passed when a 1d array was expected. Please change the shape of y to (n_samples, ), for example using ravel().\n",
            "  y = column_or_1d(y, warn=True)\n",
            "/usr/local/lib/python3.7/dist-packages/sklearn/utils/validation.py:760: DataConversionWarning: A column-vector y was passed when a 1d array was expected. Please change the shape of y to (n_samples, ), for example using ravel().\n",
            "  y = column_or_1d(y, warn=True)\n"
          ],
          "name": "stderr"
        },
        {
          "output_type": "stream",
          "text": [
            "The precision score on the test set: 0.01447\n",
            "The recall score on the test set: 0.00218\n",
            "Confusion Matrix:\n",
            " [[ 2232  2111]\n",
            " [14167    31]]\n",
            "Classification Report:\n",
            "               precision    recall  f1-score   support\n",
            "\n",
            "         0.0       0.14      0.51      0.22      4343\n",
            "         1.0       0.01      0.00      0.00     14198\n",
            "\n",
            "    accuracy                           0.12     18541\n",
            "   macro avg       0.08      0.26      0.11     18541\n",
            "weighted avg       0.04      0.12      0.05     18541\n",
            "\n"
          ],
          "name": "stdout"
        }
      ]
    },
    {
      "cell_type": "markdown",
      "metadata": {
        "id": "xAUaDlAqs6LE"
      },
      "source": [
        "<h1> Evaluation of KNN on Chi2 </h1>\r\n",
        "\r\n"
      ]
    },
    {
      "cell_type": "code",
      "metadata": {
        "id": "_F3ODZN4w59W"
      },
      "source": [
        "%%capture \r\n",
        "!pip install pyod"
      ],
      "execution_count": 64,
      "outputs": []
    },
    {
      "cell_type": "code",
      "metadata": {
        "id": "ZLk3gf5OxAqs"
      },
      "source": [
        "from pyod.models import lof, cblof, cof, pca, iforest, knn, mcd, ocsvm, sod, abod, hbos #, auto_encoder, vae\r\n",
        "contamination = 0.4\r\n",
        "threshold = 0.75"
      ],
      "execution_count": 65,
      "outputs": []
    },
    {
      "cell_type": "code",
      "metadata": {
        "id": "msd65u-yRNhO",
        "colab": {
          "base_uri": "https://localhost:8080/",
          "height": 353
        },
        "outputId": "166208f0-e2bb-47cd-d35a-3f2b88924759"
      },
      "source": [
        "\r\n",
        "class_ratio('Udp protocol ',udp_y_train)"
      ],
      "execution_count": 68,
      "outputs": [
        {
          "output_type": "stream",
          "text": [
            "The class ratio for the  dataset: 0.3:1 (17676/56484)\n"
          ],
          "name": "stdout"
        },
        {
          "output_type": "stream",
          "text": [
            "/usr/local/lib/python3.7/dist-packages/seaborn/_decorators.py:43: FutureWarning: Pass the following variable as a keyword arg: x. From version 0.12, the only valid positional argument will be `data`, and passing other arguments without an explicit keyword will result in an error or misinterpretation.\n",
            "  FutureWarning\n"
          ],
          "name": "stderr"
        },
        {
          "output_type": "display_data",
          "data": {
            "image/png": "[encoded data removed]",
            "text/plain": [
              "<Figure size 432x288 with 1 Axes>"
            ]
          },
          "metadata": {
            "tags": [],
            "needs_background": "light"
          }
        }
      ]
    },
    {
      "cell_type": "code",
      "metadata": {
        "id": "fBkTpNtaSn_G"
      },
      "source": [
        "#Resample udp dataset for KNN\r\n",
        "# x_resampled, y_resampled = oversampling('minority',udp_X_train,udp_y_train)\r\n",
        "tmp_normal = udp_data.where(udp_data['label'] == 0).dropna()\r\n",
        "tmp_attack = udp_data.where(udp_data['label'] == 1).dropna()\r\n",
        "#tmp_normal = pd.concat([tmp_normal, tmp_attack.sample(n=50000)])\r\n",
        "tmp_normal = pd.concat([tmp_normal, tmp_normal])\r\n",
        "tmp_normal = pd.concat([tmp_normal, tmp_normal])\r\n",
        "tmp_normal = pd.concat([tmp_normal, tmp_attack.sample(n=5000)])\r\n",
        "udp_data_x = tmp_normal.drop(['label'], axis=1) \r\n",
        "udp_data_y = tmp_normal.loc[:,['label']]\r\n",
        "udp_X_train, udp_X_test, udp_y_train, udp_y_test = train_test_split(udp_data_x, udp_data_y, test_size=.20, random_state=42) \r\n"
      ],
      "execution_count": 69,
      "outputs": []
    },
    {
      "cell_type": "code",
      "metadata": {
        "id": "F8YTClTt079U",
        "colab": {
          "base_uri": "https://localhost:8080/",
          "height": 353
        },
        "outputId": "aa95b8a0-ebb0-405c-b90e-29b9f5a4ac6a"
      },
      "source": [
        "#Verify resampling\r\n",
        "class_ratio('Udp protocol ',udp_y_train)"
      ],
      "execution_count": 70,
      "outputs": [
        {
          "output_type": "stream",
          "text": [
            "The class ratio for the  dataset: 17.6:1 (70451/4009)\n"
          ],
          "name": "stdout"
        },
        {
          "output_type": "stream",
          "text": [
            "/usr/local/lib/python3.7/dist-packages/seaborn/_decorators.py:43: FutureWarning: Pass the following variable as a keyword arg: x. From version 0.12, the only valid positional argument will be `data`, and passing other arguments without an explicit keyword will result in an error or misinterpretation.\n",
            "  FutureWarning\n"
          ],
          "name": "stderr"
        },
        {
          "output_type": "display_data",
          "data": {
            "image/png": "[encoded data removed]",
            "text/plain": [
              "<Figure size 432x288 with 1 Axes>"
            ]
          },
          "metadata": {
            "tags": [],
            "needs_background": "light"
          }
        }
      ]
    },
    {
      "cell_type": "code",
      "metadata": {
        "colab": {
          "base_uri": "https://localhost:8080/"
        },
        "id": "ycspULMMtL6U",
        "outputId": "aaf36079-1efe-4d29-d309-c9bfb3f9a383"
      },
      "source": [
        "#Evaluate Chi2-knn\r\n",
        "Xdd = feat_select_chi2(udp_X_train,udp_y_train)\r\n",
        "knn_clf = knn.KNN(contamination=contamination, radius=1.5, n_neighbors=20, n_jobs=-1) #TODO radius\r\n",
        "_ = knn_clf.fit(Xdd)\r\n",
        "evaluate_model('knn',knn_clf,feat_select_chi2(udp_X_train,udp_y_train),feat_select_chi2(udp_X_test,udp_y_test),udp_y_train['label'].values,udp_y_test['label'].values)\r\n"
      ],
      "execution_count": 71,
      "outputs": [
        {
          "output_type": "stream",
          "text": [
            "The precision score on the test set: 0.05323\n",
            "The recall score on the test set: 1.00000\n",
            "Confusion Matrix:\n",
            " [[    0 17625]\n",
            " [    0   991]]\n",
            "Classification Report:\n",
            "               precision    recall  f1-score   support\n",
            "\n",
            "         0.0       0.00      0.00      0.00     17625\n",
            "         1.0       0.05      1.00      0.10       991\n",
            "\n",
            "    accuracy                           0.05     18616\n",
            "   macro avg       0.03      0.50      0.05     18616\n",
            "weighted avg       0.00      0.05      0.01     18616\n",
            "\n"
          ],
          "name": "stdout"
        },
        {
          "output_type": "stream",
          "text": [
            "/usr/local/lib/python3.7/dist-packages/sklearn/metrics/_classification.py:1272: UndefinedMetricWarning: Precision and F-score are ill-defined and being set to 0.0 in labels with no predicted samples. Use `zero_division` parameter to control this behavior.\n",
            "  _warn_prf(average, modifier, msg_start, len(result))\n"
          ],
          "name": "stderr"
        }
      ]
    },
    {
      "cell_type": "markdown",
      "metadata": {
        "id": "1Izqgio04ZpA"
      },
      "source": [
        "<h1> Evaluation of KNN on RFE </h1>\r\n"
      ]
    },
    {
      "cell_type": "code",
      "metadata": {
        "colab": {
          "base_uri": "https://localhost:8080/"
        },
        "id": "QePc7SOK3Czw",
        "outputId": "1c74c5dd-3e10-4b03-b65c-51c0567cd8ab"
      },
      "source": [
        "#Evaluate RFE-knn\r\n",
        "Xdd = feat_select_RFE(udp_X_train,udp_y_train)\r\n",
        "knn_clf = knn.KNN(contamination=contamination, radius=1.5, n_neighbors=20, n_jobs=-1) #TODO radius\r\n",
        "_ = knn_clf.fit(Xdd)\r\n",
        "evaluate_model('knn',knn_clf,feat_select_RFE(udp_X_train,udp_y_train),feat_select_RFE(udp_X_test,udp_y_test),udp_y_train['label'].values,udp_y_test['label'].values)\r\n"
      ],
      "execution_count": 72,
      "outputs": [
        {
          "output_type": "stream",
          "text": [
            "/usr/local/lib/python3.7/dist-packages/sklearn/utils/validation.py:760: DataConversionWarning: A column-vector y was passed when a 1d array was expected. Please change the shape of y to (n_samples, ), for example using ravel().\n",
            "  y = column_or_1d(y, warn=True)\n",
            "/usr/local/lib/python3.7/dist-packages/sklearn/utils/validation.py:760: DataConversionWarning: A column-vector y was passed when a 1d array was expected. Please change the shape of y to (n_samples, ), for example using ravel().\n",
            "  y = column_or_1d(y, warn=True)\n",
            "/usr/local/lib/python3.7/dist-packages/sklearn/utils/validation.py:760: DataConversionWarning: A column-vector y was passed when a 1d array was expected. Please change the shape of y to (n_samples, ), for example using ravel().\n",
            "  y = column_or_1d(y, warn=True)\n"
          ],
          "name": "stderr"
        },
        {
          "output_type": "stream",
          "text": [
            "The precision score on the test set: 0.10695\n",
            "The recall score on the test set: 0.80424\n",
            "Confusion Matrix:\n",
            " [[10970  6655]\n",
            " [  194   797]]\n",
            "Classification Report:\n",
            "               precision    recall  f1-score   support\n",
            "\n",
            "         0.0       0.98      0.62      0.76     17625\n",
            "         1.0       0.11      0.80      0.19       991\n",
            "\n",
            "    accuracy                           0.63     18616\n",
            "   macro avg       0.54      0.71      0.48     18616\n",
            "weighted avg       0.94      0.63      0.73     18616\n",
            "\n"
          ],
          "name": "stdout"
        }
      ]
    },
    {
      "cell_type": "markdown",
      "metadata": {
        "id": "IBf9shWX4kp1"
      },
      "source": [
        "# TCP Module"
      ]
    },
    {
      "cell_type": "markdown",
      "metadata": {
        "id": "bvNqKO2C9bP0"
      },
      "source": [
        "<h1> DT-Chi2  </h1>"
      ]
    },
    {
      "cell_type": "markdown",
      "metadata": {
        "id": "9L3t8BSK-1ij"
      },
      "source": [
        "<h1>Estimate DT-Chi2</h1>\r\n",
        "\r\n",
        "\r\n"
      ]
    },
    {
      "cell_type": "code",
      "metadata": {
        "colab": {
          "base_uri": "https://localhost:8080/"
        },
        "id": "uRCl2LuO9oxP",
        "outputId": "bd01669b-ecb6-4f9c-b383-32a6e711de72"
      },
      "source": [
        "clf_DT = DecisionTreeClassifier(random_state=123)\r\n",
        "\r\n",
        "estimation = estimate_score(clf_DT,feat_select_chi2(tcp_X_train,tcp_y_train),tcp_y_train['label'].values)\r\n",
        "print_cv_results(estimation)"
      ],
      "execution_count": 79,
      "outputs": [
        {
          "output_type": "stream",
          "text": [
            "fit_time 1.294320249557495\n",
            "score_time 0.05309991836547852\n",
            "test_accuracy 0.8976958613930485\n",
            "test_precision 0.8878559797737398\n",
            "test_recall 0.8878792907281058\n",
            "test_f1 0.8878628758079113\n",
            "test_roc_auc 0.8969040590730903\n"
          ],
          "name": "stdout"
        }
      ]
    },
    {
      "cell_type": "markdown",
      "metadata": {
        "id": "4Sz8Tz2-_EVc"
      },
      "source": [
        "<h1>Evaluate DT-Chi2</h1>\r\n"
      ]
    },
    {
      "cell_type": "code",
      "metadata": {
        "colab": {
          "base_uri": "https://localhost:8080/"
        },
        "id": "ybGcgCAs-HmH",
        "outputId": "373ccba7-cd20-4a24-c3e0-8204690cbd94"
      },
      "source": [
        "evaluate_model('null',clf_DT,feat_select_chi2(tcp_X_train,tcp_y_train),feat_select_chi2(tcp_X_test,tcp_y_test),tcp_y_train['label'].values,tcp_y_test['label'].values)"
      ],
      "execution_count": 80,
      "outputs": [
        {
          "output_type": "stream",
          "text": [
            "The precision score on the test set: 0.86951\n",
            "The recall score on the test set: 0.86352\n",
            "Confusion Matrix:\n",
            " [[11987  1448]\n",
            " [ 1525  9649]]\n",
            "Classification Report:\n",
            "               precision    recall  f1-score   support\n",
            "\n",
            "         0.0       0.89      0.89      0.89     13435\n",
            "         1.0       0.87      0.86      0.87     11174\n",
            "\n",
            "    accuracy                           0.88     24609\n",
            "   macro avg       0.88      0.88      0.88     24609\n",
            "weighted avg       0.88      0.88      0.88     24609\n",
            "\n"
          ],
          "name": "stdout"
        }
      ]
    },
    {
      "cell_type": "markdown",
      "metadata": {
        "id": "N4K-6bdj_TEs"
      },
      "source": [
        "<h1>Estimate DT-RFE</h1>\r\n"
      ]
    },
    {
      "cell_type": "code",
      "metadata": {
        "colab": {
          "base_uri": "https://localhost:8080/"
        },
        "id": "Kg8wKJhe_VfD",
        "outputId": "f93eaa53-3d4b-4f1d-b1bb-a8e5e0237afa"
      },
      "source": [
        "estimation = estimate_score(clf_DT,feat_select_RFE(tcp_X_train,tcp_y_train),tcp_y_train['label'].values)\r\n",
        "print_cv_results(estimation)"
      ],
      "execution_count": 81,
      "outputs": [
        {
          "output_type": "stream",
          "text": [
            "/usr/local/lib/python3.7/dist-packages/sklearn/utils/validation.py:760: DataConversionWarning: A column-vector y was passed when a 1d array was expected. Please change the shape of y to (n_samples, ), for example using ravel().\n",
            "  y = column_or_1d(y, warn=True)\n"
          ],
          "name": "stderr"
        },
        {
          "output_type": "stream",
          "text": [
            "fit_time 2.047493839263916\n",
            "score_time 0.05424456596374512\n",
            "test_accuracy 0.8972895426345193\n",
            "test_precision 0.8851626901530889\n",
            "test_recall 0.8903515354188232\n",
            "test_f1 0.8877441494675271\n",
            "test_roc_auc 0.8967298925758438\n"
          ],
          "name": "stdout"
        }
      ]
    },
    {
      "cell_type": "markdown",
      "metadata": {
        "id": "cs_ekD2n_Wfz"
      },
      "source": [
        "<h1>Evaluate DT-RFE</h1>\r\n"
      ]
    },
    {
      "cell_type": "code",
      "metadata": {
        "colab": {
          "base_uri": "https://localhost:8080/"
        },
        "id": "FTD-sn0G_arZ",
        "outputId": "f2e30679-b407-4a6a-e715-27ce4639daa9"
      },
      "source": [
        "evaluate_model('null',clf_DT,feat_select_chi2(tcp_X_train,tcp_y_train),feat_select_RFE(tcp_X_test,tcp_y_test),tcp_y_train['label'].values,tcp_y_test['label'].values)"
      ],
      "execution_count": 82,
      "outputs": [
        {
          "output_type": "stream",
          "text": [
            "/usr/local/lib/python3.7/dist-packages/sklearn/utils/validation.py:760: DataConversionWarning: A column-vector y was passed when a 1d array was expected. Please change the shape of y to (n_samples, ), for example using ravel().\n",
            "  y = column_or_1d(y, warn=True)\n"
          ],
          "name": "stderr"
        },
        {
          "output_type": "stream",
          "text": [
            "The precision score on the test set: 0.44972\n",
            "The recall score on the test set: 0.79246\n",
            "Confusion Matrix:\n",
            " [[ 2600 10835]\n",
            " [ 2319  8855]]\n",
            "Classification Report:\n",
            "               precision    recall  f1-score   support\n",
            "\n",
            "         0.0       0.53      0.19      0.28     13435\n",
            "         1.0       0.45      0.79      0.57     11174\n",
            "\n",
            "    accuracy                           0.47     24609\n",
            "   macro avg       0.49      0.49      0.43     24609\n",
            "weighted avg       0.49      0.47      0.42     24609\n",
            "\n"
          ],
          "name": "stdout"
        }
      ]
    },
    {
      "cell_type": "markdown",
      "metadata": {
        "id": "84_6lm-XQ_s7"
      },
      "source": [
        "<h1>Estimate LR-Chi2</h1>\r\n"
      ]
    },
    {
      "cell_type": "code",
      "metadata": {
        "colab": {
          "base_uri": "https://localhost:8080/"
        },
        "id": "pBjGXUB4Qfic",
        "outputId": "93b3dfc9-0e63-4e71-fb11-c2a4f8ee54f3"
      },
      "source": [
        "\r\n",
        "clf_LR = LogisticRegression(solver='lbfgs', random_state=123, max_iter = 4000)\r\n",
        "\r\n",
        "estimation = estimate_score(clf_LR,feat_select_chi2(tcp_X_train,tcp_y_train),tcp_y_train['label'].values)\r\n",
        "print_cv_results(estimation)"
      ],
      "execution_count": 73,
      "outputs": [
        {
          "output_type": "stream",
          "text": [
            "fit_time 3.6884058475494386\n",
            "score_time 0.07105422019958496\n",
            "test_accuracy 0.8427747246541877\n",
            "test_precision 0.7755185042858262\n",
            "test_recall 0.9223794520795987\n",
            "test_f1 0.8425694439210523\n",
            "test_roc_auc 0.939371381311464\n"
          ],
          "name": "stdout"
        }
      ]
    },
    {
      "cell_type": "markdown",
      "metadata": {
        "id": "HJXTfUvCRNpr"
      },
      "source": [
        "<h1>Evaluate LR-Chi2</h1>\r\n"
      ]
    },
    {
      "cell_type": "code",
      "metadata": {
        "colab": {
          "base_uri": "https://localhost:8080/"
        },
        "id": "CwATx4jAS-XR",
        "outputId": "33e8729f-2156-4b0e-ee07-2d0145d525b3"
      },
      "source": [
        "evaluate_model('null',clf_LR,feat_select_chi2(tcp_X_train,tcp_y_train),feat_select_RFE(tcp_X_test,tcp_y_test),tcp_y_train['label'].values,tcp_y_test['label'].values)"
      ],
      "execution_count": 74,
      "outputs": [
        {
          "output_type": "stream",
          "text": [
            "/usr/local/lib/python3.7/dist-packages/sklearn/utils/validation.py:760: DataConversionWarning: A column-vector y was passed when a 1d array was expected. Please change the shape of y to (n_samples, ), for example using ravel().\n",
            "  y = column_or_1d(y, warn=True)\n"
          ],
          "name": "stderr"
        },
        {
          "output_type": "stream",
          "text": [
            "The precision score on the test set: 0.70556\n",
            "The recall score on the test set: 0.97790\n",
            "Confusion Matrix:\n",
            " [[ 8875  4560]\n",
            " [  247 10927]]\n",
            "Classification Report:\n",
            "               precision    recall  f1-score   support\n",
            "\n",
            "         0.0       0.97      0.66      0.79     13435\n",
            "         1.0       0.71      0.98      0.82     11174\n",
            "\n",
            "    accuracy                           0.80     24609\n",
            "   macro avg       0.84      0.82      0.80     24609\n",
            "weighted avg       0.85      0.80      0.80     24609\n",
            "\n"
          ],
          "name": "stdout"
        }
      ]
    },
    {
      "cell_type": "markdown",
      "metadata": {
        "id": "U4RH0lXeWf36"
      },
      "source": [
        "<h1>Estimate LR-RFE</h1>\r\n"
      ]
    },
    {
      "cell_type": "code",
      "metadata": {
        "colab": {
          "base_uri": "https://localhost:8080/"
        },
        "id": "uJIBAYo1WmDp",
        "outputId": "84650540-61e5-41f1-cd21-abadb93e5c59"
      },
      "source": [
        "estimation = estimate_score(clf_LR,feat_select_RFE(tcp_X_train,tcp_y_train),tcp_y_train['label'].values)\r\n",
        "print_cv_results(estimation)"
      ],
      "execution_count": 77,
      "outputs": [
        {
          "output_type": "stream",
          "text": [
            "/usr/local/lib/python3.7/dist-packages/sklearn/utils/validation.py:760: DataConversionWarning: A column-vector y was passed when a 1d array was expected. Please change the shape of y to (n_samples, ), for example using ravel().\n",
            "  y = column_or_1d(y, warn=True)\n"
          ],
          "name": "stderr"
        },
        {
          "output_type": "stream",
          "text": [
            "fit_time 2.5904373645782472\n",
            "score_time 0.06803226470947266\n",
            "test_accuracy 0.8374918887683581\n",
            "test_precision 0.7708606139469347\n",
            "test_recall 0.9160985258600183\n",
            "test_f1 0.8372065143427075\n",
            "test_roc_auc 0.936126320262197\n"
          ],
          "name": "stdout"
        }
      ]
    },
    {
      "cell_type": "markdown",
      "metadata": {
        "id": "DlXp_Vl9Wsv9"
      },
      "source": [
        "<h1>Evaluate LR-RFE</h1>\r\n"
      ]
    },
    {
      "cell_type": "code",
      "metadata": {
        "colab": {
          "base_uri": "https://localhost:8080/"
        },
        "id": "739BLcCAWx8y",
        "outputId": "bca42e3c-36bf-4fee-a9af-1eea6994ed2f"
      },
      "source": [
        "evaluate_model('null',clf_LR,feat_select_RFE(tcp_X_train,tcp_y_train),feat_select_RFE(tcp_X_test,tcp_y_test),tcp_y_train['label'].values,tcp_y_test['label'].values)"
      ],
      "execution_count": 78,
      "outputs": [
        {
          "output_type": "stream",
          "text": [
            "/usr/local/lib/python3.7/dist-packages/sklearn/utils/validation.py:760: DataConversionWarning: A column-vector y was passed when a 1d array was expected. Please change the shape of y to (n_samples, ), for example using ravel().\n",
            "  y = column_or_1d(y, warn=True)\n",
            "/usr/local/lib/python3.7/dist-packages/sklearn/utils/validation.py:760: DataConversionWarning: A column-vector y was passed when a 1d array was expected. Please change the shape of y to (n_samples, ), for example using ravel().\n",
            "  y = column_or_1d(y, warn=True)\n"
          ],
          "name": "stderr"
        },
        {
          "output_type": "stream",
          "text": [
            "The precision score on the test set: 0.00000\n",
            "The recall score on the test set: 0.00000\n",
            "Confusion Matrix:\n",
            " [[13433     2]\n",
            " [11174     0]]\n",
            "Classification Report:\n",
            "               precision    recall  f1-score   support\n",
            "\n",
            "         0.0       0.55      1.00      0.71     13435\n",
            "         1.0       0.00      0.00      0.00     11174\n",
            "\n",
            "    accuracy                           0.55     24609\n",
            "   macro avg       0.27      0.50      0.35     24609\n",
            "weighted avg       0.30      0.55      0.39     24609\n",
            "\n"
          ],
          "name": "stdout"
        }
      ]
    },
    {
      "cell_type": "markdown",
      "metadata": {
        "id": "MOgnOVkUb5Dq"
      },
      "source": [
        "# Other Protocols  Modul"
      ]
    },
    {
      "cell_type": "markdown",
      "metadata": {
        "id": "zFM5YPDVdYdB"
      },
      "source": [
        "<h1>EStimate MLP-Chi2</h1>"
      ]
    },
    {
      "cell_type": "code",
      "metadata": {
        "colab": {
          "base_uri": "https://localhost:8080/"
        },
        "id": "2gI9veOOcy4h",
        "outputId": "53d457c4-eab9-49ed-e3a6-73782c9f35b8"
      },
      "source": [
        "clf_MLP = MLPClassifier(random_state=123, solver='adam', max_iter=8000)\r\n",
        "\r\n",
        "estimation = estimate_score(clf_MLP,feat_select_chi2(other_X_train,other_y_train),other_y_train['label'].values)\r\n",
        "print_cv_results(estimation)"
      ],
      "execution_count": 83,
      "outputs": [
        {
          "output_type": "stream",
          "text": [
            "fit_time 6.203765201568603\n",
            "score_time 0.0385930061340332\n",
            "test_accuracy 0.998956603208268\n",
            "test_precision 0.9988486840503524\n",
            "test_recall 1.0\n",
            "test_f1 0.9994239861291397\n",
            "test_roc_auc 0.9997705966321313\n"
          ],
          "name": "stdout"
        }
      ]
    },
    {
      "cell_type": "markdown",
      "metadata": {
        "id": "OXf29mitgaNB"
      },
      "source": [
        "<h1>Evaluate MLP-Chi2</h1>"
      ]
    },
    {
      "cell_type": "code",
      "metadata": {
        "colab": {
          "base_uri": "https://localhost:8080/"
        },
        "id": "aGtCepwRgoN6",
        "outputId": "c4b54770-8912-465b-8255-b22eeecf5f3f"
      },
      "source": [
        "evaluate_model('null',clf_MLP,feat_select_chi2(other_X_train,other_y_train),feat_select_chi2(other_X_test,other_y_test),other_y_train['label'].values,other_y_test['label'].values)"
      ],
      "execution_count": 84,
      "outputs": [
        {
          "output_type": "stream",
          "text": [
            "The precision score on the test set: 0.99868\n",
            "The recall score on the test set: 1.00000\n",
            "Confusion Matrix:\n",
            " [[ 820   10]\n",
            " [   0 7557]]\n",
            "Classification Report:\n",
            "               precision    recall  f1-score   support\n",
            "\n",
            "         0.0       1.00      0.99      0.99       830\n",
            "         1.0       1.00      1.00      1.00      7557\n",
            "\n",
            "    accuracy                           1.00      8387\n",
            "   macro avg       1.00      0.99      1.00      8387\n",
            "weighted avg       1.00      1.00      1.00      8387\n",
            "\n"
          ],
          "name": "stdout"
        }
      ]
    },
    {
      "cell_type": "markdown",
      "metadata": {
        "id": "0zlGXkz_hX2w"
      },
      "source": [
        "<h1>EStimate MLP-RFE</h1>"
      ]
    },
    {
      "cell_type": "code",
      "metadata": {
        "colab": {
          "base_uri": "https://localhost:8080/"
        },
        "id": "u5mHDYcDh4W4",
        "outputId": "03b8dbd3-2e9d-4461-8c2b-fce76c2899a8"
      },
      "source": [
        "estimation = estimate_score(clf_MLP,feat_select_RFE(other_X_train,other_y_train),other_y_train['label'].values)\r\n",
        "print_cv_results(estimation)"
      ],
      "execution_count": 85,
      "outputs": [
        {
          "output_type": "stream",
          "text": [
            "/usr/local/lib/python3.7/dist-packages/sklearn/utils/validation.py:760: DataConversionWarning: A column-vector y was passed when a 1d array was expected. Please change the shape of y to (n_samples, ), for example using ravel().\n",
            "  y = column_or_1d(y, warn=True)\n"
          ],
          "name": "stderr"
        },
        {
          "output_type": "stream",
          "text": [
            "fit_time 5.186378097534179\n",
            "score_time 0.03635892868041992\n",
            "test_accuracy 0.9990460397584462\n",
            "test_precision 0.9989472924879239\n",
            "test_recall 1.0\n",
            "test_f1 0.9994733404001493\n",
            "test_roc_auc 0.9997202755736565\n"
          ],
          "name": "stdout"
        }
      ]
    },
    {
      "cell_type": "markdown",
      "metadata": {
        "id": "hnCQlngshe2Q"
      },
      "source": [
        "<h1>Evaluate MLP-RFE</h1>"
      ]
    },
    {
      "cell_type": "code",
      "metadata": {
        "colab": {
          "base_uri": "https://localhost:8080/"
        },
        "id": "MBpVQdvIiDsQ",
        "outputId": "c04bac56-5a65-4d7c-b3f2-7aba7b5be2e9"
      },
      "source": [
        "evaluate_model('null',clf_MLP,feat_select_RFE(other_X_train,other_y_train),feat_select_RFE(other_X_test,other_y_test),other_y_train['label'].values,other_y_test['label'].values)"
      ],
      "execution_count": 86,
      "outputs": [
        {
          "output_type": "stream",
          "text": [
            "/usr/local/lib/python3.7/dist-packages/sklearn/utils/validation.py:760: DataConversionWarning: A column-vector y was passed when a 1d array was expected. Please change the shape of y to (n_samples, ), for example using ravel().\n",
            "  y = column_or_1d(y, warn=True)\n",
            "/usr/local/lib/python3.7/dist-packages/sklearn/utils/validation.py:760: DataConversionWarning: A column-vector y was passed when a 1d array was expected. Please change the shape of y to (n_samples, ), for example using ravel().\n",
            "  y = column_or_1d(y, warn=True)\n"
          ],
          "name": "stderr"
        },
        {
          "output_type": "stream",
          "text": [
            "The precision score on the test set: 0.99984\n",
            "The recall score on the test set: 0.84743\n",
            "Confusion Matrix:\n",
            " [[ 829    1]\n",
            " [1153 6404]]\n",
            "Classification Report:\n",
            "               precision    recall  f1-score   support\n",
            "\n",
            "         0.0       0.42      1.00      0.59       830\n",
            "         1.0       1.00      0.85      0.92      7557\n",
            "\n",
            "    accuracy                           0.86      8387\n",
            "   macro avg       0.71      0.92      0.75      8387\n",
            "weighted avg       0.94      0.86      0.88      8387\n",
            "\n"
          ],
          "name": "stdout"
        }
      ]
    },
    {
      "cell_type": "markdown",
      "metadata": {
        "id": "GL2N54JZ45K1"
      },
      "source": [
        ""
      ]
    }
  ]
}