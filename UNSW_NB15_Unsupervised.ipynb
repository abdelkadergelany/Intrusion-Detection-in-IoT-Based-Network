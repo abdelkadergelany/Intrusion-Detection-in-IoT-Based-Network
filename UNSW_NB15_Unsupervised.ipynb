{
  "nbformat": 4,
  "nbformat_minor": 0,
  "metadata": {
    "colab": {
      "name": "UNSW_NB15_Unsupervised.ipynb",
      "provenance": [],
      "collapsed_sections": [],
      "include_colab_link": true
    },
    "kernelspec": {
      "display_name": "Python 3",
      "language": "python",
      "name": "python3"
    },
    "language_info": {
      "codemirror_mode": {
        "name": "ipython",
        "version": 3
      },
      "file_extension": ".py",
      "mimetype": "text/x-python",
      "name": "python",
      "nbconvert_exporter": "python",
      "pygments_lexer": "ipython3",
      "version": "3.7.6"
    }
  },
  "cells": [
    {
      "cell_type": "markdown",
      "metadata": {
        "id": "view-in-github",
        "colab_type": "text"
      },
      "source": [
        "<a href=\"https://colab.research.google.com/github/abdelkadergelany/Intrusion-Detection-in-IoT-Based-Network/blob/main/UNSW_NB15_Unsupervised.ipynb\" target=\"_parent\"><img src=\"https://colab.research.google.com/assets/colab-badge.svg\" alt=\"Open In Colab\"/></a>"
      ]
    },
    {
      "cell_type": "markdown",
      "metadata": {
        "id": "Fl-cPhNxn6QU"
      },
      "source": [
        " ## References \n",
        "\n",
        " * Data source: https://www.unsw.adfa.edu.au/unsw-canberra-cyber/cybersecurity/ADFA-NB15-Datasets/\n",
        " * Sample/starter code: https://github.com/Nir-J/ML-Projects/blob/master/UNSW-Network_Packet_Classification/unsw.py"
      ]
    },
    {
      "cell_type": "code",
      "metadata": {
        "id": "Lx1Zh6UUU-ov"
      },
      "source": [
        "%config IPCompleter.greedy=True\n",
        "import pandas as pd\n",
        "import seaborn as sns\n",
        "import numpy as np\n",
        "\n",
        "import matplotlib as matplot\n",
        "import matplotlib.pyplot as plt\n",
        "%matplotlib inline\n",
        "\n",
        "from IPython.core.interactiveshell import InteractiveShell\n",
        "InteractiveShell.ast_node_interactivity = \"all\"\n",
        "\n",
        "import warnings\n",
        "warnings.filterwarnings(\"ignore\")\n",
        "\n",
        "from keras import Sequential\n",
        "from keras.models import Model, load_model\n",
        "from keras.layers import *\n",
        "from keras.callbacks import ModelCheckpoint\n",
        "from keras import regularizers\n",
        "\n",
        "from sklearn.metrics import *\n",
        "from sklearn.tree import DecisionTreeClassifier\n",
        "from sklearn.ensemble import RandomForestClassifier, ExtraTreesClassifier, VotingClassifier\n",
        "from sklearn.model_selection import train_test_split\n",
        "from sklearn.preprocessing import LabelEncoder,normalize\n",
        "\n",
        "\n",
        "import xgboost, lightgbm\n",
        "from mlxtend.classifier import EnsembleVoteClassifier"
      ],
      "execution_count": null,
      "outputs": []
    },
    {
      "cell_type": "markdown",
      "metadata": {
        "id": "h2Kvca3apvAc"
      },
      "source": [
        "# Preprocessing (transformation/scaling) "
      ]
    },
    {
      "cell_type": "code",
      "metadata": {
        "id": "vjw9JrARVJ23"
      },
      "source": [
        "train = pd.read_csv('https://raw.githubusercontent.com/Nir-J/ML-Projects/master/UNSW-Network_Packet_Classification/UNSW_NB15_training-set.csv')\n",
        "test = pd.read_csv('https://raw.githubusercontent.com/Nir-J/ML-Projects/master/UNSW-Network_Packet_Classification/UNSW_NB15_testing-set.csv')\n",
        "combined_data = pd.concat([train, test]).drop(['id'],axis=1)"
      ],
      "execution_count": null,
      "outputs": []
    },
    {
      "cell_type": "code",
      "metadata": {
        "id": "C5hh-CdxbjCZ",
        "colab": {
          "base_uri": "https://localhost:8080/"
        },
        "outputId": "0a94a8c6-8143-41cc-b4c9-a92834d9721b"
      },
      "source": [
        "# Contaminsation mean pollution (outliers) in data\n",
        "tmp = train.where(train['attack_cat'] == \"Normal\").dropna()\n",
        "contamination = round(1 - len(tmp)/len(train), 2)\n",
        "print(\"train contamination \", contamination)\n",
        "\n",
        "tmp = test.where(test['attack_cat'] == \"Normal\").dropna()\n",
        "print(\"test  contamination \", round(1 - len(tmp)/len(test),2),'\\n')\n",
        "\n",
        "if contamination > 0.5:\n",
        "    print(f'contamination is {contamination}, which is greater than 0.5. Fixing...')\n",
        "    contamination = round(1-contamination,2)\n",
        "    print(f'contamination is now {contamination}')"
      ],
      "execution_count": null,
      "outputs": [
        {
          "output_type": "stream",
          "text": [
            "train contamination  0.68\n",
            "test  contamination  0.55 \n",
            "\n",
            "contamination is 0.68, which is greater than 0.5. Fixing...\n",
            "contamination is now 0.32\n"
          ],
          "name": "stdout"
        }
      ]
    },
    {
      "cell_type": "code",
      "metadata": {
        "id": "_tfrFURcVJ6X",
        "colab": {
          "base_uri": "https://localhost:8080/"
        },
        "outputId": "b4c53139-4c30-446b-f07d-04cd6d7bdf84"
      },
      "source": [
        "le1 = LabelEncoder()\n",
        "le = LabelEncoder()\n",
        "\n",
        "vector = combined_data['attack_cat']\n",
        "\n",
        "print(\"attack cat:\", set(list(vector))) # use print to make it print on single line \n",
        "\n",
        "combined_data['attack_cat'] = le1.fit_transform(vector)\n",
        "combined_data['proto'] = le.fit_transform(combined_data['proto'])\n",
        "combined_data['service'] = le.fit_transform(combined_data['service'])\n",
        "combined_data['state'] = le.fit_transform(combined_data['state'])\n",
        "\n",
        "vector = combined_data['attack_cat']\n",
        "print('\\nDescribing attack_type: ')\n",
        "print(\"min\", vector.min())\n",
        "print(\"max\", vector.max())\n",
        "print(\"mode\",vector.mode(), \"Which is,\", le1.inverse_transform(vector.mode()))\n",
        "print(\"mode\", len(np.where(vector.values==6)[0])/len(vector),\"%\")"
      ],
      "execution_count": null,
      "outputs": [
        {
          "output_type": "stream",
          "text": [
            "attack cat: {'Reconnaissance', 'Worms', 'Generic', 'Normal', 'Shellcode', 'Analysis', 'Exploits', 'DoS', 'Fuzzers', 'Backdoor'}\n",
            "\n",
            "Describing attack_type: \n",
            "min 0\n",
            "max 9\n",
            "mode 0    6\n",
            "dtype: int64 Which is, ['Normal']\n",
            "mode 0.3609225646458884 %\n"
          ],
          "name": "stdout"
        }
      ]
    },
    {
      "cell_type": "code",
      "metadata": {
        "id": "FdGigIypbQfd",
        "colab": {
          "base_uri": "https://localhost:8080/",
          "height": 196
        },
        "outputId": "403d235b-a07b-4811-d310-f9e4780c462d"
      },
      "source": [
        "le1.inverse_transform([0,1,2,3,4,5,6,7,8,9])\n",
        "combined_data.head(3)"
      ],
      "execution_count": null,
      "outputs": [
        {
          "output_type": "execute_result",
          "data": {
            "text/plain": [
              "array(['Analysis', 'Backdoor', 'DoS', 'Exploits', 'Fuzzers', 'Generic',\n",
              "       'Normal', 'Reconnaissance', 'Shellcode', 'Worms'], dtype=object)"
            ]
          },
          "metadata": {
            "tags": []
          },
          "execution_count": 5
        },
        {
          "output_type": "execute_result",
          "data": {
            "text/html": [
              "<div>\n",
              "<style scoped>\n",
              "    .dataframe tbody tr th:only-of-type {\n",
              "        vertical-align: middle;\n",
              "    }\n",
              "\n",
              "    .dataframe tbody tr th {\n",
              "        vertical-align: top;\n",
              "    }\n",
              "\n",
              "    .dataframe thead th {\n",
              "        text-align: right;\n",
              "    }\n",
              "</style>\n",
              "<table border=\"1\" class=\"dataframe\">\n",
              "  <thead>\n",
              "    <tr style=\"text-align: right;\">\n",
              "      <th></th>\n",
              "      <th>dur</th>\n",
              "      <th>proto</th>\n",
              "      <th>service</th>\n",
              "      <th>state</th>\n",
              "      <th>spkts</th>\n",
              "      <th>dpkts</th>\n",
              "      <th>sbytes</th>\n",
              "      <th>dbytes</th>\n",
              "      <th>rate</th>\n",
              "      <th>sttl</th>\n",
              "      <th>dttl</th>\n",
              "      <th>sload</th>\n",
              "      <th>dload</th>\n",
              "      <th>sloss</th>\n",
              "      <th>dloss</th>\n",
              "      <th>sinpkt</th>\n",
              "      <th>dinpkt</th>\n",
              "      <th>sjit</th>\n",
              "      <th>djit</th>\n",
              "      <th>swin</th>\n",
              "      <th>stcpb</th>\n",
              "      <th>dtcpb</th>\n",
              "      <th>dwin</th>\n",
              "      <th>tcprtt</th>\n",
              "      <th>synack</th>\n",
              "      <th>ackdat</th>\n",
              "      <th>smean</th>\n",
              "      <th>dmean</th>\n",
              "      <th>trans_depth</th>\n",
              "      <th>response_body_len</th>\n",
              "      <th>ct_srv_src</th>\n",
              "      <th>ct_state_ttl</th>\n",
              "      <th>ct_dst_ltm</th>\n",
              "      <th>ct_src_dport_ltm</th>\n",
              "      <th>ct_dst_sport_ltm</th>\n",
              "      <th>ct_dst_src_ltm</th>\n",
              "      <th>is_ftp_login</th>\n",
              "      <th>ct_ftp_cmd</th>\n",
              "      <th>ct_flw_http_mthd</th>\n",
              "      <th>ct_src_ltm</th>\n",
              "      <th>ct_srv_dst</th>\n",
              "      <th>is_sm_ips_ports</th>\n",
              "      <th>attack_cat</th>\n",
              "      <th>label</th>\n",
              "    </tr>\n",
              "  </thead>\n",
              "  <tbody>\n",
              "    <tr>\n",
              "      <th>0</th>\n",
              "      <td>0.121478</td>\n",
              "      <td>113</td>\n",
              "      <td>0</td>\n",
              "      <td>4</td>\n",
              "      <td>6</td>\n",
              "      <td>4</td>\n",
              "      <td>258</td>\n",
              "      <td>172</td>\n",
              "      <td>74.087490</td>\n",
              "      <td>252</td>\n",
              "      <td>254</td>\n",
              "      <td>14158.942380</td>\n",
              "      <td>8495.365234</td>\n",
              "      <td>0</td>\n",
              "      <td>0</td>\n",
              "      <td>24.295600</td>\n",
              "      <td>8.375000</td>\n",
              "      <td>30.177547</td>\n",
              "      <td>11.830604</td>\n",
              "      <td>255</td>\n",
              "      <td>621772692</td>\n",
              "      <td>2202533631</td>\n",
              "      <td>255</td>\n",
              "      <td>0.000000</td>\n",
              "      <td>0.000000</td>\n",
              "      <td>0.000000</td>\n",
              "      <td>43</td>\n",
              "      <td>43</td>\n",
              "      <td>0</td>\n",
              "      <td>0</td>\n",
              "      <td>1</td>\n",
              "      <td>0</td>\n",
              "      <td>1</td>\n",
              "      <td>1</td>\n",
              "      <td>1</td>\n",
              "      <td>1</td>\n",
              "      <td>0</td>\n",
              "      <td>0</td>\n",
              "      <td>0</td>\n",
              "      <td>1</td>\n",
              "      <td>1</td>\n",
              "      <td>0</td>\n",
              "      <td>6</td>\n",
              "      <td>0</td>\n",
              "    </tr>\n",
              "    <tr>\n",
              "      <th>1</th>\n",
              "      <td>0.649902</td>\n",
              "      <td>113</td>\n",
              "      <td>0</td>\n",
              "      <td>4</td>\n",
              "      <td>14</td>\n",
              "      <td>38</td>\n",
              "      <td>734</td>\n",
              "      <td>42014</td>\n",
              "      <td>78.473372</td>\n",
              "      <td>62</td>\n",
              "      <td>252</td>\n",
              "      <td>8395.112305</td>\n",
              "      <td>503571.312500</td>\n",
              "      <td>2</td>\n",
              "      <td>17</td>\n",
              "      <td>49.915000</td>\n",
              "      <td>15.432865</td>\n",
              "      <td>61.426934</td>\n",
              "      <td>1387.778330</td>\n",
              "      <td>255</td>\n",
              "      <td>1417884146</td>\n",
              "      <td>3077387971</td>\n",
              "      <td>255</td>\n",
              "      <td>0.000000</td>\n",
              "      <td>0.000000</td>\n",
              "      <td>0.000000</td>\n",
              "      <td>52</td>\n",
              "      <td>1106</td>\n",
              "      <td>0</td>\n",
              "      <td>0</td>\n",
              "      <td>43</td>\n",
              "      <td>1</td>\n",
              "      <td>1</td>\n",
              "      <td>1</td>\n",
              "      <td>1</td>\n",
              "      <td>2</td>\n",
              "      <td>0</td>\n",
              "      <td>0</td>\n",
              "      <td>0</td>\n",
              "      <td>1</td>\n",
              "      <td>6</td>\n",
              "      <td>0</td>\n",
              "      <td>6</td>\n",
              "      <td>0</td>\n",
              "    </tr>\n",
              "    <tr>\n",
              "      <th>2</th>\n",
              "      <td>1.623129</td>\n",
              "      <td>113</td>\n",
              "      <td>0</td>\n",
              "      <td>4</td>\n",
              "      <td>8</td>\n",
              "      <td>16</td>\n",
              "      <td>364</td>\n",
              "      <td>13186</td>\n",
              "      <td>14.170161</td>\n",
              "      <td>62</td>\n",
              "      <td>252</td>\n",
              "      <td>1572.271851</td>\n",
              "      <td>60929.230470</td>\n",
              "      <td>1</td>\n",
              "      <td>6</td>\n",
              "      <td>231.875571</td>\n",
              "      <td>102.737203</td>\n",
              "      <td>17179.586860</td>\n",
              "      <td>11420.926230</td>\n",
              "      <td>255</td>\n",
              "      <td>2116150707</td>\n",
              "      <td>2963114973</td>\n",
              "      <td>255</td>\n",
              "      <td>0.111897</td>\n",
              "      <td>0.061458</td>\n",
              "      <td>0.050439</td>\n",
              "      <td>46</td>\n",
              "      <td>824</td>\n",
              "      <td>0</td>\n",
              "      <td>0</td>\n",
              "      <td>7</td>\n",
              "      <td>1</td>\n",
              "      <td>2</td>\n",
              "      <td>1</td>\n",
              "      <td>1</td>\n",
              "      <td>3</td>\n",
              "      <td>0</td>\n",
              "      <td>0</td>\n",
              "      <td>0</td>\n",
              "      <td>2</td>\n",
              "      <td>6</td>\n",
              "      <td>0</td>\n",
              "      <td>6</td>\n",
              "      <td>0</td>\n",
              "    </tr>\n",
              "  </tbody>\n",
              "</table>\n",
              "</div>"
            ],
            "text/plain": [
              "        dur  proto  service  ...  is_sm_ips_ports  attack_cat  label\n",
              "0  0.121478    113        0  ...                0           6      0\n",
              "1  0.649902    113        0  ...                0           6      0\n",
              "2  1.623129    113        0  ...                0           6      0\n",
              "\n",
              "[3 rows x 44 columns]"
            ]
          },
          "metadata": {
            "tags": []
          },
          "execution_count": 5
        }
      ]
    },
    {
      "cell_type": "code",
      "metadata": {
        "id": "uRDvu_a8VA1q"
      },
      "source": [
        "data_x = combined_data.drop(['attack_cat','label'], axis=1) # droped label\n",
        "data_y = combined_data.loc[:,['label']]\n",
        "# del combined_data # free mem\n",
        "X_train, X_test, y_train, y_test = train_test_split(data_x, data_y, test_size=.20, random_state=42) # TODO"
      ],
      "execution_count": null,
      "outputs": []
    },
    {
      "cell_type": "code",
      "metadata": {
        "id": "xjNm11s-fqvw",
        "colab": {
          "base_uri": "https://localhost:8080/"
        },
        "outputId": "773d16ea-d29b-40c5-c747-ab0bd1665daf"
      },
      "source": [
        "X_train.shape\n",
        "y_train.shape\n",
        "X_test.shape # test is larger... good \n",
        "y_test.shape"
      ],
      "execution_count": null,
      "outputs": [
        {
          "output_type": "execute_result",
          "data": {
            "text/plain": [
              "(206138, 42)"
            ]
          },
          "metadata": {
            "tags": []
          },
          "execution_count": 9
        },
        {
          "output_type": "execute_result",
          "data": {
            "text/plain": [
              "(206138, 1)"
            ]
          },
          "metadata": {
            "tags": []
          },
          "execution_count": 9
        },
        {
          "output_type": "execute_result",
          "data": {
            "text/plain": [
              "(51535, 42)"
            ]
          },
          "metadata": {
            "tags": []
          },
          "execution_count": 9
        },
        {
          "output_type": "execute_result",
          "data": {
            "text/plain": [
              "(51535, 1)"
            ]
          },
          "metadata": {
            "tags": []
          },
          "execution_count": 9
        }
      ]
    },
    {
      "cell_type": "markdown",
      "metadata": {
        "id": "gVO_4gmThrU-"
      },
      "source": [
        "# Benchmark"
      ]
    },
    {
      "cell_type": "code",
      "metadata": {
        "id": "YZYIJ9d_VA57",
        "colab": {
          "base_uri": "https://localhost:8080/"
        },
        "outputId": "2faec83b-0cae-4097-b6ec-7857bd3ffa04"
      },
      "source": [
        "# DTC = DecisionTreeClassifier()\n",
        "RFC = RandomForestClassifier(n_estimators=150, random_state=42, n_jobs=-1)\n",
        "ETC = ExtraTreesClassifier(n_estimators=200, random_state=42, n_jobs=-1)\n",
        "XGB = xgboost.XGBClassifier(n_estimators=150, n_jobs=-1)\n",
        "GBM = lightgbm.LGBMClassifier(objective='binary', n_estimators= 500) # multiclass\n",
        "\n",
        "list_of_CLFs_names = []\n",
        "list_of_CLFs = [ RFC, ETC, XGB, GBM]\n",
        "ranking = []\n",
        "\n",
        "for clf in list_of_CLFs:\n",
        "    _ = clf.fit(X_train,y_train)\n",
        "    pred = clf.score(X_test,y_test)\n",
        "    name = str(type(clf)).split(\".\")[-1][:-2]\n",
        "    print(\"Acc: %0.5f for the %s\" % (pred, name))\n",
        "\n",
        "    ranking.append(pred)\n",
        "    list_of_CLFs_names.append(name)"
      ],
      "execution_count": null,
      "outputs": [
        {
          "output_type": "stream",
          "text": [
            "Acc: 0.95240 for the RandomForestClassifier\n",
            "Acc: 0.95133 for the ExtraTreesClassifier\n",
            "Acc: 0.93653 for the XGBClassifier\n",
            "Acc: 0.95269 for the LGBMClassifier\n"
          ],
          "name": "stdout"
        }
      ]
    },
    {
      "cell_type": "code",
      "metadata": {
        "id": "UJTr88Kge5bs",
        "colab": {
          "base_uri": "https://localhost:8080/"
        },
        "outputId": "5c830213-f192-4790-fa8d-afba0832544d"
      },
      "source": [
        "eclf = EnsembleVoteClassifier(clfs=list_of_CLFs, refit=False, voting='soft')\n",
        "_ = eclf.fit(X_train, y_train)\n",
        "pred = eclf.score(X_test, y_test)\n",
        "print(\"Acc: %0.5f for the %s\" % (pred, str(type(eclf)).split(\".\")[-1][:-2]))\n",
        "\n",
        "# pred = eclf.predict(X_test)\n",
        "# probas = eclf.predict_proba(X_test)"
      ],
      "execution_count": null,
      "outputs": [
        {
          "output_type": "stream",
          "text": [
            "Acc: 0.95353 for the EnsembleVoteClassifier\n"
          ],
          "name": "stdout"
        }
      ]
    },
    {
      "cell_type": "markdown",
      "metadata": {
        "id": "T1Ha3TsuqUWB"
      },
      "source": [
        "## Unsupervied ML"
      ]
    },
    {
      "cell_type": "code",
      "metadata": {
        "id": "CjRc41fsnMr6"
      },
      "source": [
        "%%capture \n",
        "!pip install pyod\n",
        "!pip install hdbscan\n",
        "!pip install combo\n",
        "!pip install SOM...... # https://github.com/AICoE/log-anomaly-detector/blob/master/Notebooks/SOM_retrain_notebook/SOM_UserFeedbackPOC.ipynb\n",
        "!pip install somtf"
      ],
      "execution_count": null,
      "outputs": []
    },
    {
      "cell_type": "code",
      "metadata": {
        "id": "X05LsfcUjRyh"
      },
      "source": [
        "import gc, os, pickle\n",
        "from datetime import datetime\n",
        "\n",
        "import numpy as np\n",
        "import pandas as pd\n",
        "from collections import Counter\n",
        "\n",
        "from IPython.core.interactiveshell import InteractiveShell\n",
        "InteractiveShell.ast_node_interactivity = \"all\"\n",
        "\n",
        "import warnings\n",
        "warnings.simplefilter(action='ignore', category=FutureWarning)\n",
        "\n",
        "import pyod\n",
        "from hdbscan import HDBSCAN\n",
        "import rrcf\n",
        "\n",
        "import sklearn\n",
        "from sklearn.model_selection import train_test_split\n",
        "from sklearn.decomposition import * \n",
        "from sklearn.preprocessing import *\n",
        "from sklearn.svm import *"
      ],
      "execution_count": null,
      "outputs": []
    },
    {
      "cell_type": "code",
      "metadata": {
        "id": "Po7VpfirjR2L"
      },
      "source": [
        "from pyod.models import lof, cblof, cof, pca, iforest, knn, mcd, ocsvm, sod, abod, hbos #, auto_encoder, vae\n",
        "contamination = 0.4\n",
        "threshold = 0.75"
      ],
      "execution_count": null,
      "outputs": []
    },
    {
      "cell_type": "markdown",
      "metadata": {
        "id": "x8P_zlmJHD4U"
      },
      "source": [
        "<table class=\"docutils align-default\">\r\n",
        "<colgroup>\r\n",
        "<col style=\"width: 8%\">\r\n",
        "<col style=\"width: 6%\">\r\n",
        "<col style=\"width: 41%\">\r\n",
        "<col style=\"width: 2%\">\r\n",
        "<col style=\"width: 21%\">\r\n",
        "<col style=\"width: 22%\">\r\n",
        "</colgroup>\r\n",
        "<thead>\r\n",
        "<tr class=\"row-odd\"><th class=\"head\"><p>Type</p></th>\r\n",
        "<th class=\"head\"><p>Abbr</p></th>\r\n",
        "<th class=\"head\"><p>Algorithm</p></th>\r\n",
        "<th class=\"head\"><p>Year</p></th>\r\n",
        "<th class=\"head\"><p>Class</p></th>\r\n",
        "<th class=\"head\"><p>Ref</p></th>\r\n",
        "</tr>\r\n",
        "</thead>\r\n",
        "<tbody>\r\n",
        "<tr class=\"row-even\"><td><p>Linear Model</p></td>\r\n",
        "<td><p>PCA</p></td>\r\n",
        "<td><p>Principal Component Analysis (the sum of weighted projected distances to the eigenvector hyperplanes)</p></td>\r\n",
        "<td><p>2003</p></td>\r\n",
        "<td><p><a class=\"reference internal\" href=\"pyod.models.html#pyod.models.pca.PCA\" title=\"pyod.models.pca.PCA\"><code class=\"xref py py-class docutils literal notranslate\"><span class=\"pre\">pyod.models.pca.PCA</span></code></a></p></td>\r\n",
        "<td><p><span id=\"id3\">[<a class=\"reference internal\" href=\"#id53\"><span>ASCSC03</span></a>]</span></p></td>\r\n",
        "</tr>\r\n",
        "<tr class=\"row-odd\"><td><p>Linear Model</p></td>\r\n",
        "<td><p>MCD</p></td>\r\n",
        "<td><p>Minimum Covariance Determinant (use the mahalanobis distances as the outlier scores)</p></td>\r\n",
        "<td><p>1999</p></td>\r\n",
        "<td><p><a class=\"reference internal\" href=\"pyod.models.html#pyod.models.mcd.MCD\" title=\"pyod.models.mcd.MCD\"><code class=\"xref py py-class docutils literal notranslate\"><span class=\"pre\">pyod.models.mcd.MCD</span></code></a></p></td>\r\n",
        "<td><p><span id=\"id4\">[<a class=\"reference internal\" href=\"#id57\"><span>ARD99</span></a>,<a class=\"reference internal\" href=\"#id58\"><span>AHR04</span></a>]</span></p></td>\r\n",
        "</tr>\r\n",
        "<tr class=\"row-even\"><td><p>Linear Model</p></td>\r\n",
        "<td><p>OCSVM</p></td>\r\n",
        "<td><p>One-Class Support Vector Machines</p></td>\r\n",
        "<td><p>2001</p></td>\r\n",
        "<td><p><a class=\"reference internal\" href=\"pyod.models.html#pyod.models.ocsvm.OCSVM\" title=\"pyod.models.ocsvm.OCSVM\"><code class=\"xref py py-class docutils literal notranslate\"><span class=\"pre\">pyod.models.ocsvm.OCSVM</span></code></a></p></td>\r\n",
        "<td><p><span id=\"id5\">[<a class=\"reference internal\" href=\"#id68\"><span>AScholkopfPST+01</span></a>]</span></p></td>\r\n",
        "</tr>\r\n",
        "<tr class=\"row-odd\"><td><p>Linear Model</p></td>\r\n",
        "<td><p>LMDD</p></td>\r\n",
        "<td><p>Deviation-based Outlier Detection (LMDD)</p></td>\r\n",
        "<td><p>1996</p></td>\r\n",
        "<td><p><a class=\"reference internal\" href=\"pyod.models.html#pyod.models.lmdd.LMDD\" title=\"pyod.models.lmdd.LMDD\"><code class=\"xref py py-class docutils literal notranslate\"><span class=\"pre\">pyod.models.lmdd.LMDD</span></code></a></p></td>\r\n",
        "<td><p><span id=\"id6\">[<a class=\"reference internal\" href=\"#id75\"><span>AAAR96</span></a>]</span></p></td>\r\n",
        "</tr>\r\n",
        "<tr class=\"row-even\"><td><p>Proximity-Based</p></td>\r\n",
        "<td><p>LOF</p></td>\r\n",
        "<td><p>Local Outlier Factor</p></td>\r\n",
        "<td><p>2000</p></td>\r\n",
        "<td><p><a class=\"reference internal\" href=\"pyod.models.html#pyod.models.lof.LOF\" title=\"pyod.models.lof.LOF\"><code class=\"xref py py-class docutils literal notranslate\"><span class=\"pre\">pyod.models.lof.LOF</span></code></a></p></td>\r\n",
        "<td><p><span id=\"id7\">[<a class=\"reference internal\" href=\"#id55\"><span>ABKNS00</span></a>]</span></p></td>\r\n",
        "</tr>\r\n",
        "<tr class=\"row-odd\"><td><p>Proximity-Based</p></td>\r\n",
        "<td><p>COF</p></td>\r\n",
        "<td><p>Connectivity-Based Outlier Factor</p></td>\r\n",
        "<td><p>2002</p></td>\r\n",
        "<td><p><a class=\"reference internal\" href=\"pyod.models.html#pyod.models.cof.COF\" title=\"pyod.models.cof.COF\"><code class=\"xref py py-class docutils literal notranslate\"><span class=\"pre\">pyod.models.cof.COF</span></code></a></p></td>\r\n",
        "<td><p><span id=\"id8\">[<a class=\"reference internal\" href=\"#id69\"><span>ATCFC02</span></a>]</span></p></td>\r\n",
        "</tr>\r\n",
        "<tr class=\"row-even\"><td><p>Proximity-Based</p></td>\r\n",
        "<td><p>CBLOF</p></td>\r\n",
        "<td><p>Clustering-Based Local Outlier Factor</p></td>\r\n",
        "<td><p>2003</p></td>\r\n",
        "<td><p><a class=\"reference internal\" href=\"pyod.models.html#pyod.models.cblof.CBLOF\" title=\"pyod.models.cblof.CBLOF\"><code class=\"xref py py-class docutils literal notranslate\"><span class=\"pre\">pyod.models.cblof.CBLOF</span></code></a></p></td>\r\n",
        "<td><p><span id=\"id9\">[<a class=\"reference internal\" href=\"#id59\"><span>AHXD03</span></a>]</span></p></td>\r\n",
        "</tr>\r\n",
        "<tr class=\"row-odd\"><td><p>Proximity-Based</p></td>\r\n",
        "<td><p>LOCI</p></td>\r\n",
        "<td><p>LOCI: Fast outlier detection using the local correlation integral</p></td>\r\n",
        "<td><p>2003</p></td>\r\n",
        "<td><p><a class=\"reference internal\" href=\"pyod.models.html#pyod.models.loci.LOCI\" title=\"pyod.models.loci.LOCI\"><code class=\"xref py py-class docutils literal notranslate\"><span class=\"pre\">pyod.models.loci.LOCI</span></code></a></p></td>\r\n",
        "<td><p><span id=\"id10\">[<a class=\"reference internal\" href=\"#id62\"><span>APKGF03</span></a>]</span></p></td>\r\n",
        "</tr>\r\n",
        "<tr class=\"row-even\"><td><p>Proximity-Based</p></td>\r\n",
        "<td><p>HBOS</p></td>\r\n",
        "<td><p>Histogram-based Outlier Score</p></td>\r\n",
        "<td><p>2012</p></td>\r\n",
        "<td><p><a class=\"reference internal\" href=\"pyod.models.html#pyod.models.hbos.HBOS\" title=\"pyod.models.hbos.HBOS\"><code class=\"xref py py-class docutils literal notranslate\"><span class=\"pre\">pyod.models.hbos.HBOS</span></code></a></p></td>\r\n",
        "<td><p><span id=\"id11\">[<a class=\"reference internal\" href=\"#id52\"><span>AGD12</span></a>]</span></p></td>\r\n",
        "</tr>\r\n",
        "<tr class=\"row-odd\"><td><p>Proximity-Based</p></td>\r\n",
        "<td><p>kNN</p></td>\r\n",
        "<td><p>k Nearest Neighbors (use the distance to the kth nearest neighbor as the outlier score</p></td>\r\n",
        "<td><p>2000</p></td>\r\n",
        "<td><p><a class=\"reference internal\" href=\"pyod.models.html#pyod.models.knn.KNN\" title=\"pyod.models.knn.KNN\"><code class=\"xref py py-class docutils literal notranslate\"><span class=\"pre\">pyod.models.knn.KNN</span></code></a></p></td>\r\n",
        "<td><p><span id=\"id12\">[<a class=\"reference internal\" href=\"#id48\"><span>ARRS00</span></a>,<a class=\"reference internal\" href=\"#id49\"><span>AAP02</span></a>]</span></p></td>\r\n",
        "</tr>\r\n",
        "<tr class=\"row-even\"><td><p>Proximity-Based</p></td>\r\n",
        "<td><p>AvgKNN</p></td>\r\n",
        "<td><p>Average kNN (use the average distance to k nearest neighbors as the outlier score)</p></td>\r\n",
        "<td><p>2002</p></td>\r\n",
        "<td><p><a class=\"reference internal\" href=\"pyod.models.html#pyod.models.knn.KNN\" title=\"pyod.models.knn.KNN\"><code class=\"xref py py-class docutils literal notranslate\"><span class=\"pre\">pyod.models.knn.KNN</span></code></a></p></td>\r\n",
        "<td><p><span id=\"id13\">[<a class=\"reference internal\" href=\"#id48\"><span>ARRS00</span></a>,<a class=\"reference internal\" href=\"#id49\"><span>AAP02</span></a>]</span></p></td>\r\n",
        "</tr>\r\n",
        "<tr class=\"row-odd\"><td><p>Proximity-Based</p></td>\r\n",
        "<td><p>MedKNN</p></td>\r\n",
        "<td><p>Median kNN (use the median distance to k nearest neighbors as the outlier score)</p></td>\r\n",
        "<td><p>2002</p></td>\r\n",
        "<td><p><a class=\"reference internal\" href=\"pyod.models.html#pyod.models.knn.KNN\" title=\"pyod.models.knn.KNN\"><code class=\"xref py py-class docutils literal notranslate\"><span class=\"pre\">pyod.models.knn.KNN</span></code></a></p></td>\r\n",
        "<td><p><span id=\"id14\">[<a class=\"reference internal\" href=\"#id48\"><span>ARRS00</span></a>,<a class=\"reference internal\" href=\"#id49\"><span>AAP02</span></a>]</span></p></td>\r\n",
        "</tr>\r\n",
        "<tr class=\"row-even\"><td><p>Proximity-Based</p></td>\r\n",
        "<td><p>SOD</p></td>\r\n",
        "<td><p>Subspace Outlier Detection</p></td>\r\n",
        "<td><p>2009</p></td>\r\n",
        "<td><p><a class=\"reference internal\" href=\"pyod.models.html#pyod.models.sod.SOD\" title=\"pyod.models.sod.SOD\"><code class=\"xref py py-class docutils literal notranslate\"><span class=\"pre\">pyod.models.sod.SOD</span></code></a></p></td>\r\n",
        "<td><p><span id=\"id15\">[<a class=\"reference internal\" href=\"#id71\"><span>AKKrogerSZ09</span></a>]</span></p></td>\r\n",
        "</tr>\r\n",
        "<tr class=\"row-odd\"><td><p>Proximity-Based</p></td>\r\n",
        "<td><p>ROD</p></td>\r\n",
        "<td><p>Rotation-based Outlier Detection</p></td>\r\n",
        "<td><p>2020</p></td>\r\n",
        "<td><p><a class=\"reference internal\" href=\"pyod.models.html#pyod.models.rod.ROD\" title=\"pyod.models.rod.ROD\"><code class=\"xref py py-class docutils literal notranslate\"><span class=\"pre\">pyod.models.rod.ROD</span></code></a></p></td>\r\n",
        "<td><p><span id=\"id16\">[<a class=\"reference internal\" href=\"#id81\"><span>AABC20</span></a>]</span></p></td>\r\n",
        "</tr>\r\n",
        "<tr class=\"row-even\"><td><p>Probabilistic</p></td>\r\n",
        "<td><p>ABOD</p></td>\r\n",
        "<td><p>Angle-Based Outlier Detection</p></td>\r\n",
        "<td><p>2008</p></td>\r\n",
        "<td><p><a class=\"reference internal\" href=\"pyod.models.html#pyod.models.abod.ABOD\" title=\"pyod.models.abod.ABOD\"><code class=\"xref py py-class docutils literal notranslate\"><span class=\"pre\">pyod.models.abod.ABOD</span></code></a></p></td>\r\n",
        "<td><p><span id=\"id17\">[<a class=\"reference internal\" href=\"#id50\"><span>AKZ+08</span></a>]</span></p></td>\r\n",
        "</tr>\r\n",
        "<tr class=\"row-odd\"><td><p>Probabilistic</p></td>\r\n",
        "<td><p>FastABOD</p></td>\r\n",
        "<td><p>Fast Angle-Based Outlier Detection using approximation</p></td>\r\n",
        "<td><p>2008</p></td>\r\n",
        "<td><p><a class=\"reference internal\" href=\"pyod.models.html#pyod.models.abod.ABOD\" title=\"pyod.models.abod.ABOD\"><code class=\"xref py py-class docutils literal notranslate\"><span class=\"pre\">pyod.models.abod.ABOD</span></code></a></p></td>\r\n",
        "<td><p><span id=\"id18\">[<a class=\"reference internal\" href=\"#id50\"><span>AKZ+08</span></a>]</span></p></td>\r\n",
        "</tr>\r\n",
        "<tr class=\"row-even\"><td><p>Probabilistic</p></td>\r\n",
        "<td><p>COPOD</p></td>\r\n",
        "<td><p>COPOD: Copula-Based Outlier Detection</p></td>\r\n",
        "<td><p>2020</p></td>\r\n",
        "<td><p><a class=\"reference internal\" href=\"pyod.models.html#pyod.models.copod.COPOD\" title=\"pyod.models.copod.COPOD\"><code class=\"xref py py-class docutils literal notranslate\"><span class=\"pre\">pyod.models.copod.COPOD</span></code></a></p></td>\r\n",
        "<td><p><span id=\"id19\">[<a class=\"reference internal\" href=\"#id80\"><span>ALZB+20</span></a>]</span></p></td>\r\n",
        "</tr>\r\n",
        "<tr class=\"row-odd\"><td><p>Probabilistic</p></td>\r\n",
        "<td><p>MAD</p></td>\r\n",
        "<td><p>Median Absolute Deviation (MAD)</p></td>\r\n",
        "<td><p>1993</p></td>\r\n",
        "<td><p><a class=\"reference internal\" href=\"pyod.models.html#pyod.models.mad.MAD\" title=\"pyod.models.mad.MAD\"><code class=\"xref py py-class docutils literal notranslate\"><span class=\"pre\">pyod.models.mad.MAD</span></code></a></p></td>\r\n",
        "<td><p><span id=\"id20\">[<a class=\"reference internal\" href=\"#id79\"><span>AIH93</span></a>]</span></p></td>\r\n",
        "</tr>\r\n",
        "<tr class=\"row-even\"><td><p>Probabilistic</p></td>\r\n",
        "<td><p>SOS</p></td>\r\n",
        "<td><p>Stochastic Outlier Selection</p></td>\r\n",
        "<td><p>2012</p></td>\r\n",
        "<td><p><a class=\"reference internal\" href=\"pyod.models.html#pyod.models.sos.SOS\" title=\"pyod.models.sos.SOS\"><code class=\"xref py py-class docutils literal notranslate\"><span class=\"pre\">pyod.models.sos.SOS</span></code></a></p></td>\r\n",
        "<td><p><span id=\"id21\">[<a class=\"reference internal\" href=\"#id61\"><span>AJHuszarPvdH12</span></a>]</span></p></td>\r\n",
        "</tr>\r\n",
        "<tr class=\"row-odd\"><td><p>Outlier Ensembles</p></td>\r\n",
        "<td><p>IForest</p></td>\r\n",
        "<td><p>Isolation Forest</p></td>\r\n",
        "<td><p>2008</p></td>\r\n",
        "<td><p><a class=\"reference internal\" href=\"pyod.models.html#pyod.models.iforest.IForest\" title=\"pyod.models.iforest.IForest\"><code class=\"xref py py-class docutils literal notranslate\"><span class=\"pre\">pyod.models.iforest.IForest</span></code></a></p></td>\r\n",
        "<td><p><span id=\"id22\">[<a class=\"reference internal\" href=\"#id44\"><span>ALTZ08</span></a>,<a class=\"reference internal\" href=\"#id45\"><span>ALTZ12</span></a>]</span></p></td>\r\n",
        "</tr>\r\n",
        "<tr class=\"row-even\"><td><p>Outlier Ensembles</p></td>\r\n",
        "<td></td>\r\n",
        "<td><p>Feature Bagging</p></td>\r\n",
        "<td><p>2005</p></td>\r\n",
        "<td><p><a class=\"reference internal\" href=\"pyod.models.html#pyod.models.feature_bagging.FeatureBagging\" title=\"pyod.models.feature_bagging.FeatureBagging\"><code class=\"xref py py-class docutils literal notranslate\"><span class=\"pre\">pyod.models.feature_bagging.FeatureBagging</span></code></a></p></td>\r\n",
        "<td><p><span id=\"id23\">[<a class=\"reference internal\" href=\"#id51\"><span>ALK05</span></a>]</span></p></td>\r\n",
        "</tr>\r\n",
        "<tr class=\"row-odd\"><td><p>Outlier Ensembles</p></td>\r\n",
        "<td><p>LSCP</p></td>\r\n",
        "<td><p>LSCP: Locally Selective Combination of Parallel Outlier Ensembles</p></td>\r\n",
        "<td><p>2019</p></td>\r\n",
        "<td><p><a class=\"reference internal\" href=\"pyod.models.html#pyod.models.lscp.LSCP\" title=\"pyod.models.lscp.LSCP\"><code class=\"xref py py-class docutils literal notranslate\"><span class=\"pre\">pyod.models.lscp.LSCP</span></code></a></p></td>\r\n",
        "<td><p><span id=\"id24\">[<a class=\"reference internal\" href=\"#id63\"><span>AZNHL19</span></a>]</span></p></td>\r\n",
        "</tr>\r\n",
        "<tr class=\"row-even\"><td><p>Outlier Ensembles</p></td>\r\n",
        "<td><p>XGBOD</p></td>\r\n",
        "<td><p>Extreme Boosting Based Outlier Detection <strong>(Supervised)</strong></p></td>\r\n",
        "<td><p>2018</p></td>\r\n",
        "<td><p><a class=\"reference internal\" href=\"pyod.models.html#pyod.models.xgbod.XGBOD\" title=\"pyod.models.xgbod.XGBOD\"><code class=\"xref py py-class docutils literal notranslate\"><span class=\"pre\">pyod.models.xgbod.XGBOD</span></code></a></p></td>\r\n",
        "<td><p><span id=\"id25\">[<a class=\"reference internal\" href=\"#id56\"><span>AZH18</span></a>]</span></p></td>\r\n",
        "</tr>\r\n",
        "<tr class=\"row-odd\"><td><p>Outlier Ensembles</p></td>\r\n",
        "<td><p>LODA</p></td>\r\n",
        "<td><p>Lightweight On-line Detector of Anomalies</p></td>\r\n",
        "<td><p>2016</p></td>\r\n",
        "<td><p><a class=\"reference internal\" href=\"pyod.models.html#pyod.models.loda.LODA\" title=\"pyod.models.loda.LODA\"><code class=\"xref py py-class docutils literal notranslate\"><span class=\"pre\">pyod.models.loda.LODA</span></code></a></p></td>\r\n",
        "<td><p><span id=\"id26\">[<a class=\"reference internal\" href=\"#id77\"><span>APevny16</span></a>]</span></p></td>\r\n",
        "</tr>\r\n",
        "<tr class=\"row-even\"><td><p>Neural Networks</p></td>\r\n",
        "<td><p>AutoEncoder</p></td>\r\n",
        "<td><p>Fully connected AutoEncoder (use reconstruction error as the outlier score)</p></td>\r\n",
        "<td><p>2015</p></td>\r\n",
        "<td><p><a class=\"reference internal\" href=\"pyod.models.html#pyod.models.auto_encoder.AutoEncoder\" title=\"pyod.models.auto_encoder.AutoEncoder\"><code class=\"xref py py-class docutils literal notranslate\"><span class=\"pre\">pyod.models.auto_encoder.AutoEncoder</span></code></a></p></td>\r\n",
        "<td><p><span id=\"id27\">[<a class=\"reference internal\" href=\"#id54\"><span>AAgg15</span></a>]</span></p></td>\r\n",
        "</tr>\r\n",
        "<tr class=\"row-odd\"><td><p>Neural Networks</p></td>\r\n",
        "<td><p>VAE</p></td>\r\n",
        "<td><p>Variational AutoEncoder (use reconstruction error as the outlier score)</p></td>\r\n",
        "<td><p>2013</p></td>\r\n",
        "<td><p><a class=\"reference internal\" href=\"pyod.models.html#pyod.models.vae.VAE\" title=\"pyod.models.vae.VAE\"><code class=\"xref py py-class docutils literal notranslate\"><span class=\"pre\">pyod.models.vae.VAE</span></code></a></p></td>\r\n",
        "<td><p><span id=\"id28\">[<a class=\"reference internal\" href=\"#id76\"><span>AKW13</span></a>]</span></p></td>\r\n",
        "</tr>\r\n",
        "<tr class=\"row-even\"><td><p>Neural Networks</p></td>\r\n",
        "<td><p>Beta-VAE</p></td>\r\n",
        "<td><p>Variational AutoEncoder (all customized loss term by varying gamma and capacity)</p></td>\r\n",
        "<td><p>2018</p></td>\r\n",
        "<td><p><a class=\"reference internal\" href=\"pyod.models.html#pyod.models.vae.VAE\" title=\"pyod.models.vae.VAE\"><code class=\"xref py py-class docutils literal notranslate\"><span class=\"pre\">pyod.models.vae.VAE</span></code></a></p></td>\r\n",
        "<td><p><span id=\"id29\">[<a class=\"reference internal\" href=\"#id78\"><span>ABHP+18</span></a>]</span></p></td>\r\n",
        "</tr>\r\n",
        "<tr class=\"row-odd\"><td><p>Neural Networks</p></td>\r\n",
        "<td><p>SO_GAAL</p></td>\r\n",
        "<td><p>Single-Objective Generative Adversarial Active Learning</p></td>\r\n",
        "<td><p>2019</p></td>\r\n",
        "<td><p><a class=\"reference internal\" href=\"pyod.models.html#pyod.models.so_gaal.SO_GAAL\" title=\"pyod.models.so_gaal.SO_GAAL\"><code class=\"xref py py-class docutils literal notranslate\"><span class=\"pre\">pyod.models.so_gaal.SO_GAAL</span></code></a></p></td>\r\n",
        "<td><p><span id=\"id30\">[<a class=\"reference internal\" href=\"#id64\"><span>ALLZ+19</span></a>]</span></p></td>\r\n",
        "</tr>\r\n",
        "<tr class=\"row-even\"><td><p>Neural Networks</p></td>\r\n",
        "<td><p>MO_GAAL</p></td>\r\n",
        "<td><p>Multiple-Objective Generative Adversarial Active Learning</p></td>\r\n",
        "<td><p>2019</p></td>\r\n",
        "<td><p><a class=\"reference internal\" href=\"pyod.models.html#pyod.models.mo_gaal.MO_GAAL\" title=\"pyod.models.mo_gaal.MO_GAAL\"><code class=\"xref py py-class docutils literal notranslate\"><span class=\"pre\">pyod.models.mo_gaal.MO_GAAL</span></code></a></p></td>\r\n",
        "<td><p><span id=\"id31\">[<a class=\"reference internal\" href=\"#id64\"><span>ALLZ+19</span></a>]</span></p></td>\r\n",
        "</tr>\r\n",
        "</tbody>\r\n",
        "</table>"
      ]
    },
    {
      "cell_type": "markdown",
      "metadata": {
        "id": "8d9cCCYvu0i1"
      },
      "source": [
        "## Uses PYOD"
      ]
    },
    {
      "cell_type": "code",
      "metadata": {
        "id": "XpSg_uGZjR9J",
        "colab": {
          "base_uri": "https://localhost:8080/"
        },
        "outputId": "def13646-f8fa-49fb-e0ab-03d62e39548f"
      },
      "source": [
        "lof_clf = lof.LOF(contamination=contamination, n_jobs=-1)\n",
        "_ = lof_clf.fit(X_train)\n",
        "\n",
        "predictions = lof_clf.predict(X_train)\n",
        "print(f'Acc of train: {accuracy_score(y_train, predictions)}')\n",
        "\n",
        "predictions = lof_clf.predict(X_test)\n",
        "print(f'Acc of test: {accuracy_score(y_test, predictions)}')"
      ],
      "execution_count": null,
      "outputs": [
        {
          "output_type": "stream",
          "text": [
            "Acc of train: 0.4368772375787094\n",
            "Acc of test: 0.44858833802270304\n"
          ],
          "name": "stdout"
        }
      ]
    },
    {
      "cell_type": "code",
      "metadata": {
        "id": "9HMfAuoOjSAq",
        "colab": {
          "base_uri": "https://localhost:8080/"
        },
        "outputId": "bca578c5-e3b9-4102-bd57-0de057d7968d"
      },
      "source": [
        "cblof_clf = cblof.CBLOF(contamination=contamination, n_jobs=-1, n_clusters=45)\n",
        "_ = cblof_clf.fit(X_train)\n",
        "\n",
        "predictions = cblof_clf.predict(X_train)\n",
        "print(f'Acc of train: {accuracy_score(y_train, predictions)}')\n",
        "\n",
        "predictions = cblof_clf.predict(X_test)\n",
        "print(f'Acc of test: {accuracy_score(y_test, predictions)}')"
      ],
      "execution_count": null,
      "outputs": [
        {
          "output_type": "stream",
          "text": [
            "Acc of train: 0.37601024556365154\n",
            "Acc of test: 0.37830600562724365\n"
          ],
          "name": "stdout"
        }
      ]
    },
    {
      "cell_type": "code",
      "metadata": {
        "id": "o3yKHghIjSEV"
      },
      "source": [
        "cof_clf = cof.COF(contamination=contamination) # slow and mem intensive 10,000 soft limit \n",
        "_ = cof_clf.fit(X_train[:5000])\n",
        "\n",
        "predictions = cof_clf.predict(X_train[:5000])\n",
        "print(f'Acc of train: {accuracy_score(y_train[:5000], predictions)}')\n",
        "\n",
        "predictions = cof_clf.predict(X_test[:10000])\n",
        "print(f'Acc of test: {accuracy_score(y_test, predictions)}')"
      ],
      "execution_count": null,
      "outputs": []
    },
    {
      "cell_type": "code",
      "metadata": {
        "id": "ixQ7uR00jSIB",
        "colab": {
          "base_uri": "https://localhost:8080/"
        },
        "outputId": "de9e9ccd-9ee1-437f-ca14-5f97f2f5911a"
      },
      "source": [
        "# https://pyod.readthedocs.io/en/latest/_modules/pyod/models/pca.html\n",
        "pca_clf = pca.PCA(contamination=contamination)\n",
        "_ = pca_clf.fit(X_train)\n",
        "\n",
        "predictions = pca_clf.predict(X_train)\n",
        "print(f'Acc of train: {accuracy_score(y_train, predictions)}')\n",
        "\n",
        "predictions = pca_clf.predict(X_test)\n",
        "print(f'Acc of test: {accuracy_score(y_test, predictions)}')"
      ],
      "execution_count": null,
      "outputs": [
        {
          "output_type": "stream",
          "text": [
            "Acc of train: 0.45765943203096954\n",
            "Acc of test: 0.4554574560977976\n"
          ],
          "name": "stdout"
        }
      ]
    },
    {
      "cell_type": "code",
      "metadata": {
        "id": "k5lR1t6u-aut",
        "colab": {
          "base_uri": "https://localhost:8080/"
        },
        "outputId": "65fe21e8-6bfe-4582-bb36-8e8e1da39f86"
      },
      "source": [
        "pca_clf = pca.PCA(2, contamination=contamination)\n",
        "_ = pca_clf.fit(X_train)\n",
        "\n",
        "predictions = pca_clf.predict(X_train)\n",
        "print(f'Acc of train: {accuracy_score(y_train, predictions)}')\n",
        "\n",
        "predictions = pca_clf.predict(X_test)\n",
        "print(f'Acc of test: {accuracy_score(y_test, predictions)}')"
      ],
      "execution_count": null,
      "outputs": [
        {
          "output_type": "stream",
          "text": [
            "Acc of train: 0.5161299711843522\n",
            "Acc of test: 0.5145823226933153\n"
          ],
          "name": "stdout"
        }
      ]
    },
    {
      "cell_type": "code",
      "metadata": {
        "id": "4OHfbx1qjSLS",
        "colab": {
          "base_uri": "https://localhost:8080/"
        },
        "outputId": "c984a59b-ea1e-46d9-ad47-cc9540eb070d"
      },
      "source": [
        "iforest_clf = iforest.IForest(contamination=contamination, n_estimators=300, max_samples= 1028, n_jobs=-1)\n",
        "_ = iforest_clf.fit(X_train)\n",
        "\n",
        "predictions = iforest_clf.predict(X_train)\n",
        "print(f'Acc of train: {accuracy_score(y_train, predictions)}')\n",
        "\n",
        "predictions = iforest_clf.predict(X_test)\n",
        "print(f'Acc of test: {accuracy_score(y_test, predictions)}')"
      ],
      "execution_count": null,
      "outputs": [
        {
          "output_type": "stream",
          "text": [
            "Acc of train: 0.35692594281500745\n",
            "Acc of test: 0.3555835839720578\n"
          ],
          "name": "stdout"
        }
      ]
    },
    {
      "cell_type": "code",
      "metadata": {
        "id": "twvrr6d5jSOq",
        "colab": {
          "base_uri": "https://localhost:8080/"
        },
        "outputId": "7ce8bae7-9412-4bf0-e6b0-98ca5c8e6450"
      },
      "source": [
        "knn_clf = knn.KNN(contamination=contamination, radius=1.5, n_neighbors=20, n_jobs=-1) #TODO radius\n",
        "_ = knn_clf.fit(X_train)\n",
        "\n",
        "predictions = knn_clf.predict(X_train)\n",
        "print(f'Acc of train: {accuracy_score(y_train, predictions)}')\n",
        "\n",
        "predictions = knn_clf.predict(X_test)\n",
        "print(f'Acc of test: {accuracy_score(y_test, predictions)}')"
      ],
      "execution_count": null,
      "outputs": [
        {
          "output_type": "stream",
          "text": [
            "Acc of train: 0.40221599122917656\n",
            "Acc of test: 0.40166876879790436\n"
          ],
          "name": "stdout"
        }
      ]
    },
    {
      "cell_type": "code",
      "metadata": {
        "id": "I8gsbiYtjSRk",
        "colab": {
          "base_uri": "https://localhost:8080/"
        },
        "outputId": "2a3819a4-dda1-4a0c-fe25-ee7c938c92ea"
      },
      "source": [
        "ocsvm_clf = ocsvm.OCSVM(contamination=contamination) # expensive? \n",
        "_ = ocsvm_clf.fit(X_train[:1000])\n",
        "\n",
        "predictions = ocsvm_clf.predict(X_train)\n",
        "print(f'Acc of train: {accuracy_score(y_train, predictions)}')\n",
        "\n",
        "predictions = ocsvm_clf.predict(X_test)\n",
        "print(f'Acc of test: {accuracy_score(y_test, predictions)}')"
      ],
      "execution_count": null,
      "outputs": [
        {
          "output_type": "stream",
          "text": [
            "Acc of train: 0.5885523290223055\n",
            "Acc of test: 0.588221596972931\n"
          ],
          "name": "stdout"
        }
      ]
    },
    {
      "cell_type": "code",
      "metadata": {
        "id": "1T_uPrDSjRop",
        "colab": {
          "base_uri": "https://localhost:8080/"
        },
        "outputId": "8a9f09f1-e678-4c21-a0ba-f1814d86dd49"
      },
      "source": [
        "X_temp = X_train.astype(np.float) \n",
        "abod_clf = abod.ABOD(contamination=contamination, n_neighbors=10, )\n",
        "_ = abod_clf.fit(X_temp)\n",
        "\n",
        "\n",
        "predictions = abod_clf.predict(X_train)\n",
        "print(f'Acc of train: {accuracy_score(y_train, predictions)}')\n",
        "\n",
        "predictions = abod_clf.predict(X_test)\n",
        "print(f'Acc of test: {accuracy_score(y_test, predictions)}')"
      ],
      "execution_count": null,
      "outputs": [
        {
          "output_type": "stream",
          "text": [
            "Acc of train: 0.3608602004482434\n",
            "Acc of test: 0.3611720190162026\n"
          ],
          "name": "stdout"
        }
      ]
    },
    {
      "cell_type": "code",
      "metadata": {
        "id": "jmvwsp-KnNWi",
        "colab": {
          "base_uri": "https://localhost:8080/"
        },
        "outputId": "062e4904-5c73-473f-833d-7b29c3482f1b"
      },
      "source": [
        "hdbScan_clf = HDBSCAN(10, leaf_size=80)\n",
        "_ = hdbScan_clf.fit(X_train)\n",
        "\n",
        "hdbScan_clf_outliers = hdbScan_clf.outlier_scores_ > 0.15 # akin to clf.pred_proba \n",
        "print(round(100*sum(hdbScan_clf_outliers == True)/X_train.shape[0], 5),\"% outliers\")\n",
        "print(accuracy_score(y_train, hdbScan_clf_outliers))\n",
        "\n",
        "print('')\n",
        "\n",
        "hdbScan_clf_outliers = hdbScan_clf.outlier_scores_ > 0.45 # akin to clf.pred_proba \n",
        "print(round(100*sum(hdbScan_clf_outliers == True)/X_train.shape[0], 5),\"% outliers\")\n",
        "print(accuracy_score(y_train, hdbScan_clf_outliers))"
      ],
      "execution_count": null,
      "outputs": [
        {
          "output_type": "stream",
          "text": [
            "13.31681 % outliers\n",
            "0.32942009721642784\n",
            "\n",
            "3.17845 % outliers\n",
            "0.3606564534438095\n"
          ],
          "name": "stdout"
        }
      ]
    },
    {
      "cell_type": "code",
      "metadata": {
        "id": "gJY4PEQhnNb5"
      },
      "source": [
        ""
      ],
      "execution_count": null,
      "outputs": []
    },
    {
      "cell_type": "code",
      "metadata": {
        "id": "ARG5tDbjnNqa",
        "colab": {
          "base_uri": "https://localhost:8080/"
        },
        "outputId": "fca4f4a2-d63b-4ffa-d4c9-fa2bb41c695c"
      },
      "source": [
        "X_train.shape"
      ],
      "execution_count": null,
      "outputs": [
        {
          "output_type": "execute_result",
          "data": {
            "text/plain": [
              "(206138, 42)"
            ]
          },
          "metadata": {
            "tags": []
          },
          "execution_count": 50
        }
      ]
    },
    {
      "cell_type": "code",
      "metadata": {
        "id": "74QP1VY6nNth",
        "colab": {
          "base_uri": "https://localhost:8080/"
        },
        "outputId": "4793bb11-e489-40b8-cf3c-10c6bca92e26"
      },
      "source": [
        "from suod.models.base import SUOD\n",
        "\n",
        "# initialize a set of base outlier detectors to train and predict on\n",
        "base_estimators = [\n",
        "    knn.KNN(n_neighbors=5,  contamination=contamination, radius=1.5),\n",
        "    knn.KNN(n_neighbors=15, contamination=contamination, radius=1.5),\n",
        "    knn.KNN(n_neighbors=25, contamination=contamination, radius=1.5),\n",
        "    lof.LOF(n_neighbors=5,  contamination=contamination),\n",
        "    lof.LOF(n_neighbors=15, contamination=contamination),\n",
        "    lof.LOF(n_neighbors=25, contamination=contamination),\n",
        "    cblof.CBLOF(contamination=contamination, n_clusters=45),\n",
        "    # cblof.CBLOF(contamination=contamination, n_clusters=25),\n",
        "    hbos.HBOS(contamination=contamination, n_bins=10, tol=0.1),\n",
        "    pca.PCA(contamination=contamination),\n",
        "    pca.PCA(15, contamination=contamination),\n",
        "    pca.PCA(3, contamination=contamination),\n",
        "    pca.PCA(1, contamination=contamination),\n",
        "\n",
        "    ocsvm.OCSVM(contamination=contamination),\n",
        "    ocsvm.OCSVM(contamination=contamination),\n",
        "    \n",
        "    # iforest.IForest(contamination=contamination, n_estimators=50, max_samples=1028),\n",
        "    # abod.ABOD(contamination=contamination, n_neighbors=10)\n",
        "]\n",
        "\n",
        "# initialize a SUOD model with all features turned on\n",
        "model = SUOD(base_estimators=base_estimators, n_jobs=-1,  # number of workers\n",
        "             rp_flag_global=True,  # global flag for random projection\n",
        "             bps_flag=False,  # global flag for balanced parallel scheduling\n",
        "             approx_flag_global=False,  # global flag for model approximation\n",
        "             contamination=contamination)\n",
        "\n",
        "_ = model.fit(X_train)  # fit all models with X\n",
        "model.approximate(X_train)  # conduct model approximation if it is enabled\n",
        "predicted_labels = model.predict(X_train)  # predict labels\n",
        "# predicted_probs = model.predict_proba(X_train)  # predict outlying probability\n",
        "# predicted_scores = model.decision_function(X_train)  # predict scores"
      ],
      "execution_count": null,
      "outputs": [
        {
          "output_type": "stream",
          "text": [
            "Split among workers default: [ 7 14] [7]\n",
            "Parallel Training...\n"
          ],
          "name": "stdout"
        },
        {
          "output_type": "stream",
          "text": [
            "[Parallel(n_jobs=2)]: Using backend LokyBackend with 2 concurrent workers.\n"
          ],
          "name": "stderr"
        }
      ]
    },
    {
      "cell_type": "code",
      "metadata": {
        "id": "mohA8IeSnNw7"
      },
      "source": [
        "# # // Not sure if I was drunk when I wrote this pile of shit.... pretty sure I wasn't... crap I have no excuse. \n",
        "\n",
        "# sum_by_row = np.sum(predicted_labels, axis=1) # predicted_labels is a tabel, cols are a ML model (CLF), rows are a sample (data point)\n",
        "# votes_per_sample = np.sort(sum_by_row)\n",
        "# votes_per_sample_idx = np.argsort(sum_by_row)\n",
        "\n",
        "# tuples = zip(votes_per_sample, votes_per_sample_idx) ## doesn't copy the elements of these two sequences, but generates a new set of references to these\n",
        "# sorted_tuples = sorted(tuples, key = lambda tup: tup[0], reverse=True)\n",
        "# sorted_tuples = [tup for tup in sorted_tuples if tup[0] != 0]\n",
        "\n",
        "# print('Average Votes as \"Anomalous\", from the set of \"Anomalous\" points', np.mean(sum_by_row[sum_by_row != 0]))\n",
        "\n",
        "# for VOTES in range(10):\n",
        "#     idx = [sorted_tuples[i][1] for i in range(len(sorted_tuples)) if sorted_tuples[i][0] >= VOTES]\n",
        "#     print(f'% of Trues to Falses: {100*np.sum(y_train.iloc[idx]).values[0]/y_train.iloc[idx].shape[0]:.4f} with votes: {VOTES}')"
      ],
      "execution_count": null,
      "outputs": []
    },
    {
      "cell_type": "code",
      "metadata": {
        "id": "U8Nf-LMDJcuH"
      },
      "source": [
        "for i in range(11):\n",
        "  y_hat = np.sum(predicted_labels, 1) > i\n",
        "  print(f'accuracy_score: {accuracy_score(y_train, y_hat):.4f} for Number of votes: {i}')"
      ],
      "execution_count": null,
      "outputs": []
    },
    {
      "cell_type": "code",
      "metadata": {
        "id": "a-Jf6wmTnN0B",
        "colab": {
          "base_uri": "https://localhost:8080/"
        },
        "outputId": "846700a2-fd2b-4f08-ad8a-34e7f23c7939"
      },
      "source": [
        "for i in range(11):\n",
        "  y_hat = np.sum(predicted_labels, 1) > i\n",
        "  print(f'accuracy_score: {accuracy_score(y_train, y_hat):.4f} for Number of votes: {i}')"
      ],
      "execution_count": null,
      "outputs": [
        {
          "output_type": "stream",
          "text": [
            "accuracy_score: 0.5674 for Number of votes: 0\n",
            "accuracy_score: 0.4923 for Number of votes: 1\n",
            "accuracy_score: 0.4428 for Number of votes: 2\n",
            "accuracy_score: 0.4071 for Number of votes: 3\n",
            "accuracy_score: 0.3953 for Number of votes: 4\n",
            "accuracy_score: 0.3769 for Number of votes: 5\n",
            "accuracy_score: 0.3611 for Number of votes: 6\n",
            "accuracy_score: 0.3490 for Number of votes: 7\n",
            "accuracy_score: 0.3420 for Number of votes: 8\n",
            "accuracy_score: 0.3503 for Number of votes: 9\n",
            "accuracy_score: 0.3584 for Number of votes: 10\n"
          ],
          "name": "stdout"
        }
      ]
    },
    {
      "cell_type": "code",
      "metadata": {
        "id": "LVGSOxgunN3S"
      },
      "source": [
        "from pyod.models import so_gaal, auto_encoder, vae"
      ],
      "execution_count": null,
      "outputs": []
    },
    {
      "cell_type": "code",
      "metadata": {
        "id": "tkcSDGFhnN6H",
        "outputId": "17852fa7-feb0-40ec-d773-3a71ec59ba9b"
      },
      "source": [
        "data = X_train\n",
        "dim = X_train.shape[1]\n",
        "\n",
        "model = vae.VAE(contamination=contamination, encoder_neurons=[dim, dim-1],decoder_neurons=[dim-1,dim], epochs=15) \n",
        "_ = model.fit(data)"
      ],
      "execution_count": null,
      "outputs": [
        {
          "output_type": "stream",
          "text": [
            "Model: \"model_4\"\n",
            "__________________________________________________________________________________________________\n",
            "Layer (type)                    Output Shape         Param #     Connected to                     \n",
            "==================================================================================================\n",
            "input_3 (InputLayer)            (None, 43)           0                                            \n",
            "__________________________________________________________________________________________________\n",
            "dense_10 (Dense)                (None, 43)           1892        input_3[0][0]                    \n",
            "__________________________________________________________________________________________________\n",
            "dense_11 (Dense)                (None, 43)           1892        dense_10[0][0]                   \n",
            "__________________________________________________________________________________________________\n",
            "dropout_5 (Dropout)             (None, 43)           0           dense_11[0][0]                   \n",
            "__________________________________________________________________________________________________\n",
            "dense_12 (Dense)                (None, 42)           1848        dropout_5[0][0]                  \n",
            "__________________________________________________________________________________________________\n",
            "dropout_6 (Dropout)             (None, 42)           0           dense_12[0][0]                   \n",
            "__________________________________________________________________________________________________\n",
            "dense_13 (Dense)                (None, 2)            86          dropout_6[0][0]                  \n",
            "__________________________________________________________________________________________________\n",
            "dense_14 (Dense)                (None, 2)            86          dropout_6[0][0]                  \n",
            "__________________________________________________________________________________________________\n",
            "lambda_2 (Lambda)               (None, 2)            0           dense_13[0][0]                   \n",
            "                                                                 dense_14[0][0]                   \n",
            "==================================================================================================\n",
            "Total params: 5,804\n",
            "Trainable params: 5,804\n",
            "Non-trainable params: 0\n",
            "__________________________________________________________________________________________________\n",
            "Model: \"model_5\"\n",
            "_________________________________________________________________\n",
            "Layer (type)                 Output Shape              Param #   \n",
            "=================================================================\n",
            "input_4 (InputLayer)         (None, 2)                 0         \n",
            "_________________________________________________________________\n",
            "dense_15 (Dense)             (None, 2)                 6         \n",
            "_________________________________________________________________\n",
            "dense_16 (Dense)             (None, 42)                126       \n",
            "_________________________________________________________________\n",
            "dropout_7 (Dropout)          (None, 42)                0         \n",
            "_________________________________________________________________\n",
            "dense_17 (Dense)             (None, 43)                1849      \n",
            "_________________________________________________________________\n",
            "dropout_8 (Dropout)          (None, 43)                0         \n",
            "_________________________________________________________________\n",
            "dense_18 (Dense)             (None, 43)                1892      \n",
            "=================================================================\n",
            "Total params: 3,873\n",
            "Trainable params: 3,873\n",
            "Non-trainable params: 0\n",
            "_________________________________________________________________\n",
            "Model: \"model_6\"\n",
            "_________________________________________________________________\n",
            "Layer (type)                 Output Shape              Param #   \n",
            "=================================================================\n",
            "input_3 (InputLayer)         (None, 43)                0         \n",
            "_________________________________________________________________\n",
            "model_4 (Model)              [(None, 2), (None, 2), (N 5804      \n",
            "_________________________________________________________________\n",
            "model_5 (Model)              (None, 43)                3873      \n",
            "=================================================================\n",
            "Total params: 9,677\n",
            "Trainable params: 9,677\n",
            "Non-trainable params: 0\n",
            "_________________________________________________________________\n",
            "Train on 115952 samples, validate on 12884 samples\n",
            "Epoch 1/15\n",
            "115952/115952 [==============================] - 7s 56us/step - loss: 43.4581 - val_loss: 43.9315\n",
            "Epoch 2/15\n",
            "115952/115952 [==============================] - 8s 69us/step - loss: 42.8966 - val_loss: 43.9313\n",
            "Epoch 3/15\n",
            "115952/115952 [==============================] - 8s 65us/step - loss: 42.8965 - val_loss: 43.9313\n",
            "Epoch 4/15\n",
            "115952/115952 [==============================] - 6s 55us/step - loss: 42.8966 - val_loss: 43.9313\n",
            "Epoch 5/15\n",
            "115952/115952 [==============================] - 6s 54us/step - loss: 42.8965 - val_loss: 43.9313\n",
            "Epoch 6/15\n",
            "115952/115952 [==============================] - 6s 53us/step - loss: 42.8965 - val_loss: 43.9313\n",
            "Epoch 7/15\n",
            "115952/115952 [==============================] - 6s 53us/step - loss: 42.8965 - val_loss: 43.9313\n",
            "Epoch 8/15\n",
            "115952/115952 [==============================] - 6s 54us/step - loss: 42.8965 - val_loss: 43.9313\n",
            "Epoch 9/15\n",
            "115952/115952 [==============================] - 6s 53us/step - loss: 42.8965 - val_loss: 43.9313\n",
            "Epoch 10/15\n",
            "115952/115952 [==============================] - 6s 56us/step - loss: 42.8965 - val_loss: 43.9313\n",
            "Epoch 11/15\n",
            "115952/115952 [==============================] - 7s 59us/step - loss: 42.8965 - val_loss: 43.9313\n",
            "Epoch 12/15\n",
            "115952/115952 [==============================] - 7s 60us/step - loss: 42.8965 - val_loss: 43.9313\n",
            "Epoch 13/15\n",
            "115952/115952 [==============================] - 6s 55us/step - loss: 42.8965 - val_loss: 43.9313\n",
            "Epoch 14/15\n",
            "115952/115952 [==============================] - 7s 58us/step - loss: 42.8965 - val_loss: 43.9313\n",
            "Epoch 15/15\n",
            "115952/115952 [==============================] - 6s 52us/step - loss: 42.8965 - val_loss: 43.9313\n"
          ],
          "name": "stdout"
        }
      ]
    },
    {
      "cell_type": "code",
      "metadata": {
        "id": "DMKSBLJknN8i",
        "outputId": "735cc775-3c20-4be2-e4e6-b194b9bd8f47"
      },
      "source": [
        "y_train = model.predict(X_train)\n",
        "# new_array = [tuple(row) for row in X_train[y_train]]\n",
        "# EVIL = pd.DataFrame(set(new_array), columns = columns)\n",
        "# EVIL\n",
        "\n",
        "if isinstance(X_train, (np.ndarray)):\n",
        "    rows = np.unique(X_train[y_train], axis =0) # need axis=0; \"If None, array will be flattened.\", Thats stupid -_- \n",
        "    pd.DataFrame(data=rows, columns=columns, dtype = np.int) \n",
        "else:\n",
        "    df = X_train.iloc[y_train].drop_duplicates()\n",
        "    df\n",
        "    \n",
        "y_train[df.index]"
      ],
      "execution_count": null,
      "outputs": [
        {
          "output_type": "execute_result",
          "data": {
            "text/html": [
              "<div>\n",
              "<style scoped>\n",
              "    .dataframe tbody tr th:only-of-type {\n",
              "        vertical-align: middle;\n",
              "    }\n",
              "\n",
              "    .dataframe tbody tr th {\n",
              "        vertical-align: top;\n",
              "    }\n",
              "\n",
              "    .dataframe thead th {\n",
              "        text-align: right;\n",
              "    }\n",
              "</style>\n",
              "<table border=\"1\" class=\"dataframe\">\n",
              "  <thead>\n",
              "    <tr style=\"text-align: right;\">\n",
              "      <th></th>\n",
              "      <th>dur</th>\n",
              "      <th>proto</th>\n",
              "      <th>service</th>\n",
              "      <th>state</th>\n",
              "      <th>spkts</th>\n",
              "      <th>dpkts</th>\n",
              "      <th>sbytes</th>\n",
              "      <th>dbytes</th>\n",
              "      <th>rate</th>\n",
              "      <th>sttl</th>\n",
              "      <th>...</th>\n",
              "      <th>ct_src_dport_ltm</th>\n",
              "      <th>ct_dst_sport_ltm</th>\n",
              "      <th>ct_dst_src_ltm</th>\n",
              "      <th>is_ftp_login</th>\n",
              "      <th>ct_ftp_cmd</th>\n",
              "      <th>ct_flw_http_mthd</th>\n",
              "      <th>ct_src_ltm</th>\n",
              "      <th>ct_srv_dst</th>\n",
              "      <th>is_sm_ips_ports</th>\n",
              "      <th>idx</th>\n",
              "    </tr>\n",
              "  </thead>\n",
              "  <tbody>\n",
              "    <tr>\n",
              "      <th>124113</th>\n",
              "      <td>0.000006</td>\n",
              "      <td>119</td>\n",
              "      <td>2</td>\n",
              "      <td>5</td>\n",
              "      <td>2</td>\n",
              "      <td>0</td>\n",
              "      <td>114</td>\n",
              "      <td>0</td>\n",
              "      <td>166666.6608</td>\n",
              "      <td>254</td>\n",
              "      <td>...</td>\n",
              "      <td>14</td>\n",
              "      <td>14</td>\n",
              "      <td>19</td>\n",
              "      <td>0</td>\n",
              "      <td>0</td>\n",
              "      <td>0</td>\n",
              "      <td>14</td>\n",
              "      <td>19</td>\n",
              "      <td>0</td>\n",
              "      <td>0</td>\n",
              "    </tr>\n",
              "    <tr>\n",
              "      <th>112948</th>\n",
              "      <td>0.000005</td>\n",
              "      <td>119</td>\n",
              "      <td>0</td>\n",
              "      <td>5</td>\n",
              "      <td>2</td>\n",
              "      <td>0</td>\n",
              "      <td>524</td>\n",
              "      <td>0</td>\n",
              "      <td>200000.0051</td>\n",
              "      <td>254</td>\n",
              "      <td>...</td>\n",
              "      <td>1</td>\n",
              "      <td>1</td>\n",
              "      <td>1</td>\n",
              "      <td>0</td>\n",
              "      <td>0</td>\n",
              "      <td>0</td>\n",
              "      <td>1</td>\n",
              "      <td>1</td>\n",
              "      <td>0</td>\n",
              "      <td>1</td>\n",
              "    </tr>\n",
              "  </tbody>\n",
              "</table>\n",
              "<p>2 rows × 43 columns</p>\n",
              "</div>"
            ],
            "text/plain": [
              "             dur  proto  service  state  spkts  dpkts  sbytes  dbytes  \\\n",
              "124113  0.000006    119        2      5      2      0     114       0   \n",
              "112948  0.000005    119        0      5      2      0     524       0   \n",
              "\n",
              "               rate  sttl  ...  ct_src_dport_ltm  ct_dst_sport_ltm  \\\n",
              "124113  166666.6608   254  ...                14                14   \n",
              "112948  200000.0051   254  ...                 1                 1   \n",
              "\n",
              "        ct_dst_src_ltm  is_ftp_login  ct_ftp_cmd  ct_flw_http_mthd  \\\n",
              "124113              19             0           0                 0   \n",
              "112948               1             0           0                 0   \n",
              "\n",
              "        ct_src_ltm  ct_srv_dst  is_sm_ips_ports  idx  \n",
              "124113          14          19                0    0  \n",
              "112948           1           1                0    1  \n",
              "\n",
              "[2 rows x 43 columns]"
            ]
          },
          "metadata": {
            "tags": []
          },
          "execution_count": 135
        },
        {
          "output_type": "execute_result",
          "data": {
            "text/plain": [
              "array([0, 0])"
            ]
          },
          "metadata": {
            "tags": []
          },
          "execution_count": 135
        }
      ]
    },
    {
      "cell_type": "code",
      "metadata": {
        "id": "C4xVMFPRzfmT"
      },
      "source": [
        "%%capture\n",
        "gan = so_gaal.SO_GAAL(contamination=0.3, stop_epochs=10)\n",
        "_ = gan.fit(X_train)"
      ],
      "execution_count": null,
      "outputs": []
    },
    {
      "cell_type": "code",
      "metadata": {
        "id": "hP6xDdQhzfpX"
      },
      "source": [
        "y_train = gan.predict(X_train)\n",
        "\n",
        "if isinstance(X_train, (np.ndarray)):\n",
        "    rows = np.unique(X_train[y_train], axis =0) # need axis=0; \"If None, array will be flattened.\", Thats stupid -_- \n",
        "    pd.DataFrame(data=rows, columns=columns, dtype = np.int)  \n",
        "else:\n",
        "    df = X_train.iloc[y_train].drop_duplicates()"
      ],
      "execution_count": null,
      "outputs": []
    },
    {
      "cell_type": "code",
      "metadata": {
        "id": "lQQe0z7izfs4",
        "outputId": "dbf34797-e61e-44f0-970c-f688173094a9"
      },
      "source": [
        "y_train[df.index]"
      ],
      "execution_count": null,
      "outputs": [
        {
          "output_type": "execute_result",
          "data": {
            "text/plain": [
              "array([0])"
            ]
          },
          "metadata": {
            "tags": []
          },
          "execution_count": 134
        }
      ]
    },
    {
      "cell_type": "code",
      "metadata": {
        "id": "10nW7dmZzk39"
      },
      "source": [
        ""
      ],
      "execution_count": null,
      "outputs": []
    },
    {
      "cell_type": "code",
      "metadata": {
        "id": "2JIaoEjtzk-K"
      },
      "source": [
        ""
      ],
      "execution_count": null,
      "outputs": []
    },
    {
      "cell_type": "code",
      "metadata": {
        "id": "_NllfJYOzlBl"
      },
      "source": [
        ""
      ],
      "execution_count": null,
      "outputs": []
    },
    {
      "cell_type": "code",
      "metadata": {
        "id": "WXlC0Yckzk7K",
        "outputId": "bdebb745-9df4-4a8f-dd77-01cf96bf4263"
      },
      "source": [
        "wanted_explained_variance_ratio = 0.99\n",
        "steps_down = 1\n",
        "wanted_n_components = X_train.shape[1]\n",
        "first_time = True\n",
        "\n",
        "for i in range(X_train.shape[1], 0, -steps_down):\n",
        "  total_var_ratio = round(np.sum(PCA(n_components=i).fit(X_train).explained_variance_ratio_),5)\n",
        "  print('i =', i, 'with a variance ratio of', total_var_ratio)\n",
        "  if total_var_ratio < wanted_explained_variance_ratio and first_time:\n",
        "    wanted_n_components = i + steps_down\n",
        "    first_time = False\n",
        "print(\"We should set n_components to: \", wanted_n_components)\n",
        "\n",
        "# X_train = PCA(n_components=wanted_n_components).fit_transform(X_train)\n",
        "\n",
        "print(\"-----------------------------------\\nTruncatedSVD\")\n",
        "\n",
        "wanted_explained_variance_ratio = 0.99\n",
        "steps_down = 1\n",
        "wanted_n_components = X_train.shape[1]\n",
        "first_time = True\n",
        "\n",
        "for i in range(X_train.shape[1]-1, 0, -steps_down):\n",
        "  total_var_ratio = round(np.sum(TruncatedSVD(n_components=i).fit(X_train).explained_variance_ratio_),5)\n",
        "  print('i =', i, 'with a variance ratio of', total_var_ratio)\n",
        "  if total_var_ratio < wanted_explained_variance_ratio and first_time:\n",
        "    wanted_n_components = i + steps_down\n",
        "    first_time = False\n",
        "print(\"We should set n_components to: \", wanted_n_components)\n",
        "\n",
        "# X_train = PCA(n_components=wanted_n_components).fit_transform(X_train)"
      ],
      "execution_count": null,
      "outputs": [
        {
          "output_type": "stream",
          "text": [
            "i = 43 with a variance ratio of 1.0\n",
            "i = 42 with a variance ratio of 1.0\n",
            "i = 41 with a variance ratio of 1.0\n",
            "i = 40 with a variance ratio of 1.0\n",
            "i = 39 with a variance ratio of 1.0\n",
            "i = 38 with a variance ratio of 1.0\n",
            "i = 37 with a variance ratio of 1.0\n",
            "i = 36 with a variance ratio of 1.0\n",
            "i = 35 with a variance ratio of 1.0\n",
            "i = 34 with a variance ratio of 1.0\n",
            "i = 33 with a variance ratio of 1.0\n",
            "i = 32 with a variance ratio of 1.0\n",
            "i = 31 with a variance ratio of 1.0\n",
            "i = 30 with a variance ratio of 1.0\n",
            "i = 29 with a variance ratio of 1.0\n",
            "i = 28 with a variance ratio of 1.0\n",
            "i = 27 with a variance ratio of 1.0\n",
            "i = 26 with a variance ratio of 1.0\n",
            "i = 25 with a variance ratio of 1.0\n",
            "i = 24 with a variance ratio of 1.0\n",
            "i = 23 with a variance ratio of 1.0\n",
            "i = 22 with a variance ratio of 1.0\n",
            "i = 21 with a variance ratio of 1.0\n",
            "i = 20 with a variance ratio of 1.0\n",
            "i = 19 with a variance ratio of 1.0\n",
            "i = 18 with a variance ratio of 1.0\n",
            "i = 17 with a variance ratio of 1.0\n",
            "i = 16 with a variance ratio of 1.0\n",
            "i = 15 with a variance ratio of 1.0\n",
            "i = 14 with a variance ratio of 1.0\n",
            "i = 13 with a variance ratio of 1.0\n",
            "i = 12 with a variance ratio of 1.0\n",
            "i = 11 with a variance ratio of 1.0\n",
            "i = 10 with a variance ratio of 1.0\n",
            "i = 9 with a variance ratio of 1.0\n",
            "i = 8 with a variance ratio of 1.0\n",
            "i = 7 with a variance ratio of 1.0\n",
            "i = 6 with a variance ratio of 1.0\n",
            "i = 5 with a variance ratio of 1.0\n",
            "i = 4 with a variance ratio of 1.0\n",
            "i = 3 with a variance ratio of 1.0\n",
            "i = 2 with a variance ratio of 0.99174\n",
            "i = 1 with a variance ratio of 0.81468\n",
            "We should set n_components to:  2\n",
            "-----------------------------------\n",
            "TruncatedSVD\n",
            "i = 42 with a variance ratio of 1.0\n",
            "i = 41 with a variance ratio of 1.0\n",
            "i = 40 with a variance ratio of 1.0\n",
            "i = 39 with a variance ratio of 1.0\n",
            "i = 38 with a variance ratio of 1.0\n",
            "i = 37 with a variance ratio of 1.0\n",
            "i = 36 with a variance ratio of 1.0\n",
            "i = 35 with a variance ratio of 1.0\n",
            "i = 34 with a variance ratio of 1.0\n",
            "i = 33 with a variance ratio of 1.0\n",
            "i = 32 with a variance ratio of 1.0\n",
            "i = 31 with a variance ratio of 1.0\n",
            "i = 30 with a variance ratio of 1.0\n",
            "i = 29 with a variance ratio of 1.0\n",
            "i = 28 with a variance ratio of 1.0\n",
            "i = 27 with a variance ratio of 1.0\n",
            "i = 26 with a variance ratio of 1.0\n",
            "i = 25 with a variance ratio of 1.0\n",
            "i = 24 with a variance ratio of 1.0\n",
            "i = 23 with a variance ratio of 1.0\n",
            "i = 22 with a variance ratio of 1.0\n",
            "i = 21 with a variance ratio of 1.0\n",
            "i = 20 with a variance ratio of 1.0\n",
            "i = 19 with a variance ratio of 1.0\n",
            "i = 18 with a variance ratio of 1.0\n"
          ],
          "name": "stdout"
        }
      ]
    },
    {
      "cell_type": "code",
      "metadata": {
        "id": "450Lfv7Hzpqb",
        "outputId": "3938ad9c-85ef-40ac-9068-c98115431210"
      },
      "source": [
        "from matplotlib import pyplot as plt\n",
        "from sklearn.manifold import TSNE\n",
        "from sklearn.decomposition import *\n",
        "\n",
        "from matplotlib import pyplot as plt\n",
        "import pylab\n",
        "from mpl_toolkits.mplot3d import Axes3D\n",
        "from mpl_toolkits.mplot3d import proj3d\n",
        "%matplotlib inline\n",
        "%pylab inline"
      ],
      "execution_count": null,
      "outputs": [
        {
          "output_type": "stream",
          "text": [
            "Populating the interactive namespace from numpy and matplotlib\n"
          ],
          "name": "stdout"
        }
      ]
    },
    {
      "cell_type": "code",
      "metadata": {
        "id": "w6wuLwhpzptU",
        "outputId": "59861f1b-d165-4387-91a8-8dbcf2903283"
      },
      "source": [
        "#TSNE(2) == StandardScaler( TSNE(2) )\n",
        "x, y = list(zip(*(TSNE(n_components=2, random_state=0).fit_transform(X_train[:1500]))))\n",
        "\n",
        "plt.figure(figsize=(9, 6))\n",
        "plt.scatter(x, y)\n",
        "plt.show()"
      ],
      "execution_count": null,
      "outputs": [
        {
          "output_type": "execute_result",
          "data": {
            "text/plain": [
              "<Figure size 648x432 with 0 Axes>"
            ]
          },
          "metadata": {
            "tags": []
          },
          "execution_count": 87
        },
        {
          "output_type": "execute_result",
          "data": {
            "text/plain": [
              "<matplotlib.collections.PathCollection at 0x236452f8508>"
            ]
          },
          "metadata": {
            "tags": []
          },
          "execution_count": 87
        },
        {
          "output_type": "display_data",
          "data": {
            "image/png": "[encoded data removed]",
            "text/plain": [
              "<Figure size 648x432 with 1 Axes>"
            ]
          },
          "metadata": {
            "tags": [],
            "needs_background": "light"
          }
        }
      ]
    },
    {
      "cell_type": "code",
      "metadata": {
        "id": "WxtOG97mzpw3",
        "outputId": "d4d855b1-2343-4ffd-dc62-249e7c5078cc"
      },
      "source": [
        "#TSNE(3)\n",
        "data = TSNE(n_components=3, random_state=12).fit_transform(X_train[:900])\n",
        "x, y, z = list(zip(*data))\n",
        "\n",
        "fig = pylab.figure()\n",
        "ax = fig.add_subplot(111, projection = '3d')\n",
        "sc = ax.scatter(x,y,z)"
      ],
      "execution_count": null,
      "outputs": [
        {
          "output_type": "display_data",
          "data": {
            "image/png": "[encoded data removed]",
            "text/plain": [
              "<Figure size 432x288 with 1 Axes>"
            ]
          },
          "metadata": {
            "tags": [],
            "needs_background": "light"
          }
        }
      ]
    },
    {
      "cell_type": "code",
      "metadata": {
        "id": "q41B5A9eztBu",
        "outputId": "3fc46be3-b8f0-46fe-b021-854a93d26bbe"
      },
      "source": [
        "# PCA(2) # little difference from StandardScaler vs MinMaxScaler\n",
        "x, y = list(zip(*MinMaxScaler().fit_transform(PCA(2).fit_transform(X_train[:1500]))))\n",
        "\n",
        "plt.figure(figsize=(9, 6))\n",
        "plt.scatter(x, y)\n",
        "plt.show()"
      ],
      "execution_count": null,
      "outputs": [
        {
          "output_type": "execute_result",
          "data": {
            "text/plain": [
              "<Figure size 648x432 with 0 Axes>"
            ]
          },
          "metadata": {
            "tags": []
          },
          "execution_count": 89
        },
        {
          "output_type": "execute_result",
          "data": {
            "text/plain": [
              "<matplotlib.collections.PathCollection at 0x23645a409c8>"
            ]
          },
          "metadata": {
            "tags": []
          },
          "execution_count": 89
        },
        {
          "output_type": "display_data",
          "data": {
            "image/png": "[encoded data removed]",
            "text/plain": [
              "<Figure size 648x432 with 1 Axes>"
            ]
          },
          "metadata": {
            "tags": [],
            "needs_background": "light"
          }
        }
      ]
    },
    {
      "cell_type": "code",
      "metadata": {
        "id": "B9Jk3ZrYztsz",
        "outputId": "2742ebe0-5d59-42d8-c328-18d5833eb9f0"
      },
      "source": [
        "# PCA(3)\n",
        "x, y, z = list(zip(*MinMaxScaler().fit_transform(PCA(3).fit_transform(X_train[:400]))))\n",
        "\n",
        "fig = pylab.figure()\n",
        "ax = fig.add_subplot(111, projection = '3d')\n",
        "sc = ax.scatter(x,y,z)"
      ],
      "execution_count": null,
      "outputs": [
        {
          "output_type": "display_data",
          "data": {
            "image/png": "[encoded data removed]",
            "text/plain": [
              "<Figure size 432x288 with 1 Axes>"
            ]
          },
          "metadata": {
            "tags": [],
            "needs_background": "light"
          }
        }
      ]
    },
    {
      "cell_type": "code",
      "metadata": {
        "id": "JewrrJDn-Au2"
      },
      "source": [
        ""
      ],
      "execution_count": null,
      "outputs": []
    }
  ]
}